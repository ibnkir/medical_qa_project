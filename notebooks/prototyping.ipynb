{
 "cells": [
  {
   "cell_type": "markdown",
   "metadata": {
    "id": "kVT__YSltCYg"
   },
   "source": [
    "## Мастерская Yandex Практикума: Проект \"Medical QA\"\n",
    "***\n",
    "### Описание проекта:\n",
    "Исходные данные:\n",
    "[Набор пар медицинских вопросов](https://huggingface.co/datasets/medical_questions_pairs)\n",
    "с метками `1` и `0` (вопросы похожи / непохожи).\n",
    "\n",
    "Цель:\n",
    "Разработать рекомендательный сервис для поиска медицинских вопросов, похожих на введенный пользователем текст.\n",
    "\n",
    "Результаты:\n",
    "* Проверили исходный датасет на отсутствие пропусков, дублирующих пар вопросов и сбалансированность меток;\n",
    "* Создали корпус вопросов и добавили их id в исходный датасет;\n",
    "* Применили несколько способов предобработки и векторизации текста, наибольшая точность поиска `accuracy@n` получилась у языковой модели BERT,\n",
    "  предобученной на определении схожести текстов (SentenceTransformer);\n",
    "* Добавили классификатор, чтобы из вопросов, ближайших к заданному по векторному расстоянию, отбирать те, для которых классификатор выдает 1. Обучение проводилось на расширенном датасете, содержащим пары вопросов в прямом и обратном порядке. Сравнили CatBoostClassifier и BERT с добавленным линейным слоем, наибольшая точность классификации на тестовой выборке получилась у BERT. В пользовательском интерфейсе добавили возможность отключения классификатора для ускорения работы;\n",
    "* Создали микросервис и клиентскую часть на базе FastAPI и Streamlit соответственно.\n",
    "\n",
    "Выполнил:\n",
    "Кирилл Носов, email: ibnkir@yandex.ru, tg: [Xmg23](https://t.me/Xmg23).\n",
    "***\n",
    "### Ноутбук для прототипирования решения:\n",
    "Содержание:\n",
    "\n",
    "0. [Импорты библиотек и инициализация переменных](#step_0)\n",
    "1. [Получение и анализ данных](#step_1)\n",
    "2. [Текстовая предобработка вопросов](#step_2)\n",
    "3. [Расчет точности поиска accuracy@n](#step_3)\n",
    "4. [Векторизация с помощью BoW](#step_4)\n",
    "5. [Векторизация с помощью TF-IDF](#step_5)\n",
    "6. [Векторизация с помощью word2vec и glove](#step_6)\n",
    "7. [Векторизация с помощью BERT](#step_7)\n",
    "8. [Обучение классификаторов на парах вопросов](#step_8)\n",
    "9. [Поиск похожих вопросов с учетом предсказаний классификатора](#step_9)"
   ]
  },
  {
   "cell_type": "markdown",
   "metadata": {},
   "source": [
    "### 0. Импорты библиотек и инициализация переменных <a id=\"step_0\"></a>"
   ]
  },
  {
   "cell_type": "markdown",
   "metadata": {},
   "source": [
    "Дообучение BERT лучше проводить на GPU, для чего можно использовать, например, Google Colab. \n",
    "В этом случае все файлы, включая модель, будем сохранять в `/content/sample_data`\n",
    "без монтирования собственного гугл-диска. Полученные модели нужно будет потом перенести вручную в папку `/models` репозитория проекта."
   ]
  },
  {
   "cell_type": "code",
   "execution_count": 1,
   "metadata": {
    "executionInfo": {
     "elapsed": 243,
     "status": "ok",
     "timestamp": 1716058002007,
     "user": {
      "displayName": "Kirill N.",
      "userId": "16481738826806641256"
     },
     "user_tz": -180
    },
    "id": "og7OzMwPtCYk"
   },
   "outputs": [],
   "source": [
    "# Проверяем, в какой среде мы сейчас работаем\n",
    "from pathlib import Path\n",
    "import sys\n",
    "\n",
    "try:\n",
    "    import google.colab\n",
    "    IN_COLAB = True\n",
    "except ImportError:\n",
    "    IN_COLAB = False\n",
    "\n",
    "if IN_COLAB:\n",
    "    #google.colab.drive.mount(\"content/drive\", force_remount=True)\n",
    "    ROOT = Path(\"/content/sample_data/\")\n",
    "    sys.path.append(str(ROOT))\n",
    "else:\n",
    "    ROOT = Path(\".\")"
   ]
  },
  {
   "cell_type": "code",
   "execution_count": 75,
   "metadata": {
    "executionInfo": {
     "elapsed": 214,
     "status": "ok",
     "timestamp": 1716058049834,
     "user": {
      "displayName": "Kirill N.",
      "userId": "16481738826806641256"
     },
     "user_tz": -180
    },
    "id": "3pgJZpMGtCYl"
   },
   "outputs": [],
   "source": [
    "#!pip install datasets # Библиотека для скачивания датасетов Hugging Face\n",
    "#!pip install catboost\n",
    "\n",
    "#!pip install fastapi\n",
    "#!pip install \"uvicorn[standard]\"\n",
    "#!pip install streamlit"
   ]
  },
  {
   "cell_type": "code",
   "execution_count": 2,
   "metadata": {
    "colab": {
     "base_uri": "https://localhost:8080/"
    },
    "executionInfo": {
     "elapsed": 5353,
     "status": "ok",
     "timestamp": 1716058059454,
     "user": {
      "displayName": "Kirill N.",
      "userId": "16481738826806641256"
     },
     "user_tz": -180
    },
    "id": "olnzOKZ-tCYm",
    "outputId": "fcbf925a-23d5-4528-a873-e06d9edc84d2"
   },
   "outputs": [
    {
     "name": "stderr",
     "output_type": "stream",
     "text": [
      "[nltk_data] Downloading package stopwords to\n",
      "[nltk_data]     C:\\Users\\Kirill_Nosov\\AppData\\Roaming\\nltk_data...\n",
      "[nltk_data]   Package stopwords is already up-to-date!\n"
     ]
    }
   ],
   "source": [
    "# Импортируем необходимые библиотеки\n",
    "\n",
    "import os\n",
    "\n",
    "import numpy as np\n",
    "import pandas as pd\n",
    "pd.set_option('display.max_columns', None)\n",
    "pd.set_option('display.expand_frame_repr', False)\n",
    "pd.set_option('max_colwidth', 800)\n",
    "\n",
    "from datasets import load_dataset\n",
    "\n",
    "from sklearn.feature_extraction.text import CountVectorizer, TfidfVectorizer\n",
    "from sklearn.metrics import pairwise_distances\n",
    "from sklearn.model_selection import train_test_split, RandomizedSearchCV\n",
    "from sklearn.metrics import classification_report, accuracy_score, f1_score\n",
    "\n",
    "from catboost import CatBoostClassifier, Pool\n",
    "\n",
    "import re\n",
    "from functools import lru_cache\n",
    "from tqdm import tqdm\n",
    "from collections import defaultdict\n",
    "from multiprocessing import Pool\n",
    "import random\n",
    "\n",
    "import nltk\n",
    "from nltk.corpus import stopwords\n",
    "from nltk.stem.porter import PorterStemmer\n",
    "nltk.download('stopwords')\n",
    "\n",
    "import gensim\n",
    "import gensim.downloader\n",
    "from gensim.models import word2vec\n",
    "\n",
    "import warnings\n",
    "warnings.filterwarnings(\"ignore\")\n",
    "\n",
    "import logging\n",
    "logging.basicConfig(format='%(asctime)s : %(levelname)s : %(message)s', level=logging.INFO)\n",
    "\n",
    "import matplotlib.pyplot as plt\n",
    "import seaborn as sns\n",
    "sns.set_style(\"white\")\n",
    "sns.set_theme(style=\"whitegrid\")\n",
    "\n",
    "from pickle import dump"
   ]
  },
  {
   "cell_type": "code",
   "execution_count": 3,
   "metadata": {
    "executionInfo": {
     "elapsed": 321,
     "status": "ok",
     "timestamp": 1716058066647,
     "user": {
      "displayName": "Kirill N.",
      "userId": "16481738826806641256"
     },
     "user_tz": -180
    },
    "id": "goz_Tvt0tCYn"
   },
   "outputs": [],
   "source": [
    "# Инициализируем константы и генератор случайных чисел\n",
    "\n",
    "RANDOM_STATE = 42\n",
    "np.random.seed(RANDOM_STATE)\n",
    "random.seed(RANDOM_STATE)\n",
    "\n",
    "# Кол-во случайно отбираемых вопросов для расчета точности поиска\n",
    "RANDOM_CHOICE_SIZE = 100\n",
    "\n",
    "# Кол-во ближайших векторов для расчета точности поиска\n",
    "NEAREST_NUM = 5\n",
    "\n",
    "# Сколько раз считаем точность поиска accuracy@n, чтобы найти среднее значение\n",
    "ACC_CALC_NUM = 20"
   ]
  },
  {
   "cell_type": "markdown",
   "metadata": {
    "id": "F4kzhgtItCYn"
   },
   "source": [
    "### 1. Получение и анализ данных <a id=\"step_1\"></a>"
   ]
  },
  {
   "cell_type": "markdown",
   "metadata": {
    "id": "4KNvwZc2tCYn"
   },
   "source": [
    "Скачиваем исходный датасет с парами вопросов и проверяем его на наличие пропусков, дубликатов и сбалансированность меток.\n",
    "После этого создаем корпус из всех уникальных вопросов в обеих колонках и вставляем id вопросов в исходный датасет."
   ]
  },
  {
   "cell_type": "code",
   "execution_count": 4,
   "metadata": {
    "id": "FAm21KIPtCYp",
    "outputId": "e6d4d55f-dd08-4d94-92d2-57af765bcb0f",
    "scrolled": true
   },
   "outputs": [
    {
     "data": {
      "text/html": [
       "<div>\n",
       "<style scoped>\n",
       "    .dataframe tbody tr th:only-of-type {\n",
       "        vertical-align: middle;\n",
       "    }\n",
       "\n",
       "    .dataframe tbody tr th {\n",
       "        vertical-align: top;\n",
       "    }\n",
       "\n",
       "    .dataframe thead th {\n",
       "        text-align: right;\n",
       "    }\n",
       "</style>\n",
       "<table border=\"1\" class=\"dataframe\">\n",
       "  <thead>\n",
       "    <tr style=\"text-align: right;\">\n",
       "      <th></th>\n",
       "      <th>dr_id</th>\n",
       "      <th>question_1</th>\n",
       "      <th>question_2</th>\n",
       "      <th>label</th>\n",
       "    </tr>\n",
       "  </thead>\n",
       "  <tbody>\n",
       "    <tr>\n",
       "      <th>0</th>\n",
       "      <td>1</td>\n",
       "      <td>After how many hour from drinking an antibiotic can I drink alcohol?</td>\n",
       "      <td>I have a party tonight and I took my last dose of Azithromycin this morning. Can I have a few drinks?</td>\n",
       "      <td>1</td>\n",
       "    </tr>\n",
       "    <tr>\n",
       "      <th>1</th>\n",
       "      <td>1</td>\n",
       "      <td>After how many hour from drinking an antibiotic can I drink alcohol?</td>\n",
       "      <td>I vomited this morning and I am not sure if it is the side effect of my antibiotic or the alcohol I took last night...</td>\n",
       "      <td>0</td>\n",
       "    </tr>\n",
       "    <tr>\n",
       "      <th>2</th>\n",
       "      <td>1</td>\n",
       "      <td>Am I over weight (192.9) for my age (39)?</td>\n",
       "      <td>I am a 39 y/o male currently weighing about 193 lbs. Do you think I am overweight?</td>\n",
       "      <td>1</td>\n",
       "    </tr>\n",
       "    <tr>\n",
       "      <th>3</th>\n",
       "      <td>1</td>\n",
       "      <td>Am I over weight (192.9) for my age (39)?</td>\n",
       "      <td>What diet is good for losing weight? Keto or vegan?</td>\n",
       "      <td>0</td>\n",
       "    </tr>\n",
       "    <tr>\n",
       "      <th>4</th>\n",
       "      <td>1</td>\n",
       "      <td>Aspirin allergy - is it worth getting a bracelet?</td>\n",
       "      <td>How much Aspirin can I take for my headache without causing any side effects?</td>\n",
       "      <td>0</td>\n",
       "    </tr>\n",
       "  </tbody>\n",
       "</table>\n",
       "</div>"
      ],
      "text/plain": [
       "   dr_id                                                            question_1                                                                                                              question_2  label\n",
       "0      1  After how many hour from drinking an antibiotic can I drink alcohol?                   I have a party tonight and I took my last dose of Azithromycin this morning. Can I have a few drinks?      1\n",
       "1      1  After how many hour from drinking an antibiotic can I drink alcohol?  I vomited this morning and I am not sure if it is the side effect of my antibiotic or the alcohol I took last night...      0\n",
       "2      1                             Am I over weight (192.9) for my age (39)?                                      I am a 39 y/o male currently weighing about 193 lbs. Do you think I am overweight?      1\n",
       "3      1                             Am I over weight (192.9) for my age (39)?                                                                     What diet is good for losing weight? Keto or vegan?      0\n",
       "4      1                     Aspirin allergy - is it worth getting a bracelet?                                           How much Aspirin can I take for my headache without causing any side effects?      0"
      ]
     },
     "execution_count": 4,
     "metadata": {},
     "output_type": "execute_result"
    }
   ],
   "source": [
    "# Скачиваем исходный датасет\n",
    "if IN_COLAB and os.path.exists(f\"{ROOT}/medical_questions_pairs.csv\"):\n",
    "    data = pd.read_csv(f\"{ROOT}/medical_questions_pairs.csv\")\n",
    "elif not IN_COLAB and os.path.exists(\"../data/medical_questions_pairs.csv\"):\n",
    "    data = pd.read_csv(\"../data/medical_questions_pairs.csv\")\n",
    "else:\n",
    "    data = load_dataset(\"medical_questions_pairs\", split=\"train\")\n",
    "    data = pd.DataFrame(data)\n",
    "    # Скачивание занимает много времени, поэтому для дальнейших экспериментов лучше сохранить датасет локально\n",
    "    if IN_COLAB:\n",
    "        data.to_csv(f\"{ROOT}/medical_questions_pairs.csv\", index=False)\n",
    "    else:\n",
    "        data.to_csv(\"../data/medical_questions_pairs.csv\", index=False)\n",
    "\n",
    "data.head()"
   ]
  },
  {
   "cell_type": "code",
   "execution_count": 24,
   "metadata": {
    "id": "Bcd3kFOqtCYp",
    "outputId": "a4171b6d-f8fd-4293-81bf-1a29fa492acd"
   },
   "outputs": [
    {
     "name": "stdout",
     "output_type": "stream",
     "text": [
      "<class 'pandas.core.frame.DataFrame'>\n",
      "RangeIndex: 3048 entries, 0 to 3047\n",
      "Data columns (total 4 columns):\n",
      " #   Column      Non-Null Count  Dtype \n",
      "---  ------      --------------  ----- \n",
      " 0   dr_id       3048 non-null   int64 \n",
      " 1   question_1  3048 non-null   object\n",
      " 2   question_2  3048 non-null   object\n",
      " 3   label       3048 non-null   int64 \n",
      "dtypes: int64(2), object(2)\n",
      "memory usage: 95.4+ KB\n"
     ]
    }
   ],
   "source": [
    "# Смотрим количество строк, типы данных и наличие пропусков\n",
    "data.info()"
   ]
  },
  {
   "cell_type": "markdown",
   "metadata": {
    "id": "dRrcXF45tCYp"
   },
   "source": [
    "Пропусков нет.\n",
    "\n",
    "Проверим датасет на наличие дубликатов. Сначала посмотрим, есть ли строки, внутри которых 1-й и 2-й вопросы полностью совпадают.\n",
    "Такие строки можно сразу удалить, т.к. они не несут никакой информации и могут только ухудшить качество,\n",
    "если у них по ошибке проставлена метка 0"
   ]
  },
  {
   "cell_type": "code",
   "execution_count": 5,
   "metadata": {
    "id": "DRQYWo7BtCYp",
    "outputId": "fee8d654-f1f9-469a-cb6c-72f3fbade154"
   },
   "outputs": [
    {
     "name": "stdout",
     "output_type": "stream",
     "text": [
      "Количество строк, в которых 1-й и 2-й вопросы совпадают: 0\n"
     ]
    }
   ],
   "source": [
    "cnt = (data['question_1'] == data['question_2']).sum()\n",
    "print(f\"Количество строк, в которых 1-й и 2-й вопросы совпадают: {cnt}\")"
   ]
  },
  {
   "cell_type": "markdown",
   "metadata": {
    "id": "efDplISNtCYq"
   },
   "source": [
    "Далее проверим, есть ли строки-дубликаты с одинаковыми парами вопросов (q1, q2). Внутри каждой такой группы можно будет\n",
    "взять только одну строку, а в качестве метки, например, медиану по группе"
   ]
  },
  {
   "cell_type": "code",
   "execution_count": 6,
   "metadata": {
    "id": "NYWQV-wXtCYq",
    "outputId": "699ec375-0d9a-4d8a-e7ad-f2f8236b36ba"
   },
   "outputs": [
    {
     "name": "stdout",
     "output_type": "stream",
     "text": [
      "Количество строк-дубликатов с одинаковыми парами вопросов: 0\n"
     ]
    }
   ],
   "source": [
    "cols_to_check = ['question_1', 'question_2']\n",
    "duplicated_rows = data.duplicated(subset=cols_to_check, keep=False)\n",
    "cnt = duplicated_rows.sum()\n",
    "print(f\"Количество строк-дубликатов с одинаковыми парами вопросов: {cnt}\")"
   ]
  },
  {
   "cell_type": "markdown",
   "metadata": {
    "id": "kEzNDtb6tCYq"
   },
   "source": [
    "Наконец, проверим более сложный случай, когда пара (q1, q2) в одной строке совпадает с зеркальной парой (q2, q1) в другой"
   ]
  },
  {
   "cell_type": "code",
   "execution_count": 7,
   "metadata": {
    "id": "rWN8qD8dtCYr",
    "outputId": "9433ce8f-7988-40e3-95bd-5f2c94a0113c"
   },
   "outputs": [
    {
     "name": "stdout",
     "output_type": "stream",
     "text": [
      "Количество строк-дубликатов, в которых 1-й и 2-й вопросы совпадают соответственно со 2-м и 1-м вопросами: 0\n"
     ]
    }
   ],
   "source": [
    "# Создаем 2 временные колонки\n",
    "\n",
    "data['q12'] = data['question_1'] + data['question_2']\n",
    "data['q21'] = data['question_2'] + data['question_1']\n",
    "\n",
    "# Соединяем строки, в которых исходная и зеркальная пары вопросов совпадают\n",
    "df_tmp = pd.merge(data, data, left_on='q12', right_on='q21')\n",
    "\n",
    "# Выводим их количество\n",
    "print(f\"Количество строк-дубликатов, в которых 1-й и 2-й вопросы совпадают соответственно со 2-м и 1-м вопросами: {len(df_tmp)}\")\n",
    "\n",
    "# Удаляем временные колонки\n",
    "data.drop(columns=['q12', 'q21'], inplace=True)"
   ]
  },
  {
   "cell_type": "markdown",
   "metadata": {
    "id": "qtRLg1EutCYr"
   },
   "source": [
    "Видим, что таких дубликатов тоже нет.\n",
    "\n",
    "Посмотрим, насколько сбалансированы метки в датасете"
   ]
  },
  {
   "cell_type": "code",
   "execution_count": 8,
   "metadata": {
    "id": "WXIKIW_EtCYr",
    "outputId": "5eb8fb8f-1da3-49b9-cb46-bfd4e5211d9d"
   },
   "outputs": [
    {
     "data": {
      "text/plain": [
       "<Axes: xlabel='label', ylabel='count'>"
      ]
     },
     "execution_count": 8,
     "metadata": {},
     "output_type": "execute_result"
    },
    {
     "data": {
      "image/png": "[encoded data removed]",
      "text/plain": [
       "<Figure size 640x480 with 1 Axes>"
      ]
     },
     "metadata": {},
     "output_type": "display_data"
    }
   ],
   "source": [
    "agg_df = pd.DataFrame(data.groupby(\"label\").agg('count')['dr_id']).reset_index().rename(columns={'dr_id': 'count'})\n",
    "sns.barplot(data=agg_df, x='label', y='count')"
   ]
  },
  {
   "cell_type": "markdown",
   "metadata": {
    "id": "rCAw0F9stCYr"
   },
   "source": [
    "Видим, что все ОК, метки полностью сбалансированы (иначе пришлось бы делать, например, аугментацию данных)."
   ]
  },
  {
   "cell_type": "markdown",
   "metadata": {
    "id": "jdu5IsMutCYr"
   },
   "source": [
    "Создаем корпус вопросов, который будет содержать все неповторяющиеся вопросы из обеих колонок исходного датасета"
   ]
  },
  {
   "cell_type": "code",
   "execution_count": 5,
   "metadata": {
    "id": "oli6ESg1tCYr",
    "outputId": "31c4b752-91a8-4d5f-94cf-dc65d6fccd3b"
   },
   "outputs": [
    {
     "data": {
      "text/html": [
       "<div>\n",
       "<style scoped>\n",
       "    .dataframe tbody tr th:only-of-type {\n",
       "        vertical-align: middle;\n",
       "    }\n",
       "\n",
       "    .dataframe tbody tr th {\n",
       "        vertical-align: top;\n",
       "    }\n",
       "\n",
       "    .dataframe thead th {\n",
       "        text-align: right;\n",
       "    }\n",
       "</style>\n",
       "<table border=\"1\" class=\"dataframe\">\n",
       "  <thead>\n",
       "    <tr style=\"text-align: right;\">\n",
       "      <th></th>\n",
       "      <th>question_id</th>\n",
       "      <th>question</th>\n",
       "    </tr>\n",
       "  </thead>\n",
       "  <tbody>\n",
       "    <tr>\n",
       "      <th>0</th>\n",
       "      <td>0</td>\n",
       "      <td>After how many hour from drinking an antibiotic can I drink alcohol?</td>\n",
       "    </tr>\n",
       "    <tr>\n",
       "      <th>1</th>\n",
       "      <td>1</td>\n",
       "      <td>Am I over weight (192.9) for my age (39)?</td>\n",
       "    </tr>\n",
       "    <tr>\n",
       "      <th>2</th>\n",
       "      <td>2</td>\n",
       "      <td>Aspirin allergy - is it worth getting a bracelet?</td>\n",
       "    </tr>\n",
       "    <tr>\n",
       "      <th>3</th>\n",
       "      <td>3</td>\n",
       "      <td>At a doctor's visit, I hit my head against a box on the wall containing hazardous materials (used syringes, used needles...). Will I get infected?</td>\n",
       "    </tr>\n",
       "    <tr>\n",
       "      <th>4</th>\n",
       "      <td>4</td>\n",
       "      <td>Been on antibiotics 4 5wks top high tooth dentist cld not get needle 2 freeze 2 extract in gum really hurt she said its the tissues hve 2 go bk? Plz</td>\n",
       "    </tr>\n",
       "  </tbody>\n",
       "</table>\n",
       "</div>"
      ],
      "text/plain": [
       "   question_id                                                                                                                                              question\n",
       "0            0                                                                                  After how many hour from drinking an antibiotic can I drink alcohol?\n",
       "1            1                                                                                                             Am I over weight (192.9) for my age (39)?\n",
       "2            2                                                                                                     Aspirin allergy - is it worth getting a bracelet?\n",
       "3            3    At a doctor's visit, I hit my head against a box on the wall containing hazardous materials (used syringes, used needles...). Will I get infected?\n",
       "4            4  Been on antibiotics 4 5wks top high tooth dentist cld not get needle 2 freeze 2 extract in gum really hurt she said its the tissues hve 2 go bk? Plz"
      ]
     },
     "execution_count": 5,
     "metadata": {},
     "output_type": "execute_result"
    }
   ],
   "source": [
    "# Создаем корпус вопросов\n",
    "questions = pd.DataFrame(pd.concat([data['question_1'], data['question_2']], axis=0).unique())\n",
    "questions.reset_index(inplace=True)\n",
    "questions.rename(columns={'index': 'question_id', 0: 'question'}, inplace=True)\n",
    "questions.head()"
   ]
  },
  {
   "cell_type": "code",
   "execution_count": 26,
   "metadata": {
    "id": "RjsiMfKOtCYr",
    "outputId": "62eb1be6-3121-4a0f-a071-42d50c0ac867"
   },
   "outputs": [
    {
     "data": {
      "text/plain": [
       "4567"
      ]
     },
     "execution_count": 26,
     "metadata": {},
     "output_type": "execute_result"
    }
   ],
   "source": [
    "len(questions)"
   ]
  },
  {
   "cell_type": "markdown",
   "metadata": {
    "id": "Tnv_BJdatCYs"
   },
   "source": [
    "В конце посмотрим на распределение длины вопросов"
   ]
  },
  {
   "cell_type": "code",
   "execution_count": 22,
   "metadata": {
    "id": "TZ3PH9q1tCYs",
    "outputId": "0769632d-3fa9-4c9b-cd15-0e9d6b45faa7"
   },
   "outputs": [
    {
     "data": {
      "image/png": "[encoded data removed]",
      "text/plain": [
       "<Figure size 640x480 with 1 Axes>"
      ]
     },
     "metadata": {},
     "output_type": "display_data"
    }
   ],
   "source": [
    "lens = [len(q.split()) for q in questions['question']]\n",
    "\n",
    "plt.hist(lens, bins=30)\n",
    "plt.title(\"Распределение длины вопросов\")\n",
    "plt.xlabel(\"Количество слов\")\n",
    "plt.ylabel(\"Частота\")\n",
    "plt.show()"
   ]
  },
  {
   "cell_type": "markdown",
   "metadata": {
    "id": "-pVk5JX2tCYs"
   },
   "source": [
    "Видим, что большинство вопросов не очень длинные. Максимальную длину учтем в параметрах BERT.\n",
    "Также соответствующим образом ограничим длину текста пользователя веб-интерфейсе."
   ]
  },
  {
   "cell_type": "markdown",
   "metadata": {
    "id": "gVOLpFuctCYs"
   },
   "source": [
    "### 2. Текстовая предобработка вопросов <a id=\"step_2\"></a>"
   ]
  },
  {
   "cell_type": "markdown",
   "metadata": {
    "id": "xO4nYI60tCYt"
   },
   "source": [
    "Предобработка включает следующие шаги:\n",
    "* токенизация,\n",
    "* очистка полученных токенов от знаков пунктуации и числительных,\n",
    "* нормализация токенов (стемматизация или лемматизация),\n",
    "* удаление стоп-слов.\n",
    "\n",
    "Попробуем 2 способа: библиотеку nltk со стемматизацией и библиотеку spacy с лемматизацией."
   ]
  },
  {
   "cell_type": "markdown",
   "metadata": {
    "id": "DVmMFpAZtCYt"
   },
   "source": [
    "__Предобработка с помощью библиотеки nltk и стемматизации__"
   ]
  },
  {
   "cell_type": "code",
   "execution_count": 31,
   "metadata": {
    "id": "IQc8wOLftCYt"
   },
   "outputs": [],
   "source": [
    "# Вспомогательные функции\n",
    "\n",
    "# Стемматизация одного слова\n",
    "# (устанавливаем размер кэша примерно равным ожидаемому количеству слов во всем корпусе вопросов)\n",
    "@lru_cache(maxsize=5000)\n",
    "def stemmatize_word(word, stemmer=PorterStemmer()):\n",
    "    return stemmer.stem(word)\n",
    "\n",
    "# Стемматизация списка слов\n",
    "def stemmatize_words(words):\n",
    "    return [stemmatize_word(w) for w in words]\n",
    "\n",
    "# Удаление стоп-слов из списка стем\n",
    "mystopwords = stopwords.words('english')\n",
    "def remove_stopwords(stems, stopwords=mystopwords):\n",
    "    return [s for s in stems if not s in stopwords]\n",
    "\n",
    "# Токенизация с выделением только английских слов размером от 3-х символов и выше\n",
    "regex = re.compile(\"[a-zA-Z]{3,}\")\n",
    "def get_words_only(text, regex=regex):\n",
    "    try:\n",
    "        return regex.findall(text.lower())\n",
    "    except:\n",
    "        return []\n",
    "\n",
    "# Функция для предобработки одного документа (в нашем случае - это один вопрос из корпуса вопросов)\n",
    "def preproc_text(text):\n",
    "    words = get_words_only(text)\n",
    "    stems = stemmatize_words(words)\n",
    "    return ' '.join(remove_stopwords(stems))"
   ]
  },
  {
   "cell_type": "code",
   "execution_count": 32,
   "metadata": {
    "id": "v7tDVupatCYt",
    "outputId": "f2ad706b-5a6f-448a-dfb8-b8e75e5a5552"
   },
   "outputs": [
    {
     "name": "stderr",
     "output_type": "stream",
     "text": [
      "100%|████████████████████████████████████████████████████████████████████████████| 4567/4567 [00:00<00:00, 4790.74it/s]\n"
     ]
    },
    {
     "data": {
      "text/html": [
       "<div>\n",
       "<style scoped>\n",
       "    .dataframe tbody tr th:only-of-type {\n",
       "        vertical-align: middle;\n",
       "    }\n",
       "\n",
       "    .dataframe tbody tr th {\n",
       "        vertical-align: top;\n",
       "    }\n",
       "\n",
       "    .dataframe thead th {\n",
       "        text-align: right;\n",
       "    }\n",
       "</style>\n",
       "<table border=\"1\" class=\"dataframe\">\n",
       "  <thead>\n",
       "    <tr style=\"text-align: right;\">\n",
       "      <th></th>\n",
       "      <th>question_id</th>\n",
       "      <th>question</th>\n",
       "      <th>stems</th>\n",
       "    </tr>\n",
       "  </thead>\n",
       "  <tbody>\n",
       "    <tr>\n",
       "      <th>0</th>\n",
       "      <td>0</td>\n",
       "      <td>After how many hour from drinking an antibiotic can I drink alcohol?</td>\n",
       "      <td>mani hour drink antibiot drink alcohol</td>\n",
       "    </tr>\n",
       "    <tr>\n",
       "      <th>1</th>\n",
       "      <td>1</td>\n",
       "      <td>Am I over weight (192.9) for my age (39)?</td>\n",
       "      <td>weight age</td>\n",
       "    </tr>\n",
       "    <tr>\n",
       "      <th>2</th>\n",
       "      <td>2</td>\n",
       "      <td>Aspirin allergy - is it worth getting a bracelet?</td>\n",
       "      <td>aspirin allergi worth get bracelet</td>\n",
       "    </tr>\n",
       "    <tr>\n",
       "      <th>3</th>\n",
       "      <td>3</td>\n",
       "      <td>At a doctor's visit, I hit my head against a box on the wall containing hazardous materials (used syringes, used needles...). Will I get infected?</td>\n",
       "      <td>doctor visit hit head box wall contain hazard materi use syring use needl get infect</td>\n",
       "    </tr>\n",
       "    <tr>\n",
       "      <th>4</th>\n",
       "      <td>4</td>\n",
       "      <td>Been on antibiotics 4 5wks top high tooth dentist cld not get needle 2 freeze 2 extract in gum really hurt she said its the tissues hve 2 go bk? Plz</td>\n",
       "      <td>antibiot wk top high tooth dentist cld get needl freez extract gum realli hurt said tissu hve plz</td>\n",
       "    </tr>\n",
       "  </tbody>\n",
       "</table>\n",
       "</div>"
      ],
      "text/plain": [
       "   question_id                                                                                                                                              question                                                                                              stems\n",
       "0            0                                                                                  After how many hour from drinking an antibiotic can I drink alcohol?                                                             mani hour drink antibiot drink alcohol\n",
       "1            1                                                                                                             Am I over weight (192.9) for my age (39)?                                                                                         weight age\n",
       "2            2                                                                                                     Aspirin allergy - is it worth getting a bracelet?                                                                 aspirin allergi worth get bracelet\n",
       "3            3    At a doctor's visit, I hit my head against a box on the wall containing hazardous materials (used syringes, used needles...). Will I get infected?               doctor visit hit head box wall contain hazard materi use syring use needl get infect\n",
       "4            4  Been on antibiotics 4 5wks top high tooth dentist cld not get needle 2 freeze 2 extract in gum really hurt she said its the tissues hve 2 go bk? Plz  antibiot wk top high tooth dentist cld get needl freez extract gum realli hurt said tissu hve plz"
      ]
     },
     "execution_count": 32,
     "metadata": {},
     "output_type": "execute_result"
    }
   ],
   "source": [
    "# Запускаем обработку колонки 'question' в корпусе вопросов\n",
    "with Pool(8) as p:\n",
    "    stems = list(tqdm(map(preproc_text, questions['question']), total=len(questions)))\n",
    "\n",
    "# Добавляем колонку stems\n",
    "questions['stems'] = stems\n",
    "questions.head()"
   ]
  },
  {
   "cell_type": "markdown",
   "metadata": {
    "id": "5-Q8YhTytCYt"
   },
   "source": [
    "__Предобработка с помощью библиотеки spacy и лемматизации__"
   ]
  },
  {
   "cell_type": "markdown",
   "metadata": {
    "id": "iGZg9hoStCYt"
   },
   "source": [
    "Будем использовать модель [en_core_web_md](https://spacy.io/models/en) для английского языка из библиотеки spacy"
   ]
  },
  {
   "cell_type": "code",
   "execution_count": null,
   "metadata": {
    "id": "nc8O3mXbtCYu"
   },
   "outputs": [],
   "source": [
    "#!pip install -U spacy>=3.0"
   ]
  },
  {
   "cell_type": "code",
   "execution_count": null,
   "metadata": {
    "id": "13oD2XDstCYu"
   },
   "outputs": [],
   "source": [
    "#!python -m spacy download en_core_web_md"
   ]
  },
  {
   "cell_type": "code",
   "execution_count": 33,
   "metadata": {
    "id": "7NYWhBlJtCYu"
   },
   "outputs": [],
   "source": [
    "import spacy\n",
    "\n",
    "# Загружаем модель\n",
    "nlp = spacy.load('en_core_web_md')"
   ]
  },
  {
   "cell_type": "code",
   "execution_count": 34,
   "metadata": {
    "id": "cKmZT1xVtCYz",
    "outputId": "7fe6d4f4-3f13-4cfd-8f9b-245368a4fce4"
   },
   "outputs": [
    {
     "name": "stderr",
     "output_type": "stream",
     "text": [
      "100%|█████████████████████████████████████████████████████████████████████████████| 4567/4567 [00:34<00:00, 133.40it/s]\n"
     ]
    },
    {
     "data": {
      "text/html": [
       "<div>\n",
       "<style scoped>\n",
       "    .dataframe tbody tr th:only-of-type {\n",
       "        vertical-align: middle;\n",
       "    }\n",
       "\n",
       "    .dataframe tbody tr th {\n",
       "        vertical-align: top;\n",
       "    }\n",
       "\n",
       "    .dataframe thead th {\n",
       "        text-align: right;\n",
       "    }\n",
       "</style>\n",
       "<table border=\"1\" class=\"dataframe\">\n",
       "  <thead>\n",
       "    <tr style=\"text-align: right;\">\n",
       "      <th></th>\n",
       "      <th>question_id</th>\n",
       "      <th>question</th>\n",
       "      <th>stems</th>\n",
       "      <th>lemmas</th>\n",
       "    </tr>\n",
       "  </thead>\n",
       "  <tbody>\n",
       "    <tr>\n",
       "      <th>0</th>\n",
       "      <td>0</td>\n",
       "      <td>After how many hour from drinking an antibiotic can I drink alcohol?</td>\n",
       "      <td>mani hour drink antibiot drink alcohol</td>\n",
       "      <td>hour drink antibiotic drink alcohol</td>\n",
       "    </tr>\n",
       "    <tr>\n",
       "      <th>1</th>\n",
       "      <td>1</td>\n",
       "      <td>Am I over weight (192.9) for my age (39)?</td>\n",
       "      <td>weight age</td>\n",
       "      <td>weight age</td>\n",
       "    </tr>\n",
       "    <tr>\n",
       "      <th>2</th>\n",
       "      <td>2</td>\n",
       "      <td>Aspirin allergy - is it worth getting a bracelet?</td>\n",
       "      <td>aspirin allergi worth get bracelet</td>\n",
       "      <td>aspirin allergy worth get bracelet</td>\n",
       "    </tr>\n",
       "    <tr>\n",
       "      <th>3</th>\n",
       "      <td>3</td>\n",
       "      <td>At a doctor's visit, I hit my head against a box on the wall containing hazardous materials (used syringes, used needles...). Will I get infected?</td>\n",
       "      <td>doctor visit hit head box wall contain hazard materi use syring use needl get infect</td>\n",
       "      <td>doctor visit hit head box wall contain hazardous material syrinx needle infect</td>\n",
       "    </tr>\n",
       "    <tr>\n",
       "      <th>4</th>\n",
       "      <td>4</td>\n",
       "      <td>Been on antibiotics 4 5wks top high tooth dentist cld not get needle 2 freeze 2 extract in gum really hurt she said its the tissues hve 2 go bk? Plz</td>\n",
       "      <td>antibiot wk top high tooth dentist cld get needl freez extract gum realli hurt said tissu hve plz</td>\n",
       "      <td>antibiotic 5wks high tooth dentist cld needle freeze extract gum hurt say tissue hve bk plz</td>\n",
       "    </tr>\n",
       "  </tbody>\n",
       "</table>\n",
       "</div>"
      ],
      "text/plain": [
       "   question_id                                                                                                                                              question                                                                                              stems                                                                                       lemmas\n",
       "0            0                                                                                  After how many hour from drinking an antibiotic can I drink alcohol?                                                             mani hour drink antibiot drink alcohol                                                          hour drink antibiotic drink alcohol\n",
       "1            1                                                                                                             Am I over weight (192.9) for my age (39)?                                                                                         weight age                                                                                   weight age\n",
       "2            2                                                                                                     Aspirin allergy - is it worth getting a bracelet?                                                                 aspirin allergi worth get bracelet                                                           aspirin allergy worth get bracelet\n",
       "3            3    At a doctor's visit, I hit my head against a box on the wall containing hazardous materials (used syringes, used needles...). Will I get infected?               doctor visit hit head box wall contain hazard materi use syring use needl get infect               doctor visit hit head box wall contain hazardous material syrinx needle infect\n",
       "4            4  Been on antibiotics 4 5wks top high tooth dentist cld not get needle 2 freeze 2 extract in gum really hurt she said its the tissues hve 2 go bk? Plz  antibiot wk top high tooth dentist cld get needl freez extract gum realli hurt said tissu hve plz  antibiotic 5wks high tooth dentist cld needle freeze extract gum hurt say tissue hve bk plz"
      ]
     },
     "execution_count": 34,
     "metadata": {},
     "output_type": "execute_result"
    }
   ],
   "source": [
    "# Запускаем обработку колонки 'question' в корпусе вопросов\n",
    "lemmas = []\n",
    "for q in tqdm(nlp.pipe(questions['question']), total=len(questions)):\n",
    "    lemmas.append(\n",
    "        ' '.join([\n",
    "            f\"{token.lemma_.lower().strip()}\" \\\n",
    "            for token in q if not (token.is_space or token.is_stop or token.is_punct or token.like_num)\n",
    "        ])\n",
    "    )\n",
    "\n",
    "# Добавляем колонку lemmas\n",
    "questions['lemmas'] = lemmas\n",
    "questions.head()"
   ]
  },
  {
   "cell_type": "markdown",
   "metadata": {
    "id": "yc1SopVztCYz"
   },
   "source": [
    "### 3. Расчет точности поиска accuracy@n <a id=\"step_3\"></a>"
   ]
  },
  {
   "cell_type": "markdown",
   "metadata": {
    "id": "JV2DulZTtCYz"
   },
   "source": [
    "В качестве метрики будем использовать точность поиска `accuracy@n`, рассчитываемую как доля случайно отобранных вопросов,\n",
    "у которых среди найденных n ближайших соседей есть такие, что соответствующая пара в датасете имеет метку `1`.\n",
    "\n",
    "Сначала добавим к вопросам в левой и правой колонках исходного датасета их id в корпусе вопросов. "
   ]
  },
  {
   "cell_type": "code",
   "execution_count": 27,
   "metadata": {},
   "outputs": [
    {
     "data": {
      "text/html": [
       "<div>\n",
       "<style scoped>\n",
       "    .dataframe tbody tr th:only-of-type {\n",
       "        vertical-align: middle;\n",
       "    }\n",
       "\n",
       "    .dataframe tbody tr th {\n",
       "        vertical-align: top;\n",
       "    }\n",
       "\n",
       "    .dataframe thead th {\n",
       "        text-align: right;\n",
       "    }\n",
       "</style>\n",
       "<table border=\"1\" class=\"dataframe\">\n",
       "  <thead>\n",
       "    <tr style=\"text-align: right;\">\n",
       "      <th></th>\n",
       "      <th>dr_id</th>\n",
       "      <th>question_1</th>\n",
       "      <th>question_2</th>\n",
       "      <th>label</th>\n",
       "      <th>question_1_id</th>\n",
       "      <th>question_2_id</th>\n",
       "    </tr>\n",
       "  </thead>\n",
       "  <tbody>\n",
       "    <tr>\n",
       "      <th>0</th>\n",
       "      <td>1</td>\n",
       "      <td>After how many hour from drinking an antibiotic can I drink alcohol?</td>\n",
       "      <td>I have a party tonight and I took my last dose of Azithromycin this morning. Can I have a few drinks?</td>\n",
       "      <td>1</td>\n",
       "      <td>0</td>\n",
       "      <td>1524</td>\n",
       "    </tr>\n",
       "    <tr>\n",
       "      <th>1</th>\n",
       "      <td>1</td>\n",
       "      <td>After how many hour from drinking an antibiotic can I drink alcohol?</td>\n",
       "      <td>I vomited this morning and I am not sure if it is the side effect of my antibiotic or the alcohol I took last night...</td>\n",
       "      <td>0</td>\n",
       "      <td>0</td>\n",
       "      <td>1525</td>\n",
       "    </tr>\n",
       "    <tr>\n",
       "      <th>2</th>\n",
       "      <td>1</td>\n",
       "      <td>Am I over weight (192.9) for my age (39)?</td>\n",
       "      <td>I am a 39 y/o male currently weighing about 193 lbs. Do you think I am overweight?</td>\n",
       "      <td>1</td>\n",
       "      <td>1</td>\n",
       "      <td>1526</td>\n",
       "    </tr>\n",
       "    <tr>\n",
       "      <th>3</th>\n",
       "      <td>1</td>\n",
       "      <td>Am I over weight (192.9) for my age (39)?</td>\n",
       "      <td>What diet is good for losing weight? Keto or vegan?</td>\n",
       "      <td>0</td>\n",
       "      <td>1</td>\n",
       "      <td>1527</td>\n",
       "    </tr>\n",
       "    <tr>\n",
       "      <th>4</th>\n",
       "      <td>1</td>\n",
       "      <td>Aspirin allergy - is it worth getting a bracelet?</td>\n",
       "      <td>How much Aspirin can I take for my headache without causing any side effects?</td>\n",
       "      <td>0</td>\n",
       "      <td>2</td>\n",
       "      <td>1528</td>\n",
       "    </tr>\n",
       "  </tbody>\n",
       "</table>\n",
       "</div>"
      ],
      "text/plain": [
       "   dr_id                                                            question_1                                                                                                              question_2  label  question_1_id  question_2_id\n",
       "0      1  After how many hour from drinking an antibiotic can I drink alcohol?                   I have a party tonight and I took my last dose of Azithromycin this morning. Can I have a few drinks?      1              0           1524\n",
       "1      1  After how many hour from drinking an antibiotic can I drink alcohol?  I vomited this morning and I am not sure if it is the side effect of my antibiotic or the alcohol I took last night...      0              0           1525\n",
       "2      1                             Am I over weight (192.9) for my age (39)?                                      I am a 39 y/o male currently weighing about 193 lbs. Do you think I am overweight?      1              1           1526\n",
       "3      1                             Am I over weight (192.9) for my age (39)?                                                                     What diet is good for losing weight? Keto or vegan?      0              1           1527\n",
       "4      1                     Aspirin allergy - is it worth getting a bracelet?                                           How much Aspirin can I take for my headache without causing any side effects?      0              2           1528"
      ]
     },
     "execution_count": 27,
     "metadata": {},
     "output_type": "execute_result"
    }
   ],
   "source": [
    "# Добавляем id к вопросам в левой и правой колонках исходного датасета\n",
    "\n",
    "# id вопросов из 1-й колонки\n",
    "data = pd.merge(data, questions, left_on='question_1', right_on='question', how='left')\n",
    "data.rename(columns={'question_id': 'question_1_id'}, inplace=True)\n",
    "data.drop(columns='question', inplace=True)\n",
    "\n",
    "# id вопросов из 2-й колонки\n",
    "data = pd.merge(data, questions, left_on='question_2', right_on='question', how='left')\n",
    "data.rename(columns={'question_id': 'question_2_id'}, inplace=True)\n",
    "data.drop(columns='question', inplace=True)\n",
    "\n",
    "data.head()"
   ]
  },
  {
   "cell_type": "markdown",
   "metadata": {},
   "source": [
    "Теперь перейдем к функции для расчета точности, на вход она будет принимать вектора всех вопросов, датасет с парами вопросов,\n",
    "количество случайно отбираемых вопросов и количество ближайших соседей."
   ]
  },
  {
   "cell_type": "code",
   "execution_count": 36,
   "metadata": {
    "id": "M1MQRLEctCY0"
   },
   "outputs": [],
   "source": [
    "def get_accuracy_at_n(question_vecs: np.ndarray,\n",
    "                      question_pairs: pd.DataFrame,\n",
    "                      metric='cosine',\n",
    "                      size=RANDOM_CHOICE_SIZE,\n",
    "                      n=NEAREST_NUM) -> float:\n",
    "    \"\"\"\n",
    "    Функция для расчета точности поиска ближайших вопросов по их векторному представлению.\n",
    "\n",
    "    Входные данные:\n",
    "        - question_vecs: векторизованный корпус вопросов в виде numpy-матрицы,\n",
    "        - question_pairs: датасет с парами вопросов и их id,\n",
    "        - metric: способ расчета расстояния между векторами,\n",
    "        - size: кол-во случайно отбираемых векторов,\n",
    "        - n: количество ближайших векторов для каждого из случайно отобранных.\n",
    "\n",
    "    Возвращаемое значение:\n",
    "        - Доля случайно отобранных векторов, у которых среди найденных n ближайших соседей есть такие,\n",
    "        что соответствующая пара вопросов в датасете действительно имеет метку 1.\n",
    "    \"\"\"\n",
    "    selected_inds = np.random.choice(np.arange(len(question_vecs)), size=size, replace=False)\n",
    "    dists = pairwise_distances(question_vecs[selected_inds], question_vecs, metric=metric)\n",
    "\n",
    "    correct_labels_cnt = 0\n",
    "    for i, selected_idx in enumerate(selected_inds):\n",
    "        # Берем n+1 ближайших, т.к. 0-й будет всегда совпадать с самим вопросом\n",
    "        close_vec_inds = np.argsort(dists[i, :])[: n + 1]\n",
    "\n",
    "        for close_vec_idx in close_vec_inds:\n",
    "            if close_vec_idx == selected_idx:\n",
    "                continue\n",
    "\n",
    "            try:\n",
    "                label = question_pairs[(question_pairs['question_1_id'] == selected_idx) \\\n",
    "                & (question_pairs['question_2_id'] == close_vec_idx)]['label'].values[0]\n",
    "            except:\n",
    "                try:\n",
    "                    label = question_pairs[(question_pairs['question_1_id'] == close_vec_idx) \\\n",
    "                    & (question_pairs['question_2_id'] == selected_idx)]['label'].values[0]\n",
    "                except:\n",
    "                    label = 0\n",
    "\n",
    "            if label == 1:\n",
    "                correct_labels_cnt += 1\n",
    "                break\n",
    "\n",
    "    return correct_labels_cnt / size"
   ]
  },
  {
   "cell_type": "markdown",
   "metadata": {
    "id": "WhLJZFNvtCY0"
   },
   "source": [
    "### 4. Векторизация с помощью BoW <a id=\"step_4\"></a>"
   ]
  },
  {
   "cell_type": "markdown",
   "metadata": {
    "id": "P90p-XrbtCY0"
   },
   "source": [
    "Строим мешок слов с помощью CountVectorizer, после чего обучаем RandomForestClassifier на полученных векторах."
   ]
  },
  {
   "cell_type": "code",
   "execution_count": 29,
   "metadata": {
    "id": "dhMgeMf2tCY0"
   },
   "outputs": [],
   "source": [
    "# Создаем BoW векторайзер\n",
    "cnt_vectorizer = CountVectorizer(\n",
    "    analyzer='word',\n",
    "    token_pattern=r\"[a-zA-Z]{3,}\",\n",
    "    ngram_range=(1, 1),\n",
    "    min_df=2,\n",
    "    max_df=0.9\n",
    ")"
   ]
  },
  {
   "cell_type": "code",
   "execution_count": 37,
   "metadata": {
    "id": "3T44p4sRtCY0"
   },
   "outputs": [],
   "source": [
    "# Строим BoW для лемм\n",
    "lemm_cnt_vecs = cnt_vectorizer.fit_transform(questions['lemmas'])"
   ]
  },
  {
   "cell_type": "code",
   "execution_count": 38,
   "metadata": {
    "id": "vZ34sj84tCY1",
    "outputId": "bcfab64e-3d83-4bc2-e4c9-dd4573f2ac41"
   },
   "outputs": [
    {
     "name": "stderr",
     "output_type": "stream",
     "text": [
      "100%|██████████████████████████████████████████████████████████████████████████████████| 10/10 [00:12<00:00,  1.25s/it]"
     ]
    },
    {
     "name": "stdout",
     "output_type": "stream",
     "text": [
      "Средняя точность при использовании BoW и лемматизации:\n",
      "0.516\n"
     ]
    },
    {
     "name": "stderr",
     "output_type": "stream",
     "text": [
      "\n"
     ]
    }
   ],
   "source": [
    "# Оцениваем среднюю точность\n",
    "accs = []\n",
    "for _ in tqdm(range(ACC_CALC_NUM)):\n",
    "    acc = get_accuracy_at_n(lemm_cnt_vecs.toarray(), data)\n",
    "    accs.append(acc)\n",
    "\n",
    "print(\"Средняя точность при использовании BoW и лемматизации:\")\n",
    "print(round(sum(accs) / len(accs), 3))"
   ]
  },
  {
   "cell_type": "code",
   "execution_count": 39,
   "metadata": {
    "id": "iysoE_ogtCY1"
   },
   "outputs": [],
   "source": [
    "# Строим BoW для оснований слов (stems)\n",
    "stem_cnt_vecs = cnt_vectorizer.fit_transform(questions['stems'])"
   ]
  },
  {
   "cell_type": "code",
   "execution_count": 40,
   "metadata": {
    "id": "_7o70U_itCY1",
    "outputId": "f9260235-be80-4ae5-9326-c30ba8aebee9"
   },
   "outputs": [
    {
     "name": "stderr",
     "output_type": "stream",
     "text": [
      "100%|██████████████████████████████████████████████████████████████████████████████████| 10/10 [00:12<00:00,  1.22s/it]"
     ]
    },
    {
     "name": "stdout",
     "output_type": "stream",
     "text": [
      "Средняя точность при использовании BoW и стемматизации:\n",
      "0.531\n"
     ]
    },
    {
     "name": "stderr",
     "output_type": "stream",
     "text": [
      "\n"
     ]
    }
   ],
   "source": [
    "# Оцениваем среднюю точность\n",
    "accs = []\n",
    "for _ in tqdm(range(ACC_CALC_NUM)):\n",
    "    acc = get_accuracy_at_n(stem_cnt_vecs.toarray(), data)\n",
    "    accs.append(acc)\n",
    "\n",
    "print(\"Средняя точность при использовании BoW и стемматизации:\")\n",
    "print(round(sum(accs) / len(accs), 3))"
   ]
  },
  {
   "cell_type": "markdown",
   "metadata": {
    "id": "WnUpiz2YtCY1"
   },
   "source": [
    "Вывод: точность у BoW получилась не очень высокой.\n",
    "Если выбирать между лемматизацией и стемматизацией, то в среднем они дают примерно одинаковый результат, что ожидаемо для английского языка."
   ]
  },
  {
   "cell_type": "markdown",
   "metadata": {
    "id": "5cvlEcFHtCY1"
   },
   "source": [
    "### 5. Векторизация с помощью TF-IDF <a id=\"step_5\"></a>"
   ]
  },
  {
   "cell_type": "code",
   "execution_count": 41,
   "metadata": {
    "id": "xkQxUnoPtCY1"
   },
   "outputs": [],
   "source": [
    "# Создаем TF-IDF векторайзер\n",
    "tfidf_vectorizer = TfidfVectorizer(\n",
    "    analyzer='word',\n",
    "    ngram_range=(1, 1),\n",
    "    token_pattern=r\"[a-zA-Z]{3,}\",\n",
    "    min_df=2,\n",
    "    max_df=0.9\n",
    ")"
   ]
  },
  {
   "cell_type": "code",
   "execution_count": 42,
   "metadata": {
    "id": "Rsy0rTDhtCY2"
   },
   "outputs": [],
   "source": [
    "# Строим tf-idf вектора для лемм\n",
    "lemm_tfidf_vecs = tfidf_vectorizer.fit_transform(questions['lemmas'])"
   ]
  },
  {
   "cell_type": "code",
   "execution_count": 43,
   "metadata": {
    "id": "vWBXhH5stCY2",
    "outputId": "1fa96539-b07d-46a2-bd96-4f5fa92d5a5a"
   },
   "outputs": [
    {
     "name": "stderr",
     "output_type": "stream",
     "text": [
      "100%|██████████████████████████████████████████████████████████████████████████████████| 10/10 [00:10<00:00,  1.07s/it]"
     ]
    },
    {
     "name": "stdout",
     "output_type": "stream",
     "text": [
      "Точность при использовании TF-IDF и лемматизации:\n",
      "0.575\n"
     ]
    },
    {
     "name": "stderr",
     "output_type": "stream",
     "text": [
      "\n"
     ]
    }
   ],
   "source": [
    "# Оцениваем среднюю точность\n",
    "accs = []\n",
    "for _ in tqdm(range(ACC_CALC_NUM)):\n",
    "    acc = get_accuracy_at_n(lemm_tfidf_vecs.toarray(), data)\n",
    "    accs.append(acc)\n",
    "\n",
    "print(\"Точность при использовании TF-IDF и лемматизации:\")\n",
    "print(round(sum(accs) / len(accs), 3))"
   ]
  },
  {
   "cell_type": "code",
   "execution_count": 44,
   "metadata": {
    "id": "-_X05h8OtCY2"
   },
   "outputs": [],
   "source": [
    "# Строим tf-idf вектора для оснований слов (stems)\n",
    "stem_tfidf_vecs = tfidf_vectorizer.fit_transform(questions['stems'])"
   ]
  },
  {
   "cell_type": "code",
   "execution_count": 45,
   "metadata": {
    "id": "GThrjP-2tCY2",
    "outputId": "01bd573b-e5d8-46f5-a178-35e7235128eb"
   },
   "outputs": [
    {
     "name": "stderr",
     "output_type": "stream",
     "text": [
      "100%|██████████████████████████████████████████████████████████████████████████████████| 10/10 [00:10<00:00,  1.08s/it]"
     ]
    },
    {
     "name": "stdout",
     "output_type": "stream",
     "text": [
      "Точность при использовании TF-IDF и стемматизации:\n",
      "0.577\n"
     ]
    },
    {
     "name": "stderr",
     "output_type": "stream",
     "text": [
      "\n"
     ]
    }
   ],
   "source": [
    "# Оцениваем среднюю точность\n",
    "accs = []\n",
    "for _ in tqdm(range(ACC_CALC_NUM)):\n",
    "    acc = get_accuracy_at_n(stem_tfidf_vecs.toarray(), data)\n",
    "    accs.append(acc)\n",
    "\n",
    "print(\"Точность при использовании TF-IDF и стемматизации:\")\n",
    "print(round(sum(accs) / len(accs), 3))"
   ]
  },
  {
   "cell_type": "markdown",
   "metadata": {
    "id": "5ElbnamAtCY2"
   },
   "source": [
    "Вывод: в среднем, точность у TF-IDF получается немного выше чем у BoW,\n",
    "т.к. добавление информации о встречаемости во всем корпусе вопросов позволяет лучше оценивать их близость.\n",
    "Как и в случае с BoW, большой разницы между использованием лемматизации и стемматизации не наблюдается."
   ]
  },
  {
   "cell_type": "markdown",
   "metadata": {
    "id": "ITjsYG2ntCY3"
   },
   "source": [
    "### 6. Векторизация с помощью word2vec и glove <a id=\"step_6\"></a>"
   ]
  },
  {
   "cell_type": "markdown",
   "metadata": {
    "id": "8-0BWhd1tCY3"
   },
   "source": [
    "Сначала попробуем самостоятельно обучить word2vec-модель, а затем сравним ее с предобученной из библиотеки glove.\n",
    "\n",
    "Напишем две функции для расчета эмбедингов текстов по эмбедингам входящих в них слов.\n",
    "Одна будет считать средние эмбединги, а другая - средневзвешенные по idf каждого слова."
   ]
  },
  {
   "cell_type": "markdown",
   "metadata": {
    "id": "zGl7HGUEtCY3"
   },
   "source": [
    "__Расчет средних эмбедингов__"
   ]
  },
  {
   "cell_type": "code",
   "execution_count": 46,
   "metadata": {
    "id": "eJPad3rLtCY3"
   },
   "outputs": [],
   "source": [
    "def get_mean_embed(text: str, embed_size: int, wv_dict: dict) -> np.ndarray:\n",
    "    \"\"\"\n",
    "    Функция для расчета среднего вектора текста по векторному представлению входящих в него слов для word2vec моделей.\n",
    "\n",
    "    Входные данные:\n",
    "        - text (str): строка из токенов, разделенных пробелами,\n",
    "        - embed_size (int): размер векторов,\n",
    "        - wv_dict (dict): словарь, отображающий токены в их векторное представление.\n",
    "\n",
    "    Возвращаемые значения:\n",
    "        - Средний вектор текста размерности embed_size (np.ndarray).\n",
    "    \"\"\"\n",
    "    embeds = [np.array(wv_dict[w]) for w in text.split() if w in wv_dict]\n",
    "\n",
    "    if len(embeds) == 0:\n",
    "        mean_embed = np.zeros(embed_size)\n",
    "    else:\n",
    "        mean_embed = np.mean(np.array(embeds), axis=0)\n",
    "\n",
    "    return mean_embed"
   ]
  },
  {
   "cell_type": "markdown",
   "metadata": {
    "id": "q7Jem3G7tCY3"
   },
   "source": [
    "__Расчет средневзвешенных эмбедингов__"
   ]
  },
  {
   "cell_type": "code",
   "execution_count": 47,
   "metadata": {
    "id": "83Cw7O2UtCY3"
   },
   "outputs": [],
   "source": [
    "def get_weighted_embed(text: str, embed_size: int, wv_dict: dict, word2weight: dict) -> np.ndarray:\n",
    "    \"\"\"\n",
    "    Функция для расчета средневзвешенного вектора текста по векторному представлению входящих в него слов для word2vec моделей.\n",
    "\n",
    "    Входные данные:\n",
    "        - text (str): строка из токенов, разделенных пробелами,\n",
    "        - embed_size (int): размер векторов,\n",
    "        - wv_dict (dict): словарь, отображающий токены в их векторное представление,\n",
    "        - word2weight(dict): словарь, отображающий токены в их веса.\n",
    "\n",
    "    Возвращаемые значения:\n",
    "        - Средневзвешенный вектор текста размерности embed_size (np.ndarray).\n",
    "    \"\"\"\n",
    "    weighted_embed = np.mean([wv_dict[w] * word2weight[w] for w in text.split() if w in wv_dict] or [np.zeros(embed_size)], axis=0)\n",
    "\n",
    "    return weighted_embed"
   ]
  },
  {
   "cell_type": "markdown",
   "metadata": {
    "id": "gB4yylCbtCY4"
   },
   "source": [
    "__Самостоятельно обученная word2vec-модель__"
   ]
  },
  {
   "cell_type": "code",
   "execution_count": 48,
   "metadata": {
    "id": "HqzchKfKtCY4"
   },
   "outputs": [
    {
     "name": "stderr",
     "output_type": "stream",
     "text": [
      "2024-05-19 19:57:21,831 : INFO : collecting all words and their counts\n",
      "2024-05-19 19:57:21,833 : INFO : PROGRESS: at sentence #0, processed 0 words, keeping 0 word types\n",
      "2024-05-19 19:57:21,873 : INFO : collected 4872 word types from a corpus of 40129 raw words and 4567 sentences\n",
      "2024-05-19 19:57:21,876 : INFO : Creating a fresh vocabulary\n",
      "2024-05-19 19:57:21,955 : INFO : Word2Vec lifecycle event {'msg': 'effective_min_count=1 retains 4872 unique words (100.00% of original 4872, drops 0)', 'datetime': '2024-05-19T19:57:21.955971', 'gensim': '4.3.0', 'python': '3.11.7 | packaged by Anaconda, Inc. | (main, Dec 15 2023, 18:05:47) [MSC v.1916 64 bit (AMD64)]', 'platform': 'Windows-10-10.0.19045-SP0', 'event': 'prepare_vocab'}\n",
      "2024-05-19 19:57:21,955 : INFO : Word2Vec lifecycle event {'msg': 'effective_min_count=1 leaves 40129 word corpus (100.00% of original 40129, drops 0)', 'datetime': '2024-05-19T19:57:21.955971', 'gensim': '4.3.0', 'python': '3.11.7 | packaged by Anaconda, Inc. | (main, Dec 15 2023, 18:05:47) [MSC v.1916 64 bit (AMD64)]', 'platform': 'Windows-10-10.0.19045-SP0', 'event': 'prepare_vocab'}\n"
     ]
    },
    {
     "name": "stdout",
     "output_type": "stream",
     "text": [
      "Обучаем свою word2vec-модель...\n"
     ]
    },
    {
     "name": "stderr",
     "output_type": "stream",
     "text": [
      "2024-05-19 19:57:22,046 : INFO : deleting the raw counts dictionary of 4872 items\n",
      "2024-05-19 19:57:22,049 : INFO : sample=0.001 downsamples 58 most-common words\n",
      "2024-05-19 19:57:22,050 : INFO : Word2Vec lifecycle event {'msg': 'downsampling leaves estimated 36464.8674387169 word corpus (90.9%% of prior 40129)', 'datetime': '2024-05-19T19:57:22.050279', 'gensim': '4.3.0', 'python': '3.11.7 | packaged by Anaconda, Inc. | (main, Dec 15 2023, 18:05:47) [MSC v.1916 64 bit (AMD64)]', 'platform': 'Windows-10-10.0.19045-SP0', 'event': 'prepare_vocab'}\n",
      "2024-05-19 19:57:22,114 : INFO : estimated required memory for 4872 words and 300 dimensions: 14128800 bytes\n",
      "2024-05-19 19:57:22,115 : INFO : resetting layer weights\n",
      "2024-05-19 19:57:22,129 : INFO : Word2Vec lifecycle event {'update': False, 'trim_rule': 'None', 'datetime': '2024-05-19T19:57:22.129263', 'gensim': '4.3.0', 'python': '3.11.7 | packaged by Anaconda, Inc. | (main, Dec 15 2023, 18:05:47) [MSC v.1916 64 bit (AMD64)]', 'platform': 'Windows-10-10.0.19045-SP0', 'event': 'build_vocab'}\n",
      "2024-05-19 19:57:22,130 : INFO : Word2Vec lifecycle event {'msg': 'training model with 4 workers on 4872 vocabulary and 300 features, using sg=0 hs=0 sample=0.001 negative=5 window=5 shrink_windows=True', 'datetime': '2024-05-19T19:57:22.130301', 'gensim': '4.3.0', 'python': '3.11.7 | packaged by Anaconda, Inc. | (main, Dec 15 2023, 18:05:47) [MSC v.1916 64 bit (AMD64)]', 'platform': 'Windows-10-10.0.19045-SP0', 'event': 'train'}\n",
      "2024-05-19 19:57:22,209 : INFO : EPOCH 0: training on 40129 raw words (36441 effective words) took 0.1s, 550601 effective words/s\n",
      "2024-05-19 19:57:22,380 : INFO : EPOCH 1: training on 40129 raw words (36460 effective words) took 0.1s, 350768 effective words/s\n",
      "2024-05-19 19:57:22,499 : INFO : EPOCH 2: training on 40129 raw words (36510 effective words) took 0.1s, 362024 effective words/s\n",
      "2024-05-19 19:57:22,631 : INFO : EPOCH 3: training on 40129 raw words (36462 effective words) took 0.1s, 349981 effective words/s\n",
      "2024-05-19 19:57:22,753 : INFO : EPOCH 4: training on 40129 raw words (36377 effective words) took 0.1s, 332222 effective words/s\n",
      "2024-05-19 19:57:22,757 : INFO : Word2Vec lifecycle event {'msg': 'training on 200645 raw words (182250 effective words) took 0.6s, 291078 effective words/s', 'datetime': '2024-05-19T19:57:22.757355', 'gensim': '4.3.0', 'python': '3.11.7 | packaged by Anaconda, Inc. | (main, Dec 15 2023, 18:05:47) [MSC v.1916 64 bit (AMD64)]', 'platform': 'Windows-10-10.0.19045-SP0', 'event': 'train'}\n",
      "2024-05-19 19:57:22,759 : INFO : Word2Vec lifecycle event {'params': 'Word2Vec<vocab=4872, vector_size=300, alpha=0.025>', 'datetime': '2024-05-19T19:57:22.757355', 'gensim': '4.3.0', 'python': '3.11.7 | packaged by Anaconda, Inc. | (main, Dec 15 2023, 18:05:47) [MSC v.1916 64 bit (AMD64)]', 'platform': 'Windows-10-10.0.19045-SP0', 'event': 'created'}\n"
     ]
    },
    {
     "name": "stdout",
     "output_type": "stream",
     "text": [
      "CPU times: total: 1.67 s\n",
      "Wall time: 930 ms\n"
     ]
    }
   ],
   "source": [
    "# Будем обучать свою модель на леммах\n",
    "lemmas = [q.split() for q in questions['lemmas']]\n",
    "\n",
    "print(\"Обучаем свою word2vec-модель...\")\n",
    "%time my_wv_model = word2vec.Word2Vec(lemmas, workers=4, vector_size=300, min_count=1, window=5)"
   ]
  },
  {
   "cell_type": "code",
   "execution_count": 49,
   "metadata": {
    "id": "29zOawcGtCY4",
    "outputId": "067ae73e-b21d-42c9-f913-0912a3c4b344"
   },
   "outputs": [
    {
     "data": {
      "text/plain": [
       "4872"
      ]
     },
     "execution_count": 49,
     "metadata": {},
     "output_type": "execute_result"
    }
   ],
   "source": [
    "# Размер созданного словаря\n",
    "len(my_wv_model.wv)"
   ]
  },
  {
   "cell_type": "markdown",
   "metadata": {
    "id": "_h0fgwM3tCY4"
   },
   "source": [
    "Посчитаем средние и средневзвешенные эмбединги для каждого вопроса"
   ]
  },
  {
   "cell_type": "code",
   "execution_count": 50,
   "metadata": {
    "id": "3VDIijpytCY5"
   },
   "outputs": [],
   "source": [
    "# Создаем словарь, отображающий слова в вектора\n",
    "my_wv = my_wv_model.wv\n",
    "my_wv_dict = dict(zip(my_wv.index_to_key, my_wv.vectors))"
   ]
  },
  {
   "cell_type": "code",
   "execution_count": 51,
   "metadata": {
    "id": "RDzDO0OetCY5"
   },
   "outputs": [],
   "source": [
    "# Находим средние вектора всех вопросов\n",
    "my_wv_mean_embeds = np.array([get_mean_embed(q, my_wv.vector_size, my_wv_dict) for q in questions['lemmas']])"
   ]
  },
  {
   "cell_type": "code",
   "execution_count": 52,
   "metadata": {
    "id": "Fv9sC8D1tCY5"
   },
   "outputs": [],
   "source": [
    "# Создаем словарь, в котором каждому слову соответствует его idf в обученном tf-idf векторайзере\n",
    "\n",
    "# Создаем TF-IDF векторайзер\n",
    "tfidf_vectorizer = TfidfVectorizer(\n",
    "    analyzer='word',\n",
    "    ngram_range=(1, 1),\n",
    "    token_pattern=r\"[a-zA-Z]{3,}\",\n",
    "    min_df=2,\n",
    "    max_df=0.9\n",
    ")\n",
    "\n",
    "# Обучаем TF-IDF векторайзер на леммах\n",
    "tfidf_vectorizer = tfidf_vectorizer.fit(questions['lemmas'])\n",
    "\n",
    "# Строим словарь, в котором каждому слову из словаря TF-IDF векторайзера соответствует его idf (либо макс idf)\n",
    "word2weight = defaultdict(lambda: max(tfidf_vectorizer.idf_), [(w, tfidf_vectorizer.idf_[i]) for w, i in tfidf_vectorizer.vocabulary_.items()])"
   ]
  },
  {
   "cell_type": "code",
   "execution_count": 53,
   "metadata": {
    "id": "RFRKsu2XtCY5"
   },
   "outputs": [],
   "source": [
    "# Находим средневзвешенные вектора всех вопросов\n",
    "my_wv_weighted_embeds = np.array([get_weighted_embed(q, my_wv.vector_size, my_wv_dict, word2weight) for q in questions['lemmas']])"
   ]
  },
  {
   "cell_type": "code",
   "execution_count": 54,
   "metadata": {
    "id": "6XBfxDtDtCY5",
    "outputId": "25dd264d-789a-4881-aa7b-a97ed5eb1c2e"
   },
   "outputs": [
    {
     "name": "stderr",
     "output_type": "stream",
     "text": [
      "100%|██████████████████████████████████████████████████████████████████████████████████| 10/10 [00:09<00:00,  1.07it/s]\n"
     ]
    },
    {
     "name": "stdout",
     "output_type": "stream",
     "text": [
      "Точность при использовании своей word2vec-модели и средних эмбедингов:\n",
      "0.365\n"
     ]
    },
    {
     "name": "stderr",
     "output_type": "stream",
     "text": [
      "100%|██████████████████████████████████████████████████████████████████████████████████| 10/10 [00:09<00:00,  1.02it/s]"
     ]
    },
    {
     "name": "stdout",
     "output_type": "stream",
     "text": [
      "Точность при использовании своей word2vec-модели и средневзвешенных эмбедингов:\n",
      "0.387\n"
     ]
    },
    {
     "name": "stderr",
     "output_type": "stream",
     "text": [
      "\n"
     ]
    }
   ],
   "source": [
    "# Оцениваем точность\n",
    "\n",
    "accs = []\n",
    "for _ in tqdm(range(ACC_CALC_NUM)):\n",
    "    acc = get_accuracy_at_n(my_wv_mean_embeds, data)\n",
    "    accs.append(acc)\n",
    "print(\"Точность при использовании своей word2vec-модели и средних эмбедингов:\")\n",
    "print(round(sum(accs) / len(accs), 3))\n",
    "\n",
    "accs = []\n",
    "for _ in tqdm(range(ACC_CALC_NUM)):\n",
    "    acc = get_accuracy_at_n(my_wv_weighted_embeds, data)\n",
    "    accs.append(acc)\n",
    "print(\"Точность при использовании своей word2vec-модели и средневзвешенных эмбедингов:\")\n",
    "print(round(sum(accs) / len(accs), 3))"
   ]
  },
  {
   "cell_type": "markdown",
   "metadata": {
    "id": "uQaK8T26tCY6"
   },
   "source": [
    "Вывод: точность поиска получилась даже хуже чем у BoW и TF-IDF, что можно объяснить особенностями разметки пар вопросов,\n",
    "а также недостатками самого word2vec, т.к. он, например, не учитывает частоту совместной встречаемости.\n",
    "Кроме того, видим, что взвешивание по idf в данном случае дает совсем небольшое улучшение."
   ]
  },
  {
   "cell_type": "markdown",
   "metadata": {
    "id": "vIxTQAfItCY6"
   },
   "source": [
    "__Предобученная glove-модель__"
   ]
  },
  {
   "cell_type": "markdown",
   "metadata": {
    "id": "-o3EwNjdtCY6"
   },
   "source": [
    "Посмотрим, какие модели доступны для скачивания через API gensim"
   ]
  },
  {
   "cell_type": "code",
   "execution_count": null,
   "metadata": {
    "id": "THWMvBYvtCY6",
    "outputId": "187c7194-3da0-4125-e79d-db14f65f80cb"
   },
   "outputs": [
    {
     "name": "stdout",
     "output_type": "stream",
     "text": [
      "['fasttext-wiki-news-subwords-300', 'conceptnet-numberbatch-17-06-300', 'word2vec-ruscorpora-300', 'word2vec-google-news-300', 'glove-wiki-gigaword-50', 'glove-wiki-gigaword-100', 'glove-wiki-gigaword-200', 'glove-wiki-gigaword-300', 'glove-twitter-25', 'glove-twitter-50', 'glove-twitter-100', 'glove-twitter-200', '__testing_word2vec-matrix-synopsis']\n"
     ]
    }
   ],
   "source": [
    "print(list(gensim.downloader.info()['models'].keys()))"
   ]
  },
  {
   "cell_type": "markdown",
   "metadata": {
    "id": "VQvSC6ijtCY6"
   },
   "source": [
    "Загружаем `glove-wiki-gigaword-300`"
   ]
  },
  {
   "cell_type": "code",
   "execution_count": 55,
   "metadata": {
    "id": "rkcZcBQetCY6",
    "outputId": "01656154-8d4f-4c48-ac57-2b0aaf858350"
   },
   "outputs": [
    {
     "name": "stdout",
     "output_type": "stream",
     "text": [
      "Загружаем модель glove...\n"
     ]
    },
    {
     "name": "stderr",
     "output_type": "stream",
     "text": [
      "2024-05-19 19:58:04,783 : INFO : loading projection weights from C:\\Users\\Kirill_Nosov/gensim-data\\glove-wiki-gigaword-300\\glove-wiki-gigaword-300.gz\n",
      "2024-05-19 20:01:58,111 : INFO : KeyedVectors lifecycle event {'msg': 'loaded (400000, 300) matrix of type float32 from C:\\\\Users\\\\Kirill_Nosov/gensim-data\\\\glove-wiki-gigaword-300\\\\glove-wiki-gigaword-300.gz', 'binary': False, 'encoding': 'utf8', 'datetime': '2024-05-19T20:01:58.111837', 'gensim': '4.3.0', 'python': '3.11.7 | packaged by Anaconda, Inc. | (main, Dec 15 2023, 18:05:47) [MSC v.1916 64 bit (AMD64)]', 'platform': 'Windows-10-10.0.19045-SP0', 'event': 'load_word2vec_format'}\n"
     ]
    },
    {
     "name": "stdout",
     "output_type": "stream",
     "text": [
      "CPU times: total: 3min 51s\n",
      "Wall time: 3min 53s\n"
     ]
    }
   ],
   "source": [
    "print('Загружаем модель glove...')\n",
    "%time glove_wv = gensim.downloader.load('glove-wiki-gigaword-300')"
   ]
  },
  {
   "cell_type": "markdown",
   "metadata": {
    "id": "Ljmmp_j-tCY7"
   },
   "source": [
    "Посмотрим на загруженную модель"
   ]
  },
  {
   "cell_type": "code",
   "execution_count": 56,
   "metadata": {
    "id": "ZdcyYIb5tCY7",
    "outputId": "ede7e7ae-db52-467b-ab56-c2a4ad874714"
   },
   "outputs": [
    {
     "data": {
      "text/plain": [
       "400000"
      ]
     },
     "execution_count": 56,
     "metadata": {},
     "output_type": "execute_result"
    }
   ],
   "source": [
    "# Общее количество слов\n",
    "len(glove_wv)"
   ]
  },
  {
   "cell_type": "code",
   "execution_count": 57,
   "metadata": {
    "id": "P6FBOhhdtCY7",
    "outputId": "c13c09e2-2bc7-4908-965d-6676dd433d7a"
   },
   "outputs": [
    {
     "data": {
      "text/plain": [
       "[('planets', 0.6714062094688416),\n",
       " ('uranus', 0.6397686004638672),\n",
       " ('jupiter', 0.6318029761314392),\n",
       " ('ganymede', 0.5787632465362549),\n",
       " ('asteroids', 0.5538063645362854),\n",
       " ('orbits', 0.5535204410552979),\n",
       " ('pluto', 0.5365555286407471),\n",
       " ('jovian', 0.530035138130188),\n",
       " ('saturn', 0.500491201877594),\n",
       " ('orbiting', 0.4947132468223572)]"
      ]
     },
     "execution_count": 57,
     "metadata": {},
     "output_type": "execute_result"
    }
   ],
   "source": [
    "# Оценим семантическую близость для произвольного слова\n",
    "glove_wv.most_similar(positive=\"moons\", topn=10)"
   ]
  },
  {
   "cell_type": "markdown",
   "metadata": {
    "id": "nPTWMMjDtCY7"
   },
   "source": [
    "Посчитаем средние и средневзвешенные эмбединги для каждого вопроса"
   ]
  },
  {
   "cell_type": "code",
   "execution_count": 58,
   "metadata": {
    "id": "0wiBWMcLtCY7"
   },
   "outputs": [],
   "source": [
    "# Cоздаем словарь, в котором каждому слову будет соответствовать предобученный вектор\n",
    "glove_wv_dict = dict(zip(glove_wv.index_to_key, glove_wv.vectors))\n",
    "\n",
    "# Находим средние эмбединги для всех вопросов\n",
    "glove_mean_embeds = np.array([get_mean_embed(q, glove_wv.vector_size, glove_wv_dict) for q in questions['lemmas']])\n",
    "\n",
    "# Находим средневзвешенные эмбединги для всех вопросов\n",
    "glove_weighted_embeds = np.array([get_weighted_embed(q, glove_wv.vector_size, glove_wv_dict, word2weight) for q in questions['lemmas']])"
   ]
  },
  {
   "cell_type": "code",
   "execution_count": 59,
   "metadata": {
    "id": "wYif-Nq2tCY8",
    "outputId": "71ce46a2-8090-4ff6-eee5-c2af644bbb21"
   },
   "outputs": [
    {
     "name": "stderr",
     "output_type": "stream",
     "text": [
      "100%|██████████████████████████████████████████████████████████████████████████████████| 10/10 [00:08<00:00,  1.18it/s]\n"
     ]
    },
    {
     "name": "stdout",
     "output_type": "stream",
     "text": [
      "Точность при использовании glove и средних эмбедингов:\n",
      "0.497\n"
     ]
    },
    {
     "name": "stderr",
     "output_type": "stream",
     "text": [
      "100%|██████████████████████████████████████████████████████████████████████████████████| 10/10 [00:08<00:00,  1.18it/s]"
     ]
    },
    {
     "name": "stdout",
     "output_type": "stream",
     "text": [
      "Точность при использовании glove и средневзвешенных эмбедингов:\n",
      "0.5\n"
     ]
    },
    {
     "name": "stderr",
     "output_type": "stream",
     "text": [
      "\n"
     ]
    }
   ],
   "source": [
    "# Оцениваем точность\n",
    "\n",
    "accs = []\n",
    "for _ in tqdm(range(ACC_CALC_NUM)):\n",
    "    acc = get_accuracy_at_n(glove_mean_embeds, data)\n",
    "    accs.append(acc)\n",
    "print(\"Точность при использовании glove и средних эмбедингов:\")\n",
    "print(round(sum(accs) / len(accs), 3))\n",
    "\n",
    "accs = []\n",
    "for _ in tqdm(range(ACC_CALC_NUM)):\n",
    "    acc = get_accuracy_at_n(glove_weighted_embeds, data)\n",
    "    accs.append(acc)\n",
    "print(\"Точность при использовании glove и средневзвешенных эмбедингов:\")\n",
    "print(round(sum(accs) / len(accs), 3))"
   ]
  },
  {
   "cell_type": "markdown",
   "metadata": {
    "id": "H1mbpzXFtCY8"
   },
   "source": [
    "Вывод: по сравнению с самостоятельно обученной word2vec моделью точность поиска у предобученной glove значительно выше, т.к. у нее\n",
    "более осмысленные эмбединги, но, если сравнивать с TF-IDF, то на данном датасете glove все равно немного уступает,\n",
    "что можно объяснить, например, особенностями разметки пар вопросов."
   ]
  },
  {
   "cell_type": "markdown",
   "metadata": {
    "id": "RlK2QQustCY8"
   },
   "source": [
    "### 7. Векторизация с помощью BERT <a id=\"step_7\"></a>"
   ]
  },
  {
   "cell_type": "markdown",
   "metadata": {
    "id": "Nnco-f1VtCY8"
   },
   "source": [
    "Устанавливаем и импортируем необходимые библиотеки"
   ]
  },
  {
   "cell_type": "code",
   "execution_count": null,
   "metadata": {
    "id": "vX_qyICJtCY8"
   },
   "outputs": [],
   "source": [
    "#!pip install ipywidgets==7.7.2 --upgrade"
   ]
  },
  {
   "cell_type": "code",
   "execution_count": 10,
   "metadata": {
    "executionInfo": {
     "elapsed": 3,
     "status": "ok",
     "timestamp": 1716058182940,
     "user": {
      "displayName": "Kirill N.",
      "userId": "16481738826806641256"
     },
     "user_tz": -180
    },
    "id": "EEzCLF5htCY8"
   },
   "outputs": [],
   "source": [
    "#!pip install transformers\n",
    "#!pip install -U sentence-transformers"
   ]
  },
  {
   "cell_type": "code",
   "execution_count": 6,
   "metadata": {
    "executionInfo": {
     "elapsed": 6557,
     "status": "ok",
     "timestamp": 1716058192517,
     "user": {
      "displayName": "Kirill N.",
      "userId": "16481738826806641256"
     },
     "user_tz": -180
    },
    "id": "n4uj2lNWtCY9"
   },
   "outputs": [],
   "source": [
    "from sentence_transformers import SentenceTransformer"
   ]
  },
  {
   "cell_type": "markdown",
   "metadata": {
    "id": "TjbMGooAtCY9"
   },
   "source": [
    "Будем использовать специальную BERT-модель для оценки семантической близости текстов (Semantic Textual Similarity).\n",
    "На сайте [sbert](https://www.sbert.net/docs/pretrained_models.html)\n",
    "можно сравнить модели по качеству поиска, скорости работы, максимальному размеру входного текста\n",
    "и размеру самой модели. Выбираем [all-MiniLM-L6-v2](https://huggingface.co/sentence-transformers/all-MiniLM-L6-v2)"
   ]
  },
  {
   "cell_type": "code",
   "execution_count": 7,
   "metadata": {
    "id": "UMZ7Cds7tCY9"
   },
   "outputs": [],
   "source": [
    "# Название модели\n",
    "SENT_TRANSFORMER_NAME = \"all-MiniLM-L6-v2\""
   ]
  },
  {
   "cell_type": "code",
   "execution_count": 8,
   "metadata": {
    "id": "DnkVv8EWtCY9",
    "outputId": "afaab1fe-4f4d-4622-bd50-ab357d69f4bf"
   },
   "outputs": [
    {
     "name": "stderr",
     "output_type": "stream",
     "text": [
      "2024-05-19 22:09:18,853 : INFO : Load pretrained SentenceTransformer: all-MiniLM-L6-v2\n",
      "2024-05-19 22:09:21,397 : INFO : Use pytorch device_name: cpu\n"
     ]
    }
   ],
   "source": [
    "# Загружаем модель\n",
    "bert_model = SentenceTransformer(SENT_TRANSFORMER_NAME)"
   ]
  },
  {
   "cell_type": "code",
   "execution_count": 9,
   "metadata": {
    "id": "effJRcCytCY9",
    "outputId": "7aba24d5-fc09-42a7-9cb2-735d7e906d96"
   },
   "outputs": [
    {
     "data": {
      "text/plain": [
       "SentenceTransformer(\n",
       "  (0): Transformer({'max_seq_length': 256, 'do_lower_case': False}) with Transformer model: BertModel \n",
       "  (1): Pooling({'word_embedding_dimension': 384, 'pooling_mode_cls_token': False, 'pooling_mode_mean_tokens': True, 'pooling_mode_max_tokens': False, 'pooling_mode_mean_sqrt_len_tokens': False, 'pooling_mode_weightedmean_tokens': False, 'pooling_mode_lasttoken': False, 'include_prompt': True})\n",
       "  (2): Normalize()\n",
       ")"
      ]
     },
     "execution_count": 9,
     "metadata": {},
     "output_type": "execute_result"
    }
   ],
   "source": [
    "# Структура модели\n",
    "bert_model"
   ]
  },
  {
   "cell_type": "code",
   "execution_count": 10,
   "metadata": {
    "colab": {
     "referenced_widgets": [
      "95e18a46a0f34b7a9622476e1dfdfaec"
     ]
    },
    "id": "dE4Y8BDStCY-",
    "outputId": "ce981350-a729-444e-fd51-13edc8076bf4"
   },
   "outputs": [
    {
     "name": "stdout",
     "output_type": "stream",
     "text": [
      "Кодируем все вопросы...\n"
     ]
    },
    {
     "data": {
      "application/vnd.jupyter.widget-view+json": {
       "model_id": "d4713e7b162a481ea5db9618f25fa6ca",
       "version_major": 2,
       "version_minor": 0
      },
      "text/plain": [
       "Batches:   0%|          | 0/143 [00:00<?, ?it/s]"
      ]
     },
     "metadata": {},
     "output_type": "display_data"
    },
    {
     "name": "stdout",
     "output_type": "stream",
     "text": [
      "CPU times: total: 1min 57s\n",
      "Wall time: 30.1 s\n"
     ]
    }
   ],
   "source": [
    "# Кодируем корпус вопросов (используем колонку с исходным текстом)\n",
    "print('Кодируем все вопросы...')\n",
    "%time bert_embeds = bert_model.encode(questions['question'], convert_to_tensor=False)"
   ]
  },
  {
   "cell_type": "code",
   "execution_count": 11,
   "metadata": {
    "id": "e1SUImIUtCY-",
    "outputId": "94144689-6017-434d-8c9e-527671f1ef33"
   },
   "outputs": [
    {
     "name": "stdout",
     "output_type": "stream",
     "text": [
      "<class 'numpy.ndarray'>\n",
      "(4567, 384)\n"
     ]
    }
   ],
   "source": [
    "# На выходе получаем numpy-матрицу c эмбедингами всех вопросов\n",
    "print(type(bert_embeds))\n",
    "print(bert_embeds.shape)"
   ]
  },
  {
   "cell_type": "code",
   "execution_count": 70,
   "metadata": {
    "id": "K2094p6OtCY-",
    "outputId": "0d1e865b-0936-4cbc-a23b-031501a5cb10"
   },
   "outputs": [
    {
     "name": "stderr",
     "output_type": "stream",
     "text": [
      "100%|██████████████████████████████████████████████████████████████████████████████████| 20/20 [00:13<00:00,  1.47it/s]"
     ]
    },
    {
     "name": "stdout",
     "output_type": "stream",
     "text": [
      "Точность при использовании BERT-модели:\n",
      "0.624\n"
     ]
    },
    {
     "name": "stderr",
     "output_type": "stream",
     "text": [
      "\n"
     ]
    }
   ],
   "source": [
    "# Оцениваем точность\n",
    "accs = []\n",
    "for _ in tqdm(range(ACC_CALC_NUM)):\n",
    "    acc = get_accuracy_at_n(bert_embeds, data)\n",
    "    accs.append(acc)\n",
    "print(\"Точность при использовании BERT-модели:\")\n",
    "print(round(sum(accs) / len(accs), 3))"
   ]
  },
  {
   "cell_type": "markdown",
   "metadata": {
    "id": "NdPG-hEAtCY-"
   },
   "source": [
    "Вывод: средняя точность поиска у BERT получилась выше, чем у остальных способов векторизации, \n",
    "поэтому далее для расчета векторных расстояний и оценки близости текстов будем использовать эмбединги BERT."
   ]
  },
  {
   "cell_type": "markdown",
   "metadata": {
    "id": "KejMpwGItCY-"
   },
   "source": [
    "### 8. Обучение классификаторов на парах вопросов <a id=\"step_8\"></a>"
   ]
  },
  {
   "cell_type": "markdown",
   "metadata": {
    "id": "JU5yM0dPtCY-"
   },
   "source": [
    "Добавим классификатор, который для пары вопросов будет предсказывать метку `1` или `0`.\n",
    "Это позволит для заданного вопроса сначала находить ближайшие к нему по векторному расстоянию,\n",
    "а затем отбирать из них те, для которых классификатор выдает `1`.\n",
    "Сравним точность на тестовой выборке у классификатора CatBoostClassifier и дообученной модели BERT с добавленным линейным слоем."
   ]
  },
  {
   "cell_type": "markdown",
   "metadata": {
    "id": "ejR3oNXctCY-"
   },
   "source": [
    "__CatBoostClassifier__\n",
    "\n",
    "Создаем расширенный датасет, включающий пары вопросов в прямом порядке (т.е. из левой и правой колонок)\n",
    "и в обратном (с той же меткой, но сначала вопрос из правой колонки, а потом из левой)"
   ]
  },
  {
   "cell_type": "code",
   "execution_count": 32,
   "metadata": {
    "id": "QiVelnQotCY_"
   },
   "outputs": [],
   "source": [
    "# Создаем расширенный датасет\n",
    "X_12 = np.hstack([bert_embeds[data['question_1_id']], bert_embeds[data['question_2_id']]])\n",
    "X_21 = np.hstack([bert_embeds[data['question_2_id']], bert_embeds[data['question_1_id']]])\n",
    "X = np.vstack([X_12, X_21])\n",
    "\n",
    "y = data['label']\n",
    "y = np.hstack([y, y])"
   ]
  },
  {
   "cell_type": "code",
   "execution_count": 33,
   "metadata": {
    "id": "qNzrzjMatCY_"
   },
   "outputs": [],
   "source": [
    "# Разбиваем на train и test\n",
    "X_train, X_test, y_train, y_test = train_test_split(X, y,\n",
    "                                                    test_size=0.2,\n",
    "                                                    random_state=RANDOM_STATE,\n",
    "                                                    stratify=y,\n",
    "                                                    shuffle=True)"
   ]
  },
  {
   "cell_type": "code",
   "execution_count": 34,
   "metadata": {
    "id": "BrXrHs5vtCY_",
    "outputId": "6d8c98b0-8c7d-4a27-9965-759b9738519b"
   },
   "outputs": [
    {
     "name": "stdout",
     "output_type": "stream",
     "text": [
      "Обучаем классификатор...\n",
      "CPU times: total: 9min 11s\n",
      "Wall time: 1min 35s\n"
     ]
    },
    {
     "data": {
      "text/plain": [
       "<catboost.core.CatBoostClassifier at 0x1b80f164810>"
      ]
     },
     "execution_count": 34,
     "metadata": {},
     "output_type": "execute_result"
    }
   ],
   "source": [
    "# Обучаем классификатор\n",
    "cb_cls_model = CatBoostClassifier(\n",
    "    loss_function=\"Logloss\",\n",
    "    random_seed=RANDOM_STATE,\n",
    "    verbose=False\n",
    ")\n",
    "\n",
    "print(\"Обучаем классификатор...\")\n",
    "%time cb_cls_model.fit(X_train, y_train)"
   ]
  },
  {
   "cell_type": "code",
   "execution_count": 35,
   "metadata": {
    "id": "J6dB3_w9tCY_",
    "outputId": "b52e6ca0-99d2-488a-85d1-85e506cbf904"
   },
   "outputs": [
    {
     "name": "stdout",
     "output_type": "stream",
     "text": [
      "0.7721311475409836\n"
     ]
    }
   ],
   "source": [
    "# Оцениваем точность на тестовой выборке\n",
    "y_pred = cb_cls_model.predict(X_test)\n",
    "print(accuracy_score(y_test, y_pred))"
   ]
  },
  {
   "cell_type": "code",
   "execution_count": null,
   "metadata": {
    "id": "01fOnPJ5tCY_",
    "outputId": "95f4b643-c8b2-47da-e5a6-1e3e0820f784"
   },
   "outputs": [
    {
     "data": {
      "text/html": [
       "<div>\n",
       "<style scoped>\n",
       "    .dataframe tbody tr th:only-of-type {\n",
       "        vertical-align: middle;\n",
       "    }\n",
       "\n",
       "    .dataframe tbody tr th {\n",
       "        vertical-align: top;\n",
       "    }\n",
       "\n",
       "    .dataframe thead th {\n",
       "        text-align: right;\n",
       "    }\n",
       "</style>\n",
       "<table border=\"1\" class=\"dataframe\">\n",
       "  <thead>\n",
       "    <tr style=\"text-align: right;\">\n",
       "      <th></th>\n",
       "      <th>precision</th>\n",
       "      <th>recall</th>\n",
       "      <th>f1-score</th>\n",
       "      <th>support</th>\n",
       "    </tr>\n",
       "  </thead>\n",
       "  <tbody>\n",
       "    <tr>\n",
       "      <th>0</th>\n",
       "      <td>0.769481</td>\n",
       "      <td>0.777049</td>\n",
       "      <td>0.773246</td>\n",
       "      <td>610.000000</td>\n",
       "    </tr>\n",
       "    <tr>\n",
       "      <th>1</th>\n",
       "      <td>0.774834</td>\n",
       "      <td>0.767213</td>\n",
       "      <td>0.771005</td>\n",
       "      <td>610.000000</td>\n",
       "    </tr>\n",
       "    <tr>\n",
       "      <th>accuracy</th>\n",
       "      <td>0.772131</td>\n",
       "      <td>0.772131</td>\n",
       "      <td>0.772131</td>\n",
       "      <td>0.772131</td>\n",
       "    </tr>\n",
       "    <tr>\n",
       "      <th>macro avg</th>\n",
       "      <td>0.772157</td>\n",
       "      <td>0.772131</td>\n",
       "      <td>0.772126</td>\n",
       "      <td>1220.000000</td>\n",
       "    </tr>\n",
       "    <tr>\n",
       "      <th>weighted avg</th>\n",
       "      <td>0.772157</td>\n",
       "      <td>0.772131</td>\n",
       "      <td>0.772126</td>\n",
       "      <td>1220.000000</td>\n",
       "    </tr>\n",
       "  </tbody>\n",
       "</table>\n",
       "</div>"
      ],
      "text/plain": [
       "              precision    recall  f1-score      support\n",
       "0              0.769481  0.777049  0.773246   610.000000\n",
       "1              0.774834  0.767213  0.771005   610.000000\n",
       "accuracy       0.772131  0.772131  0.772131     0.772131\n",
       "macro avg      0.772157  0.772131  0.772126  1220.000000\n",
       "weighted avg   0.772157  0.772131  0.772126  1220.000000"
      ]
     },
     "execution_count": 75,
     "metadata": {},
     "output_type": "execute_result"
    }
   ],
   "source": [
    "pd.DataFrame(classification_report(y_test, y_pred, output_dict=True)).transpose()"
   ]
  },
  {
   "cell_type": "markdown",
   "metadata": {},
   "source": [
    "Сохраняем модель в файл. \n",
    "Если обучение проводилось в Google Colab, то для дальнейшей работы этот файл нужно будет перенести вручную в папку `models` репозитория."
   ]
  },
  {
   "cell_type": "code",
   "execution_count": 36,
   "metadata": {
    "id": "gcCYNrU0tCY_"
   },
   "outputs": [],
   "source": [
    "# Сохраняем модель\n",
    "if IN_COLAB:\n",
    "    cb_cls_model.save_model(f'{ROOT}/question_pairs_cb_classifier.cbm')\n",
    "else:\n",
    "    os.makedirs('../models/', exist_ok=True)\n",
    "    cb_cls_model.save_model('../models/question_pairs_cb_classifier.cbm')"
   ]
  },
  {
   "cell_type": "code",
   "execution_count": 37,
   "metadata": {
    "id": "JygAZ3P-tCZA",
    "outputId": "07051a92-56f4-4c1e-dc94-de4b5742641d"
   },
   "outputs": [],
   "source": [
    "# Пробуем загрузить\n",
    "model = CatBoostClassifier()\n",
    "if IN_COLAB:\n",
    "    model.load_model(f'{ROOT}/question_pairs_cb_classifier.cbm')\n",
    "else:\n",
    "    model.load_model('../models/question_pairs_cb_classifier.cbm')"
   ]
  },
  {
   "cell_type": "code",
   "execution_count": 38,
   "metadata": {
    "id": "y3WZKdV7tCZA",
    "outputId": "729c3b50-1042-4325-80d2-4667f4a50d6f"
   },
   "outputs": [
    {
     "name": "stdout",
     "output_type": "stream",
     "text": [
      "1\n"
     ]
    }
   ],
   "source": [
    "# Делаем инференс для произвольной пары вопросов\n",
    "test_pair = np.hstack([bert_embeds[1526].reshape(1,-1), bert_embeds[1].reshape(1,-1)])\n",
    "label = model.predict(test_pair)[0]\n",
    "print(label)"
   ]
  },
  {
   "cell_type": "markdown",
   "metadata": {
    "id": "Mb2KrtfctCZA"
   },
   "source": [
    "__Дообученный BERT с добавленным линейным слоем__"
   ]
  },
  {
   "cell_type": "markdown",
   "metadata": {},
   "source": [
    "Дообучение BERT лучше проводить на GPU, для чего использовать, например, Google Colab."
   ]
  },
  {
   "cell_type": "code",
   "execution_count": 12,
   "metadata": {
    "executionInfo": {
     "elapsed": 365,
     "status": "ok",
     "timestamp": 1716058199967,
     "user": {
      "displayName": "Kirill N.",
      "userId": "16481738826806641256"
     },
     "user_tz": -180
    },
    "id": "k1AqeIv_tCZA"
   },
   "outputs": [],
   "source": [
    "from transformers import AutoTokenizer, AutoModel, AdamW, get_linear_schedule_with_warmup\n",
    "import torch\n",
    "import torch.nn as nn\n",
    "import torch.optim as optim\n",
    "from torch.utils.data import DataLoader, Dataset\n",
    "import copy"
   ]
  },
  {
   "cell_type": "code",
   "execution_count": 13,
   "metadata": {
    "executionInfo": {
     "elapsed": 239,
     "status": "ok",
     "timestamp": 1716063415615,
     "user": {
      "displayName": "Kirill N.",
      "userId": "16481738826806641256"
     },
     "user_tz": -180
    },
    "id": "jdn0mIEPtCZA"
   },
   "outputs": [],
   "source": [
    "# Инициализируем константы\n",
    "BERT_MODEL_NAME = 'bert-base-cased'\n",
    "MAX_LEN = 256 # Максимальная общая длина двух вопросов (в токенах)\n",
    "BATCH_SIZE = 16\n",
    "LEARNING_RATE = 2e-5\n",
    "EPOCHS = 4\n",
    "THRESHOLD = 0.5 # Порог вероятности для предсказания меток"
   ]
  },
  {
   "cell_type": "code",
   "execution_count": 14,
   "metadata": {
    "executionInfo": {
     "elapsed": 222,
     "status": "ok",
     "timestamp": 1716058205170,
     "user": {
      "displayName": "Kirill N.",
      "userId": "16481738826806641256"
     },
     "user_tz": -180
    },
    "id": "q7DHbjectCZA"
   },
   "outputs": [],
   "source": [
    "# Инициализируем torch\n",
    "torch.manual_seed(RANDOM_STATE)\n",
    "torch.cuda.manual_seed_all(RANDOM_STATE)"
   ]
  },
  {
   "cell_type": "markdown",
   "metadata": {
    "id": "P7crfWeKtCZB"
   },
   "source": [
    "Снова создаем расширенный датасет, но только вместо векторов он будет содержать исходные тексты вопросов"
   ]
  },
  {
   "cell_type": "code",
   "execution_count": 103,
   "metadata": {
    "colab": {
     "base_uri": "https://localhost:8080/"
    },
    "executionInfo": {
     "elapsed": 232,
     "status": "ok",
     "timestamp": 1716063428261,
     "user": {
      "displayName": "Kirill N.",
      "userId": "16481738826806641256"
     },
     "user_tz": -180
    },
    "id": "eOL9adlNtCZB",
    "outputId": "8603ec84-3715-48d4-9d4e-f58f1e3d3a67"
   },
   "outputs": [
    {
     "name": "stdout",
     "output_type": "stream",
     "text": [
      "(6096, 3)\n"
     ]
    }
   ],
   "source": [
    "# Конкатенируем прямые и обратные пары вопросов вместе с их метками\n",
    "df_12 = data[['question_1', 'question_2', 'label']]\n",
    "df_21 = data[['question_2', 'question_1', 'label']]\n",
    "df = pd.concat([df_12, df_21], axis=0, ignore_index=True)\n",
    "print(df.shape)"
   ]
  },
  {
   "cell_type": "code",
   "execution_count": 104,
   "metadata": {
    "executionInfo": {
     "elapsed": 229,
     "status": "ok",
     "timestamp": 1716063433371,
     "user": {
      "displayName": "Kirill N.",
      "userId": "16481738826806641256"
     },
     "user_tz": -180
    },
    "id": "jzzgB2pQtCZB"
   },
   "outputs": [],
   "source": [
    "# Разбиваем на train, val и test\n",
    "\n",
    "df_train, df_val_test = train_test_split(df,\n",
    "                                         test_size=0.4,\n",
    "                                         random_state=RANDOM_STATE,\n",
    "                                         stratify=df['label'],\n",
    "                                         shuffle=True)\n",
    "\n",
    "df_val, df_test = train_test_split(df_val_test,\n",
    "                                   test_size=0.5,\n",
    "                                   random_state=RANDOM_STATE,\n",
    "                                   stratify=df_val_test['label'],\n",
    "                                   shuffle=True)"
   ]
  },
  {
   "cell_type": "code",
   "execution_count": 105,
   "metadata": {
    "executionInfo": {
     "elapsed": 248,
     "status": "ok",
     "timestamp": 1716063436269,
     "user": {
      "displayName": "Kirill N.",
      "userId": "16481738826806641256"
     },
     "user_tz": -180
    },
    "id": "pbwPYHAstCZB"
   },
   "outputs": [],
   "source": [
    "# Обновляем индексы датафреймов\n",
    "\n",
    "df_train.reset_index(inplace=True)\n",
    "df_train.drop('index', axis=1, inplace=True)\n",
    "\n",
    "df_val.reset_index(inplace=True)\n",
    "df_val.drop('index', axis=1, inplace=True)\n",
    "\n",
    "df_test.reset_index(inplace=True)\n",
    "df_test.drop('index', axis=1, inplace=True)"
   ]
  },
  {
   "cell_type": "markdown",
   "metadata": {
    "id": "bUwqPVMWtCZB"
   },
   "source": [
    "Создаем свой класс датасета для работы с PyTorch. На вход он будет принимать не один текст, а два"
   ]
  },
  {
   "cell_type": "code",
   "execution_count": 18,
   "metadata": {
    "executionInfo": {
     "elapsed": 245,
     "status": "ok",
     "timestamp": 1716063460775,
     "user": {
      "displayName": "Kirill N.",
      "userId": "16481738826806641256"
     },
     "user_tz": -180
    },
    "id": "oAgmejILtCZB"
   },
   "outputs": [],
   "source": [
    "class CustomDataset(Dataset):\n",
    "    \"\"\"Класс CustomDataset для итерирования по закодированным с помощью BERT данным.\"\"\"\n",
    "\n",
    "    def __init__(self, data,  with_labels=True, max_len=MAX_LEN, bert_model=BERT_MODEL_NAME):\n",
    "        super().__init__()\n",
    "        self.data = data  # Pandas Dataframe\n",
    "        self.tokenizer = AutoTokenizer.from_pretrained(bert_model) \n",
    "        self.max_len = max_len # Максимальная суммарная длина двух текстов\n",
    "        self.with_labels = with_labels # True для обучения/валидации/тестирования, False для инференса, когда нет меток\n",
    "\n",
    "    def __len__(self):\n",
    "        return len(self.data)\n",
    "\n",
    "    def __getitem__(self, index):\n",
    "        q1 = self.data.loc[index, 'question_1']\n",
    "        q2 = self.data.loc[index, 'question_2']\n",
    "\n",
    "        encoded_pair = self.tokenizer(q1, q2,\n",
    "                                      padding='max_length',\n",
    "                                      truncation=True,\n",
    "                                      max_length=self.max_len,\n",
    "                                      return_tensors='pt')\n",
    "\n",
    "        input_ids = encoded_pair['input_ids'].squeeze(0)\n",
    "        attn_masks = encoded_pair['attention_mask'].squeeze(0)\n",
    "        token_type_ids = encoded_pair['token_type_ids'].squeeze(0) # \"0\" для токенов 1-го вопроса, \"1\" для 2-го\n",
    "\n",
    "        if self.with_labels:\n",
    "            label = self.data.loc[index, 'label']\n",
    "            return input_ids, attn_masks, token_type_ids, torch.tensor(label, dtype=torch.long)\n",
    "        else:\n",
    "            return input_ids, attn_masks, token_type_ids"
   ]
  },
  {
   "cell_type": "markdown",
   "metadata": {
    "id": "kxUlFqTXtCZB"
   },
   "source": [
    "Создаем датасеты и даталоудеры для обучающих и валидационных данных"
   ]
  },
  {
   "cell_type": "code",
   "execution_count": 106,
   "metadata": {
    "executionInfo": {
     "elapsed": 456,
     "status": "ok",
     "timestamp": 1716063464687,
     "user": {
      "displayName": "Kirill N.",
      "userId": "16481738826806641256"
     },
     "user_tz": -180
    },
    "id": "N_SezRK2tCZB"
   },
   "outputs": [],
   "source": [
    "ds_train = CustomDataset(df_train)\n",
    "train_loader = DataLoader(ds_train, batch_size=BATCH_SIZE, num_workers=5, shuffle=True)\n",
    "\n",
    "ds_val = CustomDataset(df_val)\n",
    "val_loader = DataLoader(ds_val, batch_size=BATCH_SIZE, num_workers=5, shuffle=True)"
   ]
  },
  {
   "cell_type": "markdown",
   "metadata": {
    "id": "_uYdiFTUtCZC"
   },
   "source": [
    "Добавляем к BERT-модели линейный слой для классификации (как покзазали собственные эксперименты, BERT лучше не замораживать)"
   ]
  },
  {
   "cell_type": "code",
   "execution_count": 19,
   "metadata": {
    "executionInfo": {
     "elapsed": 222,
     "status": "ok",
     "timestamp": 1716063486843,
     "user": {
      "displayName": "Kirill N.",
      "userId": "16481738826806641256"
     },
     "user_tz": -180
    },
    "id": "RRhq5n2ntCZC"
   },
   "outputs": [],
   "source": [
    "class SentencePairClassifier(nn.Module):\n",
    "    \"\"\"Класс SentencePairClassifier - нейросеть из BERT-модели и линейного слоя для классификации.\"\"\"\n",
    "\n",
    "    def __init__(self, bert_model=BERT_MODEL_NAME, freeze_bert=False):\n",
    "        super(SentencePairClassifier, self).__init__()\n",
    "        self.bert = AutoModel.from_pretrained(bert_model)\n",
    "\n",
    "        if freeze_bert:\n",
    "            # Обучаем веса только у классификатора\n",
    "            for p in self.bert.parameters():\n",
    "                p.requires_grad = False\n",
    "\n",
    "        self.dropout = nn.Dropout(p=0.1) # Слой для регуляризации\n",
    "        self.cls = nn.Linear(self.bert.config.hidden_size, 1) # Слой для классификации\n",
    "\n",
    "    def forward(self, input_ids, attn_masks, token_type_ids):\n",
    "        bert_output = self.bert(input_ids, attn_masks, token_type_ids)\n",
    "        last_hidden_state = bert_output['last_hidden_state']\n",
    "        pooler_output = bert_output['pooler_output']\n",
    "        logits = self.cls(self.dropout(pooler_output))\n",
    "        return logits"
   ]
  },
  {
   "cell_type": "markdown",
   "metadata": {
    "id": "09Qh37eqtCZC"
   },
   "source": [
    "Создаем нейросеть, функцию потерь, оптимизатор и планировщик"
   ]
  },
  {
   "cell_type": "code",
   "execution_count": 135,
   "metadata": {
    "executionInfo": {
     "elapsed": 603,
     "status": "ok",
     "timestamp": 1716063496788,
     "user": {
      "displayName": "Kirill N.",
      "userId": "16481738826806641256"
     },
     "user_tz": -180
    },
    "id": "NkcuAvumtCZC"
   },
   "outputs": [],
   "source": [
    "device = torch.device(\"cuda:0\" if torch.cuda.is_available() else \"cpu\")\n",
    "net = SentencePairClassifier()\n",
    "net.to(device)\n",
    "\n",
    "criterion = nn.BCEWithLogitsLoss().to(device)\n",
    "optimizer = AdamW(net.parameters(), lr=LEARNING_RATE)\n",
    "num_training_steps = EPOCHS * len(train_loader)\n",
    "scheduler = get_linear_schedule_with_warmup(optimizer=optimizer,\n",
    "                                            num_warmup_steps=0,\n",
    "                                            num_training_steps=num_training_steps)"
   ]
  },
  {
   "cell_type": "markdown",
   "metadata": {
    "id": "9--RMCu_tCZC"
   },
   "source": [
    "Создаем функции для оценки качества и для обучения нейросети"
   ]
  },
  {
   "cell_type": "code",
   "execution_count": 136,
   "metadata": {
    "executionInfo": {
     "elapsed": 228,
     "status": "ok",
     "timestamp": 1716063499658,
     "user": {
      "displayName": "Kirill N.",
      "userId": "16481738826806641256"
     },
     "user_tz": -180
    },
    "id": "bMARgt3WtCZC"
   },
   "outputs": [],
   "source": [
    "# Функция для оценки качества нейростети. \n",
    "# Используется для валидации на каждой эпохе и для оценки на тестовых данных\n",
    "\n",
    "def eval_bert(net, device, criterion, data_loader, threshold=THRESHOLD):\n",
    "    \"\"\"\n",
    "    Функция для оценки качества нейростети.\n",
    "\n",
    "    Входные данные:\n",
    "        - net (SentencePairClassifier): нейросеть из BERT и линейного слоя,\n",
    "        - device (str): cuda:0 или cpu,\n",
    "        - сriterion: функция потерь,\n",
    "        - data_loader (torch.utils.data.Dataset): загрузчик данных,\n",
    "        - threshold (float) - пороговое значение вероятности для предсказания меток 1 или 0.\n",
    "\n",
    "    Возвращаемые значения:\n",
    "        - Средние значения потерь и точности.\n",
    "    \"\"\"\n",
    "    net.eval()\n",
    "\n",
    "    loss = 0\n",
    "    correct_preds = 0\n",
    "    data_len = 0\n",
    "\n",
    "    with torch.no_grad():\n",
    "        for it, (input_ids, attn_masks, token_type_ids, labels) in enumerate(data_loader):\n",
    "            input_ids, attn_masks, token_type_ids, labels = \\\n",
    "                input_ids.to(device), attn_masks.to(device), token_type_ids.to(device), labels.to(device)\n",
    "\n",
    "            logits = net(input_ids, attn_masks, token_type_ids)\n",
    "            loss += criterion(logits.squeeze(-1), labels.float()).item()\n",
    "            probs = torch.sigmoid(logits).squeeze(-1)\n",
    "            preds = (probs >= threshold)\n",
    "            correct_preds += torch.sum(preds == labels).item()\n",
    "            data_len += len(labels)\n",
    "\n",
    "    return loss / len(data_loader), correct_preds / data_len"
   ]
  },
  {
   "cell_type": "code",
   "execution_count": 137,
   "metadata": {
    "executionInfo": {
     "elapsed": 250,
     "status": "ok",
     "timestamp": 1716063502983,
     "user": {
      "displayName": "Kirill N.",
      "userId": "16481738826806641256"
     },
     "user_tz": -180
    },
    "id": "pUv-mhsLtCZD"
   },
   "outputs": [],
   "source": [
    "# Функция для обучения нейросети\n",
    "\n",
    "def train_bert(net,\n",
    "               device,\n",
    "               criterion,\n",
    "               optimizer,\n",
    "               scheduler,\n",
    "               train_loader,\n",
    "               val_loader,\n",
    "               threshold=THRESHOLD,\n",
    "               lr=LEARNING_RATE,\n",
    "               epochs=EPOCHS):\n",
    "    \"\"\"\n",
    "    Функция для обучения нейросети.\n",
    "\n",
    "    Входные данные:\n",
    "        - net (SentencePairClassifier): нейросеть из BERT и линейного слоя,\n",
    "        - device (str): cpu или gpu,\n",
    "        - сriterion: функция потерь,\n",
    "        - train_loader (torch.utils.data.Dataset): загрузчик обучающих данных,\n",
    "        - val_loader (torch.utils.data.Dataset): загрузчик валидационных данных,\n",
    "        - threshold (float) - пороговое значение вероятности для предсказания меток 1 или 0,\n",
    "        - lr (float) - коэффициент обучения,\n",
    "        - epochs (int) - количество эпох обучения.\n",
    "        \n",
    "    Возвращаемые значения:\n",
    "        - Словарь со средними значениями потерь и точности на каждой эпохе обучения.\n",
    "    \"\"\"\n",
    "    best_acc = 0\n",
    "    history = defaultdict(list)\n",
    "    iters_num = len(train_loader)\n",
    "    print_freq = iters_num // 5 # На каждой эпохе будем 5 раз выводить текущие потери и точность \n",
    "\n",
    "    for epoch in range(epochs):\n",
    "        print(f'Epoch {epoch + 1}/{epochs}')\n",
    "        print('-' * 10)\n",
    "\n",
    "        net.train()\n",
    "        losses = []\n",
    "        correct_preds = 0\n",
    "        data_len = 0\n",
    "\n",
    "        for it, (input_ids, attn_masks, token_type_ids, labels) in enumerate(train_loader):\n",
    "            input_ids, attn_masks, token_type_ids, labels = \\\n",
    "                input_ids.to(device), attn_masks.to(device), token_type_ids.to(device), labels.to(device)\n",
    "\n",
    "            # Forward pass\n",
    "            logits = net(input_ids, attn_masks, token_type_ids)\n",
    "            loss = criterion(logits.squeeze(-1), labels.float())\n",
    "            losses.append(loss.item())     \n",
    "            probs = torch.sigmoid(logits).squeeze(-1)\n",
    "            preds = (probs >= threshold)\n",
    "            correct_preds += torch.sum(preds == labels).item()\n",
    "            data_len += len(labels)     \n",
    "            if (it + 1) % print_freq == 0:\n",
    "                print(f\"Iteration {it + 1}/{iters_num}: loss = {losses[-1]:.3f}, accuracy = {correct_preds / data_len:.3f}\")\n",
    "\n",
    "            # Backward pass\n",
    "            loss.backward()\n",
    "            nn.utils.clip_grad_norm_(net.parameters(), max_norm=1.0)\n",
    "            optimizer.step()\n",
    "            scheduler.step()\n",
    "            optimizer.zero_grad()\n",
    "\n",
    "        train_loss = np.mean(losses)\n",
    "        train_acc = correct_preds / data_len\n",
    "        val_loss, val_acc = eval_bert(net, device, criterion, val_loader)\n",
    "        print(f\"Epoch {epoch + 1}/{epochs} completed!\")\n",
    "        print(f\"Train: loss = {train_loss:.3f}, accuracy = {train_acc:.3f}\")\n",
    "        print(f\"Validation: loss = {val_loss:.3f}, accuracy = {val_acc:.3f}\")\n",
    "        print()\n",
    "\n",
    "        history['train_loss'].append(train_loss)\n",
    "        history['train_acc'].append(train_acc)\n",
    "        history['val_loss'].append(val_loss)\n",
    "        history['val_acc'].append(val_acc)\n",
    "\n",
    "        if val_acc > best_acc:\n",
    "            net_copy = copy.deepcopy(net)\n",
    "            best_acc = val_acc\n",
    "\n",
    "    # Сохраняем модель\n",
    "    if IN_COLAB:\n",
    "        model_path = f\"{ROOT}/question_pairs_bert_classifier.pt\"\n",
    "    else:\n",
    "        model_path = \"../models/question_pairs_bert_classifier.pt\"\n",
    "    torch.save(net_copy.state_dict(), model_path)\n",
    "    print(f\"The model has been saved: '{model_path}'\")\n",
    "\n",
    "    return history"
   ]
  },
  {
   "cell_type": "markdown",
   "metadata": {
    "id": "IkxTkfsttCZD"
   },
   "source": [
    "Запускаем процесс обучения"
   ]
  },
  {
   "cell_type": "code",
   "execution_count": 138,
   "metadata": {
    "colab": {
     "base_uri": "https://localhost:8080/"
    },
    "executionInfo": {
     "elapsed": 658650,
     "status": "ok",
     "timestamp": 1716064174561,
     "user": {
      "displayName": "Kirill N.",
      "userId": "16481738826806641256"
     },
     "user_tz": -180
    },
    "id": "qU-ym35gtCZD",
    "outputId": "a9e2e11a-a802-42da-ba98-9846466d2820"
   },
   "outputs": [
    {
     "name": "stdout",
     "output_type": "stream",
     "text": [
      "Обучаем нейросеть...\n",
      "\n",
      "Epoch 1/4\n",
      "----------\n",
      "Iteration 45/229: loss = 0.561, accuracy = 0.692\n",
      "Iteration 90/229: loss = 0.463, accuracy = 0.726\n",
      "Iteration 135/229: loss = 0.521, accuracy = 0.755\n",
      "Iteration 180/229: loss = 0.523, accuracy = 0.765\n",
      "Iteration 225/229: loss = 0.328, accuracy = 0.783\n",
      "Epoch 1/4 completed!\n",
      "Train: loss = 0.489, accuracy = 0.785\n",
      "Validation: loss = 0.424, accuracy = 0.842\n",
      "\n",
      "Epoch 2/4\n",
      "----------\n",
      "Iteration 45/229: loss = 0.241, accuracy = 0.922\n",
      "Iteration 90/229: loss = 0.243, accuracy = 0.922\n",
      "Iteration 135/229: loss = 0.051, accuracy = 0.929\n",
      "Iteration 180/229: loss = 0.355, accuracy = 0.924\n",
      "Iteration 225/229: loss = 0.156, accuracy = 0.926\n",
      "Epoch 2/4 completed!\n",
      "Train: loss = 0.232, accuracy = 0.926\n",
      "Validation: loss = 0.380, accuracy = 0.890\n",
      "\n",
      "Epoch 3/4\n",
      "----------\n",
      "Iteration 45/229: loss = 0.188, accuracy = 0.969\n",
      "Iteration 90/229: loss = 0.017, accuracy = 0.968\n",
      "Iteration 135/229: loss = 0.015, accuracy = 0.967\n",
      "Iteration 180/229: loss = 0.030, accuracy = 0.968\n",
      "Iteration 225/229: loss = 0.454, accuracy = 0.969\n",
      "Epoch 3/4 completed!\n",
      "Train: loss = 0.116, accuracy = 0.969\n",
      "Validation: loss = 0.407, accuracy = 0.895\n",
      "\n",
      "Epoch 4/4\n",
      "----------\n",
      "Iteration 45/229: loss = 0.008, accuracy = 0.983\n",
      "Iteration 90/229: loss = 0.007, accuracy = 0.985\n",
      "Iteration 135/229: loss = 0.005, accuracy = 0.985\n",
      "Iteration 180/229: loss = 0.007, accuracy = 0.983\n",
      "Iteration 225/229: loss = 0.007, accuracy = 0.983\n",
      "Epoch 4/4 completed!\n",
      "Train: loss = 0.075, accuracy = 0.983\n",
      "Validation: loss = 0.394, accuracy = 0.906\n",
      "\n",
      "The model has been saved: '/content/sample_data/question_pairs_bert_classifier.pt'\n",
      "CPU times: user 7min 14s, sys: 3min 9s, total: 10min 24s\n",
      "Wall time: 10min 58s\n"
     ]
    }
   ],
   "source": [
    "print(\"Обучаем нейросеть...\\n\")\n",
    "%time history = train_bert(net, device, criterion, optimizer, scheduler, train_loader, val_loader)"
   ]
  },
  {
   "cell_type": "markdown",
   "metadata": {
    "id": "kQeIVa1GQl8_"
   },
   "source": [
    "Посмотрим историю процесса обучения"
   ]
  },
  {
   "cell_type": "code",
   "execution_count": 139,
   "metadata": {
    "colab": {
     "base_uri": "https://localhost:8080/",
     "height": 480
    },
    "executionInfo": {
     "elapsed": 602,
     "status": "ok",
     "timestamp": 1716064181690,
     "user": {
      "displayName": "Kirill N.",
      "userId": "16481738826806641256"
     },
     "user_tz": -180
    },
    "id": "lQmzOZKxL9UX",
    "outputId": "bd50d37a-9691-461c-afb3-c906fea9499d"
   },
   "outputs": [
    {
     "data": {
      "image/png": "[encoded data removed]",
      "text/plain": [
       "<Figure size 640x480 with 1 Axes>"
      ]
     },
     "metadata": {},
     "output_type": "display_data"
    }
   ],
   "source": [
    "x = np.arange(1, EPOCHS + 1)\n",
    "plt.plot(x, history['train_acc'], label='train accuracy')\n",
    "plt.plot(x, history['val_acc'], label='validation accuracy')\n",
    "\n",
    "plt.title('Training history')\n",
    "plt.ylabel('Accuracy')\n",
    "plt.xlabel('Epochs')\n",
    "plt.legend()\n",
    "plt.xticks(x)\n",
    "plt.ylim([0, 1]);"
   ]
  },
  {
   "cell_type": "markdown",
   "metadata": {
    "id": "i1LBtlWPTsqq"
   },
   "source": [
    "Из графика видно, что точность модели достигает своего максимума примерно на 2-й эпохе и дальше практически не растет,\n",
    "поэтому достаточно 2-3-х эпох.\n",
    "\n",
    "Оцениваем нейросеть на тестовых данных"
   ]
  },
  {
   "cell_type": "code",
   "execution_count": 140,
   "metadata": {
    "executionInfo": {
     "elapsed": 547,
     "status": "ok",
     "timestamp": 1716064293100,
     "user": {
      "displayName": "Kirill N.",
      "userId": "16481738826806641256"
     },
     "user_tz": -180
    },
    "id": "gTVEVqYHtCZE"
   },
   "outputs": [],
   "source": [
    "# Создаем тестовый датасет и даталоудер\n",
    "ds_test = CustomDataset(df_test)\n",
    "test_loader = DataLoader(ds_test, batch_size=BATCH_SIZE, num_workers=5)"
   ]
  },
  {
   "cell_type": "code",
   "execution_count": 141,
   "metadata": {
    "colab": {
     "base_uri": "https://localhost:8080/"
    },
    "executionInfo": {
     "elapsed": 16768,
     "status": "ok",
     "timestamp": 1716064311458,
     "user": {
      "displayName": "Kirill N.",
      "userId": "16481738826806641256"
     },
     "user_tz": -180
    },
    "id": "uRuDNpWjtCZE",
    "outputId": "31a54435-15b2-4281-9e07-2e868f9e4999"
   },
   "outputs": [
    {
     "name": "stdout",
     "output_type": "stream",
     "text": [
      "Считаем точность на тестовой выборке...\n"
     ]
    },
    {
     "data": {
      "text/plain": [
       "0.929"
      ]
     },
     "execution_count": 141,
     "metadata": {},
     "output_type": "execute_result"
    }
   ],
   "source": [
    "# Точность на тестовой выборке\n",
    "print(\"Считаем точность на тестовой выборке...\")\n",
    "_, test_acc = eval_bert(net, device, criterion, test_loader)\n",
    "round(test_acc, 3)"
   ]
  },
  {
   "cell_type": "markdown",
   "metadata": {},
   "source": [
    "Освобождаем память"
   ]
  },
  {
   "cell_type": "code",
   "execution_count": null,
   "metadata": {},
   "outputs": [],
   "source": [
    "import gc\n",
    "\n",
    "gc.collect()\n",
    "torch.cuda.empty_cache()"
   ]
  },
  {
   "cell_type": "markdown",
   "metadata": {},
   "source": [
    "Если обучение проводилось в Google Colab, то для дальнейшей работы с моделью нужно перенести ее вручную в папку `/models` репозитория. \n",
    "\n",
    "После этого можно загрузить модель из файла"
   ]
  },
  {
   "cell_type": "code",
   "execution_count": 50,
   "metadata": {},
   "outputs": [
    {
     "data": {
      "text/plain": [
       "<All keys matched successfully>"
      ]
     },
     "execution_count": 50,
     "metadata": {},
     "output_type": "execute_result"
    }
   ],
   "source": [
    "bert_cls_nn = SentencePairClassifier()\n",
    "device = torch.device(\"cuda:0\" if torch.cuda.is_available() else \"cpu\")\n",
    "bert_cls_nn.load_state_dict(torch.load('../models/question_pairs_bert_classifier.pt', map_location=device))"
   ]
  },
  {
   "cell_type": "markdown",
   "metadata": {
    "id": "QtYpvsSstCZE"
   },
   "source": [
    "Напишем функцю для инференса"
   ]
  },
  {
   "cell_type": "code",
   "execution_count": 20,
   "metadata": {
    "executionInfo": {
     "elapsed": 233,
     "status": "ok",
     "timestamp": 1716064433680,
     "user": {
      "displayName": "Kirill N.",
      "userId": "16481738826806641256"
     },
     "user_tz": -180
    },
    "id": "-JsuESn5tCZE"
   },
   "outputs": [],
   "source": [
    "def get_bert_preds(net, device, data_loader, threshold=THRESHOLD):\n",
    "    \"\"\"\n",
    "    Функция для получения предсказаний.\n",
    "    \"\"\"\n",
    "    net.eval()\n",
    "\n",
    "    res_preds = []\n",
    "    with torch.no_grad():\n",
    "        for batch_id, (input_ids, attn_masks, token_type_ids) in enumerate(data_loader):\n",
    "            input_ids, attn_masks, token_type_ids = input_ids.to(device), attn_masks.to(device), token_type_ids.to(device)\n",
    "\n",
    "            logits = net(input_ids, attn_masks, token_type_ids)\n",
    "            probs = torch.sigmoid(logits).squeeze(-1)\n",
    "            preds = (probs >= threshold).int()\n",
    "            res_preds.extend(preds)\n",
    "\n",
    "    res_preds = torch.stack(res_preds).cpu().numpy()\n",
    "    return res_preds"
   ]
  },
  {
   "cell_type": "markdown",
   "metadata": {},
   "source": [
    "Протестируем на произвольном примере"
   ]
  },
  {
   "cell_type": "code",
   "execution_count": 107,
   "metadata": {
    "executionInfo": {
     "elapsed": 240,
     "status": "ok",
     "timestamp": 1716064455810,
     "user": {
      "displayName": "Kirill N.",
      "userId": "16481738826806641256"
     },
     "user_tz": -180
    },
    "id": "PZRUvatatCZE"
   },
   "outputs": [],
   "source": [
    "# Тестовый пример\n",
    "df = df_train.loc[:10, :]\n",
    "ds = CustomDataset(df, with_labels=False)\n",
    "data_loader = DataLoader(ds, batch_size=BATCH_SIZE, num_workers=0) # На локальном ПК без GPU лучше ставить num_workers=0"
   ]
  },
  {
   "cell_type": "code",
   "execution_count": 111,
   "metadata": {
    "colab": {
     "base_uri": "https://localhost:8080/"
    },
    "executionInfo": {
     "elapsed": 1379,
     "status": "ok",
     "timestamp": 1716064477510,
     "user": {
      "displayName": "Kirill N.",
      "userId": "16481738826806641256"
     },
     "user_tz": -180
    },
    "id": "scqo0By8tCZE",
    "outputId": "83c29cdd-1aae-4456-cecc-b1b3b6bc3dba"
   },
   "outputs": [
    {
     "name": "stdout",
     "output_type": "stream",
     "text": [
      "CPU times: total: 15.7 s\n",
      "Wall time: 3.93 s\n"
     ]
    },
    {
     "data": {
      "text/plain": [
       "array([1, 0, 1, 0, 1, 1, 0, 0, 1, 1, 1])"
      ]
     },
     "execution_count": 111,
     "metadata": {},
     "output_type": "execute_result"
    }
   ],
   "source": [
    "# Получаем предсказания\n",
    "%time preds = get_bert_preds(bert_cls_nn, device, data_loader)\n",
    "preds"
   ]
  },
  {
   "cell_type": "code",
   "execution_count": 112,
   "metadata": {
    "colab": {
     "base_uri": "https://localhost:8080/",
     "height": 206
    },
    "executionInfo": {
     "elapsed": 260,
     "status": "ok",
     "timestamp": 1716064502931,
     "user": {
      "displayName": "Kirill N.",
      "userId": "16481738826806641256"
     },
     "user_tz": -180
    },
    "id": "W36BlhwvtCZF",
    "outputId": "624791d9-39e9-49ed-f45f-7812161e5065"
   },
   "outputs": [
    {
     "data": {
      "text/html": [
       "<div>\n",
       "<style scoped>\n",
       "    .dataframe tbody tr th:only-of-type {\n",
       "        vertical-align: middle;\n",
       "    }\n",
       "\n",
       "    .dataframe tbody tr th {\n",
       "        vertical-align: top;\n",
       "    }\n",
       "\n",
       "    .dataframe thead th {\n",
       "        text-align: right;\n",
       "    }\n",
       "</style>\n",
       "<table border=\"1\" class=\"dataframe\">\n",
       "  <thead>\n",
       "    <tr style=\"text-align: right;\">\n",
       "      <th></th>\n",
       "      <th>precision</th>\n",
       "      <th>recall</th>\n",
       "      <th>f1-score</th>\n",
       "      <th>support</th>\n",
       "    </tr>\n",
       "  </thead>\n",
       "  <tbody>\n",
       "    <tr>\n",
       "      <th>0</th>\n",
       "      <td>1.0</td>\n",
       "      <td>1.0</td>\n",
       "      <td>1.0</td>\n",
       "      <td>4.0</td>\n",
       "    </tr>\n",
       "    <tr>\n",
       "      <th>1</th>\n",
       "      <td>1.0</td>\n",
       "      <td>1.0</td>\n",
       "      <td>1.0</td>\n",
       "      <td>7.0</td>\n",
       "    </tr>\n",
       "    <tr>\n",
       "      <th>accuracy</th>\n",
       "      <td>1.0</td>\n",
       "      <td>1.0</td>\n",
       "      <td>1.0</td>\n",
       "      <td>1.0</td>\n",
       "    </tr>\n",
       "    <tr>\n",
       "      <th>macro avg</th>\n",
       "      <td>1.0</td>\n",
       "      <td>1.0</td>\n",
       "      <td>1.0</td>\n",
       "      <td>11.0</td>\n",
       "    </tr>\n",
       "    <tr>\n",
       "      <th>weighted avg</th>\n",
       "      <td>1.0</td>\n",
       "      <td>1.0</td>\n",
       "      <td>1.0</td>\n",
       "      <td>11.0</td>\n",
       "    </tr>\n",
       "  </tbody>\n",
       "</table>\n",
       "</div>"
      ],
      "text/plain": [
       "              precision  recall  f1-score  support\n",
       "0                   1.0     1.0       1.0      4.0\n",
       "1                   1.0     1.0       1.0      7.0\n",
       "accuracy            1.0     1.0       1.0      1.0\n",
       "macro avg           1.0     1.0       1.0     11.0\n",
       "weighted avg        1.0     1.0       1.0     11.0"
      ]
     },
     "execution_count": 112,
     "metadata": {},
     "output_type": "execute_result"
    }
   ],
   "source": [
    "# Выводим отчет с метриками\n",
    "pd.DataFrame(classification_report(df['label'], preds, output_dict=True)).transpose()"
   ]
  },
  {
   "cell_type": "markdown",
   "metadata": {
    "id": "UsdKnXExaxXQ"
   },
   "source": [
    "Вывод: дообученная модель BERT с линейным слоем показала самую большую точность классификации,\n",
    "однако у нее большой размер, и инференс без GPU может занимать много времени.\n",
    "Поэтому выбор модели зависит от контекста задачи, включая достаточный уровень точности, требований по времени и наличия вычислительных ресурсов.\n",
    "Далее предусмотрим возможность выбора между двумя этими вариантами, а также отключение классификатора для ускорения поиска похожих вопросов."
   ]
  },
  {
   "cell_type": "markdown",
   "metadata": {
    "id": "3XUsfvELtCZF"
   },
   "source": [
    "### 9. Поиск похожих вопросов с учетом предсказаний классификатора <a id=\"step_9\"></a>"
   ]
  },
  {
   "cell_type": "markdown",
   "metadata": {
    "id": "cMEfG8zJtCZF"
   },
   "source": [
    "Напишем функцию, которая по заданному тексту будет искать индексы ближайших к нему вопросов по векторному растоянию, а потом отбирать из них те,\n",
    "для которых классификатор выдает `1`. Для векторизации вопросов используем BERT, а для классификации CatBoostClassifier либо BERT с добавленным линейным слоем в зависимости от выбора пользователя. Также можно искать вопросы без классификатора для ускорения работы.\n",
    "\n",
    "Сначала напишем две вспомогательные функции, по одной для каждого типа классификатора, которые делают инференс\n",
    "для левых (запрос слева) и правых (запрос справа) пар, образованных запросом пользователя и всеми отсортированными по близости к нему \n",
    "вопросами корпуса."
   ]
  },
  {
   "cell_type": "code",
   "execution_count": 48,
   "metadata": {},
   "outputs": [],
   "source": [
    "def get_all_cb_preds(query_embed, bert_embeds, close_embed_inds, cb_cls_model):\n",
    "    \"\"\"\n",
    "    Получение инференсов от catboost-классификатора для левых (запрос пользователя стоит слева от вопроса из датасета) и \n",
    "    правых (запрос справа) пар, образованных запросом пользователя и всеми отсортированными по близости к нему вопросами из корпуса.\n",
    "\n",
    "    Args:\n",
    "        - query_embed (ndarray): BERT-эмбединг запроса пользователя,\n",
    "        - bert_embeds (ndarray): BERT-эмбединги всех вопросов корпуса,\n",
    "        - close_embed_inds (ndarray): индексы вопросов корпуса, отсортированные по близости к запросу пользователя,\n",
    "        - cb_cls_model (CatBoostClassifier): обученный catboost-классификатор для пар вопросов. \n",
    "\n",
    "    Returns:\n",
    "        - Два списка с предсказаниями классификатора для всех левых и правых пар.\n",
    "    \"\"\"\n",
    "    # Сколько инференсов нужно сделать \n",
    "    n = len(close_embed_inds)\n",
    "    # Бродкастим эмбединг запроса на всю колонку\n",
    "    query_embed_col = np.vstack([query_embed] * n)\n",
    "\n",
    "    # Считаем предсказания для левых пар\n",
    "    left_embed_pairs = np.hstack([query_embed_col, bert_embeds[close_embed_inds]])\n",
    "    left_preds = cb_cls_model.predict(left_embed_pairs)\n",
    "\n",
    "    # Считаем предсказания для правых пар\n",
    "    right_embed_pairs = np.hstack([bert_embeds[close_embed_inds], query_embed_col])\n",
    "    right_preds = cb_cls_model.predict(right_embed_pairs)\n",
    "\n",
    "    return left_preds, right_preds "
   ]
  },
  {
   "cell_type": "code",
   "execution_count": 74,
   "metadata": {},
   "outputs": [],
   "source": [
    "def get_all_bert_preds(query_text, questions, close_embed_inds, bert_cls_nn):\n",
    "    \"\"\"\n",
    "    Получение инференсов от BERT-классификатора для всех левых (запрос пользователя стоит слева от вопроса из датасета) и \n",
    "    правых (запрос справа) пар, образованных запросом пользователя и всеми отсортированными по близости к нему вопросами из корпуса.\n",
    "\n",
    "    Args:\n",
    "        - query_text (str): текст запроса пользователя,\n",
    "        - questions (pd.DataFrame): корпус вопрсов,\n",
    "        - close_embed_inds (ndarray): индексы вопросов корпуса, отсортированные по близости к запросу пользователя,\n",
    "        - bert_cls_nn (SentencePairClassifier): дообученный BERT с линейным слоем.\n",
    "\n",
    "    Returns:\n",
    "        - Два списка с предсказаниями классификатора для всех левых и правых пар.\n",
    "    \"\"\"\n",
    "    device = torch.device(\"cuda:0\" if torch.cuda.is_available() else \"cpu\")\n",
    "    \n",
    "    # Считаем предсказания для левых пар\n",
    "    df_left = pd.concat([pd.Series(), questions.loc[close_embed_inds, 'question']], axis=1)\n",
    "    df_left.rename(columns={0: 'question_1', 'question': 'question_2'}, inplace=True)\n",
    "    df_left.fillna(query_text, inplace=True)\n",
    "    df_left = df_left.reset_index().drop(columns='index')\n",
    "\n",
    "    ds_left = CustomDataset(df_left, with_labels=False)\n",
    "    left_loader = DataLoader(ds_left, batch_size=BATCH_SIZE, num_workers=0) # На локальном ПК без GPU лучше ставить num_workers=0\n",
    "    left_preds = get_bert_preds(bert_cls_nn, device, left_loader)\n",
    "\n",
    "    # Считаем предсказания для правых пар\n",
    "    df_right = pd.concat([questions.loc[close_embed_inds, 'question'], pd.Series()], axis=1)\n",
    "    df_right.rename(columns={'question': 'question_1', 0: 'question_2'}, inplace=True)\n",
    "    df_right.fillna(query_text, inplace=True)\n",
    "    df_right = df_right.reset_index().drop(columns='index')\n",
    "\n",
    "    ds_right = CustomDataset(df_right, with_labels=False)\n",
    "    right_loader = DataLoader(ds_right, batch_size=BATCH_SIZE, num_workers=0) # На локальном ПК без GPU лучше ставить num_workers=0\n",
    "    right_preds = get_bert_preds(bert_cls_nn, device, right_loader)\n",
    "\n",
    "    return left_preds, right_preds"
   ]
  },
  {
   "cell_type": "code",
   "execution_count": 94,
   "metadata": {
    "id": "OBC3vBbgtCZF"
   },
   "outputs": [],
   "source": [
    "def find_similar_questions_inds(query_text,\n",
    "                                bert_model,\n",
    "                                bert_embeds,\n",
    "                                cb_cls_model,\n",
    "                                bert_cls_nn,\n",
    "                                cls_option,\n",
    "                                metric='cosine',\n",
    "                                n=10):\n",
    "    \"\"\"\n",
    "    Поиск индексов n ближайших вопросов с учетом предсказаний классификатора, обученного на парах вопросов.\n",
    "\n",
    "    Agrs:\n",
    "        - query_text (str): текст, введенный пользователем,\n",
    "        - bert_model (SentenceTransformer): языковая BERT-модель для векторизации текстов,\n",
    "        - bert_embeds (ndarray): BERT-эмбединги всех вопросов корпуса,\n",
    "        - cb_cls_model (CatBoostClassifier): обученный catboost-классификатор,\n",
    "        - bert_cls_nn (SentencePairClassifier): дообученный BERT с линейным слоем,\n",
    "        - cls_option (str): выбранный пользователем классификатор ('None', 'CatBoostClassifier', 'Fine-tuned BERT'),\n",
    "        - metric (str): метрика для расчета расстояний,\n",
    "        - n (int): количество похожих вопросов, которое нужно найти.\n",
    "\n",
    "    Returns:\n",
    "        Список из n индексов ближайших вопросов.\n",
    "    \"\"\"\n",
    "    # Кодируем запрос\n",
    "    query_embed = bert_model.encode(query_text, convert_to_tensor=False).reshape(1, -1)\n",
    "    # Находим расстояния от заданного вектора до всех остальных в корпусе вопросов\n",
    "    dists = pairwise_distances(query_embed, bert_embeds, metric=metric).squeeze()\n",
    "\n",
    "    # Если расстояние до самого близкого вопроса меньше определенного значения,\n",
    "    # то считаем, что он совпадает с заданным вопросом и его можно игнорировать\n",
    "    if dists[0] < 1:\n",
    "        close_embed_inds = np.argsort(dists)[1:]\n",
    "    else:\n",
    "        close_embed_inds = np.argsort(dists)\n",
    "\n",
    "    # Корректируем n\n",
    "    n = min(n, len(close_embed_inds))\n",
    "\n",
    "    # Если пользователь выбрал классификатор, который незагружен\n",
    "    if (cls_option == 'CatBoostClassifier' and cb_cls_model == None) or \\\n",
    "        (cls_option == 'Fine-tuned BERT' and bert_cls_nn == None):\n",
    "        cls_option = 'None'\n",
    "    \n",
    "    if cls_option == 'None':\n",
    "        # Классификатор не нужен\n",
    "        return close_embed_inds[:n] \n",
    "    elif cls_option == 'CatBoostClassifier':\n",
    "        # Делаем инференс для всех левых и правых пар с помощью catboost\n",
    "        left_preds, right_preds = get_all_cb_preds(query_embed, bert_embeds, close_embed_inds, cb_cls_model)\n",
    "    else:\n",
    "        # Делаем инференс для всех левых и правых пар с помощью BERT\n",
    "        left_preds, right_preds = get_all_bert_preds(query_text, questions, close_embed_inds, bert_cls_nn)\n",
    "           \n",
    "    # Фильтруем полученные индексы с учетом предсказаний классификатора\n",
    "    res_inds = [] # Результирующий список индексов\n",
    "    inds_labeled_0 = [] # Список индексов векторов, для которых классификатор выдал 0\n",
    "    labels_1_cnt = 0 # Счетчик единиц\n",
    "\n",
    "    for i, embed_idx in enumerate(close_embed_inds):\n",
    "        # Проверяем предсказание для левой пары\n",
    "        if left_preds[i] == 1:\n",
    "            res_inds.append(embed_idx)\n",
    "            labels_1_cnt += 1\n",
    "        else:\n",
    "            # Проверяем предсказание для правой пары\n",
    "            if right_preds[i] == 1:\n",
    "                res_inds.append(embed_idx)\n",
    "                labels_1_cnt += 1\n",
    "            else:\n",
    "                inds_labeled_0.append(embed_idx)\n",
    "\n",
    "        if labels_1_cnt == n:\n",
    "            break\n",
    "\n",
    "    # Если количество найденных индексов с 1 оказалось меньше n, то добавляем индексы ближайших векторов,\n",
    "    # для которых классификатор выдал 0\n",
    "    for i in range(n - labels_1_cnt):\n",
    "        res_inds.append(inds_labeled_0[i])\n",
    "\n",
    "    return res_inds"
   ]
  },
  {
   "cell_type": "markdown",
   "metadata": {
    "id": "8NjvkwVJtCZF"
   },
   "source": [
    "Протестируем данные функции для различных сценариев"
   ]
  },
  {
   "cell_type": "code",
   "execution_count": 46,
   "metadata": {},
   "outputs": [],
   "source": [
    "# Загружаем catboost-классификатор\n",
    "cb_cls_model = CatBoostClassifier()\n",
    "if IN_COLAB:\n",
    "    cb_cls_model.load_model(f'{ROOT}/question_pairs_cb_classifier.cbm')\n",
    "else:\n",
    "    cb_cls_model.load_model('../models/question_pairs_cb_classifier.cbm')"
   ]
  },
  {
   "cell_type": "code",
   "execution_count": 47,
   "metadata": {},
   "outputs": [],
   "source": [
    "# Загружаем BERT-классификатор\n",
    "bert_cls_nn = SentencePairClassifier()\n",
    "device = torch.device(\"cuda:0\" if torch.cuda.is_available() else \"cpu\")\n",
    "if IN_COLAB:\n",
    "    bert_cls_nn.load_state_dict(torch.load(f'{ROOT}/question_pairs_bert_classifier.pt', map_location=device))\n",
    "else:\n",
    "    bert_cls_nn.load_state_dict(torch.load('../models/question_pairs_bert_classifier.pt', map_location=device))"
   ]
  },
  {
   "cell_type": "code",
   "execution_count": 51,
   "metadata": {
    "colab": {
     "referenced_widgets": [
      "cb72ae9cead14ae59184283fae3c923b"
     ]
    },
    "id": "h8npWtm8tCZG",
    "outputId": "60bd7888-8a6f-4411-ec22-8c6ba23a9aaf"
   },
   "outputs": [],
   "source": [
    "# Вопрос пользователя\n",
    "query_1 = \"How do I check my blood sugar?\""
   ]
  },
  {
   "cell_type": "markdown",
   "metadata": {},
   "source": [
    "Вариант без классификатора"
   ]
  },
  {
   "cell_type": "code",
   "execution_count": 65,
   "metadata": {
    "id": "NGVzhc5otCZG",
    "outputId": "19dc5358-fa71-4112-c8e1-c05a29dabac5"
   },
   "outputs": [
    {
     "name": "stdout",
     "output_type": "stream",
     "text": [
      "Ищем похожие вопросы без использования классификатора...\n"
     ]
    },
    {
     "data": {
      "application/vnd.jupyter.widget-view+json": {
       "model_id": "d2f406a8c7c5444c8d7ed39013c7cc11",
       "version_major": 2,
       "version_minor": 0
      },
      "text/plain": [
       "Batches:   0%|          | 0/1 [00:00<?, ?it/s]"
      ]
     },
     "metadata": {},
     "output_type": "display_data"
    },
    {
     "name": "stdout",
     "output_type": "stream",
     "text": [
      "CPU times: total: 234 ms\n",
      "Wall time: 91.4 ms\n"
     ]
    },
    {
     "data": {
      "text/plain": [
       "['How is diabetes detected? Should I test my blood sugar before or after eating?',\n",
       " 'What all tests do you need if you suspect you have diabetes?',\n",
       " 'How accurate are the diabetic blood tests that test your 3 month blood sugars?',\n",
       " 'How to test for anemia?',\n",
       " 'I am diabetic and overall my blood sugar levels have been in control except the one after eating. Do you have any tips on how I can keep that more in control?',\n",
       " 'I just had a blood sugar value of 136, does that mean I have diabetes?',\n",
       " 'I was recently detected with high blood sugars. Do you think the doctor will prescribe me insulin? Can I request him to give me pills instead?',\n",
       " 'What blood sugar level is considered normal for people with type 2 diabetes?',\n",
       " 'What do I need to know before planning a pregnancy with a history of diabetes?',\n",
       " 'Planning a healthful pregnancy with diabetes! What do I need to do and when?']"
      ]
     },
     "execution_count": 65,
     "metadata": {},
     "output_type": "execute_result"
    }
   ],
   "source": [
    "print(\"Ищем похожие вопросы без использования классификатора...\")\n",
    "%time inds_11 = find_similar_questions_inds(query_1, bert_model, bert_embeds, cb_cls_model, bert_cls_nn, 'None')\n",
    "list(questions.iloc[inds_11, :]['question'].values)"
   ]
  },
  {
   "cell_type": "markdown",
   "metadata": {},
   "source": [
    "Вариант с CatBoostClassifier"
   ]
  },
  {
   "cell_type": "code",
   "execution_count": 66,
   "metadata": {
    "id": "guONuRFWtCZG",
    "outputId": "28e71ed3-8ca6-4829-8d46-4a00cbdfb298"
   },
   "outputs": [
    {
     "name": "stdout",
     "output_type": "stream",
     "text": [
      "Ищем похожие вопросы с использованием CatBoostClassifier...\n"
     ]
    },
    {
     "data": {
      "application/vnd.jupyter.widget-view+json": {
       "model_id": "abdd5bd549d543eea936f1d856884618",
       "version_major": 2,
       "version_minor": 0
      },
      "text/plain": [
       "Batches:   0%|          | 0/1 [00:00<?, ?it/s]"
      ]
     },
     "metadata": {},
     "output_type": "display_data"
    },
    {
     "name": "stdout",
     "output_type": "stream",
     "text": [
      "CPU times: total: 1.55 s\n",
      "Wall time: 292 ms\n"
     ]
    },
    {
     "data": {
      "text/plain": [
       "['How is diabetes detected? Should I test my blood sugar before or after eating?',\n",
       " 'What all tests do you need if you suspect you have diabetes?',\n",
       " 'How accurate are the diabetic blood tests that test your 3 month blood sugars?',\n",
       " 'How to test for anemia?',\n",
       " 'I am diabetic and overall my blood sugar levels have been in control except the one after eating. Do you have any tips on how I can keep that more in control?',\n",
       " 'I just had a blood sugar value of 136, does that mean I have diabetes?',\n",
       " 'I was recently detected with high blood sugars. Do you think the doctor will prescribe me insulin? Can I request him to give me pills instead?',\n",
       " 'What blood sugar level is considered normal for people with type 2 diabetes?',\n",
       " 'What do I need to know before planning a pregnancy with a history of diabetes?',\n",
       " 'Planning a healthful pregnancy with diabetes! What do I need to do and when?']"
      ]
     },
     "execution_count": 66,
     "metadata": {},
     "output_type": "execute_result"
    }
   ],
   "source": [
    "print(\"Ищем похожие вопросы с использованием CatBoostClassifier...\")\n",
    "%time inds_12 = find_similar_questions_inds(query_1, bert_model, bert_embeds, cb_cls_model, bert_cls_nn, 'CatBoostClassifier')\n",
    "list(questions.iloc[inds_12, :]['question'].values)"
   ]
  },
  {
   "cell_type": "markdown",
   "metadata": {},
   "source": [
    "Вариант с BERT-классификатором (лучше запускать на GPU)"
   ]
  },
  {
   "cell_type": "code",
   "execution_count": null,
   "metadata": {},
   "outputs": [],
   "source": [
    "print(\"Ищем похожие вопросы с использованием Fine-tuned BERT...\")\n",
    "%time inds_13 = find_similar_questions_inds(query_1, bert_embeds, bert_model, cb_cls_model, bert_cls_nn, 'Fine-tuned BERT')\n",
    "list(questions.iloc[inds_13, :]['question'].values)"
   ]
  },
  {
   "cell_type": "markdown",
   "metadata": {
    "id": "ULMPIV3btCZH"
   },
   "source": [
    "Вывод: видим, что в данной задаче благодаря качеству эмбедингов BERT у нас получается \n",
    "практически одинаковый набор вопросов, как при использовании классификаторов, так и без них."
   ]
  },
  {
   "cell_type": "code",
   "execution_count": null,
   "metadata": {},
   "outputs": [],
   "source": []
  }
 ],
 "metadata": {
  "accelerator": "GPU",
  "colab": {
   "gpuType": "T4",
   "provenance": []
  },
  "kernelspec": {
   "display_name": "Python 3 (ipykernel)",
   "language": "python",
   "name": "python3"
  },
  "language_info": {
   "codemirror_mode": {
    "name": "ipython",
    "version": 3
   },
   "file_extension": ".py",
   "mimetype": "text/x-python",
   "name": "python",
   "nbconvert_exporter": "python",
   "pygments_lexer": "ipython3",
   "version": "3.11.7"
  },
  "widgets": {
   "application/vnd.jupyter.widget-state+json": {}
  }
 },
 "nbformat": 4,
 "nbformat_minor": 4
}
