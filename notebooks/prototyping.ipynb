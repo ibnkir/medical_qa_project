{
 "cells": [
  {
   "cell_type": "markdown",
   "metadata": {
    "id": "kVT__YSltCYg"
   },
   "source": [
    "## Мастерская Yandex Практикума: Проект \"Medical QA\"\n",
    "***\n",
    "### Описание проекта:\n",
    "Исходные данные:\n",
    "[Набор пар медицинских вопросов](https://huggingface.co/datasets/medical_questions_pairs)\n",
    "с метками `1` и `0` (вопросы похожи / непохожи).\n",
    "\n",
    "Цель:\n",
    "Разработать рекомендательный сервис для поиска медицинских вопросов, похожих на введенный пользователем текст.\n",
    "\n",
    "Результаты:\n",
    "* Проверили исходный датасет на отсутствие пропусков, дублирующих пар вопросов и сбалансированность меток;\n",
    "* Создали корпус вопросов и добавили их id в исходный датасет;\n",
    "* Применили несколько способов предобработки и векторизации текста, наибольшая точность поиска `accuracy@n` получилась у языковой модели BERT,\n",
    "  предобученной на определении схожести текстов (SentenceTransformer);\n",
    "* Добавили классификатор, чтобы из вопросов, ближайших к заданному по векторному расстоянию, отбирать те, для которых классификатор выдает 1. Обучение проводилось на расширенном датасете, содержащим пары вопросов в прямом и обратном порядке. Сравнили CatBoostClassifier и BERT с добавленным линейным слоем, наибольшая точность классификации на тестовой выборке получилась у BERT. В пользовательском интерфейсе добавили возможность отключения классификатора для ускорения работы;\n",
    "* Создали микросервис и клиентскую часть на базе FastAPI и Streamlit соответственно.\n",
    "\n",
    "Выполнил:\n",
    "Кирилл Носов, email: ibnkir@yandex.ru, tg: [Xmg23](https://t.me/Xmg23).\n",
    "***\n",
    "### Ноутбук для прототипирования решения:\n",
    "Содержание:\n",
    "\n",
    "0. [Импорты библиотек и инициализация переменных](#step_0)\n",
    "1. [Получение и анализ данных](#step_1)\n",
    "2. [Текстовая предобработка вопросов](#step_2)\n",
    "3. [Расчет точности поиска accuracy@n](#step_3)\n",
    "4. [Векторизация с помощью BoW](#step_4)\n",
    "5. [Векторизация с помощью TF-IDF](#step_5)\n",
    "6. [Векторизация с помощью word2vec и glove](#step_6)\n",
    "7. [Векторизация с помощью BERT](#step_7)\n",
    "8. [Обучение классификаторов на парах вопросов](#step_8)\n",
    "9. [Поиск похожих вопросов с учетом предсказаний классификатора](#step_9)"
   ]
  },
  {
   "cell_type": "markdown",
   "metadata": {
    "id": "WOnlyXGndASS"
   },
   "source": [
    "### 0. Импорты библиотек и инициализация переменных <a id=\"step_0\"></a>"
   ]
  },
  {
   "cell_type": "markdown",
   "metadata": {
    "id": "d47fCvfGdASS"
   },
   "source": [
    "Дообучение BERT лучше проводить на GPU, для чего можно использовать, например, Google Colab.\n",
    "В этом случае все файлы, включая модель, будем сохранять в `/content/sample_data`\n",
    "без монтирования собственного гугл-диска. Полученные модели нужно будет потом перенести вручную в папку `/models` репозитория проекта."
   ]
  },
  {
   "cell_type": "code",
   "execution_count": 6,
   "metadata": {
    "executionInfo": {
     "elapsed": 261,
     "status": "ok",
     "timestamp": 1716237742864,
     "user": {
      "displayName": "Kirill N.",
      "userId": "16481738826806641256"
     },
     "user_tz": -180
    },
    "id": "og7OzMwPtCYk"
   },
   "outputs": [],
   "source": [
    "# Проверяем, в какой среде мы сейчас работаем\n",
    "from pathlib import Path\n",
    "import sys\n",
    "\n",
    "try:\n",
    "    import google.colab\n",
    "    IN_COLAB = True\n",
    "except ImportError:\n",
    "    IN_COLAB = False\n",
    "\n",
    "if IN_COLAB:\n",
    "    #google.colab.drive.mount(\"content/drive\", force_remount=True)\n",
    "    ROOT = Path(\"/content/sample_data/\")\n",
    "    sys.path.append(str(ROOT))\n",
    "else:\n",
    "    ROOT = Path(\".\")"
   ]
  },
  {
   "cell_type": "code",
   "execution_count": 3,
   "metadata": {
    "executionInfo": {
     "elapsed": 264,
     "status": "ok",
     "timestamp": 1716233098929,
     "user": {
      "displayName": "Kirill N.",
      "userId": "16481738826806641256"
     },
     "user_tz": -180
    },
    "id": "3pgJZpMGtCYl"
   },
   "outputs": [],
   "source": [
    "#!pip install datasets # Библиотека для скачивания датасетов Hugging Face\n",
    "#!pip install catboost\n",
    "\n",
    "#!pip install fastapi\n",
    "#!pip install \"uvicorn[standard]\"\n",
    "#!pip install streamlit"
   ]
  },
  {
   "cell_type": "code",
   "execution_count": 7,
   "metadata": {
    "colab": {
     "base_uri": "https://localhost:8080/"
    },
    "executionInfo": {
     "elapsed": 350,
     "status": "ok",
     "timestamp": 1716237746198,
     "user": {
      "displayName": "Kirill N.",
      "userId": "16481738826806641256"
     },
     "user_tz": -180
    },
    "id": "olnzOKZ-tCYm",
    "outputId": "6ba9cd82-7af6-4870-dfcc-ec2d388c8ab0"
   },
   "outputs": [
    {
     "name": "stderr",
     "output_type": "stream",
     "text": [
      "[nltk_data] Downloading package stopwords to\n",
      "[nltk_data]     C:\\Users\\Kirill_Nosov\\AppData\\Roaming\\nltk_data...\n",
      "[nltk_data]   Package stopwords is already up-to-date!\n"
     ]
    }
   ],
   "source": [
    "# Импортируем необходимые библиотеки\n",
    "\n",
    "import os\n",
    "\n",
    "import numpy as np\n",
    "import pandas as pd\n",
    "pd.set_option('display.max_columns', None)\n",
    "pd.set_option('display.expand_frame_repr', False)\n",
    "pd.set_option('max_colwidth', 800)\n",
    "\n",
    "from datasets import load_dataset\n",
    "\n",
    "from sklearn.feature_extraction.text import CountVectorizer, TfidfVectorizer\n",
    "from sklearn.metrics import pairwise_distances\n",
    "from sklearn.model_selection import train_test_split, RandomizedSearchCV\n",
    "from sklearn.metrics import classification_report, accuracy_score, f1_score\n",
    "\n",
    "from catboost import CatBoostClassifier, Pool\n",
    "\n",
    "import re\n",
    "from functools import lru_cache\n",
    "from tqdm import tqdm\n",
    "from collections import defaultdict\n",
    "from multiprocessing import Pool\n",
    "import random\n",
    "\n",
    "import nltk\n",
    "from nltk.corpus import stopwords\n",
    "from nltk.stem.porter import PorterStemmer\n",
    "nltk.download('stopwords')\n",
    "\n",
    "import gensim\n",
    "import gensim.downloader\n",
    "from gensim.models import word2vec\n",
    "\n",
    "import warnings\n",
    "warnings.filterwarnings(\"ignore\")\n",
    "\n",
    "import logging\n",
    "logging.basicConfig(format='%(asctime)s : %(levelname)s : %(message)s', level=logging.INFO)\n",
    "\n",
    "import matplotlib.pyplot as plt\n",
    "import seaborn as sns\n",
    "sns.set_style(\"white\")\n",
    "sns.set_theme(style=\"whitegrid\")\n",
    "\n",
    "from pickle import dump"
   ]
  },
  {
   "cell_type": "code",
   "execution_count": 8,
   "metadata": {
    "executionInfo": {
     "elapsed": 279,
     "status": "ok",
     "timestamp": 1716237750453,
     "user": {
      "displayName": "Kirill N.",
      "userId": "16481738826806641256"
     },
     "user_tz": -180
    },
    "id": "goz_Tvt0tCYn"
   },
   "outputs": [],
   "source": [
    "# Инициализируем константы и генератор случайных чисел\n",
    "\n",
    "RANDOM_STATE = 42\n",
    "np.random.seed(RANDOM_STATE)\n",
    "random.seed(RANDOM_STATE)\n",
    "\n",
    "# Кол-во случайно отбираемых вопросов для расчета точности поиска\n",
    "RANDOM_CHOICE_SIZE = 100\n",
    "\n",
    "# Кол-во ближайших векторов для расчета точности поиска\n",
    "NEAREST_NUM = 5\n",
    "\n",
    "# Сколько раз считаем точность поиска accuracy@n, чтобы найти среднее значение\n",
    "ACC_CALC_NUM = 20"
   ]
  },
  {
   "cell_type": "markdown",
   "metadata": {
    "id": "F4kzhgtItCYn"
   },
   "source": [
    "### 1. Получение и анализ данных <a id=\"step_1\"></a>"
   ]
  },
  {
   "cell_type": "markdown",
   "metadata": {
    "id": "4KNvwZc2tCYn"
   },
   "source": [
    "Скачиваем исходный датасет с парами вопросов и проверяем его на наличие пропусков, дубликатов и сбалансированность меток.\n",
    "После этого создаем корпус из всех уникальных вопросов в обеих колонках и вставляем id вопросов в исходный датасет."
   ]
  },
  {
   "cell_type": "code",
   "execution_count": 10,
   "metadata": {
    "colab": {
     "base_uri": "https://localhost:8080/",
     "height": 371,
     "referenced_widgets": [
      "a2fb4e46d1f841a094cc6b6587706245",
      "9ddc3ef1a72841bcaa81ca30c5386a44",
      "732a4a51917b43c5af1f88ac29424c47",
      "107300bbbb534913b4c013adda973104",
      "d44c368dfa1141d480c21986572b110f",
      "5fb4aa17897e404090652842eb5cc2dd",
      "ef90dd9b199747e0a92ac5a1a4b5a9a2",
      "dcfa491ba54548c0b38539ef2539b625",
      "504bc1a35d774457b16fdb2bd8996a33",
      "a84c6b7542f2428ca378a6fdfee4306a",
      "5367ff156727461aad78204814928bcb",
      "4873a39a185340de9565b8c82feebbfa",
      "ad988cb48b9041da8b08fc56262e876a",
      "26f13175de2a4752a45a3912ec3d8633",
      "c06e90076de549489c542f304b612e7f",
      "f6211a05710b4d92bf281910194b2d8f",
      "3e5840ce389a4ae3a491f91657947c7e",
      "fc62460e63da4a06817c12d17ab0c1d4",
      "deb867f3ab8d4c9bbee59b24a82bada7",
      "e427e3d1f290427f8a20fea9ba2daa77",
      "cfb1bc85e87345ed8a41295771f9038d",
      "1acea064ee3145cc9fdac00531972ecb",
      "1fb55dd1085e4b4db589bec19c9d3c2f",
      "dee00727ebb44b488aab92e96f475bf3",
      "b0e1371dce7e422291e3d32c8d794fc1",
      "7d406592dbf1402aa5d66c76edfef621",
      "5e9ec42ff5374d118bfba6b1229a593f",
      "f39c9ca2e4af487fb24b53300e2cad3c",
      "98882b85f1e6499c949b36950a59fdba",
      "380a8d488c7a474ea4e4d2365f9ad76f",
      "218c0fe805544082a55025db73201065",
      "d4eb47673c344c2a977332c44c2c4c9c",
      "2d81a8ee981d48f6a0c1463c9cf58af2"
     ]
    },
    "executionInfo": {
     "elapsed": 4195,
     "status": "ok",
     "timestamp": 1716237806919,
     "user": {
      "displayName": "Kirill N.",
      "userId": "16481738826806641256"
     },
     "user_tz": -180
    },
    "id": "FAm21KIPtCYp",
    "outputId": "2089c4be-9678-4789-c064-7ca5b85447df",
    "scrolled": true
   },
   "outputs": [
    {
     "data": {
      "text/html": [
       "<div>\n",
       "<style scoped>\n",
       "    .dataframe tbody tr th:only-of-type {\n",
       "        vertical-align: middle;\n",
       "    }\n",
       "\n",
       "    .dataframe tbody tr th {\n",
       "        vertical-align: top;\n",
       "    }\n",
       "\n",
       "    .dataframe thead th {\n",
       "        text-align: right;\n",
       "    }\n",
       "</style>\n",
       "<table border=\"1\" class=\"dataframe\">\n",
       "  <thead>\n",
       "    <tr style=\"text-align: right;\">\n",
       "      <th></th>\n",
       "      <th>dr_id</th>\n",
       "      <th>question_1</th>\n",
       "      <th>question_2</th>\n",
       "      <th>label</th>\n",
       "    </tr>\n",
       "  </thead>\n",
       "  <tbody>\n",
       "    <tr>\n",
       "      <th>0</th>\n",
       "      <td>1</td>\n",
       "      <td>After how many hour from drinking an antibiotic can I drink alcohol?</td>\n",
       "      <td>I have a party tonight and I took my last dose of Azithromycin this morning. Can I have a few drinks?</td>\n",
       "      <td>1</td>\n",
       "    </tr>\n",
       "    <tr>\n",
       "      <th>1</th>\n",
       "      <td>1</td>\n",
       "      <td>After how many hour from drinking an antibiotic can I drink alcohol?</td>\n",
       "      <td>I vomited this morning and I am not sure if it is the side effect of my antibiotic or the alcohol I took last night...</td>\n",
       "      <td>0</td>\n",
       "    </tr>\n",
       "    <tr>\n",
       "      <th>2</th>\n",
       "      <td>1</td>\n",
       "      <td>Am I over weight (192.9) for my age (39)?</td>\n",
       "      <td>I am a 39 y/o male currently weighing about 193 lbs. Do you think I am overweight?</td>\n",
       "      <td>1</td>\n",
       "    </tr>\n",
       "    <tr>\n",
       "      <th>3</th>\n",
       "      <td>1</td>\n",
       "      <td>Am I over weight (192.9) for my age (39)?</td>\n",
       "      <td>What diet is good for losing weight? Keto or vegan?</td>\n",
       "      <td>0</td>\n",
       "    </tr>\n",
       "    <tr>\n",
       "      <th>4</th>\n",
       "      <td>1</td>\n",
       "      <td>Aspirin allergy - is it worth getting a bracelet?</td>\n",
       "      <td>How much Aspirin can I take for my headache without causing any side effects?</td>\n",
       "      <td>0</td>\n",
       "    </tr>\n",
       "  </tbody>\n",
       "</table>\n",
       "</div>"
      ],
      "text/plain": [
       "   dr_id                                                            question_1                                                                                                              question_2  label\n",
       "0      1  After how many hour from drinking an antibiotic can I drink alcohol?                   I have a party tonight and I took my last dose of Azithromycin this morning. Can I have a few drinks?      1\n",
       "1      1  After how many hour from drinking an antibiotic can I drink alcohol?  I vomited this morning and I am not sure if it is the side effect of my antibiotic or the alcohol I took last night...      0\n",
       "2      1                             Am I over weight (192.9) for my age (39)?                                      I am a 39 y/o male currently weighing about 193 lbs. Do you think I am overweight?      1\n",
       "3      1                             Am I over weight (192.9) for my age (39)?                                                                     What diet is good for losing weight? Keto or vegan?      0\n",
       "4      1                     Aspirin allergy - is it worth getting a bracelet?                                           How much Aspirin can I take for my headache without causing any side effects?      0"
      ]
     },
     "execution_count": 10,
     "metadata": {},
     "output_type": "execute_result"
    }
   ],
   "source": [
    "# Скачиваем исходный датасет\n",
    "if IN_COLAB and os.path.exists(f\"{ROOT}/medical_questions_pairs.csv\"):\n",
    "    data = pd.read_csv(f\"{ROOT}/medical_questions_pairs.csv\")\n",
    "elif not IN_COLAB and os.path.exists(\"../data/medical_questions_pairs.csv\"):\n",
    "    data = pd.read_csv(\"../data/medical_questions_pairs.csv\")\n",
    "else:\n",
    "    data = load_dataset(\"medical_questions_pairs\", split=\"train\")\n",
    "    data = pd.DataFrame(data)\n",
    "    # Скачивание занимает много времени, поэтому для дальнейших экспериментов лучше сохранить датасет локально\n",
    "    if IN_COLAB:\n",
    "        data.to_csv(f\"{ROOT}/medical_questions_pairs.csv\", index=False)\n",
    "    else:\n",
    "        data.to_csv(\"../data/medical_questions_pairs.csv\", index=False)\n",
    "\n",
    "data.head()"
   ]
  },
  {
   "cell_type": "code",
   "execution_count": 11,
   "metadata": {
    "colab": {
     "base_uri": "https://localhost:8080/"
    },
    "executionInfo": {
     "elapsed": 246,
     "status": "ok",
     "timestamp": 1716237814000,
     "user": {
      "displayName": "Kirill N.",
      "userId": "16481738826806641256"
     },
     "user_tz": -180
    },
    "id": "Bcd3kFOqtCYp",
    "outputId": "26a6e903-a581-4189-9611-2b9ce14622c1"
   },
   "outputs": [
    {
     "name": "stdout",
     "output_type": "stream",
     "text": [
      "<class 'pandas.core.frame.DataFrame'>\n",
      "RangeIndex: 3048 entries, 0 to 3047\n",
      "Data columns (total 4 columns):\n",
      " #   Column      Non-Null Count  Dtype \n",
      "---  ------      --------------  ----- \n",
      " 0   dr_id       3048 non-null   int64 \n",
      " 1   question_1  3048 non-null   object\n",
      " 2   question_2  3048 non-null   object\n",
      " 3   label       3048 non-null   int64 \n",
      "dtypes: int64(2), object(2)\n",
      "memory usage: 95.4+ KB\n"
     ]
    }
   ],
   "source": [
    "# Смотрим количество строк, типы данных и наличие пропусков\n",
    "data.info()"
   ]
  },
  {
   "cell_type": "markdown",
   "metadata": {
    "id": "dRrcXF45tCYp"
   },
   "source": [
    "Пропусков нет.\n",
    "\n",
    "Проверим датасет на наличие дубликатов. Сначала посмотрим, есть ли строки, внутри которых 1-й и 2-й вопросы полностью совпадают.\n",
    "Такие строки можно сразу удалить, т.к. они не несут никакой информации и могут только ухудшить качество,\n",
    "если у них по ошибке проставлена метка 0"
   ]
  },
  {
   "cell_type": "code",
   "execution_count": 120,
   "metadata": {
    "colab": {
     "base_uri": "https://localhost:8080/"
    },
    "executionInfo": {
     "elapsed": 247,
     "status": "ok",
     "timestamp": 1716237817162,
     "user": {
      "displayName": "Kirill N.",
      "userId": "16481738826806641256"
     },
     "user_tz": -180
    },
    "id": "DRQYWo7BtCYp",
    "outputId": "ae53968d-020a-4102-afc8-3fe791b9a9d4"
   },
   "outputs": [
    {
     "name": "stdout",
     "output_type": "stream",
     "text": [
      "Количество строк, в которых 1-й и 2-й вопросы совпадают: 0\n"
     ]
    }
   ],
   "source": [
    "cnt = (data['question_1'] == data['question_2']).sum()\n",
    "print(f\"Количество строк, в которых 1-й и 2-й вопросы совпадают: {cnt}\")"
   ]
  },
  {
   "cell_type": "markdown",
   "metadata": {
    "id": "efDplISNtCYq"
   },
   "source": [
    "Далее проверим, есть ли строки-дубликаты с одинаковыми парами вопросов (q1, q2). Внутри каждой такой группы можно будет\n",
    "взять только одну строку, а в качестве метки, например, медиану по группе"
   ]
  },
  {
   "cell_type": "code",
   "execution_count": 121,
   "metadata": {
    "colab": {
     "base_uri": "https://localhost:8080/"
    },
    "executionInfo": {
     "elapsed": 2,
     "status": "ok",
     "timestamp": 1716237819592,
     "user": {
      "displayName": "Kirill N.",
      "userId": "16481738826806641256"
     },
     "user_tz": -180
    },
    "id": "NYWQV-wXtCYq",
    "outputId": "9be498a0-b287-4131-9279-b28f0a6b0aa1"
   },
   "outputs": [
    {
     "name": "stdout",
     "output_type": "stream",
     "text": [
      "Количество строк-дубликатов с одинаковыми парами вопросов: 0\n"
     ]
    }
   ],
   "source": [
    "cols_to_check = ['question_1', 'question_2']\n",
    "duplicated_rows = data.duplicated(subset=cols_to_check, keep=False)\n",
    "cnt = duplicated_rows.sum()\n",
    "print(f\"Количество строк-дубликатов с одинаковыми парами вопросов: {cnt}\")"
   ]
  },
  {
   "cell_type": "markdown",
   "metadata": {
    "id": "kEzNDtb6tCYq"
   },
   "source": [
    "Наконец, проверим более сложный случай, когда пара (q1, q2) в одной строке совпадает с зеркальной парой (q2, q1) в другой"
   ]
  },
  {
   "cell_type": "code",
   "execution_count": 122,
   "metadata": {
    "colab": {
     "base_uri": "https://localhost:8080/"
    },
    "executionInfo": {
     "elapsed": 274,
     "status": "ok",
     "timestamp": 1716237823233,
     "user": {
      "displayName": "Kirill N.",
      "userId": "16481738826806641256"
     },
     "user_tz": -180
    },
    "id": "rWN8qD8dtCYr",
    "outputId": "72180eac-d3da-4834-bb92-254deab49233"
   },
   "outputs": [
    {
     "name": "stdout",
     "output_type": "stream",
     "text": [
      "Количество строк-дубликатов, в которых 1-й и 2-й вопросы совпадают соответственно со 2-м и 1-м вопросами: 0\n"
     ]
    }
   ],
   "source": [
    "# Создаем 2 временные колонки\n",
    "\n",
    "data['q12'] = data['question_1'] + data['question_2']\n",
    "data['q21'] = data['question_2'] + data['question_1']\n",
    "\n",
    "# Соединяем строки, в которых исходная и зеркальная пары вопросов совпадают\n",
    "df_tmp = pd.merge(data, data, left_on='q12', right_on='q21')\n",
    "\n",
    "# Выводим их количество\n",
    "print(f\"Количество строк-дубликатов, в которых 1-й и 2-й вопросы совпадают соответственно со 2-м и 1-м вопросами: {len(df_tmp)}\")\n",
    "\n",
    "# Удаляем временные колонки\n",
    "data.drop(columns=['q12', 'q21'], inplace=True)"
   ]
  },
  {
   "cell_type": "markdown",
   "metadata": {
    "id": "qtRLg1EutCYr"
   },
   "source": [
    "Видим, что таких дубликатов тоже нет.\n",
    "\n",
    "Посмотрим, насколько сбалансированы метки в датасете"
   ]
  },
  {
   "cell_type": "code",
   "execution_count": 123,
   "metadata": {
    "colab": {
     "base_uri": "https://localhost:8080/",
     "height": 481
    },
    "executionInfo": {
     "elapsed": 271,
     "status": "ok",
     "timestamp": 1716237826446,
     "user": {
      "displayName": "Kirill N.",
      "userId": "16481738826806641256"
     },
     "user_tz": -180
    },
    "id": "WXIKIW_EtCYr",
    "outputId": "8c2878ae-7db8-48cb-bf24-fd3b5bf0da56"
   },
   "outputs": [
    {
     "data": {
      "text/plain": [
       "<Axes: xlabel='label', ylabel='count'>"
      ]
     },
     "execution_count": 123,
     "metadata": {},
     "output_type": "execute_result"
    },
    {
     "data": {
      "image/png": "[encoded data removed]",
      "text/plain": [
       "<Figure size 640x480 with 1 Axes>"
      ]
     },
     "metadata": {},
     "output_type": "display_data"
    }
   ],
   "source": [
    "agg_df = pd.DataFrame(data.groupby(\"label\").agg('count')['dr_id']).reset_index().rename(columns={'dr_id': 'count'})\n",
    "sns.barplot(data=agg_df, x='label', y='count')"
   ]
  },
  {
   "cell_type": "markdown",
   "metadata": {
    "id": "rCAw0F9stCYr"
   },
   "source": [
    "Видим, что все ОК, метки полностью сбалансированы (иначе пришлось бы делать, например, аугментацию данных)."
   ]
  },
  {
   "cell_type": "markdown",
   "metadata": {
    "id": "jdu5IsMutCYr"
   },
   "source": [
    "Создаем корпус вопросов, который будет содержать все неповторяющиеся вопросы из обеих колонок исходного датасета"
   ]
  },
  {
   "cell_type": "code",
   "execution_count": 12,
   "metadata": {
    "colab": {
     "base_uri": "https://localhost:8080/",
     "height": 241
    },
    "executionInfo": {
     "elapsed": 287,
     "status": "ok",
     "timestamp": 1716237830031,
     "user": {
      "displayName": "Kirill N.",
      "userId": "16481738826806641256"
     },
     "user_tz": -180
    },
    "id": "oli6ESg1tCYr",
    "outputId": "73163238-07d2-4ad3-c7d5-1c160a4d2428"
   },
   "outputs": [
    {
     "data": {
      "text/html": [
       "<div>\n",
       "<style scoped>\n",
       "    .dataframe tbody tr th:only-of-type {\n",
       "        vertical-align: middle;\n",
       "    }\n",
       "\n",
       "    .dataframe tbody tr th {\n",
       "        vertical-align: top;\n",
       "    }\n",
       "\n",
       "    .dataframe thead th {\n",
       "        text-align: right;\n",
       "    }\n",
       "</style>\n",
       "<table border=\"1\" class=\"dataframe\">\n",
       "  <thead>\n",
       "    <tr style=\"text-align: right;\">\n",
       "      <th></th>\n",
       "      <th>question_id</th>\n",
       "      <th>question</th>\n",
       "    </tr>\n",
       "  </thead>\n",
       "  <tbody>\n",
       "    <tr>\n",
       "      <th>0</th>\n",
       "      <td>0</td>\n",
       "      <td>After how many hour from drinking an antibiotic can I drink alcohol?</td>\n",
       "    </tr>\n",
       "    <tr>\n",
       "      <th>1</th>\n",
       "      <td>1</td>\n",
       "      <td>Am I over weight (192.9) for my age (39)?</td>\n",
       "    </tr>\n",
       "    <tr>\n",
       "      <th>2</th>\n",
       "      <td>2</td>\n",
       "      <td>Aspirin allergy - is it worth getting a bracelet?</td>\n",
       "    </tr>\n",
       "    <tr>\n",
       "      <th>3</th>\n",
       "      <td>3</td>\n",
       "      <td>At a doctor's visit, I hit my head against a box on the wall containing hazardous materials (used syringes, used needles...). Will I get infected?</td>\n",
       "    </tr>\n",
       "    <tr>\n",
       "      <th>4</th>\n",
       "      <td>4</td>\n",
       "      <td>Been on antibiotics 4 5wks top high tooth dentist cld not get needle 2 freeze 2 extract in gum really hurt she said its the tissues hve 2 go bk? Plz</td>\n",
       "    </tr>\n",
       "  </tbody>\n",
       "</table>\n",
       "</div>"
      ],
      "text/plain": [
       "   question_id                                                                                                                                              question\n",
       "0            0                                                                                  After how many hour from drinking an antibiotic can I drink alcohol?\n",
       "1            1                                                                                                             Am I over weight (192.9) for my age (39)?\n",
       "2            2                                                                                                     Aspirin allergy - is it worth getting a bracelet?\n",
       "3            3    At a doctor's visit, I hit my head against a box on the wall containing hazardous materials (used syringes, used needles...). Will I get infected?\n",
       "4            4  Been on antibiotics 4 5wks top high tooth dentist cld not get needle 2 freeze 2 extract in gum really hurt she said its the tissues hve 2 go bk? Plz"
      ]
     },
     "execution_count": 12,
     "metadata": {},
     "output_type": "execute_result"
    }
   ],
   "source": [
    "# Создаем корпус вопросов\n",
    "questions = pd.DataFrame(pd.concat([data['question_1'], data['question_2']], axis=0).unique())\n",
    "questions.reset_index(inplace=True)\n",
    "questions.rename(columns={'index': 'question_id', 0: 'question'}, inplace=True)\n",
    "questions.head()"
   ]
  },
  {
   "cell_type": "code",
   "execution_count": 13,
   "metadata": {
    "colab": {
     "base_uri": "https://localhost:8080/"
    },
    "executionInfo": {
     "elapsed": 265,
     "status": "ok",
     "timestamp": 1716237836089,
     "user": {
      "displayName": "Kirill N.",
      "userId": "16481738826806641256"
     },
     "user_tz": -180
    },
    "id": "RjsiMfKOtCYr",
    "outputId": "ab9d3c34-018f-4e52-ec9d-81eb71719d81"
   },
   "outputs": [
    {
     "data": {
      "text/plain": [
       "4567"
      ]
     },
     "execution_count": 13,
     "metadata": {},
     "output_type": "execute_result"
    }
   ],
   "source": [
    "len(questions)"
   ]
  },
  {
   "cell_type": "markdown",
   "metadata": {
    "id": "UFkUH7XVwZ2x"
   },
   "source": [
    "Добавим к вопросам в левой и правой колонках исходного датасета их id из корпуса вопросов. \n",
    "Эти новые колонки понадобятся в функции расчета точности поиска и для обучения catboost-классификатора\n",
    "на парах векторов."
   ]
  },
  {
   "cell_type": "code",
   "execution_count": 14,
   "metadata": {
    "colab": {
     "base_uri": "https://localhost:8080/",
     "height": 327
    },
    "executionInfo": {
     "elapsed": 330,
     "status": "ok",
     "timestamp": 1716238036585,
     "user": {
      "displayName": "Kirill N.",
      "userId": "16481738826806641256"
     },
     "user_tz": -180
    },
    "id": "y7m3OIwvwUsk",
    "outputId": "d38b2421-7a88-40b6-f7f1-8d889bf21147"
   },
   "outputs": [
    {
     "data": {
      "text/html": [
       "<div>\n",
       "<style scoped>\n",
       "    .dataframe tbody tr th:only-of-type {\n",
       "        vertical-align: middle;\n",
       "    }\n",
       "\n",
       "    .dataframe tbody tr th {\n",
       "        vertical-align: top;\n",
       "    }\n",
       "\n",
       "    .dataframe thead th {\n",
       "        text-align: right;\n",
       "    }\n",
       "</style>\n",
       "<table border=\"1\" class=\"dataframe\">\n",
       "  <thead>\n",
       "    <tr style=\"text-align: right;\">\n",
       "      <th></th>\n",
       "      <th>dr_id</th>\n",
       "      <th>question_1</th>\n",
       "      <th>question_2</th>\n",
       "      <th>label</th>\n",
       "      <th>question_1_id</th>\n",
       "      <th>question_2_id</th>\n",
       "    </tr>\n",
       "  </thead>\n",
       "  <tbody>\n",
       "    <tr>\n",
       "      <th>0</th>\n",
       "      <td>1</td>\n",
       "      <td>After how many hour from drinking an antibiotic can I drink alcohol?</td>\n",
       "      <td>I have a party tonight and I took my last dose of Azithromycin this morning. Can I have a few drinks?</td>\n",
       "      <td>1</td>\n",
       "      <td>0</td>\n",
       "      <td>1524</td>\n",
       "    </tr>\n",
       "    <tr>\n",
       "      <th>1</th>\n",
       "      <td>1</td>\n",
       "      <td>After how many hour from drinking an antibiotic can I drink alcohol?</td>\n",
       "      <td>I vomited this morning and I am not sure if it is the side effect of my antibiotic or the alcohol I took last night...</td>\n",
       "      <td>0</td>\n",
       "      <td>0</td>\n",
       "      <td>1525</td>\n",
       "    </tr>\n",
       "    <tr>\n",
       "      <th>2</th>\n",
       "      <td>1</td>\n",
       "      <td>Am I over weight (192.9) for my age (39)?</td>\n",
       "      <td>I am a 39 y/o male currently weighing about 193 lbs. Do you think I am overweight?</td>\n",
       "      <td>1</td>\n",
       "      <td>1</td>\n",
       "      <td>1526</td>\n",
       "    </tr>\n",
       "    <tr>\n",
       "      <th>3</th>\n",
       "      <td>1</td>\n",
       "      <td>Am I over weight (192.9) for my age (39)?</td>\n",
       "      <td>What diet is good for losing weight? Keto or vegan?</td>\n",
       "      <td>0</td>\n",
       "      <td>1</td>\n",
       "      <td>1527</td>\n",
       "    </tr>\n",
       "    <tr>\n",
       "      <th>4</th>\n",
       "      <td>1</td>\n",
       "      <td>Aspirin allergy - is it worth getting a bracelet?</td>\n",
       "      <td>How much Aspirin can I take for my headache without causing any side effects?</td>\n",
       "      <td>0</td>\n",
       "      <td>2</td>\n",
       "      <td>1528</td>\n",
       "    </tr>\n",
       "  </tbody>\n",
       "</table>\n",
       "</div>"
      ],
      "text/plain": [
       "   dr_id                                                            question_1                                                                                                              question_2  label  question_1_id  question_2_id\n",
       "0      1  After how many hour from drinking an antibiotic can I drink alcohol?                   I have a party tonight and I took my last dose of Azithromycin this morning. Can I have a few drinks?      1              0           1524\n",
       "1      1  After how many hour from drinking an antibiotic can I drink alcohol?  I vomited this morning and I am not sure if it is the side effect of my antibiotic or the alcohol I took last night...      0              0           1525\n",
       "2      1                             Am I over weight (192.9) for my age (39)?                                      I am a 39 y/o male currently weighing about 193 lbs. Do you think I am overweight?      1              1           1526\n",
       "3      1                             Am I over weight (192.9) for my age (39)?                                                                     What diet is good for losing weight? Keto or vegan?      0              1           1527\n",
       "4      1                     Aspirin allergy - is it worth getting a bracelet?                                           How much Aspirin can I take for my headache without causing any side effects?      0              2           1528"
      ]
     },
     "execution_count": 14,
     "metadata": {},
     "output_type": "execute_result"
    }
   ],
   "source": [
    "# Добавляем id к вопросам в левой и правой колонках исходного датасета\n",
    "\n",
    "# id вопросов из 1-й колонки\n",
    "data = pd.merge(data, questions, left_on='question_1', right_on='question', how='left')\n",
    "data.rename(columns={'question_id': 'question_1_id'}, inplace=True)\n",
    "data.drop(columns='question', inplace=True)\n",
    "\n",
    "# id вопросов из 2-й колонки\n",
    "data = pd.merge(data, questions, left_on='question_2', right_on='question', how='left')\n",
    "data.rename(columns={'question_id': 'question_2_id'}, inplace=True)\n",
    "data.drop(columns='question', inplace=True)\n",
    "\n",
    "data.head()"
   ]
  },
  {
   "cell_type": "markdown",
   "metadata": {
    "id": "Tnv_BJdatCYs"
   },
   "source": [
    "В конце посмотрим на распределение длины вопросов"
   ]
  },
  {
   "cell_type": "code",
   "execution_count": 126,
   "metadata": {
    "colab": {
     "base_uri": "https://localhost:8080/",
     "height": 480
    },
    "executionInfo": {
     "elapsed": 558,
     "status": "ok",
     "timestamp": 1716237841545,
     "user": {
      "displayName": "Kirill N.",
      "userId": "16481738826806641256"
     },
     "user_tz": -180
    },
    "id": "TZ3PH9q1tCYs",
    "outputId": "69193ed6-668c-44f4-ef72-19d1b076915b"
   },
   "outputs": [
    {
     "data": {
      "image/png": "[encoded data removed]",
      "text/plain": [
       "<Figure size 640x480 with 1 Axes>"
      ]
     },
     "metadata": {},
     "output_type": "display_data"
    }
   ],
   "source": [
    "lens = [len(q.split()) for q in questions['question']]\n",
    "\n",
    "plt.hist(lens, bins=30)\n",
    "plt.title(\"Распределение длины вопросов\")\n",
    "plt.xlabel(\"Количество слов\")\n",
    "plt.ylabel(\"Частота\")\n",
    "plt.show()"
   ]
  },
  {
   "cell_type": "markdown",
   "metadata": {
    "id": "-pVk5JX2tCYs"
   },
   "source": [
    "Видим, что большинство вопросов не очень длинные. Максимальную длину учтем в параметрах BERT.\n",
    "Также соответствующим образом ограничим длину текста пользователя веб-интерфейсе."
   ]
  },
  {
   "cell_type": "markdown",
   "metadata": {
    "id": "gVOLpFuctCYs"
   },
   "source": [
    "### 2. Текстовая предобработка вопросов <a id=\"step_2\"></a>"
   ]
  },
  {
   "cell_type": "markdown",
   "metadata": {
    "id": "xO4nYI60tCYt"
   },
   "source": [
    "Предобработка включает следующие шаги:\n",
    "* токенизация,\n",
    "* очистка полученных токенов от знаков пунктуации и числительных,\n",
    "* нормализация токенов (стемматизация или лемматизация),\n",
    "* удаление стоп-слов.\n",
    "\n",
    "Попробуем 2 способа: библиотеку nltk со стемматизацией и библиотеку spacy с лемматизацией."
   ]
  },
  {
   "cell_type": "markdown",
   "metadata": {
    "id": "DVmMFpAZtCYt"
   },
   "source": [
    "__Предобработка с помощью библиотеки nltk и стемматизации__"
   ]
  },
  {
   "cell_type": "code",
   "execution_count": null,
   "metadata": {
    "id": "IQc8wOLftCYt"
   },
   "outputs": [],
   "source": [
    "# Вспомогательные функции\n",
    "\n",
    "# Стемматизация одного слова\n",
    "# (устанавливаем размер кэша примерно равным ожидаемому количеству слов во всем корпусе вопросов)\n",
    "@lru_cache(maxsize=5000)\n",
    "def stemmatize_word(word, stemmer=PorterStemmer()):\n",
    "    return stemmer.stem(word)\n",
    "\n",
    "# Стемматизация списка слов\n",
    "def stemmatize_words(words):\n",
    "    return [stemmatize_word(w) for w in words]\n",
    "\n",
    "# Удаление стоп-слов из списка стем\n",
    "mystopwords = stopwords.words('english')\n",
    "def remove_stopwords(stems, stopwords=mystopwords):\n",
    "    return [s for s in stems if not s in stopwords]\n",
    "\n",
    "# Токенизация с выделением только английских слов размером от 3-х символов и выше\n",
    "regex = re.compile(\"[a-zA-Z]{3,}\")\n",
    "def get_words_only(text, regex=regex):\n",
    "    try:\n",
    "        return regex.findall(text.lower())\n",
    "    except:\n",
    "        return []\n",
    "\n",
    "# Функция для предобработки одного документа (в нашем случае - это один вопрос из корпуса вопросов)\n",
    "def preproc_text(text):\n",
    "    words = get_words_only(text)\n",
    "    stems = stemmatize_words(words)\n",
    "    return ' '.join(remove_stopwords(stems))"
   ]
  },
  {
   "cell_type": "code",
   "execution_count": null,
   "metadata": {
    "id": "v7tDVupatCYt",
    "outputId": "f2ad706b-5a6f-448a-dfb8-b8e75e5a5552"
   },
   "outputs": [
    {
     "name": "stderr",
     "output_type": "stream",
     "text": [
      "100%|████████████████████████████████████████████████████████████████████████████| 4567/4567 [00:00<00:00, 4790.74it/s]\n"
     ]
    },
    {
     "data": {
      "text/html": [
       "<div>\n",
       "<style scoped>\n",
       "    .dataframe tbody tr th:only-of-type {\n",
       "        vertical-align: middle;\n",
       "    }\n",
       "\n",
       "    .dataframe tbody tr th {\n",
       "        vertical-align: top;\n",
       "    }\n",
       "\n",
       "    .dataframe thead th {\n",
       "        text-align: right;\n",
       "    }\n",
       "</style>\n",
       "<table border=\"1\" class=\"dataframe\">\n",
       "  <thead>\n",
       "    <tr style=\"text-align: right;\">\n",
       "      <th></th>\n",
       "      <th>question_id</th>\n",
       "      <th>question</th>\n",
       "      <th>stems</th>\n",
       "    </tr>\n",
       "  </thead>\n",
       "  <tbody>\n",
       "    <tr>\n",
       "      <th>0</th>\n",
       "      <td>0</td>\n",
       "      <td>After how many hour from drinking an antibiotic can I drink alcohol?</td>\n",
       "      <td>mani hour drink antibiot drink alcohol</td>\n",
       "    </tr>\n",
       "    <tr>\n",
       "      <th>1</th>\n",
       "      <td>1</td>\n",
       "      <td>Am I over weight (192.9) for my age (39)?</td>\n",
       "      <td>weight age</td>\n",
       "    </tr>\n",
       "    <tr>\n",
       "      <th>2</th>\n",
       "      <td>2</td>\n",
       "      <td>Aspirin allergy - is it worth getting a bracelet?</td>\n",
       "      <td>aspirin allergi worth get bracelet</td>\n",
       "    </tr>\n",
       "    <tr>\n",
       "      <th>3</th>\n",
       "      <td>3</td>\n",
       "      <td>At a doctor's visit, I hit my head against a box on the wall containing hazardous materials (used syringes, used needles...). Will I get infected?</td>\n",
       "      <td>doctor visit hit head box wall contain hazard materi use syring use needl get infect</td>\n",
       "    </tr>\n",
       "    <tr>\n",
       "      <th>4</th>\n",
       "      <td>4</td>\n",
       "      <td>Been on antibiotics 4 5wks top high tooth dentist cld not get needle 2 freeze 2 extract in gum really hurt she said its the tissues hve 2 go bk? Plz</td>\n",
       "      <td>antibiot wk top high tooth dentist cld get needl freez extract gum realli hurt said tissu hve plz</td>\n",
       "    </tr>\n",
       "  </tbody>\n",
       "</table>\n",
       "</div>"
      ],
      "text/plain": [
       "   question_id                                                                                                                                              question                                                                                              stems\n",
       "0            0                                                                                  After how many hour from drinking an antibiotic can I drink alcohol?                                                             mani hour drink antibiot drink alcohol\n",
       "1            1                                                                                                             Am I over weight (192.9) for my age (39)?                                                                                         weight age\n",
       "2            2                                                                                                     Aspirin allergy - is it worth getting a bracelet?                                                                 aspirin allergi worth get bracelet\n",
       "3            3    At a doctor's visit, I hit my head against a box on the wall containing hazardous materials (used syringes, used needles...). Will I get infected?               doctor visit hit head box wall contain hazard materi use syring use needl get infect\n",
       "4            4  Been on antibiotics 4 5wks top high tooth dentist cld not get needle 2 freeze 2 extract in gum really hurt she said its the tissues hve 2 go bk? Plz  antibiot wk top high tooth dentist cld get needl freez extract gum realli hurt said tissu hve plz"
      ]
     },
     "execution_count": 32,
     "metadata": {},
     "output_type": "execute_result"
    }
   ],
   "source": [
    "# Запускаем обработку колонки 'question' в корпусе вопросов\n",
    "with Pool(8) as p:\n",
    "    stems = list(tqdm(map(preproc_text, questions['question']), total=len(questions)))\n",
    "\n",
    "# Добавляем колонку stems\n",
    "questions['stems'] = stems\n",
    "questions.head()"
   ]
  },
  {
   "cell_type": "markdown",
   "metadata": {
    "id": "5-Q8YhTytCYt"
   },
   "source": [
    "__Предобработка с помощью библиотеки spacy и лемматизации__"
   ]
  },
  {
   "cell_type": "markdown",
   "metadata": {
    "id": "iGZg9hoStCYt"
   },
   "source": [
    "Будем использовать модель [en_core_web_md](https://spacy.io/models/en) для английского языка из библиотеки spacy"
   ]
  },
  {
   "cell_type": "code",
   "execution_count": null,
   "metadata": {
    "id": "nc8O3mXbtCYu"
   },
   "outputs": [],
   "source": [
    "#!pip install -U spacy>=3.0\n",
    "#!python -m spacy download en_core_web_md"
   ]
  },
  {
   "cell_type": "code",
   "execution_count": null,
   "metadata": {
    "id": "7NYWhBlJtCYu"
   },
   "outputs": [],
   "source": [
    "import spacy\n",
    "\n",
    "# Загружаем модель\n",
    "nlp = spacy.load('en_core_web_md')"
   ]
  },
  {
   "cell_type": "code",
   "execution_count": null,
   "metadata": {
    "id": "cKmZT1xVtCYz",
    "outputId": "7fe6d4f4-3f13-4cfd-8f9b-245368a4fce4"
   },
   "outputs": [
    {
     "name": "stderr",
     "output_type": "stream",
     "text": [
      "100%|█████████████████████████████████████████████████████████████████████████████| 4567/4567 [00:34<00:00, 133.40it/s]\n"
     ]
    },
    {
     "data": {
      "text/html": [
       "<div>\n",
       "<style scoped>\n",
       "    .dataframe tbody tr th:only-of-type {\n",
       "        vertical-align: middle;\n",
       "    }\n",
       "\n",
       "    .dataframe tbody tr th {\n",
       "        vertical-align: top;\n",
       "    }\n",
       "\n",
       "    .dataframe thead th {\n",
       "        text-align: right;\n",
       "    }\n",
       "</style>\n",
       "<table border=\"1\" class=\"dataframe\">\n",
       "  <thead>\n",
       "    <tr style=\"text-align: right;\">\n",
       "      <th></th>\n",
       "      <th>question_id</th>\n",
       "      <th>question</th>\n",
       "      <th>stems</th>\n",
       "      <th>lemmas</th>\n",
       "    </tr>\n",
       "  </thead>\n",
       "  <tbody>\n",
       "    <tr>\n",
       "      <th>0</th>\n",
       "      <td>0</td>\n",
       "      <td>After how many hour from drinking an antibiotic can I drink alcohol?</td>\n",
       "      <td>mani hour drink antibiot drink alcohol</td>\n",
       "      <td>hour drink antibiotic drink alcohol</td>\n",
       "    </tr>\n",
       "    <tr>\n",
       "      <th>1</th>\n",
       "      <td>1</td>\n",
       "      <td>Am I over weight (192.9) for my age (39)?</td>\n",
       "      <td>weight age</td>\n",
       "      <td>weight age</td>\n",
       "    </tr>\n",
       "    <tr>\n",
       "      <th>2</th>\n",
       "      <td>2</td>\n",
       "      <td>Aspirin allergy - is it worth getting a bracelet?</td>\n",
       "      <td>aspirin allergi worth get bracelet</td>\n",
       "      <td>aspirin allergy worth get bracelet</td>\n",
       "    </tr>\n",
       "    <tr>\n",
       "      <th>3</th>\n",
       "      <td>3</td>\n",
       "      <td>At a doctor's visit, I hit my head against a box on the wall containing hazardous materials (used syringes, used needles...). Will I get infected?</td>\n",
       "      <td>doctor visit hit head box wall contain hazard materi use syring use needl get infect</td>\n",
       "      <td>doctor visit hit head box wall contain hazardous material syrinx needle infect</td>\n",
       "    </tr>\n",
       "    <tr>\n",
       "      <th>4</th>\n",
       "      <td>4</td>\n",
       "      <td>Been on antibiotics 4 5wks top high tooth dentist cld not get needle 2 freeze 2 extract in gum really hurt she said its the tissues hve 2 go bk? Plz</td>\n",
       "      <td>antibiot wk top high tooth dentist cld get needl freez extract gum realli hurt said tissu hve plz</td>\n",
       "      <td>antibiotic 5wks high tooth dentist cld needle freeze extract gum hurt say tissue hve bk plz</td>\n",
       "    </tr>\n",
       "  </tbody>\n",
       "</table>\n",
       "</div>"
      ],
      "text/plain": [
       "   question_id                                                                                                                                              question                                                                                              stems                                                                                       lemmas\n",
       "0            0                                                                                  After how many hour from drinking an antibiotic can I drink alcohol?                                                             mani hour drink antibiot drink alcohol                                                          hour drink antibiotic drink alcohol\n",
       "1            1                                                                                                             Am I over weight (192.9) for my age (39)?                                                                                         weight age                                                                                   weight age\n",
       "2            2                                                                                                     Aspirin allergy - is it worth getting a bracelet?                                                                 aspirin allergi worth get bracelet                                                           aspirin allergy worth get bracelet\n",
       "3            3    At a doctor's visit, I hit my head against a box on the wall containing hazardous materials (used syringes, used needles...). Will I get infected?               doctor visit hit head box wall contain hazard materi use syring use needl get infect               doctor visit hit head box wall contain hazardous material syrinx needle infect\n",
       "4            4  Been on antibiotics 4 5wks top high tooth dentist cld not get needle 2 freeze 2 extract in gum really hurt she said its the tissues hve 2 go bk? Plz  antibiot wk top high tooth dentist cld get needl freez extract gum realli hurt said tissu hve plz  antibiotic 5wks high tooth dentist cld needle freeze extract gum hurt say tissue hve bk plz"
      ]
     },
     "execution_count": 34,
     "metadata": {},
     "output_type": "execute_result"
    }
   ],
   "source": [
    "# Запускаем обработку колонки 'question' в корпусе вопросов\n",
    "lemmas = []\n",
    "for q in tqdm(nlp.pipe(questions['question']), total=len(questions)):\n",
    "    lemmas.append(\n",
    "        ' '.join([\n",
    "            f\"{token.lemma_.lower().strip()}\" \\\n",
    "            for token in q if not (token.is_space or token.is_stop or token.is_punct or token.like_num)\n",
    "        ])\n",
    "    )\n",
    "\n",
    "# Добавляем колонку lemmas\n",
    "questions['lemmas'] = lemmas\n",
    "questions.head()"
   ]
  },
  {
   "cell_type": "markdown",
   "metadata": {
    "id": "yc1SopVztCYz"
   },
   "source": [
    "### 3. Расчет точности поиска accuracy@n <a id=\"step_3\"></a>"
   ]
  },
  {
   "cell_type": "markdown",
   "metadata": {
    "id": "JV2DulZTtCYz"
   },
   "source": [
    "В качестве метрики будем использовать точность поиска `accuracy@n`, рассчитываемую как доля случайно отобранных вопросов,\n",
    "у которых среди найденных n ближайших соседей есть такие, что соответствующая пара в датасете имеет метку `1`."
   ]
  },
  {
   "cell_type": "code",
   "execution_count": 15,
   "metadata": {
    "executionInfo": {
     "elapsed": 278,
     "status": "ok",
     "timestamp": 1716238155917,
     "user": {
      "displayName": "Kirill N.",
      "userId": "16481738826806641256"
     },
     "user_tz": -180
    },
    "id": "M1MQRLEctCY0"
   },
   "outputs": [],
   "source": [
    "def get_accuracy_at_n(question_vecs: np.ndarray,\n",
    "                      question_pairs: pd.DataFrame,\n",
    "                      metric='cosine',\n",
    "                      size=RANDOM_CHOICE_SIZE,\n",
    "                      n=NEAREST_NUM) -> float:\n",
    "    \"\"\"\n",
    "    Функция для расчета точности поиска ближайших вопросов по их векторному представлению.\n",
    "\n",
    "    Входные данные:\n",
    "        - question_vecs: векторизованный корпус вопросов в виде numpy-матрицы,\n",
    "        - question_pairs: датасет с парами вопросов и их id,\n",
    "        - metric: способ расчета расстояния между векторами,\n",
    "        - size: кол-во случайно отбираемых векторов,\n",
    "        - n: количество ближайших векторов для каждого из случайно отобранных.\n",
    "\n",
    "    Возвращаемое значение:\n",
    "        - Доля случайно отобранных векторов, у которых среди найденных n ближайших соседей есть такие,\n",
    "        что соответствующая пара вопросов в датасете действительно имеет метку 1.\n",
    "    \"\"\"\n",
    "    selected_inds = np.random.choice(np.arange(len(question_vecs)), size=size, replace=False)\n",
    "    dists = pairwise_distances(question_vecs[selected_inds], question_vecs, metric=metric)\n",
    "\n",
    "    correct_labels_cnt = 0\n",
    "    for i, selected_idx in enumerate(selected_inds):\n",
    "        # Берем n+1 ближайших, т.к. 0-й будет всегда совпадать с самим вопросом\n",
    "        close_vec_inds = np.argsort(dists[i, :])[: n + 1]\n",
    "\n",
    "        for close_vec_idx in close_vec_inds:\n",
    "            if close_vec_idx == selected_idx:\n",
    "                continue\n",
    "\n",
    "            try:\n",
    "                label = question_pairs[(question_pairs['question_1_id'] == selected_idx) \\\n",
    "                & (question_pairs['question_2_id'] == close_vec_idx)]['label'].values[0]\n",
    "            except:\n",
    "                try:\n",
    "                    label = question_pairs[(question_pairs['question_1_id'] == close_vec_idx) \\\n",
    "                    & (question_pairs['question_2_id'] == selected_idx)]['label'].values[0]\n",
    "                except:\n",
    "                    label = 0\n",
    "\n",
    "            if label == 1:\n",
    "                correct_labels_cnt += 1\n",
    "                break\n",
    "\n",
    "    return correct_labels_cnt / size"
   ]
  },
  {
   "cell_type": "markdown",
   "metadata": {
    "id": "WhLJZFNvtCY0"
   },
   "source": [
    "### 4. Векторизация с помощью BoW <a id=\"step_4\"></a>"
   ]
  },
  {
   "cell_type": "markdown",
   "metadata": {
    "id": "P90p-XrbtCY0"
   },
   "source": [
    "Строим мешок слов с помощью CountVectorizer, после чего обучаем RandomForestClassifier на полученных векторах."
   ]
  },
  {
   "cell_type": "code",
   "execution_count": null,
   "metadata": {
    "id": "dhMgeMf2tCY0"
   },
   "outputs": [],
   "source": [
    "# Создаем BoW векторайзер\n",
    "cnt_vectorizer = CountVectorizer(\n",
    "    analyzer='word',\n",
    "    token_pattern=r\"[a-zA-Z]{3,}\",\n",
    "    ngram_range=(1, 1),\n",
    "    min_df=2,\n",
    "    max_df=0.9\n",
    ")"
   ]
  },
  {
   "cell_type": "code",
   "execution_count": null,
   "metadata": {
    "id": "3T44p4sRtCY0"
   },
   "outputs": [],
   "source": [
    "# Строим BoW для лемм\n",
    "lemm_cnt_vecs = cnt_vectorizer.fit_transform(questions['lemmas'])"
   ]
  },
  {
   "cell_type": "code",
   "execution_count": null,
   "metadata": {
    "id": "vZ34sj84tCY1",
    "outputId": "bcfab64e-3d83-4bc2-e4c9-dd4573f2ac41"
   },
   "outputs": [
    {
     "name": "stderr",
     "output_type": "stream",
     "text": [
      "100%|██████████████████████████████████████████████████████████████████████████████████| 10/10 [00:12<00:00,  1.25s/it]"
     ]
    },
    {
     "name": "stdout",
     "output_type": "stream",
     "text": [
      "Средняя точность при использовании BoW и лемматизации:\n",
      "0.516\n"
     ]
    },
    {
     "name": "stderr",
     "output_type": "stream",
     "text": [
      "\n"
     ]
    }
   ],
   "source": [
    "# Оцениваем среднюю точность\n",
    "accs = []\n",
    "for _ in tqdm(range(ACC_CALC_NUM)):\n",
    "    acc = get_accuracy_at_n(lemm_cnt_vecs.toarray(), data)\n",
    "    accs.append(acc)\n",
    "\n",
    "print(\"Средняя точность при использовании BoW и лемматизации:\")\n",
    "print(round(sum(accs) / len(accs), 3))"
   ]
  },
  {
   "cell_type": "code",
   "execution_count": null,
   "metadata": {
    "id": "iysoE_ogtCY1"
   },
   "outputs": [],
   "source": [
    "# Строим BoW для оснований слов (stems)\n",
    "stem_cnt_vecs = cnt_vectorizer.fit_transform(questions['stems'])"
   ]
  },
  {
   "cell_type": "code",
   "execution_count": null,
   "metadata": {
    "id": "_7o70U_itCY1",
    "outputId": "f9260235-be80-4ae5-9326-c30ba8aebee9"
   },
   "outputs": [
    {
     "name": "stderr",
     "output_type": "stream",
     "text": [
      "100%|██████████████████████████████████████████████████████████████████████████████████| 10/10 [00:12<00:00,  1.22s/it]"
     ]
    },
    {
     "name": "stdout",
     "output_type": "stream",
     "text": [
      "Средняя точность при использовании BoW и стемматизации:\n",
      "0.531\n"
     ]
    },
    {
     "name": "stderr",
     "output_type": "stream",
     "text": [
      "\n"
     ]
    }
   ],
   "source": [
    "# Оцениваем среднюю точность\n",
    "accs = []\n",
    "for _ in tqdm(range(ACC_CALC_NUM)):\n",
    "    acc = get_accuracy_at_n(stem_cnt_vecs.toarray(), data)\n",
    "    accs.append(acc)\n",
    "\n",
    "print(\"Средняя точность при использовании BoW и стемматизации:\")\n",
    "print(round(sum(accs) / len(accs), 3))"
   ]
  },
  {
   "cell_type": "markdown",
   "metadata": {
    "id": "WnUpiz2YtCY1"
   },
   "source": [
    "Вывод: точность у BoW получилась не очень высокой.\n",
    "Если выбирать между лемматизацией и стемматизацией, то в среднем они дают примерно одинаковый результат, что ожидаемо для английского языка."
   ]
  },
  {
   "cell_type": "markdown",
   "metadata": {
    "id": "5cvlEcFHtCY1"
   },
   "source": [
    "### 5. Векторизация с помощью TF-IDF <a id=\"step_5\"></a>"
   ]
  },
  {
   "cell_type": "code",
   "execution_count": null,
   "metadata": {
    "id": "xkQxUnoPtCY1"
   },
   "outputs": [],
   "source": [
    "# Создаем TF-IDF векторайзер\n",
    "tfidf_vectorizer = TfidfVectorizer(\n",
    "    analyzer='word',\n",
    "    ngram_range=(1, 1),\n",
    "    token_pattern=r\"[a-zA-Z]{3,}\",\n",
    "    min_df=2,\n",
    "    max_df=0.9\n",
    ")"
   ]
  },
  {
   "cell_type": "code",
   "execution_count": null,
   "metadata": {
    "id": "Rsy0rTDhtCY2"
   },
   "outputs": [],
   "source": [
    "# Строим tf-idf вектора для лемм\n",
    "lemm_tfidf_vecs = tfidf_vectorizer.fit_transform(questions['lemmas'])"
   ]
  },
  {
   "cell_type": "code",
   "execution_count": null,
   "metadata": {
    "id": "vWBXhH5stCY2",
    "outputId": "1fa96539-b07d-46a2-bd96-4f5fa92d5a5a"
   },
   "outputs": [
    {
     "name": "stderr",
     "output_type": "stream",
     "text": [
      "100%|██████████████████████████████████████████████████████████████████████████████████| 10/10 [00:10<00:00,  1.07s/it]"
     ]
    },
    {
     "name": "stdout",
     "output_type": "stream",
     "text": [
      "Точность при использовании TF-IDF и лемматизации:\n",
      "0.575\n"
     ]
    },
    {
     "name": "stderr",
     "output_type": "stream",
     "text": [
      "\n"
     ]
    }
   ],
   "source": [
    "# Оцениваем среднюю точность\n",
    "accs = []\n",
    "for _ in tqdm(range(ACC_CALC_NUM)):\n",
    "    acc = get_accuracy_at_n(lemm_tfidf_vecs.toarray(), data)\n",
    "    accs.append(acc)\n",
    "\n",
    "print(\"Точность при использовании TF-IDF и лемматизации:\")\n",
    "print(round(sum(accs) / len(accs), 3))"
   ]
  },
  {
   "cell_type": "code",
   "execution_count": null,
   "metadata": {
    "id": "-_X05h8OtCY2"
   },
   "outputs": [],
   "source": [
    "# Строим tf-idf вектора для оснований слов (stems)\n",
    "stem_tfidf_vecs = tfidf_vectorizer.fit_transform(questions['stems'])"
   ]
  },
  {
   "cell_type": "code",
   "execution_count": null,
   "metadata": {
    "id": "GThrjP-2tCY2",
    "outputId": "01bd573b-e5d8-46f5-a178-35e7235128eb"
   },
   "outputs": [
    {
     "name": "stderr",
     "output_type": "stream",
     "text": [
      "100%|██████████████████████████████████████████████████████████████████████████████████| 10/10 [00:10<00:00,  1.08s/it]"
     ]
    },
    {
     "name": "stdout",
     "output_type": "stream",
     "text": [
      "Точность при использовании TF-IDF и стемматизации:\n",
      "0.577\n"
     ]
    },
    {
     "name": "stderr",
     "output_type": "stream",
     "text": [
      "\n"
     ]
    }
   ],
   "source": [
    "# Оцениваем среднюю точность\n",
    "accs = []\n",
    "for _ in tqdm(range(ACC_CALC_NUM)):\n",
    "    acc = get_accuracy_at_n(stem_tfidf_vecs.toarray(), data)\n",
    "    accs.append(acc)\n",
    "\n",
    "print(\"Точность при использовании TF-IDF и стемматизации:\")\n",
    "print(round(sum(accs) / len(accs), 3))"
   ]
  },
  {
   "cell_type": "markdown",
   "metadata": {
    "id": "5ElbnamAtCY2"
   },
   "source": [
    "Вывод: в среднем, точность у TF-IDF получается немного выше чем у BoW,\n",
    "т.к. добавление информации о встречаемости во всем корпусе вопросов позволяет лучше оценивать их близость.\n",
    "Как и в случае с BoW, большой разницы между использованием лемматизации и стемматизации не наблюдается."
   ]
  },
  {
   "cell_type": "markdown",
   "metadata": {
    "id": "ITjsYG2ntCY3"
   },
   "source": [
    "### 6. Векторизация с помощью word2vec и glove <a id=\"step_6\"></a>"
   ]
  },
  {
   "cell_type": "markdown",
   "metadata": {
    "id": "8-0BWhd1tCY3"
   },
   "source": [
    "Сначала применим самостоятельно обученную word2vec-модель, а затем сравним ее с предобученной из библиотеки glove.\n",
    "\n",
    "Напишем две функции для расчета эмбедингов текстов по эмбедингам входящих в них слов.\n",
    "Одна будет считать средние эмбединги, а другая - средневзвешенные по idf каждого слова."
   ]
  },
  {
   "cell_type": "markdown",
   "metadata": {
    "id": "zGl7HGUEtCY3"
   },
   "source": [
    "__Расчет средних эмбедингов__"
   ]
  },
  {
   "cell_type": "code",
   "execution_count": 16,
   "metadata": {
    "id": "eJPad3rLtCY3"
   },
   "outputs": [],
   "source": [
    "def get_mean_embed(text: str, embed_size: int, wv_dict: dict) -> np.ndarray:\n",
    "    \"\"\"\n",
    "    Функция для расчета среднего вектора текста по векторному представлению входящих в него слов для word2vec моделей.\n",
    "\n",
    "    Входные данные:\n",
    "        - text (str): строка из токенов, разделенных пробелами,\n",
    "        - embed_size (int): размер векторов,\n",
    "        - wv_dict (dict): словарь, отображающий токены в их векторное представление.\n",
    "\n",
    "    Возвращаемые значения:\n",
    "        - Средний вектор текста размерности embed_size (np.ndarray).\n",
    "    \"\"\"\n",
    "    embeds = [np.array(wv_dict[w]) for w in text.split() if w in wv_dict]\n",
    "\n",
    "    if len(embeds) == 0:\n",
    "        mean_embed = np.zeros(embed_size)\n",
    "    else:\n",
    "        mean_embed = np.mean(np.array(embeds), axis=0)\n",
    "\n",
    "    return mean_embed"
   ]
  },
  {
   "cell_type": "markdown",
   "metadata": {
    "id": "q7Jem3G7tCY3"
   },
   "source": [
    "__Расчет средневзвешенных эмбедингов__"
   ]
  },
  {
   "cell_type": "code",
   "execution_count": 17,
   "metadata": {
    "id": "83Cw7O2UtCY3"
   },
   "outputs": [],
   "source": [
    "def get_weighted_embed(text: str, embed_size: int, wv_dict: dict, word2weight: dict) -> np.ndarray:\n",
    "    \"\"\"\n",
    "    Функция для расчета средневзвешенного вектора текста по векторному представлению входящих в него слов для word2vec моделей.\n",
    "\n",
    "    Входные данные:\n",
    "        - text (str): строка из токенов, разделенных пробелами,\n",
    "        - embed_size (int): размер векторов,\n",
    "        - wv_dict (dict): словарь, отображающий токены в их векторное представление,\n",
    "        - word2weight(dict): словарь, отображающий токены в их веса.\n",
    "\n",
    "    Возвращаемые значения:\n",
    "        - Средневзвешенный вектор текста размерности embed_size (np.ndarray).\n",
    "    \"\"\"\n",
    "    weighted_embed = np.mean([wv_dict[w] * word2weight[w] for w in text.split() if w in wv_dict] or [np.zeros(embed_size)], axis=0)\n",
    "\n",
    "    return weighted_embed"
   ]
  },
  {
   "cell_type": "markdown",
   "metadata": {
    "id": "gB4yylCbtCY4"
   },
   "source": [
    "__Самостоятельно обученная word2vec-модель__"
   ]
  },
  {
   "cell_type": "code",
   "execution_count": null,
   "metadata": {
    "id": "HqzchKfKtCY4",
    "outputId": "e42a9f02-7ace-4190-c075-a636f2544d54"
   },
   "outputs": [
    {
     "name": "stderr",
     "output_type": "stream",
     "text": [
      "2024-05-19 19:57:21,831 : INFO : collecting all words and their counts\n",
      "2024-05-19 19:57:21,833 : INFO : PROGRESS: at sentence #0, processed 0 words, keeping 0 word types\n",
      "2024-05-19 19:57:21,873 : INFO : collected 4872 word types from a corpus of 40129 raw words and 4567 sentences\n",
      "2024-05-19 19:57:21,876 : INFO : Creating a fresh vocabulary\n",
      "2024-05-19 19:57:21,955 : INFO : Word2Vec lifecycle event {'msg': 'effective_min_count=1 retains 4872 unique words (100.00% of original 4872, drops 0)', 'datetime': '2024-05-19T19:57:21.955971', 'gensim': '4.3.0', 'python': '3.11.7 | packaged by Anaconda, Inc. | (main, Dec 15 2023, 18:05:47) [MSC v.1916 64 bit (AMD64)]', 'platform': 'Windows-10-10.0.19045-SP0', 'event': 'prepare_vocab'}\n",
      "2024-05-19 19:57:21,955 : INFO : Word2Vec lifecycle event {'msg': 'effective_min_count=1 leaves 40129 word corpus (100.00% of original 40129, drops 0)', 'datetime': '2024-05-19T19:57:21.955971', 'gensim': '4.3.0', 'python': '3.11.7 | packaged by Anaconda, Inc. | (main, Dec 15 2023, 18:05:47) [MSC v.1916 64 bit (AMD64)]', 'platform': 'Windows-10-10.0.19045-SP0', 'event': 'prepare_vocab'}\n"
     ]
    },
    {
     "name": "stdout",
     "output_type": "stream",
     "text": [
      "Обучаем свою word2vec-модель...\n"
     ]
    },
    {
     "name": "stderr",
     "output_type": "stream",
     "text": [
      "2024-05-19 19:57:22,046 : INFO : deleting the raw counts dictionary of 4872 items\n",
      "2024-05-19 19:57:22,049 : INFO : sample=0.001 downsamples 58 most-common words\n",
      "2024-05-19 19:57:22,050 : INFO : Word2Vec lifecycle event {'msg': 'downsampling leaves estimated 36464.8674387169 word corpus (90.9%% of prior 40129)', 'datetime': '2024-05-19T19:57:22.050279', 'gensim': '4.3.0', 'python': '3.11.7 | packaged by Anaconda, Inc. | (main, Dec 15 2023, 18:05:47) [MSC v.1916 64 bit (AMD64)]', 'platform': 'Windows-10-10.0.19045-SP0', 'event': 'prepare_vocab'}\n",
      "2024-05-19 19:57:22,114 : INFO : estimated required memory for 4872 words and 300 dimensions: 14128800 bytes\n",
      "2024-05-19 19:57:22,115 : INFO : resetting layer weights\n",
      "2024-05-19 19:57:22,129 : INFO : Word2Vec lifecycle event {'update': False, 'trim_rule': 'None', 'datetime': '2024-05-19T19:57:22.129263', 'gensim': '4.3.0', 'python': '3.11.7 | packaged by Anaconda, Inc. | (main, Dec 15 2023, 18:05:47) [MSC v.1916 64 bit (AMD64)]', 'platform': 'Windows-10-10.0.19045-SP0', 'event': 'build_vocab'}\n",
      "2024-05-19 19:57:22,130 : INFO : Word2Vec lifecycle event {'msg': 'training model with 4 workers on 4872 vocabulary and 300 features, using sg=0 hs=0 sample=0.001 negative=5 window=5 shrink_windows=True', 'datetime': '2024-05-19T19:57:22.130301', 'gensim': '4.3.0', 'python': '3.11.7 | packaged by Anaconda, Inc. | (main, Dec 15 2023, 18:05:47) [MSC v.1916 64 bit (AMD64)]', 'platform': 'Windows-10-10.0.19045-SP0', 'event': 'train'}\n",
      "2024-05-19 19:57:22,209 : INFO : EPOCH 0: training on 40129 raw words (36441 effective words) took 0.1s, 550601 effective words/s\n",
      "2024-05-19 19:57:22,380 : INFO : EPOCH 1: training on 40129 raw words (36460 effective words) took 0.1s, 350768 effective words/s\n",
      "2024-05-19 19:57:22,499 : INFO : EPOCH 2: training on 40129 raw words (36510 effective words) took 0.1s, 362024 effective words/s\n",
      "2024-05-19 19:57:22,631 : INFO : EPOCH 3: training on 40129 raw words (36462 effective words) took 0.1s, 349981 effective words/s\n",
      "2024-05-19 19:57:22,753 : INFO : EPOCH 4: training on 40129 raw words (36377 effective words) took 0.1s, 332222 effective words/s\n",
      "2024-05-19 19:57:22,757 : INFO : Word2Vec lifecycle event {'msg': 'training on 200645 raw words (182250 effective words) took 0.6s, 291078 effective words/s', 'datetime': '2024-05-19T19:57:22.757355', 'gensim': '4.3.0', 'python': '3.11.7 | packaged by Anaconda, Inc. | (main, Dec 15 2023, 18:05:47) [MSC v.1916 64 bit (AMD64)]', 'platform': 'Windows-10-10.0.19045-SP0', 'event': 'train'}\n",
      "2024-05-19 19:57:22,759 : INFO : Word2Vec lifecycle event {'params': 'Word2Vec<vocab=4872, vector_size=300, alpha=0.025>', 'datetime': '2024-05-19T19:57:22.757355', 'gensim': '4.3.0', 'python': '3.11.7 | packaged by Anaconda, Inc. | (main, Dec 15 2023, 18:05:47) [MSC v.1916 64 bit (AMD64)]', 'platform': 'Windows-10-10.0.19045-SP0', 'event': 'created'}\n"
     ]
    },
    {
     "name": "stdout",
     "output_type": "stream",
     "text": [
      "CPU times: total: 1.67 s\n",
      "Wall time: 930 ms\n"
     ]
    }
   ],
   "source": [
    "# Будем обучать свою модель на леммах\n",
    "lemmas = [q.split() for q in questions['lemmas']]\n",
    "\n",
    "print(\"Обучаем свою word2vec-модель...\")\n",
    "%time my_wv_model = word2vec.Word2Vec(lemmas, workers=4, vector_size=300, min_count=1, window=5)"
   ]
  },
  {
   "cell_type": "code",
   "execution_count": null,
   "metadata": {
    "id": "29zOawcGtCY4",
    "outputId": "067ae73e-b21d-42c9-f913-0912a3c4b344"
   },
   "outputs": [
    {
     "data": {
      "text/plain": [
       "4872"
      ]
     },
     "execution_count": 49,
     "metadata": {},
     "output_type": "execute_result"
    }
   ],
   "source": [
    "# Размер созданного словаря\n",
    "len(my_wv_model.wv)"
   ]
  },
  {
   "cell_type": "markdown",
   "metadata": {
    "id": "_h0fgwM3tCY4"
   },
   "source": [
    "Посчитаем средние и средневзвешенные эмбединги для каждого вопроса"
   ]
  },
  {
   "cell_type": "code",
   "execution_count": null,
   "metadata": {
    "id": "3VDIijpytCY5"
   },
   "outputs": [],
   "source": [
    "# Создаем словарь, отображающий слова в вектора\n",
    "my_wv = my_wv_model.wv\n",
    "my_wv_dict = dict(zip(my_wv.index_to_key, my_wv.vectors))"
   ]
  },
  {
   "cell_type": "code",
   "execution_count": null,
   "metadata": {
    "id": "RDzDO0OetCY5"
   },
   "outputs": [],
   "source": [
    "# Находим средние вектора всех вопросов\n",
    "my_wv_mean_embeds = np.array([get_mean_embed(q, my_wv.vector_size, my_wv_dict) for q in questions['lemmas']])"
   ]
  },
  {
   "cell_type": "code",
   "execution_count": null,
   "metadata": {
    "id": "Fv9sC8D1tCY5"
   },
   "outputs": [],
   "source": [
    "# Создаем словарь, в котором каждому слову соответствует его idf в обученном tf-idf векторайзере\n",
    "\n",
    "# Создаем TF-IDF векторайзер\n",
    "tfidf_vectorizer = TfidfVectorizer(\n",
    "    analyzer='word',\n",
    "    ngram_range=(1, 1),\n",
    "    token_pattern=r\"[a-zA-Z]{3,}\",\n",
    "    min_df=2,\n",
    "    max_df=0.9\n",
    ")\n",
    "\n",
    "# Обучаем TF-IDF векторайзер на леммах\n",
    "tfidf_vectorizer = tfidf_vectorizer.fit(questions['lemmas'])\n",
    "\n",
    "# Строим словарь, в котором каждому слову из словаря TF-IDF векторайзера соответствует его idf (либо макс idf)\n",
    "word2weight = defaultdict(lambda: max(tfidf_vectorizer.idf_), [(w, tfidf_vectorizer.idf_[i]) for w, i in tfidf_vectorizer.vocabulary_.items()])"
   ]
  },
  {
   "cell_type": "code",
   "execution_count": null,
   "metadata": {
    "id": "RFRKsu2XtCY5"
   },
   "outputs": [],
   "source": [
    "# Находим средневзвешенные вектора всех вопросов\n",
    "my_wv_weighted_embeds = np.array([get_weighted_embed(q, my_wv.vector_size, my_wv_dict, word2weight) for q in questions['lemmas']])"
   ]
  },
  {
   "cell_type": "code",
   "execution_count": null,
   "metadata": {
    "id": "6XBfxDtDtCY5",
    "outputId": "25dd264d-789a-4881-aa7b-a97ed5eb1c2e"
   },
   "outputs": [
    {
     "name": "stderr",
     "output_type": "stream",
     "text": [
      "100%|██████████████████████████████████████████████████████████████████████████████████| 10/10 [00:09<00:00,  1.07it/s]\n"
     ]
    },
    {
     "name": "stdout",
     "output_type": "stream",
     "text": [
      "Точность при использовании своей word2vec-модели и средних эмбедингов:\n",
      "0.365\n"
     ]
    },
    {
     "name": "stderr",
     "output_type": "stream",
     "text": [
      "100%|██████████████████████████████████████████████████████████████████████████████████| 10/10 [00:09<00:00,  1.02it/s]"
     ]
    },
    {
     "name": "stdout",
     "output_type": "stream",
     "text": [
      "Точность при использовании своей word2vec-модели и средневзвешенных эмбедингов:\n",
      "0.387\n"
     ]
    },
    {
     "name": "stderr",
     "output_type": "stream",
     "text": [
      "\n"
     ]
    }
   ],
   "source": [
    "# Оцениваем точность\n",
    "\n",
    "accs = []\n",
    "for _ in tqdm(range(ACC_CALC_NUM)):\n",
    "    acc = get_accuracy_at_n(my_wv_mean_embeds, data)\n",
    "    accs.append(acc)\n",
    "print(\"Точность при использовании своей word2vec-модели и средних эмбедингов:\")\n",
    "print(round(sum(accs) / len(accs), 3))\n",
    "\n",
    "accs = []\n",
    "for _ in tqdm(range(ACC_CALC_NUM)):\n",
    "    acc = get_accuracy_at_n(my_wv_weighted_embeds, data)\n",
    "    accs.append(acc)\n",
    "print(\"Точность при использовании своей word2vec-модели и средневзвешенных эмбедингов:\")\n",
    "print(round(sum(accs) / len(accs), 3))"
   ]
  },
  {
   "cell_type": "markdown",
   "metadata": {
    "id": "uQaK8T26tCY6"
   },
   "source": [
    "Вывод: точность поиска получилась даже хуже чем у BoW и TF-IDF, что можно объяснить особенностями разметки пар вопросов,\n",
    "а также недостатками самого word2vec, т.к. он, например, не учитывает частоту совместной встречаемости.\n",
    "Кроме того, видим, что взвешивание по idf в данном случае дает совсем небольшое улучшение."
   ]
  },
  {
   "cell_type": "markdown",
   "metadata": {
    "id": "vIxTQAfItCY6"
   },
   "source": [
    "__Предобученная glove-модель__"
   ]
  },
  {
   "cell_type": "markdown",
   "metadata": {
    "id": "-o3EwNjdtCY6"
   },
   "source": [
    "Посмотрим, какие модели доступны для скачивания через API gensim"
   ]
  },
  {
   "cell_type": "code",
   "execution_count": null,
   "metadata": {
    "id": "THWMvBYvtCY6",
    "outputId": "187c7194-3da0-4125-e79d-db14f65f80cb"
   },
   "outputs": [
    {
     "name": "stdout",
     "output_type": "stream",
     "text": [
      "['fasttext-wiki-news-subwords-300', 'conceptnet-numberbatch-17-06-300', 'word2vec-ruscorpora-300', 'word2vec-google-news-300', 'glove-wiki-gigaword-50', 'glove-wiki-gigaword-100', 'glove-wiki-gigaword-200', 'glove-wiki-gigaword-300', 'glove-twitter-25', 'glove-twitter-50', 'glove-twitter-100', 'glove-twitter-200', '__testing_word2vec-matrix-synopsis']\n"
     ]
    }
   ],
   "source": [
    "print(list(gensim.downloader.info()['models'].keys()))"
   ]
  },
  {
   "cell_type": "markdown",
   "metadata": {
    "id": "VQvSC6ijtCY6"
   },
   "source": [
    "Загружаем `glove-wiki-gigaword-300`"
   ]
  },
  {
   "cell_type": "code",
   "execution_count": null,
   "metadata": {
    "id": "rkcZcBQetCY6",
    "outputId": "01656154-8d4f-4c48-ac57-2b0aaf858350"
   },
   "outputs": [
    {
     "name": "stdout",
     "output_type": "stream",
     "text": [
      "Загружаем модель glove...\n"
     ]
    },
    {
     "name": "stderr",
     "output_type": "stream",
     "text": [
      "2024-05-19 19:58:04,783 : INFO : loading projection weights from C:\\Users\\Kirill_Nosov/gensim-data\\glove-wiki-gigaword-300\\glove-wiki-gigaword-300.gz\n",
      "2024-05-19 20:01:58,111 : INFO : KeyedVectors lifecycle event {'msg': 'loaded (400000, 300) matrix of type float32 from C:\\\\Users\\\\Kirill_Nosov/gensim-data\\\\glove-wiki-gigaword-300\\\\glove-wiki-gigaword-300.gz', 'binary': False, 'encoding': 'utf8', 'datetime': '2024-05-19T20:01:58.111837', 'gensim': '4.3.0', 'python': '3.11.7 | packaged by Anaconda, Inc. | (main, Dec 15 2023, 18:05:47) [MSC v.1916 64 bit (AMD64)]', 'platform': 'Windows-10-10.0.19045-SP0', 'event': 'load_word2vec_format'}\n"
     ]
    },
    {
     "name": "stdout",
     "output_type": "stream",
     "text": [
      "CPU times: total: 3min 51s\n",
      "Wall time: 3min 53s\n"
     ]
    }
   ],
   "source": [
    "print('Загружаем модель glove...')\n",
    "%time glove_wv = gensim.downloader.load('glove-wiki-gigaword-300')"
   ]
  },
  {
   "cell_type": "markdown",
   "metadata": {
    "id": "Ljmmp_j-tCY7"
   },
   "source": [
    "Посмотрим на загруженную модель"
   ]
  },
  {
   "cell_type": "code",
   "execution_count": null,
   "metadata": {
    "id": "ZdcyYIb5tCY7",
    "outputId": "ede7e7ae-db52-467b-ab56-c2a4ad874714"
   },
   "outputs": [
    {
     "data": {
      "text/plain": [
       "400000"
      ]
     },
     "execution_count": 56,
     "metadata": {},
     "output_type": "execute_result"
    }
   ],
   "source": [
    "# Общее количество слов\n",
    "len(glove_wv)"
   ]
  },
  {
   "cell_type": "code",
   "execution_count": null,
   "metadata": {
    "id": "P6FBOhhdtCY7",
    "outputId": "c13c09e2-2bc7-4908-965d-6676dd433d7a"
   },
   "outputs": [
    {
     "data": {
      "text/plain": [
       "[('planets', 0.6714062094688416),\n",
       " ('uranus', 0.6397686004638672),\n",
       " ('jupiter', 0.6318029761314392),\n",
       " ('ganymede', 0.5787632465362549),\n",
       " ('asteroids', 0.5538063645362854),\n",
       " ('orbits', 0.5535204410552979),\n",
       " ('pluto', 0.5365555286407471),\n",
       " ('jovian', 0.530035138130188),\n",
       " ('saturn', 0.500491201877594),\n",
       " ('orbiting', 0.4947132468223572)]"
      ]
     },
     "execution_count": 57,
     "metadata": {},
     "output_type": "execute_result"
    }
   ],
   "source": [
    "# Оценим семантическую близость для произвольного слова\n",
    "glove_wv.most_similar(positive=\"moons\", topn=10)"
   ]
  },
  {
   "cell_type": "markdown",
   "metadata": {
    "id": "nPTWMMjDtCY7"
   },
   "source": [
    "Посчитаем средние и средневзвешенные эмбединги для каждого вопроса"
   ]
  },
  {
   "cell_type": "code",
   "execution_count": null,
   "metadata": {
    "id": "0wiBWMcLtCY7"
   },
   "outputs": [],
   "source": [
    "# Cоздаем словарь, в котором каждому слову будет соответствовать предобученный вектор\n",
    "glove_wv_dict = dict(zip(glove_wv.index_to_key, glove_wv.vectors))\n",
    "\n",
    "# Находим средние эмбединги для всех вопросов\n",
    "glove_mean_embeds = np.array([get_mean_embed(q, glove_wv.vector_size, glove_wv_dict) for q in questions['lemmas']])\n",
    "\n",
    "# Находим средневзвешенные эмбединги для всех вопросов\n",
    "glove_weighted_embeds = np.array([get_weighted_embed(q, glove_wv.vector_size, glove_wv_dict, word2weight) for q in questions['lemmas']])"
   ]
  },
  {
   "cell_type": "code",
   "execution_count": null,
   "metadata": {
    "id": "wYif-Nq2tCY8",
    "outputId": "71ce46a2-8090-4ff6-eee5-c2af644bbb21"
   },
   "outputs": [
    {
     "name": "stderr",
     "output_type": "stream",
     "text": [
      "100%|██████████████████████████████████████████████████████████████████████████████████| 10/10 [00:08<00:00,  1.18it/s]\n"
     ]
    },
    {
     "name": "stdout",
     "output_type": "stream",
     "text": [
      "Точность при использовании glove и средних эмбедингов:\n",
      "0.497\n"
     ]
    },
    {
     "name": "stderr",
     "output_type": "stream",
     "text": [
      "100%|██████████████████████████████████████████████████████████████████████████████████| 10/10 [00:08<00:00,  1.18it/s]"
     ]
    },
    {
     "name": "stdout",
     "output_type": "stream",
     "text": [
      "Точность при использовании glove и средневзвешенных эмбедингов:\n",
      "0.5\n"
     ]
    },
    {
     "name": "stderr",
     "output_type": "stream",
     "text": [
      "\n"
     ]
    }
   ],
   "source": [
    "# Оцениваем точность\n",
    "\n",
    "accs = []\n",
    "for _ in tqdm(range(ACC_CALC_NUM)):\n",
    "    acc = get_accuracy_at_n(glove_mean_embeds, data)\n",
    "    accs.append(acc)\n",
    "print(\"Точность при использовании glove и средних эмбедингов:\")\n",
    "print(round(sum(accs) / len(accs), 3))\n",
    "\n",
    "accs = []\n",
    "for _ in tqdm(range(ACC_CALC_NUM)):\n",
    "    acc = get_accuracy_at_n(glove_weighted_embeds, data)\n",
    "    accs.append(acc)\n",
    "print(\"Точность при использовании glove и средневзвешенных эмбедингов:\")\n",
    "print(round(sum(accs) / len(accs), 3))"
   ]
  },
  {
   "cell_type": "markdown",
   "metadata": {
    "id": "H1mbpzXFtCY8"
   },
   "source": [
    "Вывод: по сравнению с самостоятельно обученной word2vec моделью точность поиска у предобученной glove значительно выше, т.к. у нее\n",
    "более осмысленные эмбединги, но, если сравнивать с TF-IDF, то на данном датасете glove все равно немного уступает,\n",
    "что можно объяснить, например, особенностями разметки пар вопросов."
   ]
  },
  {
   "cell_type": "markdown",
   "metadata": {
    "id": "RlK2QQustCY8"
   },
   "source": [
    "### 7. Векторизация с помощью BERT <a id=\"step_7\"></a>"
   ]
  },
  {
   "cell_type": "markdown",
   "metadata": {
    "id": "Nnco-f1VtCY8"
   },
   "source": [
    "Устанавливаем и импортируем необходимые библиотеки"
   ]
  },
  {
   "cell_type": "code",
   "execution_count": null,
   "metadata": {
    "id": "vX_qyICJtCY8"
   },
   "outputs": [],
   "source": [
    "#!pip install ipywidgets==7.7.2 --upgrade\n",
    "#!pip install transformers\n",
    "#!pip install -U sentence-transformers"
   ]
  },
  {
   "cell_type": "code",
   "execution_count": 18,
   "metadata": {
    "executionInfo": {
     "elapsed": 5778,
     "status": "ok",
     "timestamp": 1716233294700,
     "user": {
      "displayName": "Kirill N.",
      "userId": "16481738826806641256"
     },
     "user_tz": -180
    },
    "id": "n4uj2lNWtCY9"
   },
   "outputs": [],
   "source": [
    "from sentence_transformers import SentenceTransformer"
   ]
  },
  {
   "cell_type": "markdown",
   "metadata": {
    "id": "TjbMGooAtCY9"
   },
   "source": [
    "Будем использовать специальную BERT-модель для оценки семантической близости текстов (Semantic Textual Similarity).\n",
    "На сайте [sbert](https://www.sbert.net/docs/pretrained_models.html)\n",
    "можно сравнить модели по качеству поиска, скорости работы, максимальному размеру входного текста\n",
    "и размеру самой модели. Выбираем [all-MiniLM-L6-v2](https://huggingface.co/sentence-transformers/all-MiniLM-L6-v2)"
   ]
  },
  {
   "cell_type": "code",
   "execution_count": 19,
   "metadata": {
    "executionInfo": {
     "elapsed": 259,
     "status": "ok",
     "timestamp": 1716233280411,
     "user": {
      "displayName": "Kirill N.",
      "userId": "16481738826806641256"
     },
     "user_tz": -180
    },
    "id": "UMZ7Cds7tCY9"
   },
   "outputs": [],
   "source": [
    "# Название модели\n",
    "SENT_TRANSFORMER_NAME = \"all-MiniLM-L6-v2\""
   ]
  },
  {
   "cell_type": "code",
   "execution_count": 20,
   "metadata": {
    "colab": {
     "base_uri": "https://localhost:8080/",
     "height": 369,
     "referenced_widgets": [
      "58b9967bbcfc45f1b293874465cf7986",
      "9b426b54318e4990b3cc87613bb0e27d",
      "36388d8245584af3a16b5917eb822809",
      "be41af80704d4a44bab4aba92a79a46c",
      "c2373ac36ad8429d95b8fcc38c7a0534",
      "5cdaa91039c44ef4a108cba0bfde2c2c",
      "0ef9f00176324ec5b226d96848906816",
      "0341562542f34ad6bf294eaa3a516026",
      "e7d192b1821f45ddac63b32b1adedfb8",
      "9d4ece20a7024fbfb8014f204539fc8e",
      "8bce8b70b7474bf0a870f5a6a50e4b75",
      "0a5ee6625303472291fcbfe61781b37e",
      "cfc159580a6b4b3fb7a970ea095dbded",
      "09a9bae47b1b47888358fd160bd30b59",
      "e3949a0d7e9b4d4ab3016a154cb2bdbb",
      "56d717ee982e49839ce775100978beb9",
      "129f960c641c4d638d1961d5d201bb63",
      "b237f99d8c4a4c3dacf7146bf4ed7547",
      "4e957381affe412db2ad6be680e72e94",
      "b3cf0b4d946843018c08a213cb1072ee",
      "2547a4eb87484e84a6acb9546848f428",
      "aaa77cf0025c48dcbc60a1243fa67432",
      "caa87d913f6442858b23b372734a097d",
      "66465b47a46044338a9b1952c2159150",
      "728e1d1393504a669b5bddfdb3cd4745",
      "8b330719f47f42d3accef0632acd291e",
      "84d6d437e72343dd85d21f6a704bb596",
      "23e1eca0c37c4ccba0741bf632f0f81a",
      "8af06f0cd79c4bb5ba89893ae170ca2b",
      "3f2c78c36aa944a58d4c9c054d7621f2",
      "393d0c8a9d084a1d86b01d6e7e084023",
      "efb0554bdf184e8198c27486eee9c245",
      "9e76ced2b5b94cb9baf3e9117142efce",
      "e8e045b00869451db05a6ad4819b5225",
      "b17eddc7e7ee4840bd9ce7e8ca9370e7",
      "a1c8380fe04d4c7c89aabb9a03709cd3",
      "2de6c309a87e4e33a98a391d66bf4d5c",
      "0cf53a0919824870beb61cacef422285",
      "d1cb3443378f483ba9fd1503c980a3cc",
      "3e8e1e6d93d74a859065ae166d89bf83",
      "8148b62b0cb444cabacf0758d8631430",
      "560bb60fe3b843ceb3f24917ca04a627",
      "a4cba043a7c24d2da0f656831d0b3c70",
      "3a30bc76cc0147198ffbfa5080632237",
      "244ae4a9f36042dab53896ece9910bf2",
      "ce465331456c45768dda76a55602caf7",
      "9626c268510748e2b43c85a830076c0a",
      "d2b69357836047438b566a944e7ae094",
      "ffa29066496e41de9ef1f32fe668df10",
      "6ef5215fe30c4112baf241dbc1438f0e",
      "d329fd5e2c5947189115f7be7ac6ecdb",
      "8a37bd78c2764068b9a99e91b432f079",
      "4dd1aabd8aa34405838326415d724fcf",
      "cf9036c8f11345898480f647feca7276",
      "c0d6c566564a468e88fb5d87364e96c9",
      "2458cb568de24b4ea9f89819fbc6f7af",
      "faea5163ee474f1683e4377cf63d1f8b",
      "47c6045d4b564f028d38200733d19ed4",
      "60928cd1b10b4ca895c4c452cfb687dd",
      "9d6a757ea8a84db1bf1c556c664a27a8",
      "ffc6249a06a345d390693289117067bb",
      "7b938fdf6ed54601925d64ddcc54fa5c",
      "e3b597961e8d4eaca2dc211901e4471c",
      "5f40a08ff8114ee0ac1e52b435b71391",
      "46f6cdf02a9c44b5a711fbcb415db489",
      "5ed06d44957142fda0038bc7b0303fc4",
      "8b32a6245450420e8de258dfcd07a86f",
      "015c2b5e7b2c47ebbe28178871042850",
      "81debd35c0234c5fa8be2cda875a7028",
      "57dd0e6c75634daba15adffc4468ffd3",
      "bc0f4dcf98e8475bbbf73238d4e13943",
      "0ba227aebc864b76812612084bafd9b4",
      "3b42c421bcaa46898c2d85053798d300",
      "58eefa74e03d427ab6e5edf71b4ca56e",
      "f321630000e84225ba6a1b82af5de265",
      "4d53aa35d3444dd0ba81e51d9751f80a",
      "262523798c9e4958bc3e84e78e548f12",
      "6f2a05758b2b4db8bf812da833576dec",
      "5606f68781c54a70b479919a190ff329",
      "aacb3f578f2346e6bbc4beee4866ae37",
      "9907897f7acf472ba85d3398395b6cf5",
      "0527530693da4995860d4ba89ab855a1",
      "f39a7646144246f2b8e9fbf48497f646",
      "67b83b9b75b84b368197082f82ca8c52",
      "2d19844be8d3408080627bd7a311d7cf",
      "be597144537749b7b6b5d06c0eb3afe0",
      "6d3591ec7f1847d6ad7f68f794f1c9e8",
      "3c19be37c55f453283883bfc10ea4dec",
      "bc3325381d5e4fc2a7bcee41441d22af",
      "679220212a2041c3afcecce6153db797",
      "6296bcc4c85149098e87fb13d6e1d864",
      "ce0ff4f4751b462599ead0a94bbfb245",
      "c643820b9fd843e48b7abdc820805f25",
      "0d8f379af1014c17838d4081e2300cee",
      "67cd9c6527d94244bbb1692f1be07bf9",
      "fccbdfad4f934ad49265e267b38e08b0",
      "f362bccda60843dc9bbbc692a84ca3cf",
      "b68aa1a0678f4819b460fd73ebcc1523",
      "4dc99c7b6c8f42dd8504ef17e6e19d78",
      "3a077cc649684dffacdbd83931338ab8",
      "df7c23c18a314382b73b12bd1e34e46b",
      "033a746c3cf6485d8ea9bfd4f18ccab5",
      "4ff31528d5a646dc867ca4ef808aad6a",
      "57a7f99f1d19481eb08c649708ad9323",
      "9a3f6eb4f05847b1a7b3fdd4b57dc0f7",
      "e5dc02ab6163417eaa9cfb52c5cb3f15",
      "05992a0598094887bde90539f3fb79af",
      "744c855184624948aee6e6392cf52c31",
      "befb4d423095491888ce83907ff66297",
      "1637ff010c7740149f22453d00736e0c",
      "849a3daadb504ad0aa01a21c458a2922",
      "b8a745e2dc66408fa6668cc223d1de5d",
      "80f6fc95164544f587cb341a10aa75ec",
      "6ff95a0eb5c0485792aa3dba5268bafa",
      "09efff9970ad49a797806723e07d00bb",
      "c368308a406b4253b3b947932bd3af5f",
      "f3201d60d3e74fa4bba46af3dd8116cf",
      "4fd84ee2b3584d84984fbaa1d788db56",
      "46a331ebbd534fa0a37b00a0fc382d14",
      "4d9951660c3d46938a37b6e4ce335f82",
      "3eb2bab7d8be43e6afe58bcff0d38cac"
     ]
    },
    "executionInfo": {
     "elapsed": 6025,
     "status": "ok",
     "timestamp": 1716233302509,
     "user": {
      "displayName": "Kirill N.",
      "userId": "16481738826806641256"
     },
     "user_tz": -180
    },
    "id": "DnkVv8EWtCY9",
    "outputId": "795e27a4-c10d-4aa9-e35c-b1fc0e61ab7b"
   },
   "outputs": [
    {
     "name": "stderr",
     "output_type": "stream",
     "text": [
      "2024-06-24 19:20:09,327 : INFO : Load pretrained SentenceTransformer: all-MiniLM-L6-v2\n"
     ]
    },
    {
     "data": {
      "application/vnd.jupyter.widget-view+json": {
       "model_id": "69fa10159b3048f680d3f24876267952",
       "version_major": 2,
       "version_minor": 0
      },
      "text/plain": [
       "modules.json:   0%|          | 0.00/349 [00:00<?, ?B/s]"
      ]
     },
     "metadata": {},
     "output_type": "display_data"
    },
    {
     "data": {
      "application/vnd.jupyter.widget-view+json": {
       "model_id": "14594140c5454160a546778496878595",
       "version_major": 2,
       "version_minor": 0
      },
      "text/plain": [
       "config_sentence_transformers.json:   0%|          | 0.00/116 [00:00<?, ?B/s]"
      ]
     },
     "metadata": {},
     "output_type": "display_data"
    },
    {
     "data": {
      "application/vnd.jupyter.widget-view+json": {
       "model_id": "a45724f85df144efa447071cc59f52eb",
       "version_major": 2,
       "version_minor": 0
      },
      "text/plain": [
       "README.md:   0%|          | 0.00/10.7k [00:00<?, ?B/s]"
      ]
     },
     "metadata": {},
     "output_type": "display_data"
    },
    {
     "data": {
      "application/vnd.jupyter.widget-view+json": {
       "model_id": "db792134564740649d718edbe44cde51",
       "version_major": 2,
       "version_minor": 0
      },
      "text/plain": [
       "sentence_bert_config.json:   0%|          | 0.00/53.0 [00:00<?, ?B/s]"
      ]
     },
     "metadata": {},
     "output_type": "display_data"
    },
    {
     "data": {
      "application/vnd.jupyter.widget-view+json": {
       "model_id": "f350dfecc2044912904c4f430254512c",
       "version_major": 2,
       "version_minor": 0
      },
      "text/plain": [
       "config.json:   0%|          | 0.00/612 [00:00<?, ?B/s]"
      ]
     },
     "metadata": {},
     "output_type": "display_data"
    },
    {
     "data": {
      "application/vnd.jupyter.widget-view+json": {
       "model_id": "1f9ca24bda4a4ce881761bba29aa4c65",
       "version_major": 2,
       "version_minor": 0
      },
      "text/plain": [
       "model.safetensors:   0%|          | 0.00/90.9M [00:00<?, ?B/s]"
      ]
     },
     "metadata": {},
     "output_type": "display_data"
    },
    {
     "data": {
      "application/vnd.jupyter.widget-view+json": {
       "model_id": "621f97841f9043c7b9614185a560c2d7",
       "version_major": 2,
       "version_minor": 0
      },
      "text/plain": [
       "tokenizer_config.json:   0%|          | 0.00/350 [00:00<?, ?B/s]"
      ]
     },
     "metadata": {},
     "output_type": "display_data"
    },
    {
     "data": {
      "application/vnd.jupyter.widget-view+json": {
       "model_id": "63c14a2882c84755bb9d3a2fbfe10de6",
       "version_major": 2,
       "version_minor": 0
      },
      "text/plain": [
       "vocab.txt:   0%|          | 0.00/232k [00:00<?, ?B/s]"
      ]
     },
     "metadata": {},
     "output_type": "display_data"
    },
    {
     "data": {
      "application/vnd.jupyter.widget-view+json": {
       "model_id": "45242a3df43841c08fcc1168e0b16be5",
       "version_major": 2,
       "version_minor": 0
      },
      "text/plain": [
       "tokenizer.json:   0%|          | 0.00/466k [00:00<?, ?B/s]"
      ]
     },
     "metadata": {},
     "output_type": "display_data"
    },
    {
     "data": {
      "application/vnd.jupyter.widget-view+json": {
       "model_id": "bd71b8067b27404987b1446060f3d864",
       "version_major": 2,
       "version_minor": 0
      },
      "text/plain": [
       "special_tokens_map.json:   0%|          | 0.00/112 [00:00<?, ?B/s]"
      ]
     },
     "metadata": {},
     "output_type": "display_data"
    },
    {
     "data": {
      "application/vnd.jupyter.widget-view+json": {
       "model_id": "8b015e1ef93941a38ddde7d83e783b45",
       "version_major": 2,
       "version_minor": 0
      },
      "text/plain": [
       "1_Pooling/config.json:   0%|          | 0.00/190 [00:00<?, ?B/s]"
      ]
     },
     "metadata": {},
     "output_type": "display_data"
    },
    {
     "name": "stderr",
     "output_type": "stream",
     "text": [
      "2024-06-24 19:20:22,211 : INFO : Use pytorch device_name: cpu\n"
     ]
    }
   ],
   "source": [
    "# Загружаем модель\n",
    "bert_model = SentenceTransformer(SENT_TRANSFORMER_NAME)"
   ]
  },
  {
   "cell_type": "code",
   "execution_count": 21,
   "metadata": {
    "id": "effJRcCytCY9",
    "outputId": "7aba24d5-fc09-42a7-9cb2-735d7e906d96"
   },
   "outputs": [
    {
     "data": {
      "text/plain": [
       "SentenceTransformer(\n",
       "  (0): Transformer({'max_seq_length': 256, 'do_lower_case': False}) with Transformer model: BertModel \n",
       "  (1): Pooling({'word_embedding_dimension': 384, 'pooling_mode_cls_token': False, 'pooling_mode_mean_tokens': True, 'pooling_mode_max_tokens': False, 'pooling_mode_mean_sqrt_len_tokens': False, 'pooling_mode_weightedmean_tokens': False, 'pooling_mode_lasttoken': False, 'include_prompt': True})\n",
       "  (2): Normalize()\n",
       ")"
      ]
     },
     "execution_count": 21,
     "metadata": {},
     "output_type": "execute_result"
    }
   ],
   "source": [
    "# Структура модели\n",
    "bert_model"
   ]
  },
  {
   "cell_type": "code",
   "execution_count": 23,
   "metadata": {
    "colab": {
     "base_uri": "https://localhost:8080/"
    },
    "executionInfo": {
     "elapsed": 4885,
     "status": "ok",
     "timestamp": 1716233518024,
     "user": {
      "displayName": "Kirill N.",
      "userId": "16481738826806641256"
     },
     "user_tz": -180
    },
    "id": "dE4Y8BDStCY-",
    "outputId": "cf412d64-d477-4658-f3e9-25c2b8a76390"
   },
   "outputs": [
    {
     "name": "stdout",
     "output_type": "stream",
     "text": [
      "Кодируем все вопросы...\n"
     ]
    },
    {
     "data": {
      "application/vnd.jupyter.widget-view+json": {
       "model_id": "62610cafdb354293918b32fb02022079",
       "version_major": 2,
       "version_minor": 0
      },
      "text/plain": [
       "Batches:   0%|          | 0/143 [00:00<?, ?it/s]"
      ]
     },
     "metadata": {},
     "output_type": "display_data"
    },
    {
     "name": "stdout",
     "output_type": "stream",
     "text": [
      "CPU times: total: 2min 52s\n",
      "Wall time: 48.7 s\n"
     ]
    }
   ],
   "source": [
    "# Кодируем корпус вопросов (используем колонку с исходным текстом)\n",
    "print('Кодируем все вопросы...')\n",
    "%time bert_embeds = bert_model.encode(questions['question'], convert_to_tensor=False)"
   ]
  },
  {
   "cell_type": "code",
   "execution_count": 24,
   "metadata": {
    "colab": {
     "base_uri": "https://localhost:8080/"
    },
    "executionInfo": {
     "elapsed": 321,
     "status": "ok",
     "timestamp": 1716233521378,
     "user": {
      "displayName": "Kirill N.",
      "userId": "16481738826806641256"
     },
     "user_tz": -180
    },
    "id": "e1SUImIUtCY-",
    "outputId": "b33e81fb-03f6-4079-a99d-cfac576cfb3c"
   },
   "outputs": [
    {
     "name": "stdout",
     "output_type": "stream",
     "text": [
      "<class 'numpy.ndarray'>\n",
      "(4567, 384)\n"
     ]
    }
   ],
   "source": [
    "# На выходе получаем numpy-матрицу c эмбедингами всех вопросов\n",
    "print(type(bert_embeds))\n",
    "print(bert_embeds.shape)"
   ]
  },
  {
   "cell_type": "code",
   "execution_count": null,
   "metadata": {
    "id": "K2094p6OtCY-",
    "outputId": "0d1e865b-0936-4cbc-a23b-031501a5cb10"
   },
   "outputs": [
    {
     "name": "stderr",
     "output_type": "stream",
     "text": [
      "100%|██████████████████████████████████████████████████████████████████████████████████| 20/20 [00:13<00:00,  1.47it/s]"
     ]
    },
    {
     "name": "stdout",
     "output_type": "stream",
     "text": [
      "Точность при использовании BERT-модели:\n",
      "0.624\n"
     ]
    },
    {
     "name": "stderr",
     "output_type": "stream",
     "text": [
      "\n"
     ]
    }
   ],
   "source": [
    "# Оцениваем точность\n",
    "accs = []\n",
    "for _ in tqdm(range(ACC_CALC_NUM)):\n",
    "    acc = get_accuracy_at_n(bert_embeds, data)\n",
    "    accs.append(acc)\n",
    "print(\"Точность при использовании BERT-модели:\")\n",
    "print(round(sum(accs) / len(accs), 3))"
   ]
  },
  {
   "cell_type": "markdown",
   "metadata": {
    "id": "NdPG-hEAtCY-"
   },
   "source": [
    "Вывод: средняя точность поиска у BERT получилась выше, чем у остальных способов векторизации,\n",
    "поэтому далее для расчета векторных расстояний и оценки близости текстов будем использовать эмбединги BERT."
   ]
  },
  {
   "cell_type": "markdown",
   "metadata": {
    "id": "KejMpwGItCY-"
   },
   "source": [
    "### 8. Обучение классификаторов на парах вопросов <a id=\"step_8\"></a>"
   ]
  },
  {
   "cell_type": "markdown",
   "metadata": {
    "id": "JU5yM0dPtCY-"
   },
   "source": [
    "Добавим классификатор, который для пары вопросов будет предсказывать метку `1` или `0`.\n",
    "Это позволит для заданного вопроса сначала находить ближайшие к нему по векторному расстоянию,\n",
    "а затем отбирать из них те, для которых классификатор выдает `1`.\n",
    "Сравним точность на тестовой выборке у классификатора CatBoostClassifier и дообученной модели BERT с добавленным линейным слоем."
   ]
  },
  {
   "cell_type": "markdown",
   "metadata": {
    "id": "ejR3oNXctCY-"
   },
   "source": [
    "__CatBoostClassifier__\n",
    "\n",
    "Создаем расширенный датасет, включающий пары вопросов в прямом порядке (т.е. из левой и правой колонок)\n",
    "и в обратном (с той же меткой, но сначала вопрос из правой колонки, а потом из левой)"
   ]
  },
  {
   "cell_type": "code",
   "execution_count": 26,
   "metadata": {
    "executionInfo": {
     "elapsed": 249,
     "status": "ok",
     "timestamp": 1716238180210,
     "user": {
      "displayName": "Kirill N.",
      "userId": "16481738826806641256"
     },
     "user_tz": -180
    },
    "id": "QiVelnQotCY_"
   },
   "outputs": [],
   "source": [
    "# Создаем расширенный датасет\n",
    "X_12 = np.hstack([bert_embeds[data['question_1_id']], bert_embeds[data['question_2_id']]])\n",
    "X_21 = np.hstack([bert_embeds[data['question_2_id']], bert_embeds[data['question_1_id']]])\n",
    "X = np.vstack([X_12, X_21])\n",
    "\n",
    "y = data['label']\n",
    "y = np.hstack([y, y])"
   ]
  },
  {
   "cell_type": "code",
   "execution_count": 27,
   "metadata": {
    "executionInfo": {
     "elapsed": 272,
     "status": "ok",
     "timestamp": 1716238183685,
     "user": {
      "displayName": "Kirill N.",
      "userId": "16481738826806641256"
     },
     "user_tz": -180
    },
    "id": "qNzrzjMatCY_"
   },
   "outputs": [],
   "source": [
    "# Разбиваем на train и test\n",
    "X_train, X_test, y_train, y_test = train_test_split(X, y,\n",
    "                                                    test_size=0.2,\n",
    "                                                    random_state=RANDOM_STATE,\n",
    "                                                    stratify=y,\n",
    "                                                    shuffle=True)"
   ]
  },
  {
   "cell_type": "code",
   "execution_count": 28,
   "metadata": {
    "colab": {
     "base_uri": "https://localhost:8080/"
    },
    "executionInfo": {
     "elapsed": 209179,
     "status": "ok",
     "timestamp": 1716238394269,
     "user": {
      "displayName": "Kirill N.",
      "userId": "16481738826806641256"
     },
     "user_tz": -180
    },
    "id": "BrXrHs5vtCY_",
    "outputId": "3a51ca65-a00c-42ab-c54b-bd0b862d311b"
   },
   "outputs": [
    {
     "name": "stdout",
     "output_type": "stream",
     "text": [
      "Обучаем классификатор...\n",
      "CPU times: total: 11min 12s\n",
      "Wall time: 2min 8s\n"
     ]
    },
    {
     "data": {
      "text/plain": [
       "<catboost.core.CatBoostClassifier at 0x19524fd2410>"
      ]
     },
     "execution_count": 28,
     "metadata": {},
     "output_type": "execute_result"
    }
   ],
   "source": [
    "# Обучаем классификатор\n",
    "cb_cls_model = CatBoostClassifier(\n",
    "    loss_function=\"Logloss\",\n",
    "    random_seed=RANDOM_STATE,\n",
    "    verbose=False\n",
    ")\n",
    "\n",
    "print(\"Обучаем классификатор...\")\n",
    "%time cb_cls_model.fit(X_train, y_train)"
   ]
  },
  {
   "cell_type": "code",
   "execution_count": 29,
   "metadata": {
    "colab": {
     "base_uri": "https://localhost:8080/"
    },
    "executionInfo": {
     "elapsed": 261,
     "status": "ok",
     "timestamp": 1716238433709,
     "user": {
      "displayName": "Kirill N.",
      "userId": "16481738826806641256"
     },
     "user_tz": -180
    },
    "id": "J6dB3_w9tCY_",
    "outputId": "74b32b77-e5d4-4570-b3ef-b080dbe76e34"
   },
   "outputs": [
    {
     "name": "stdout",
     "output_type": "stream",
     "text": [
      "0.7721311475409836\n"
     ]
    }
   ],
   "source": [
    "# Оцениваем точность на тестовой выборке\n",
    "y_pred = cb_cls_model.predict(X_test)\n",
    "print(accuracy_score(y_test, y_pred))"
   ]
  },
  {
   "cell_type": "code",
   "execution_count": 30,
   "metadata": {
    "colab": {
     "base_uri": "https://localhost:8080/",
     "height": 206
    },
    "executionInfo": {
     "elapsed": 236,
     "status": "ok",
     "timestamp": 1716238439053,
     "user": {
      "displayName": "Kirill N.",
      "userId": "16481738826806641256"
     },
     "user_tz": -180
    },
    "id": "01fOnPJ5tCY_",
    "outputId": "ae37e55c-1013-46ec-83a1-714040689a8a"
   },
   "outputs": [
    {
     "data": {
      "text/html": [
       "<div>\n",
       "<style scoped>\n",
       "    .dataframe tbody tr th:only-of-type {\n",
       "        vertical-align: middle;\n",
       "    }\n",
       "\n",
       "    .dataframe tbody tr th {\n",
       "        vertical-align: top;\n",
       "    }\n",
       "\n",
       "    .dataframe thead th {\n",
       "        text-align: right;\n",
       "    }\n",
       "</style>\n",
       "<table border=\"1\" class=\"dataframe\">\n",
       "  <thead>\n",
       "    <tr style=\"text-align: right;\">\n",
       "      <th></th>\n",
       "      <th>precision</th>\n",
       "      <th>recall</th>\n",
       "      <th>f1-score</th>\n",
       "      <th>support</th>\n",
       "    </tr>\n",
       "  </thead>\n",
       "  <tbody>\n",
       "    <tr>\n",
       "      <th>0</th>\n",
       "      <td>0.769481</td>\n",
       "      <td>0.777049</td>\n",
       "      <td>0.773246</td>\n",
       "      <td>610.000000</td>\n",
       "    </tr>\n",
       "    <tr>\n",
       "      <th>1</th>\n",
       "      <td>0.774834</td>\n",
       "      <td>0.767213</td>\n",
       "      <td>0.771005</td>\n",
       "      <td>610.000000</td>\n",
       "    </tr>\n",
       "    <tr>\n",
       "      <th>accuracy</th>\n",
       "      <td>0.772131</td>\n",
       "      <td>0.772131</td>\n",
       "      <td>0.772131</td>\n",
       "      <td>0.772131</td>\n",
       "    </tr>\n",
       "    <tr>\n",
       "      <th>macro avg</th>\n",
       "      <td>0.772157</td>\n",
       "      <td>0.772131</td>\n",
       "      <td>0.772126</td>\n",
       "      <td>1220.000000</td>\n",
       "    </tr>\n",
       "    <tr>\n",
       "      <th>weighted avg</th>\n",
       "      <td>0.772157</td>\n",
       "      <td>0.772131</td>\n",
       "      <td>0.772126</td>\n",
       "      <td>1220.000000</td>\n",
       "    </tr>\n",
       "  </tbody>\n",
       "</table>\n",
       "</div>"
      ],
      "text/plain": [
       "              precision    recall  f1-score      support\n",
       "0              0.769481  0.777049  0.773246   610.000000\n",
       "1              0.774834  0.767213  0.771005   610.000000\n",
       "accuracy       0.772131  0.772131  0.772131     0.772131\n",
       "macro avg      0.772157  0.772131  0.772126  1220.000000\n",
       "weighted avg   0.772157  0.772131  0.772126  1220.000000"
      ]
     },
     "execution_count": 30,
     "metadata": {},
     "output_type": "execute_result"
    }
   ],
   "source": [
    "pd.DataFrame(classification_report(y_test, y_pred, output_dict=True)).transpose()"
   ]
  },
  {
   "cell_type": "markdown",
   "metadata": {
    "id": "2aPdgPNWdASr"
   },
   "source": [
    "Сохраняем модель в файл.\n",
    "Если обучение проводилось в Google Colab, то для дальнейшей работы этот файл нужно будет перенести вручную в папку `models` репозитория."
   ]
  },
  {
   "cell_type": "code",
   "execution_count": 32,
   "metadata": {
    "executionInfo": {
     "elapsed": 357,
     "status": "ok",
     "timestamp": 1716238447435,
     "user": {
      "displayName": "Kirill N.",
      "userId": "16481738826806641256"
     },
     "user_tz": -180
    },
    "id": "gcCYNrU0tCY_"
   },
   "outputs": [],
   "source": [
    "# Сохраняем модель\n",
    "if IN_COLAB:\n",
    "    cb_cls_model.save_model(f'{ROOT}/question_pairs_cb_classifier.cbm')\n",
    "else:\n",
    "    os.makedirs('../models/', exist_ok=True)\n",
    "    cb_cls_model.save_model('../models/question_pairs_cb_classifier.cbm')"
   ]
  },
  {
   "cell_type": "code",
   "execution_count": 33,
   "metadata": {
    "executionInfo": {
     "elapsed": 266,
     "status": "ok",
     "timestamp": 1716238449998,
     "user": {
      "displayName": "Kirill N.",
      "userId": "16481738826806641256"
     },
     "user_tz": -180
    },
    "id": "JygAZ3P-tCZA"
   },
   "outputs": [],
   "source": [
    "# Пробуем загрузить\n",
    "model = CatBoostClassifier()\n",
    "if IN_COLAB:\n",
    "    model.load_model(f'{ROOT}/question_pairs_cb_classifier.cbm')\n",
    "else:\n",
    "    model.load_model('../models/question_pairs_cb_classifier.cbm')"
   ]
  },
  {
   "cell_type": "code",
   "execution_count": 34,
   "metadata": {
    "colab": {
     "base_uri": "https://localhost:8080/"
    },
    "executionInfo": {
     "elapsed": 252,
     "status": "ok",
     "timestamp": 1716238454061,
     "user": {
      "displayName": "Kirill N.",
      "userId": "16481738826806641256"
     },
     "user_tz": -180
    },
    "id": "y3WZKdV7tCZA",
    "outputId": "a36f4c83-552b-497e-ed64-deabe662433e"
   },
   "outputs": [
    {
     "name": "stdout",
     "output_type": "stream",
     "text": [
      "1\n"
     ]
    }
   ],
   "source": [
    "# Делаем инференс для произвольной пары вопросов\n",
    "test_pair = np.hstack([bert_embeds[1526].reshape(1,-1), bert_embeds[1].reshape(1,-1)])\n",
    "label = model.predict(test_pair)[0]\n",
    "print(label)"
   ]
  },
  {
   "cell_type": "markdown",
   "metadata": {
    "id": "Mb2KrtfctCZA"
   },
   "source": [
    "__Дообученный BERT с добавленным линейным слоем__"
   ]
  },
  {
   "cell_type": "markdown",
   "metadata": {
    "id": "odNGXzNCdASs"
   },
   "source": [
    "Дообучение BERT лучше проводить на GPU, для чего использовать, например, Google Colab."
   ]
  },
  {
   "cell_type": "code",
   "execution_count": 19,
   "metadata": {
    "executionInfo": {
     "elapsed": 248,
     "status": "ok",
     "timestamp": 1716233686511,
     "user": {
      "displayName": "Kirill N.",
      "userId": "16481738826806641256"
     },
     "user_tz": -180
    },
    "id": "k1AqeIv_tCZA"
   },
   "outputs": [],
   "source": [
    "from transformers import AutoTokenizer, AutoModel, AdamW, get_linear_schedule_with_warmup\n",
    "import torch\n",
    "import torch.nn as nn\n",
    "import torch.optim as optim\n",
    "from torch.utils.data import DataLoader, Dataset\n",
    "import copy"
   ]
  },
  {
   "cell_type": "code",
   "execution_count": 48,
   "metadata": {
    "executionInfo": {
     "elapsed": 257,
     "status": "ok",
     "timestamp": 1716234918552,
     "user": {
      "displayName": "Kirill N.",
      "userId": "16481738826806641256"
     },
     "user_tz": -180
    },
    "id": "jdn0mIEPtCZA"
   },
   "outputs": [],
   "source": [
    "# Инициализируем константы\n",
    "BERT_MODEL_NAME = 'bert-base-cased'\n",
    "MAX_LEN = 256 # Максимальная общая длина двух вопросов (в токенах)\n",
    "BATCH_SIZE = 16\n",
    "LEARNING_RATE = 2e-5\n",
    "EPOCHS = 3\n",
    "THRESHOLD = 0.5 # Порог вероятности для предсказания меток"
   ]
  },
  {
   "cell_type": "code",
   "execution_count": 49,
   "metadata": {
    "executionInfo": {
     "elapsed": 243,
     "status": "ok",
     "timestamp": 1716234930052,
     "user": {
      "displayName": "Kirill N.",
      "userId": "16481738826806641256"
     },
     "user_tz": -180
    },
    "id": "q7DHbjectCZA"
   },
   "outputs": [],
   "source": [
    "# Инициализируем torch\n",
    "torch.manual_seed(RANDOM_STATE)\n",
    "torch.cuda.manual_seed_all(RANDOM_STATE)"
   ]
  },
  {
   "cell_type": "markdown",
   "metadata": {
    "id": "P7crfWeKtCZB"
   },
   "source": [
    "Снова создаем расширенный датасет, но только вместо векторов он будет содержать исходные тексты вопросов"
   ]
  },
  {
   "cell_type": "code",
   "execution_count": 93,
   "metadata": {
    "colab": {
     "base_uri": "https://localhost:8080/"
    },
    "executionInfo": {
     "elapsed": 278,
     "status": "ok",
     "timestamp": 1716237197825,
     "user": {
      "displayName": "Kirill N.",
      "userId": "16481738826806641256"
     },
     "user_tz": -180
    },
    "id": "eOL9adlNtCZB",
    "outputId": "eca622ee-66b5-4d28-99d0-8fbfeddb77c7"
   },
   "outputs": [
    {
     "name": "stdout",
     "output_type": "stream",
     "text": [
      "(6096, 3)\n"
     ]
    }
   ],
   "source": [
    "# Конкатенируем прямые и обратные пары вопросов вместе с их метками\n",
    "df_12 = data[['question_1', 'question_2', 'label']]\n",
    "df_21 = data[['question_2', 'question_1', 'label']]\n",
    "df = pd.concat([df_12, df_21], axis=0, ignore_index=True)\n",
    "print(df.shape)"
   ]
  },
  {
   "cell_type": "code",
   "execution_count": 94,
   "metadata": {
    "executionInfo": {
     "elapsed": 251,
     "status": "ok",
     "timestamp": 1716237203232,
     "user": {
      "displayName": "Kirill N.",
      "userId": "16481738826806641256"
     },
     "user_tz": -180
    },
    "id": "jzzgB2pQtCZB"
   },
   "outputs": [],
   "source": [
    "# Разбиваем на train, val и test\n",
    "\n",
    "df_train, df_val_test = train_test_split(df,\n",
    "                                         test_size=0.4,\n",
    "                                         random_state=RANDOM_STATE,\n",
    "                                         stratify=df['label'],\n",
    "                                         shuffle=True)\n",
    "\n",
    "df_val, df_test = train_test_split(df_val_test,\n",
    "                                   test_size=0.5,\n",
    "                                   random_state=RANDOM_STATE,\n",
    "                                   stratify=df_val_test['label'],\n",
    "                                   shuffle=True)"
   ]
  },
  {
   "cell_type": "code",
   "execution_count": 95,
   "metadata": {
    "executionInfo": {
     "elapsed": 316,
     "status": "ok",
     "timestamp": 1716237207768,
     "user": {
      "displayName": "Kirill N.",
      "userId": "16481738826806641256"
     },
     "user_tz": -180
    },
    "id": "pbwPYHAstCZB"
   },
   "outputs": [],
   "source": [
    "# Обновляем индексы датафреймов\n",
    "\n",
    "df_train.reset_index(inplace=True)\n",
    "df_train.drop('index', axis=1, inplace=True)\n",
    "\n",
    "df_val.reset_index(inplace=True)\n",
    "df_val.drop('index', axis=1, inplace=True)\n",
    "\n",
    "df_test.reset_index(inplace=True)\n",
    "df_test.drop('index', axis=1, inplace=True)"
   ]
  },
  {
   "cell_type": "markdown",
   "metadata": {
    "id": "bUwqPVMWtCZB"
   },
   "source": [
    "Создаем свой класс датасета для работы с PyTorch. На вход он будет принимать не один текст, а два"
   ]
  },
  {
   "cell_type": "code",
   "execution_count": 53,
   "metadata": {
    "executionInfo": {
     "elapsed": 2,
     "status": "ok",
     "timestamp": 1716234940646,
     "user": {
      "displayName": "Kirill N.",
      "userId": "16481738826806641256"
     },
     "user_tz": -180
    },
    "id": "oAgmejILtCZB"
   },
   "outputs": [],
   "source": [
    "class CustomDataset(Dataset):\n",
    "    \"\"\"Класс CustomDataset для итерирования по закодированным с помощью BERT данным.\"\"\"\n",
    "\n",
    "    def __init__(self, data,  with_labels=True, max_len=MAX_LEN, bert_model=BERT_MODEL_NAME):\n",
    "        super().__init__()\n",
    "        self.data = data  # Pandas Dataframe\n",
    "        self.tokenizer = AutoTokenizer.from_pretrained(bert_model)\n",
    "        self.max_len = max_len # Максимальная суммарная длина двух текстов\n",
    "        self.with_labels = with_labels # True для обучения/валидации/тестирования, False для инференса, когда нет меток\n",
    "\n",
    "    def __len__(self):\n",
    "        return len(self.data)\n",
    "\n",
    "    def __getitem__(self, index):\n",
    "        q1 = self.data.loc[index, 'question_1']\n",
    "        q2 = self.data.loc[index, 'question_2']\n",
    "\n",
    "        encoded_pair = self.tokenizer(q1, q2,\n",
    "                                      padding='max_length',\n",
    "                                      truncation=True,\n",
    "                                      max_length=self.max_len,\n",
    "                                      return_tensors='pt')\n",
    "\n",
    "        input_ids = encoded_pair['input_ids'].squeeze(0)\n",
    "        attn_masks = encoded_pair['attention_mask'].squeeze(0)\n",
    "        token_type_ids = encoded_pair['token_type_ids'].squeeze(0) # \"0\" для токенов 1-го вопроса, \"1\" для 2-го\n",
    "\n",
    "        if self.with_labels:\n",
    "            label = self.data.loc[index, 'label']\n",
    "            return input_ids, attn_masks, token_type_ids, torch.tensor(label, dtype=torch.long)\n",
    "        else:\n",
    "            return input_ids, attn_masks, token_type_ids"
   ]
  },
  {
   "cell_type": "markdown",
   "metadata": {
    "id": "kxUlFqTXtCZB"
   },
   "source": [
    "Создаем датасеты и даталоудеры для обучающих и валидационных данных"
   ]
  },
  {
   "cell_type": "code",
   "execution_count": 54,
   "metadata": {
    "executionInfo": {
     "elapsed": 636,
     "status": "ok",
     "timestamp": 1716234954068,
     "user": {
      "displayName": "Kirill N.",
      "userId": "16481738826806641256"
     },
     "user_tz": -180
    },
    "id": "N_SezRK2tCZB"
   },
   "outputs": [],
   "source": [
    "ds_train = CustomDataset(df_train)\n",
    "train_loader = DataLoader(ds_train, batch_size=BATCH_SIZE, num_workers=5, shuffle=True)\n",
    "\n",
    "ds_val = CustomDataset(df_val)\n",
    "val_loader = DataLoader(ds_val, batch_size=BATCH_SIZE, num_workers=5, shuffle=True)"
   ]
  },
  {
   "cell_type": "markdown",
   "metadata": {
    "id": "_uYdiFTUtCZC"
   },
   "source": [
    "Добавляем к BERT-модели линейный слой для классификации (как покзазали собственные эксперименты, BERT лучше не замораживать)"
   ]
  },
  {
   "cell_type": "code",
   "execution_count": 55,
   "metadata": {
    "executionInfo": {
     "elapsed": 255,
     "status": "ok",
     "timestamp": 1716234959026,
     "user": {
      "displayName": "Kirill N.",
      "userId": "16481738826806641256"
     },
     "user_tz": -180
    },
    "id": "RRhq5n2ntCZC"
   },
   "outputs": [],
   "source": [
    "class SentencePairClassifier(nn.Module):\n",
    "    \"\"\"Класс SentencePairClassifier - нейросеть из BERT-модели и линейного слоя для классификации.\"\"\"\n",
    "\n",
    "    def __init__(self, bert_model=BERT_MODEL_NAME, freeze_bert=False):\n",
    "        super(SentencePairClassifier, self).__init__()\n",
    "        self.bert = AutoModel.from_pretrained(bert_model)\n",
    "\n",
    "        if freeze_bert:\n",
    "            # Обучаем веса только у классификатора\n",
    "            for p in self.bert.parameters():\n",
    "                p.requires_grad = False\n",
    "\n",
    "        self.dropout = nn.Dropout(p=0.1) # Слой для регуляризации\n",
    "        self.cls = nn.Linear(self.bert.config.hidden_size, 1) # Слой для классификации\n",
    "\n",
    "    def forward(self, input_ids, attn_masks, token_type_ids):\n",
    "        bert_output = self.bert(input_ids, attn_masks, token_type_ids)\n",
    "        last_hidden_state = bert_output['last_hidden_state']\n",
    "        pooler_output = bert_output['pooler_output']\n",
    "        logits = self.cls(self.dropout(pooler_output))\n",
    "        return logits"
   ]
  },
  {
   "cell_type": "markdown",
   "metadata": {
    "id": "09Qh37eqtCZC"
   },
   "source": [
    "Создаем нейросеть, функцию потерь, оптимизатор и планировщик"
   ]
  },
  {
   "cell_type": "code",
   "execution_count": 56,
   "metadata": {
    "executionInfo": {
     "elapsed": 719,
     "status": "ok",
     "timestamp": 1716234971014,
     "user": {
      "displayName": "Kirill N.",
      "userId": "16481738826806641256"
     },
     "user_tz": -180
    },
    "id": "NkcuAvumtCZC"
   },
   "outputs": [],
   "source": [
    "device = torch.device(\"cuda:0\" if torch.cuda.is_available() else \"cpu\")\n",
    "net = SentencePairClassifier()\n",
    "net.to(device)\n",
    "\n",
    "criterion = nn.BCEWithLogitsLoss().to(device)\n",
    "optimizer = AdamW(net.parameters(), lr=LEARNING_RATE)\n",
    "num_training_steps = EPOCHS * len(train_loader)\n",
    "scheduler = get_linear_schedule_with_warmup(optimizer=optimizer,\n",
    "                                            num_warmup_steps=0,\n",
    "                                            num_training_steps=num_training_steps)"
   ]
  },
  {
   "cell_type": "markdown",
   "metadata": {
    "id": "9--RMCu_tCZC"
   },
   "source": [
    "Создаем функции для оценки качества и для обучения нейросети"
   ]
  },
  {
   "cell_type": "code",
   "execution_count": 57,
   "metadata": {
    "executionInfo": {
     "elapsed": 320,
     "status": "ok",
     "timestamp": 1716234977220,
     "user": {
      "displayName": "Kirill N.",
      "userId": "16481738826806641256"
     },
     "user_tz": -180
    },
    "id": "bMARgt3WtCZC"
   },
   "outputs": [],
   "source": [
    "# Функция для оценки качества нейростети.\n",
    "# Используется для валидации на каждой эпохе и для оценки на тестовых данных\n",
    "\n",
    "def eval_bert(net, device, criterion, data_loader, threshold=THRESHOLD):\n",
    "    \"\"\"\n",
    "    Функция для оценки качества нейростети.\n",
    "\n",
    "    Входные данные:\n",
    "        - net (SentencePairClassifier): нейросеть из BERT и линейного слоя,\n",
    "        - device (str): cuda:0 или cpu,\n",
    "        - сriterion: функция потерь,\n",
    "        - data_loader (torch.utils.data.Dataset): загрузчик данных,\n",
    "        - threshold (float) - пороговое значение вероятности для предсказания меток 1 или 0.\n",
    "\n",
    "    Возвращаемые значения:\n",
    "        - Средние значения потерь и точности.\n",
    "    \"\"\"\n",
    "    net.eval()\n",
    "\n",
    "    loss = 0\n",
    "    correct_preds = 0\n",
    "    data_len = 0\n",
    "\n",
    "    with torch.no_grad():\n",
    "        for it, (input_ids, attn_masks, token_type_ids, labels) in enumerate(data_loader):\n",
    "            input_ids, attn_masks, token_type_ids, labels = \\\n",
    "                input_ids.to(device), attn_masks.to(device), token_type_ids.to(device), labels.to(device)\n",
    "\n",
    "            logits = net(input_ids, attn_masks, token_type_ids)\n",
    "            loss += criterion(logits.squeeze(-1), labels.float()).item()\n",
    "            probs = torch.sigmoid(logits).squeeze(-1)\n",
    "            preds = (probs >= threshold)\n",
    "            correct_preds += torch.sum(preds == labels).item()\n",
    "            data_len += len(labels)\n",
    "\n",
    "    return loss / len(data_loader), correct_preds / data_len"
   ]
  },
  {
   "cell_type": "code",
   "execution_count": 58,
   "metadata": {
    "executionInfo": {
     "elapsed": 256,
     "status": "ok",
     "timestamp": 1716234980616,
     "user": {
      "displayName": "Kirill N.",
      "userId": "16481738826806641256"
     },
     "user_tz": -180
    },
    "id": "pUv-mhsLtCZD"
   },
   "outputs": [],
   "source": [
    "# Функция для обучения нейросети\n",
    "\n",
    "def train_bert(net,\n",
    "               device,\n",
    "               criterion,\n",
    "               optimizer,\n",
    "               scheduler,\n",
    "               train_loader,\n",
    "               val_loader,\n",
    "               threshold=THRESHOLD,\n",
    "               lr=LEARNING_RATE,\n",
    "               epochs=EPOCHS):\n",
    "    \"\"\"\n",
    "    Функция для обучения нейросети.\n",
    "\n",
    "    Входные данные:\n",
    "        - net (SentencePairClassifier): нейросеть из BERT и линейного слоя,\n",
    "        - device (str): cpu или gpu,\n",
    "        - сriterion: функция потерь,\n",
    "        - train_loader (torch.utils.data.Dataset): загрузчик обучающих данных,\n",
    "        - val_loader (torch.utils.data.Dataset): загрузчик валидационных данных,\n",
    "        - threshold (float) - пороговое значение вероятности для предсказания меток 1 или 0,\n",
    "        - lr (float) - коэффициент обучения,\n",
    "        - epochs (int) - количество эпох обучения.\n",
    "\n",
    "    Возвращаемые значения:\n",
    "        - Словарь со средними значениями потерь и точности на каждой эпохе обучения.\n",
    "    \"\"\"\n",
    "    best_acc = 0\n",
    "    history = defaultdict(list)\n",
    "    iters_num = len(train_loader)\n",
    "    print_freq = iters_num // 5 # На каждой эпохе будем 5 раз выводить текущие потери и точность\n",
    "\n",
    "    for epoch in range(epochs):\n",
    "        print(f'Epoch {epoch + 1}/{epochs}')\n",
    "        print('-' * 10)\n",
    "\n",
    "        net.train()\n",
    "        losses = []\n",
    "        correct_preds = 0\n",
    "        data_len = 0\n",
    "\n",
    "        for it, (input_ids, attn_masks, token_type_ids, labels) in enumerate(train_loader):\n",
    "            input_ids, attn_masks, token_type_ids, labels = \\\n",
    "                input_ids.to(device), attn_masks.to(device), token_type_ids.to(device), labels.to(device)\n",
    "\n",
    "            # Forward pass\n",
    "            logits = net(input_ids, attn_masks, token_type_ids)\n",
    "            loss = criterion(logits.squeeze(-1), labels.float())\n",
    "            losses.append(loss.item())\n",
    "            probs = torch.sigmoid(logits).squeeze(-1)\n",
    "            preds = (probs >= threshold)\n",
    "            correct_preds += torch.sum(preds == labels).item()\n",
    "            data_len += len(labels)\n",
    "            if (it + 1) % print_freq == 0:\n",
    "                print(f\"Iteration {it + 1}/{iters_num}: loss = {losses[-1]:.3f}, accuracy = {correct_preds / data_len:.3f}\")\n",
    "\n",
    "            # Backward pass\n",
    "            loss.backward()\n",
    "            nn.utils.clip_grad_norm_(net.parameters(), max_norm=1.0)\n",
    "            optimizer.step()\n",
    "            scheduler.step()\n",
    "            optimizer.zero_grad()\n",
    "\n",
    "        train_loss = np.mean(losses)\n",
    "        train_acc = correct_preds / data_len\n",
    "        val_loss, val_acc = eval_bert(net, device, criterion, val_loader)\n",
    "        print(f\"Epoch {epoch + 1}/{epochs} completed!\")\n",
    "        print(f\"Train: loss = {train_loss:.3f}, accuracy = {train_acc:.3f}\")\n",
    "        print(f\"Validation: loss = {val_loss:.3f}, accuracy = {val_acc:.3f}\")\n",
    "        print()\n",
    "\n",
    "        history['train_loss'].append(train_loss)\n",
    "        history['train_acc'].append(train_acc)\n",
    "        history['val_loss'].append(val_loss)\n",
    "        history['val_acc'].append(val_acc)\n",
    "\n",
    "        if val_acc > best_acc:\n",
    "            net_copy = copy.deepcopy(net)\n",
    "            best_acc = val_acc\n",
    "\n",
    "    # Сохраняем модель\n",
    "    if IN_COLAB:\n",
    "        model_path = f\"{ROOT}/question_pairs_bert_classifier.pt\"\n",
    "    else:\n",
    "        model_path = \"../models/question_pairs_bert_classifier.pt\"\n",
    "    torch.save(net_copy.state_dict(), model_path)\n",
    "    print(f\"The model has been saved: '{model_path}'\")\n",
    "\n",
    "    return history"
   ]
  },
  {
   "cell_type": "markdown",
   "metadata": {
    "id": "IkxTkfsttCZD"
   },
   "source": [
    "Запускаем процесс обучения"
   ]
  },
  {
   "cell_type": "code",
   "execution_count": 59,
   "metadata": {
    "colab": {
     "base_uri": "https://localhost:8080/"
    },
    "executionInfo": {
     "elapsed": 514343,
     "status": "ok",
     "timestamp": 1716235516307,
     "user": {
      "displayName": "Kirill N.",
      "userId": "16481738826806641256"
     },
     "user_tz": -180
    },
    "id": "qU-ym35gtCZD",
    "outputId": "7f6696d0-1854-4199-93ac-59c45c49bd71"
   },
   "outputs": [
    {
     "name": "stdout",
     "output_type": "stream",
     "text": [
      "Обучаем нейросеть...\n",
      "\n",
      "Epoch 1/3\n",
      "----------\n",
      "Iteration 45/229: loss = 0.651, accuracy = 0.569\n",
      "Iteration 90/229: loss = 0.510, accuracy = 0.644\n",
      "Iteration 135/229: loss = 0.423, accuracy = 0.674\n",
      "Iteration 180/229: loss = 0.740, accuracy = 0.694\n",
      "Iteration 225/229: loss = 0.243, accuracy = 0.713\n",
      "Epoch 1/3 completed!\n",
      "Train: loss = 0.549, accuracy = 0.714\n",
      "Validation: loss = 0.418, accuracy = 0.817\n",
      "\n",
      "Epoch 2/3\n",
      "----------\n",
      "Iteration 45/229: loss = 0.341, accuracy = 0.872\n",
      "Iteration 90/229: loss = 0.359, accuracy = 0.884\n",
      "Iteration 135/229: loss = 0.267, accuracy = 0.888\n",
      "Iteration 180/229: loss = 0.160, accuracy = 0.891\n",
      "Iteration 225/229: loss = 0.534, accuracy = 0.891\n",
      "Epoch 2/3 completed!\n",
      "Train: loss = 0.284, accuracy = 0.892\n",
      "Validation: loss = 0.362, accuracy = 0.864\n",
      "\n",
      "Epoch 3/3\n",
      "----------\n",
      "Iteration 45/229: loss = 0.086, accuracy = 0.958\n",
      "Iteration 90/229: loss = 0.342, accuracy = 0.953\n",
      "Iteration 135/229: loss = 0.034, accuracy = 0.950\n",
      "Iteration 180/229: loss = 0.104, accuracy = 0.952\n",
      "Iteration 225/229: loss = 0.035, accuracy = 0.954\n",
      "Epoch 3/3 completed!\n",
      "Train: loss = 0.137, accuracy = 0.955\n",
      "Validation: loss = 0.389, accuracy = 0.873\n",
      "\n",
      "The model has been saved: '/content/sample_data/question_pairs_bert_classifier.pt'\n",
      "CPU times: user 5min 49s, sys: 2min 28s, total: 8min 18s\n",
      "Wall time: 8min 34s\n"
     ]
    }
   ],
   "source": [
    "print(\"Обучаем нейросеть...\\n\")\n",
    "%time history = train_bert(net, device, criterion, optimizer, scheduler, train_loader, val_loader)"
   ]
  },
  {
   "cell_type": "markdown",
   "metadata": {
    "id": "kQeIVa1GQl8_"
   },
   "source": [
    "Посмотрим историю процесса обучения"
   ]
  },
  {
   "cell_type": "code",
   "execution_count": 60,
   "metadata": {
    "colab": {
     "base_uri": "https://localhost:8080/",
     "height": 480
    },
    "executionInfo": {
     "elapsed": 809,
     "status": "ok",
     "timestamp": 1716236422115,
     "user": {
      "displayName": "Kirill N.",
      "userId": "16481738826806641256"
     },
     "user_tz": -180
    },
    "id": "lQmzOZKxL9UX",
    "outputId": "997fc5e6-0afa-4d99-95a9-c7ff51c0a94e"
   },
   "outputs": [
    {
     "data": {
      "image/png": "[encoded data removed]",
      "text/plain": [
       "<Figure size 640x480 with 1 Axes>"
      ]
     },
     "metadata": {},
     "output_type": "display_data"
    }
   ],
   "source": [
    "x = np.arange(1, EPOCHS + 1)\n",
    "plt.plot(x, history['train_acc'], label='train accuracy')\n",
    "plt.plot(x, history['val_acc'], label='validation accuracy')\n",
    "\n",
    "plt.title('Training history')\n",
    "plt.ylabel('Accuracy')\n",
    "plt.xlabel('Epochs')\n",
    "plt.legend()\n",
    "plt.xticks(x)\n",
    "plt.ylim([0, 1]);"
   ]
  },
  {
   "cell_type": "markdown",
   "metadata": {
    "id": "i1LBtlWPTsqq"
   },
   "source": [
    "Из графика видно, что точность модели достигает своего максимума примерно на 2-й эпохе и дальше практически не растет,\n",
    "поэтому достаточно 2-3-х эпох.\n",
    "\n",
    "Оцениваем нейросеть на тестовых данных"
   ]
  },
  {
   "cell_type": "code",
   "execution_count": 61,
   "metadata": {
    "executionInfo": {
     "elapsed": 681,
     "status": "ok",
     "timestamp": 1716236429155,
     "user": {
      "displayName": "Kirill N.",
      "userId": "16481738826806641256"
     },
     "user_tz": -180
    },
    "id": "gTVEVqYHtCZE"
   },
   "outputs": [],
   "source": [
    "# Создаем тестовый датасет и даталоудер\n",
    "ds_test = CustomDataset(df_test)\n",
    "test_loader = DataLoader(ds_test, batch_size=BATCH_SIZE, num_workers=5)"
   ]
  },
  {
   "cell_type": "code",
   "execution_count": 62,
   "metadata": {
    "colab": {
     "base_uri": "https://localhost:8080/"
    },
    "executionInfo": {
     "elapsed": 16454,
     "status": "ok",
     "timestamp": 1716236446828,
     "user": {
      "displayName": "Kirill N.",
      "userId": "16481738826806641256"
     },
     "user_tz": -180
    },
    "id": "uRuDNpWjtCZE",
    "outputId": "9cf0c1d6-bc54-4cb2-fef6-ba7396015761"
   },
   "outputs": [
    {
     "name": "stdout",
     "output_type": "stream",
     "text": [
      "Считаем точность на тестовой выборке...\n"
     ]
    },
    {
     "data": {
      "text/plain": [
       "0.895"
      ]
     },
     "execution_count": 62,
     "metadata": {},
     "output_type": "execute_result"
    }
   ],
   "source": [
    "# Точность на тестовой выборке\n",
    "print(\"Считаем точность на тестовой выборке...\")\n",
    "_, test_acc = eval_bert(net, device, criterion, test_loader)\n",
    "round(test_acc, 3)"
   ]
  },
  {
   "cell_type": "markdown",
   "metadata": {
    "id": "OGkOoBshdASx"
   },
   "source": [
    "Если обучение проводилось в Google Colab, то для дальнейшей работы с моделью нужно перенести ее вручную в папку `/models` репозитория.\n",
    "\n",
    "После этого можно загрузить модель из файла"
   ]
  },
  {
   "cell_type": "code",
   "execution_count": 142,
   "metadata": {
    "colab": {
     "base_uri": "https://localhost:8080/"
    },
    "executionInfo": {
     "elapsed": 1934,
     "status": "ok",
     "timestamp": 1716238564929,
     "user": {
      "displayName": "Kirill N.",
      "userId": "16481738826806641256"
     },
     "user_tz": -180
    },
    "id": "7BJVEMpRdASx",
    "outputId": "07e66bbb-2a4d-4a0b-d81a-138af9145b4a"
   },
   "outputs": [
    {
     "data": {
      "text/plain": [
       "SentencePairClassifier(\n",
       "  (bert): BertModel(\n",
       "    (embeddings): BertEmbeddings(\n",
       "      (word_embeddings): Embedding(28996, 768, padding_idx=0)\n",
       "      (position_embeddings): Embedding(512, 768)\n",
       "      (token_type_embeddings): Embedding(2, 768)\n",
       "      (LayerNorm): LayerNorm((768,), eps=1e-12, elementwise_affine=True)\n",
       "      (dropout): Dropout(p=0.1, inplace=False)\n",
       "    )\n",
       "    (encoder): BertEncoder(\n",
       "      (layer): ModuleList(\n",
       "        (0-11): 12 x BertLayer(\n",
       "          (attention): BertAttention(\n",
       "            (self): BertSelfAttention(\n",
       "              (query): Linear(in_features=768, out_features=768, bias=True)\n",
       "              (key): Linear(in_features=768, out_features=768, bias=True)\n",
       "              (value): Linear(in_features=768, out_features=768, bias=True)\n",
       "              (dropout): Dropout(p=0.1, inplace=False)\n",
       "            )\n",
       "            (output): BertSelfOutput(\n",
       "              (dense): Linear(in_features=768, out_features=768, bias=True)\n",
       "              (LayerNorm): LayerNorm((768,), eps=1e-12, elementwise_affine=True)\n",
       "              (dropout): Dropout(p=0.1, inplace=False)\n",
       "            )\n",
       "          )\n",
       "          (intermediate): BertIntermediate(\n",
       "            (dense): Linear(in_features=768, out_features=3072, bias=True)\n",
       "            (intermediate_act_fn): GELUActivation()\n",
       "          )\n",
       "          (output): BertOutput(\n",
       "            (dense): Linear(in_features=3072, out_features=768, bias=True)\n",
       "            (LayerNorm): LayerNorm((768,), eps=1e-12, elementwise_affine=True)\n",
       "            (dropout): Dropout(p=0.1, inplace=False)\n",
       "          )\n",
       "        )\n",
       "      )\n",
       "    )\n",
       "    (pooler): BertPooler(\n",
       "      (dense): Linear(in_features=768, out_features=768, bias=True)\n",
       "      (activation): Tanh()\n",
       "    )\n",
       "  )\n",
       "  (dropout): Dropout(p=0.1, inplace=False)\n",
       "  (cls): Linear(in_features=768, out_features=1, bias=True)\n",
       ")"
      ]
     },
     "execution_count": 142,
     "metadata": {},
     "output_type": "execute_result"
    }
   ],
   "source": [
    "bert_cls_nn = SentencePairClassifier()\n",
    "device = torch.device(\"cuda:0\" if torch.cuda.is_available() else \"cpu\")\n",
    "if IN_COLAB:\n",
    "  bert_cls_nn.load_state_dict(torch.load(f\"{ROOT}/question_pairs_bert_classifier.pt\", map_location=device))\n",
    "else:\n",
    "  bert_cls_nn.load_state_dict(torch.load('../models/question_pairs_bert_classifier.pt', map_location=device))\n",
    "bert_cls_nn.to(device)"
   ]
  },
  {
   "cell_type": "markdown",
   "metadata": {
    "id": "QtYpvsSstCZE"
   },
   "source": [
    "Напишем функцю для инференса"
   ]
  },
  {
   "cell_type": "code",
   "execution_count": 143,
   "metadata": {
    "executionInfo": {
     "elapsed": 263,
     "status": "ok",
     "timestamp": 1716238580555,
     "user": {
      "displayName": "Kirill N.",
      "userId": "16481738826806641256"
     },
     "user_tz": -180
    },
    "id": "-JsuESn5tCZE"
   },
   "outputs": [],
   "source": [
    "def get_bert_preds(net, device, data_loader, threshold=THRESHOLD):\n",
    "    \"\"\"\n",
    "    Функция для получения предсказаний.\n",
    "    \"\"\"\n",
    "    net.eval()\n",
    "\n",
    "    res_preds = []\n",
    "    with torch.no_grad():\n",
    "        for batch_id, (input_ids, attn_masks, token_type_ids) in enumerate(data_loader):\n",
    "            input_ids, attn_masks, token_type_ids = input_ids.to(device), attn_masks.to(device), token_type_ids.to(device)\n",
    "\n",
    "            logits = net(input_ids, attn_masks, token_type_ids)\n",
    "            probs = torch.sigmoid(logits).squeeze(-1)\n",
    "            preds = (probs >= threshold).int()\n",
    "            res_preds.extend(preds)\n",
    "\n",
    "    res_preds = torch.stack(res_preds).cpu().numpy()\n",
    "    return res_preds"
   ]
  },
  {
   "cell_type": "markdown",
   "metadata": {
    "id": "EAlhC_QkdASy"
   },
   "source": [
    "Протестируем на произвольном примере"
   ]
  },
  {
   "cell_type": "code",
   "execution_count": 144,
   "metadata": {
    "executionInfo": {
     "elapsed": 251,
     "status": "ok",
     "timestamp": 1716238583338,
     "user": {
      "displayName": "Kirill N.",
      "userId": "16481738826806641256"
     },
     "user_tz": -180
    },
    "id": "PZRUvatatCZE"
   },
   "outputs": [],
   "source": [
    "# Тестовый пример\n",
    "df = df_train.loc[:20, :]\n",
    "ds = CustomDataset(df, with_labels=False)\n",
    "data_loader = DataLoader(ds, batch_size=BATCH_SIZE, num_workers=5) # На локальном ПК без GPU лучше ставить num_workers=0"
   ]
  },
  {
   "cell_type": "code",
   "execution_count": 145,
   "metadata": {
    "colab": {
     "base_uri": "https://localhost:8080/"
    },
    "executionInfo": {
     "elapsed": 1021,
     "status": "ok",
     "timestamp": 1716238586307,
     "user": {
      "displayName": "Kirill N.",
      "userId": "16481738826806641256"
     },
     "user_tz": -180
    },
    "id": "scqo0By8tCZE",
    "outputId": "035d4491-f509-4b83-bbf1-ae3ef8baa850"
   },
   "outputs": [
    {
     "name": "stdout",
     "output_type": "stream",
     "text": [
      "CPU times: user 310 ms, sys: 223 ms, total: 533 ms\n",
      "Wall time: 759 ms\n"
     ]
    },
    {
     "data": {
      "text/plain": [
       "array([1, 0, 1, 0, 1, 1, 0, 0, 1, 1, 1, 0, 0, 1, 1, 0, 1, 0, 0, 1, 1],\n",
       "      dtype=int32)"
      ]
     },
     "execution_count": 145,
     "metadata": {},
     "output_type": "execute_result"
    }
   ],
   "source": [
    "# Получаем предсказания\n",
    "%time preds = get_bert_preds(bert_cls_nn, device, data_loader)\n",
    "preds"
   ]
  },
  {
   "cell_type": "code",
   "execution_count": 146,
   "metadata": {
    "colab": {
     "base_uri": "https://localhost:8080/",
     "height": 206
    },
    "executionInfo": {
     "elapsed": 254,
     "status": "ok",
     "timestamp": 1716238589721,
     "user": {
      "displayName": "Kirill N.",
      "userId": "16481738826806641256"
     },
     "user_tz": -180
    },
    "id": "W36BlhwvtCZF",
    "outputId": "e4370864-1afd-45b4-b800-a0599b35e7b8"
   },
   "outputs": [
    {
     "data": {
      "application/vnd.google.colaboratory.intrinsic+json": {
       "summary": "{\n  \"name\": \"pd\",\n  \"rows\": 5,\n  \"fields\": [\n    {\n      \"column\": \"precision\",\n      \"properties\": {\n        \"dtype\": \"number\",\n        \"std\": 0.02957613983208586,\n        \"min\": 0.9166666666666666,\n        \"max\": 1.0,\n        \"num_unique_values\": 5,\n        \"samples\": [\n          0.9166666666666666,\n          0.9563492063492063,\n          0.9523809523809523\n        ],\n        \"semantic_type\": \"\",\n        \"description\": \"\"\n      }\n    },\n    {\n      \"column\": \"recall\",\n      \"properties\": {\n        \"dtype\": \"number\",\n        \"std\": 0.035379382135250874,\n        \"min\": 0.9,\n        \"max\": 1.0,\n        \"num_unique_values\": 4,\n        \"samples\": [\n          1.0,\n          0.95,\n          0.9\n        ],\n        \"semantic_type\": \"\",\n        \"description\": \"\"\n      }\n    },\n    {\n      \"column\": \"f1-score\",\n      \"properties\": {\n        \"dtype\": \"number\",\n        \"std\": 0.003242051959749642,\n        \"min\": 0.9473684210526316,\n        \"max\": 0.9565217391304348,\n        \"num_unique_values\": 5,\n        \"samples\": [\n          0.9565217391304348,\n          0.9521630162362429,\n          0.9523809523809523\n        ],\n        \"semantic_type\": \"\",\n        \"description\": \"\"\n      }\n    },\n    {\n      \"column\": \"support\",\n      \"properties\": {\n        \"dtype\": \"number\",\n        \"std\": 8.454667698714811,\n        \"min\": 0.9523809523809523,\n        \"max\": 21.0,\n        \"num_unique_values\": 4,\n        \"samples\": [\n          11.0,\n          21.0,\n          10.0\n        ],\n        \"semantic_type\": \"\",\n        \"description\": \"\"\n      }\n    }\n  ]\n}",
       "type": "dataframe"
      },
      "text/html": [
       "\n",
       "  <div id=\"df-2092fc54-f0ec-4bd2-a779-8d6bdb4da6d4\" class=\"colab-df-container\">\n",
       "    <div>\n",
       "<style scoped>\n",
       "    .dataframe tbody tr th:only-of-type {\n",
       "        vertical-align: middle;\n",
       "    }\n",
       "\n",
       "    .dataframe tbody tr th {\n",
       "        vertical-align: top;\n",
       "    }\n",
       "\n",
       "    .dataframe thead th {\n",
       "        text-align: right;\n",
       "    }\n",
       "</style>\n",
       "<table border=\"1\" class=\"dataframe\">\n",
       "  <thead>\n",
       "    <tr style=\"text-align: right;\">\n",
       "      <th></th>\n",
       "      <th>precision</th>\n",
       "      <th>recall</th>\n",
       "      <th>f1-score</th>\n",
       "      <th>support</th>\n",
       "    </tr>\n",
       "  </thead>\n",
       "  <tbody>\n",
       "    <tr>\n",
       "      <th>0</th>\n",
       "      <td>1.000000</td>\n",
       "      <td>0.900000</td>\n",
       "      <td>0.947368</td>\n",
       "      <td>10.000000</td>\n",
       "    </tr>\n",
       "    <tr>\n",
       "      <th>1</th>\n",
       "      <td>0.916667</td>\n",
       "      <td>1.000000</td>\n",
       "      <td>0.956522</td>\n",
       "      <td>11.000000</td>\n",
       "    </tr>\n",
       "    <tr>\n",
       "      <th>accuracy</th>\n",
       "      <td>0.952381</td>\n",
       "      <td>0.952381</td>\n",
       "      <td>0.952381</td>\n",
       "      <td>0.952381</td>\n",
       "    </tr>\n",
       "    <tr>\n",
       "      <th>macro avg</th>\n",
       "      <td>0.958333</td>\n",
       "      <td>0.950000</td>\n",
       "      <td>0.951945</td>\n",
       "      <td>21.000000</td>\n",
       "    </tr>\n",
       "    <tr>\n",
       "      <th>weighted avg</th>\n",
       "      <td>0.956349</td>\n",
       "      <td>0.952381</td>\n",
       "      <td>0.952163</td>\n",
       "      <td>21.000000</td>\n",
       "    </tr>\n",
       "  </tbody>\n",
       "</table>\n",
       "</div>\n",
       "    <div class=\"colab-df-buttons\">\n",
       "\n",
       "  <div class=\"colab-df-container\">\n",
       "    <button class=\"colab-df-convert\" onclick=\"convertToInteractive('df-2092fc54-f0ec-4bd2-a779-8d6bdb4da6d4')\"\n",
       "            title=\"Convert this dataframe to an interactive table.\"\n",
       "            style=\"display:none;\">\n",
       "\n",
       "  <svg xmlns=\"http://www.w3.org/2000/svg\" height=\"24px\" viewBox=\"0 -960 960 960\">\n",
       "    <path d=\"M120-120v-720h720v720H120Zm60-500h600v-160H180v160Zm220 220h160v-160H400v160Zm0 220h160v-160H400v160ZM180-400h160v-160H180v160Zm440 0h160v-160H620v160ZM180-180h160v-160H180v160Zm440 0h160v-160H620v160Z\"/>\n",
       "  </svg>\n",
       "    </button>\n",
       "\n",
       "  <style>\n",
       "    .colab-df-container {\n",
       "      display:flex;\n",
       "      gap: 12px;\n",
       "    }\n",
       "\n",
       "    .colab-df-convert {\n",
       "      background-color: #E8F0FE;\n",
       "      border: none;\n",
       "      border-radius: 50%;\n",
       "      cursor: pointer;\n",
       "      display: none;\n",
       "      fill: #1967D2;\n",
       "      height: 32px;\n",
       "      padding: 0 0 0 0;\n",
       "      width: 32px;\n",
       "    }\n",
       "\n",
       "    .colab-df-convert:hover {\n",
       "      background-color: #E2EBFA;\n",
       "      box-shadow: 0px 1px 2px rgba(60, 64, 67, 0.3), 0px 1px 3px 1px rgba(60, 64, 67, 0.15);\n",
       "      fill: #174EA6;\n",
       "    }\n",
       "\n",
       "    .colab-df-buttons div {\n",
       "      margin-bottom: 4px;\n",
       "    }\n",
       "\n",
       "    [theme=dark] .colab-df-convert {\n",
       "      background-color: #3B4455;\n",
       "      fill: #D2E3FC;\n",
       "    }\n",
       "\n",
       "    [theme=dark] .colab-df-convert:hover {\n",
       "      background-color: #434B5C;\n",
       "      box-shadow: 0px 1px 3px 1px rgba(0, 0, 0, 0.15);\n",
       "      filter: drop-shadow(0px 1px 2px rgba(0, 0, 0, 0.3));\n",
       "      fill: #FFFFFF;\n",
       "    }\n",
       "  </style>\n",
       "\n",
       "    <script>\n",
       "      const buttonEl =\n",
       "        document.querySelector('#df-2092fc54-f0ec-4bd2-a779-8d6bdb4da6d4 button.colab-df-convert');\n",
       "      buttonEl.style.display =\n",
       "        google.colab.kernel.accessAllowed ? 'block' : 'none';\n",
       "\n",
       "      async function convertToInteractive(key) {\n",
       "        const element = document.querySelector('#df-2092fc54-f0ec-4bd2-a779-8d6bdb4da6d4');\n",
       "        const dataTable =\n",
       "          await google.colab.kernel.invokeFunction('convertToInteractive',\n",
       "                                                    [key], {});\n",
       "        if (!dataTable) return;\n",
       "\n",
       "        const docLinkHtml = 'Like what you see? Visit the ' +\n",
       "          '<a target=\"_blank\" href=https://colab.research.google.com/notebooks/data_table.ipynb>data table notebook</a>'\n",
       "          + ' to learn more about interactive tables.';\n",
       "        element.innerHTML = '';\n",
       "        dataTable['output_type'] = 'display_data';\n",
       "        await google.colab.output.renderOutput(dataTable, element);\n",
       "        const docLink = document.createElement('div');\n",
       "        docLink.innerHTML = docLinkHtml;\n",
       "        element.appendChild(docLink);\n",
       "      }\n",
       "    </script>\n",
       "  </div>\n",
       "\n",
       "\n",
       "<div id=\"df-a2b7149d-581a-40cc-b47d-76c276a2c20e\">\n",
       "  <button class=\"colab-df-quickchart\" onclick=\"quickchart('df-a2b7149d-581a-40cc-b47d-76c276a2c20e')\"\n",
       "            title=\"Suggest charts\"\n",
       "            style=\"display:none;\">\n",
       "\n",
       "<svg xmlns=\"http://www.w3.org/2000/svg\" height=\"24px\"viewBox=\"0 0 24 24\"\n",
       "     width=\"24px\">\n",
       "    <g>\n",
       "        <path d=\"M19 3H5c-1.1 0-2 .9-2 2v14c0 1.1.9 2 2 2h14c1.1 0 2-.9 2-2V5c0-1.1-.9-2-2-2zM9 17H7v-7h2v7zm4 0h-2V7h2v10zm4 0h-2v-4h2v4z\"/>\n",
       "    </g>\n",
       "</svg>\n",
       "  </button>\n",
       "\n",
       "<style>\n",
       "  .colab-df-quickchart {\n",
       "      --bg-color: #E8F0FE;\n",
       "      --fill-color: #1967D2;\n",
       "      --hover-bg-color: #E2EBFA;\n",
       "      --hover-fill-color: #174EA6;\n",
       "      --disabled-fill-color: #AAA;\n",
       "      --disabled-bg-color: #DDD;\n",
       "  }\n",
       "\n",
       "  [theme=dark] .colab-df-quickchart {\n",
       "      --bg-color: #3B4455;\n",
       "      --fill-color: #D2E3FC;\n",
       "      --hover-bg-color: #434B5C;\n",
       "      --hover-fill-color: #FFFFFF;\n",
       "      --disabled-bg-color: #3B4455;\n",
       "      --disabled-fill-color: #666;\n",
       "  }\n",
       "\n",
       "  .colab-df-quickchart {\n",
       "    background-color: var(--bg-color);\n",
       "    border: none;\n",
       "    border-radius: 50%;\n",
       "    cursor: pointer;\n",
       "    display: none;\n",
       "    fill: var(--fill-color);\n",
       "    height: 32px;\n",
       "    padding: 0;\n",
       "    width: 32px;\n",
       "  }\n",
       "\n",
       "  .colab-df-quickchart:hover {\n",
       "    background-color: var(--hover-bg-color);\n",
       "    box-shadow: 0 1px 2px rgba(60, 64, 67, 0.3), 0 1px 3px 1px rgba(60, 64, 67, 0.15);\n",
       "    fill: var(--button-hover-fill-color);\n",
       "  }\n",
       "\n",
       "  .colab-df-quickchart-complete:disabled,\n",
       "  .colab-df-quickchart-complete:disabled:hover {\n",
       "    background-color: var(--disabled-bg-color);\n",
       "    fill: var(--disabled-fill-color);\n",
       "    box-shadow: none;\n",
       "  }\n",
       "\n",
       "  .colab-df-spinner {\n",
       "    border: 2px solid var(--fill-color);\n",
       "    border-color: transparent;\n",
       "    border-bottom-color: var(--fill-color);\n",
       "    animation:\n",
       "      spin 1s steps(1) infinite;\n",
       "  }\n",
       "\n",
       "  @keyframes spin {\n",
       "    0% {\n",
       "      border-color: transparent;\n",
       "      border-bottom-color: var(--fill-color);\n",
       "      border-left-color: var(--fill-color);\n",
       "    }\n",
       "    20% {\n",
       "      border-color: transparent;\n",
       "      border-left-color: var(--fill-color);\n",
       "      border-top-color: var(--fill-color);\n",
       "    }\n",
       "    30% {\n",
       "      border-color: transparent;\n",
       "      border-left-color: var(--fill-color);\n",
       "      border-top-color: var(--fill-color);\n",
       "      border-right-color: var(--fill-color);\n",
       "    }\n",
       "    40% {\n",
       "      border-color: transparent;\n",
       "      border-right-color: var(--fill-color);\n",
       "      border-top-color: var(--fill-color);\n",
       "    }\n",
       "    60% {\n",
       "      border-color: transparent;\n",
       "      border-right-color: var(--fill-color);\n",
       "    }\n",
       "    80% {\n",
       "      border-color: transparent;\n",
       "      border-right-color: var(--fill-color);\n",
       "      border-bottom-color: var(--fill-color);\n",
       "    }\n",
       "    90% {\n",
       "      border-color: transparent;\n",
       "      border-bottom-color: var(--fill-color);\n",
       "    }\n",
       "  }\n",
       "</style>\n",
       "\n",
       "  <script>\n",
       "    async function quickchart(key) {\n",
       "      const quickchartButtonEl =\n",
       "        document.querySelector('#' + key + ' button');\n",
       "      quickchartButtonEl.disabled = true;  // To prevent multiple clicks.\n",
       "      quickchartButtonEl.classList.add('colab-df-spinner');\n",
       "      try {\n",
       "        const charts = await google.colab.kernel.invokeFunction(\n",
       "            'suggestCharts', [key], {});\n",
       "      } catch (error) {\n",
       "        console.error('Error during call to suggestCharts:', error);\n",
       "      }\n",
       "      quickchartButtonEl.classList.remove('colab-df-spinner');\n",
       "      quickchartButtonEl.classList.add('colab-df-quickchart-complete');\n",
       "    }\n",
       "    (() => {\n",
       "      let quickchartButtonEl =\n",
       "        document.querySelector('#df-a2b7149d-581a-40cc-b47d-76c276a2c20e button');\n",
       "      quickchartButtonEl.style.display =\n",
       "        google.colab.kernel.accessAllowed ? 'block' : 'none';\n",
       "    })();\n",
       "  </script>\n",
       "</div>\n",
       "    </div>\n",
       "  </div>\n"
      ],
      "text/plain": [
       "              precision    recall  f1-score    support\n",
       "0              1.000000  0.900000  0.947368  10.000000\n",
       "1              0.916667  1.000000  0.956522  11.000000\n",
       "accuracy       0.952381  0.952381  0.952381   0.952381\n",
       "macro avg      0.958333  0.950000  0.951945  21.000000\n",
       "weighted avg   0.956349  0.952381  0.952163  21.000000"
      ]
     },
     "execution_count": 146,
     "metadata": {},
     "output_type": "execute_result"
    }
   ],
   "source": [
    "# Выводим отчет с метриками\n",
    "pd.DataFrame(classification_report(df['label'], preds, output_dict=True)).transpose()"
   ]
  },
  {
   "cell_type": "markdown",
   "metadata": {
    "id": "UsdKnXExaxXQ"
   },
   "source": [
    "Вывод: дообученная модель BERT с линейным слоем показала самую большую точность классификации,\n",
    "однако у нее большой размер, и инференс без GPU может занимать много времени.\n",
    "Поэтому выбор модели зависит от контекста задачи, включая достаточный уровень точности, требований по времени и наличия вычислительных ресурсов.\n",
    "Далее предусмотрим возможность выбора между двумя этими вариантами, а также отключение классификатора для ускорения поиска похожих вопросов."
   ]
  },
  {
   "cell_type": "markdown",
   "metadata": {
    "id": "3XUsfvELtCZF"
   },
   "source": [
    "### 9. Поиск похожих вопросов с учетом предсказаний классификатора <a id=\"step_9\"></a>"
   ]
  },
  {
   "cell_type": "markdown",
   "metadata": {
    "id": "cMEfG8zJtCZF"
   },
   "source": [
    "Напишем функцию, которая по заданному тексту будет искать индексы ближайших к нему вопросов по векторному растоянию, а потом отбирать из них те,\n",
    "для которых классификатор выдает `1`. Для векторизации вопросов используем BERT, а для классификации CatBoostClassifier либо BERT с добавленным линейным слоем в зависимости от выбора пользователя. Также можно искать вопросы без учета классификатора, т.е. только по векторной близости.\n",
    "\n",
    "Сначала напишем две вспомогательные функции, по одной для каждого типа классификатора, которые делают инференс\n",
    "для левых (запрос слева) и правых (запрос справа) пар, образованных запросом пользователя и всеми отсортированными по близости к нему\n",
    "вопросами корпуса."
   ]
  },
  {
   "cell_type": "code",
   "execution_count": 147,
   "metadata": {
    "executionInfo": {
     "elapsed": 246,
     "status": "ok",
     "timestamp": 1716238597450,
     "user": {
      "displayName": "Kirill N.",
      "userId": "16481738826806641256"
     },
     "user_tz": -180
    },
    "id": "tnAMT1N7dASz"
   },
   "outputs": [],
   "source": [
    "def get_all_cb_preds(query_embed, bert_embeds, close_embed_inds, cb_cls_model):\n",
    "    \"\"\"\n",
    "    Получение инференсов от catboost-классификатора для левых (запрос пользователя стоит слева от вопроса из датасета) и\n",
    "    правых (запрос справа) пар, образованных запросом пользователя и всеми отсортированными по близости к нему вопросами из корпуса.\n",
    "\n",
    "    Args:\n",
    "        - query_embed (ndarray): BERT-эмбединг запроса пользователя,\n",
    "        - bert_embeds (ndarray): BERT-эмбединги всех вопросов корпуса,\n",
    "        - close_embed_inds (ndarray): индексы вопросов корпуса, отсортированные по близости к запросу пользователя,\n",
    "        - cb_cls_model (CatBoostClassifier): обученный catboost-классификатор для пар вопросов.\n",
    "\n",
    "    Returns:\n",
    "        - Два списка с предсказаниями классификатора для всех левых и правых пар.\n",
    "    \"\"\"\n",
    "    # Сколько инференсов нужно сделать\n",
    "    n = len(close_embed_inds)\n",
    "    # Бродкастим эмбединг запроса на всю колонку\n",
    "    query_embed_col = np.vstack([query_embed] * n)\n",
    "\n",
    "    # Считаем предсказания для левых пар\n",
    "    left_embed_pairs = np.hstack([query_embed_col, bert_embeds[close_embed_inds]])\n",
    "    left_preds = cb_cls_model.predict(left_embed_pairs)\n",
    "\n",
    "    # Считаем предсказания для правых пар\n",
    "    right_embed_pairs = np.hstack([bert_embeds[close_embed_inds], query_embed_col])\n",
    "    right_preds = cb_cls_model.predict(right_embed_pairs)\n",
    "\n",
    "    return left_preds, right_preds"
   ]
  },
  {
   "cell_type": "code",
   "execution_count": 148,
   "metadata": {
    "executionInfo": {
     "elapsed": 258,
     "status": "ok",
     "timestamp": 1716238600473,
     "user": {
      "displayName": "Kirill N.",
      "userId": "16481738826806641256"
     },
     "user_tz": -180
    },
    "id": "a9tQ_DuHdASz"
   },
   "outputs": [],
   "source": [
    "def get_all_bert_preds(query_text, questions, close_embed_inds, bert_cls_nn):\n",
    "    \"\"\"\n",
    "    Получение инференсов от BERT-классификатора для всех левых (запрос пользователя стоит слева от вопроса из датасета) и\n",
    "    правых (запрос справа) пар, образованных запросом пользователя и всеми отсортированными по близости к нему вопросами из корпуса.\n",
    "\n",
    "    Args:\n",
    "        - query_text (str): текст запроса пользователя,\n",
    "        - questions (pd.DataFrame): корпус вопрсов,\n",
    "        - close_embed_inds (ndarray): индексы вопросов корпуса, отсортированные по близости к запросу пользователя,\n",
    "        - bert_cls_nn (SentencePairClassifier): дообученный BERT с линейным слоем.\n",
    "\n",
    "    Returns:\n",
    "        - Два списка с предсказаниями классификатора для всех левых и правых пар.\n",
    "    \"\"\"\n",
    "    device = torch.device(\"cuda:0\" if torch.cuda.is_available() else \"cpu\")\n",
    "\n",
    "    # Считаем предсказания для левых пар\n",
    "    df_left = pd.concat([pd.Series(), questions.loc[close_embed_inds, 'question']], axis=1)\n",
    "    df_left.rename(columns={0: 'question_1', 'question': 'question_2'}, inplace=True)\n",
    "    df_left.fillna(query_text, inplace=True)\n",
    "    df_left = df_left.reset_index().drop(columns='index')\n",
    "\n",
    "    ds_left = CustomDataset(df_left, with_labels=False)\n",
    "    left_loader = DataLoader(ds_left, batch_size=BATCH_SIZE, num_workers=0) # На локальном ПК без GPU лучше ставить num_workers=0\n",
    "    left_preds = get_bert_preds(bert_cls_nn, device, left_loader)\n",
    "\n",
    "    # Считаем предсказания для правых пар\n",
    "    df_right = pd.concat([questions.loc[close_embed_inds, 'question'], pd.Series()], axis=1)\n",
    "    df_right.rename(columns={'question': 'question_1', 0: 'question_2'}, inplace=True)\n",
    "    df_right.fillna(query_text, inplace=True)\n",
    "    df_right = df_right.reset_index().drop(columns='index')\n",
    "\n",
    "    ds_right = CustomDataset(df_right, with_labels=False)\n",
    "    right_loader = DataLoader(ds_right, batch_size=BATCH_SIZE, num_workers=0) # На локальном ПК без GPU лучше ставить num_workers=0\n",
    "    right_preds = get_bert_preds(bert_cls_nn, device, right_loader)\n",
    "\n",
    "    return left_preds, right_preds"
   ]
  },
  {
   "cell_type": "code",
   "execution_count": 149,
   "metadata": {
    "executionInfo": {
     "elapsed": 368,
     "status": "ok",
     "timestamp": 1716238603699,
     "user": {
      "displayName": "Kirill N.",
      "userId": "16481738826806641256"
     },
     "user_tz": -180
    },
    "id": "OBC3vBbgtCZF"
   },
   "outputs": [],
   "source": [
    "def find_similar_questions_inds(query_text,\n",
    "                                bert_model,\n",
    "                                bert_embeds,\n",
    "                                cb_cls_model,\n",
    "                                bert_cls_nn,\n",
    "                                cls_option,\n",
    "                                metric='cosine',\n",
    "                                n=10):\n",
    "    \"\"\"\n",
    "    Поиск индексов n ближайших вопросов с учетом предсказаний классификатора, обученного на парах вопросов.\n",
    "\n",
    "    Agrs:\n",
    "        - query_text (str): текст, введенный пользователем,\n",
    "        - bert_model (SentenceTransformer): языковая BERT-модель для векторизации текстов,\n",
    "        - bert_embeds (ndarray): BERT-эмбединги всех вопросов корпуса,\n",
    "        - cb_cls_model (CatBoostClassifier): обученный catboost-классификатор,\n",
    "        - bert_cls_nn (SentencePairClassifier): дообученный BERT с линейным слоем,\n",
    "        - cls_option (str): выбранный пользователем классификатор ('None', 'CatBoostClassifier', 'Fine-tuned BERT'),\n",
    "        - metric (str): метрика для расчета расстояний,\n",
    "        - n (int): количество похожих вопросов, которое нужно найти.\n",
    "\n",
    "    Returns:\n",
    "        Список из n индексов ближайших вопросов.\n",
    "    \"\"\"\n",
    "    # Кодируем запрос\n",
    "    query_embed = bert_model.encode(query_text, convert_to_tensor=False).reshape(1, -1)\n",
    "    # Находим расстояния от заданного вектора до всех остальных в корпусе вопросов\n",
    "    dists = pairwise_distances(query_embed, bert_embeds, metric=metric).squeeze()\n",
    "\n",
    "    # Если расстояние до самого близкого вопроса меньше определенного значения,\n",
    "    # то считаем, что он совпадает с заданным вопросом и его можно игнорировать\n",
    "    if dists[0] < 1:\n",
    "        close_embed_inds = np.argsort(dists)[1:]\n",
    "    else:\n",
    "        close_embed_inds = np.argsort(dists)\n",
    "\n",
    "    # Корректируем n\n",
    "    n = min(n, len(close_embed_inds))\n",
    "\n",
    "    # Если пользователь выбрал классификатор, который незагружен\n",
    "    if (cls_option == 'CatBoostClassifier' and cb_cls_model == None) or \\\n",
    "        (cls_option == 'Fine-tuned BERT' and bert_cls_nn == None):\n",
    "        cls_option = 'None'\n",
    "\n",
    "    if cls_option == 'None':\n",
    "        # Классификатор не нужен\n",
    "        return close_embed_inds[:n]\n",
    "    elif cls_option == 'CatBoostClassifier':\n",
    "        # Делаем инференс для всех левых и правых пар с помощью catboost\n",
    "        left_preds, right_preds = get_all_cb_preds(query_embed, bert_embeds, close_embed_inds, cb_cls_model)\n",
    "    else:\n",
    "        # Делаем инференс для всех левых и правых пар с помощью BERT\n",
    "        left_preds, right_preds = get_all_bert_preds(query_text, questions, close_embed_inds, bert_cls_nn)\n",
    "\n",
    "    # Фильтруем полученные индексы с учетом предсказаний классификатора\n",
    "    res_inds = [] # Результирующий список индексов\n",
    "    inds_labeled_0 = [] # Список индексов векторов, для которых классификатор выдал 0\n",
    "    labels_1_cnt = 0 # Счетчик единиц\n",
    "\n",
    "    for i, embed_idx in enumerate(close_embed_inds):\n",
    "        # Проверяем предсказание для левой пары\n",
    "        if left_preds[i] == 1:\n",
    "            res_inds.append(embed_idx)\n",
    "            labels_1_cnt += 1\n",
    "        else:\n",
    "            # Проверяем предсказание для правой пары\n",
    "            if right_preds[i] == 1:\n",
    "                res_inds.append(embed_idx)\n",
    "                labels_1_cnt += 1\n",
    "            else:\n",
    "                inds_labeled_0.append(embed_idx)\n",
    "\n",
    "        if labels_1_cnt == n:\n",
    "            break\n",
    "\n",
    "    # Если количество найденных индексов с 1 оказалось меньше n, то добавляем индексы ближайших векторов,\n",
    "    # для которых классификатор выдал 0\n",
    "    for i in range(n - labels_1_cnt):\n",
    "        res_inds.append(inds_labeled_0[i])\n",
    "\n",
    "    return res_inds"
   ]
  },
  {
   "cell_type": "markdown",
   "metadata": {
    "id": "8NjvkwVJtCZF"
   },
   "source": [
    "Протестируем данные функции для различных сценариев"
   ]
  },
  {
   "cell_type": "code",
   "execution_count": 150,
   "metadata": {
    "executionInfo": {
     "elapsed": 311,
     "status": "ok",
     "timestamp": 1716238609824,
     "user": {
      "displayName": "Kirill N.",
      "userId": "16481738826806641256"
     },
     "user_tz": -180
    },
    "id": "Z-cA0wAQdAS0"
   },
   "outputs": [],
   "source": [
    "# Загружаем catboost-классификатор\n",
    "cb_cls_model = CatBoostClassifier()\n",
    "if IN_COLAB:\n",
    "    cb_cls_model.load_model(f'{ROOT}/question_pairs_cb_classifier.cbm')\n",
    "else:\n",
    "    cb_cls_model.load_model('../models/question_pairs_cb_classifier.cbm')"
   ]
  },
  {
   "cell_type": "code",
   "execution_count": 151,
   "metadata": {
    "colab": {
     "base_uri": "https://localhost:8080/"
    },
    "executionInfo": {
     "elapsed": 1687,
     "status": "ok",
     "timestamp": 1716238644803,
     "user": {
      "displayName": "Kirill N.",
      "userId": "16481738826806641256"
     },
     "user_tz": -180
    },
    "id": "2817I6BZdAS0",
    "outputId": "597d3d98-44bc-401f-b463-9613dd4084b6"
   },
   "outputs": [
    {
     "data": {
      "text/plain": [
       "SentencePairClassifier(\n",
       "  (bert): BertModel(\n",
       "    (embeddings): BertEmbeddings(\n",
       "      (word_embeddings): Embedding(28996, 768, padding_idx=0)\n",
       "      (position_embeddings): Embedding(512, 768)\n",
       "      (token_type_embeddings): Embedding(2, 768)\n",
       "      (LayerNorm): LayerNorm((768,), eps=1e-12, elementwise_affine=True)\n",
       "      (dropout): Dropout(p=0.1, inplace=False)\n",
       "    )\n",
       "    (encoder): BertEncoder(\n",
       "      (layer): ModuleList(\n",
       "        (0-11): 12 x BertLayer(\n",
       "          (attention): BertAttention(\n",
       "            (self): BertSelfAttention(\n",
       "              (query): Linear(in_features=768, out_features=768, bias=True)\n",
       "              (key): Linear(in_features=768, out_features=768, bias=True)\n",
       "              (value): Linear(in_features=768, out_features=768, bias=True)\n",
       "              (dropout): Dropout(p=0.1, inplace=False)\n",
       "            )\n",
       "            (output): BertSelfOutput(\n",
       "              (dense): Linear(in_features=768, out_features=768, bias=True)\n",
       "              (LayerNorm): LayerNorm((768,), eps=1e-12, elementwise_affine=True)\n",
       "              (dropout): Dropout(p=0.1, inplace=False)\n",
       "            )\n",
       "          )\n",
       "          (intermediate): BertIntermediate(\n",
       "            (dense): Linear(in_features=768, out_features=3072, bias=True)\n",
       "            (intermediate_act_fn): GELUActivation()\n",
       "          )\n",
       "          (output): BertOutput(\n",
       "            (dense): Linear(in_features=3072, out_features=768, bias=True)\n",
       "            (LayerNorm): LayerNorm((768,), eps=1e-12, elementwise_affine=True)\n",
       "            (dropout): Dropout(p=0.1, inplace=False)\n",
       "          )\n",
       "        )\n",
       "      )\n",
       "    )\n",
       "    (pooler): BertPooler(\n",
       "      (dense): Linear(in_features=768, out_features=768, bias=True)\n",
       "      (activation): Tanh()\n",
       "    )\n",
       "  )\n",
       "  (dropout): Dropout(p=0.1, inplace=False)\n",
       "  (cls): Linear(in_features=768, out_features=1, bias=True)\n",
       ")"
      ]
     },
     "execution_count": 151,
     "metadata": {},
     "output_type": "execute_result"
    }
   ],
   "source": [
    "# Загружаем BERT-классификатор\n",
    "bert_cls_nn = SentencePairClassifier()\n",
    "device = torch.device(\"cuda:0\" if torch.cuda.is_available() else \"cpu\")\n",
    "if IN_COLAB:\n",
    "    bert_cls_nn.load_state_dict(torch.load(f'{ROOT}/question_pairs_bert_classifier.pt', map_location=device))\n",
    "else:\n",
    "    bert_cls_nn.load_state_dict(torch.load('../models/question_pairs_bert_classifier.pt', map_location=device))\n",
    "bert_cls_nn.to(device)"
   ]
  },
  {
   "cell_type": "code",
   "execution_count": 152,
   "metadata": {
    "executionInfo": {
     "elapsed": 262,
     "status": "ok",
     "timestamp": 1716238650001,
     "user": {
      "displayName": "Kirill N.",
      "userId": "16481738826806641256"
     },
     "user_tz": -180
    },
    "id": "h8npWtm8tCZG"
   },
   "outputs": [],
   "source": [
    "# Вопрос пользователя\n",
    "query_1 = \"How to cope with stress?\""
   ]
  },
  {
   "cell_type": "markdown",
   "metadata": {
    "id": "VW9X9IhedAS0"
   },
   "source": [
    "Вариант без классификатора"
   ]
  },
  {
   "cell_type": "code",
   "execution_count": 153,
   "metadata": {
    "colab": {
     "base_uri": "https://localhost:8080/"
    },
    "executionInfo": {
     "elapsed": 266,
     "status": "ok",
     "timestamp": 1716238652401,
     "user": {
      "displayName": "Kirill N.",
      "userId": "16481738826806641256"
     },
     "user_tz": -180
    },
    "id": "NGVzhc5otCZG",
    "outputId": "4e4ebd20-ce4b-4665-ad2a-f467bca111e7"
   },
   "outputs": [
    {
     "name": "stdout",
     "output_type": "stream",
     "text": [
      "Ищем похожие вопросы без использования классификатора...\n",
      "CPU times: user 21.7 ms, sys: 1.93 ms, total: 23.6 ms\n",
      "Wall time: 41.1 ms\n"
     ]
    },
    {
     "data": {
      "text/plain": [
       "['I have tension headaches and have been under lot of stress. What do you recommend i do?',\n",
       " 'I need some advice, on how to manage anxiety and depression? They have been ruining my life. ',\n",
       " 'What are some measures to tackle anxiety?',\n",
       " 'Any tips on how to get my hair to stop falling out and start growing from stress? I had a large test I took at beginning of June stress from that',\n",
       " 'Do you think being stressed for a year or so can have effects on hair? I am 34 year old male and have gray hair. Do you have any tips?',\n",
       " 'I feel like depression and anxiety are ruining my life, need some advice?',\n",
       " 'I have been dealing with bad anxiety for the past few weeks and I do not want to take any medicine. Are there any remedies or simple things that I can try to feel better?',\n",
       " 'I have excessive hair loss due to stress. I got tested at the beginning of June. Any tips on how to deal with this hair loss and to grow back my hair?',\n",
       " 'How do I get over my family issues before leaving for college?',\n",
       " 'What are some ways to cope if I have not been getting enough rest for 3 days?']"
      ]
     },
     "execution_count": 153,
     "metadata": {},
     "output_type": "execute_result"
    }
   ],
   "source": [
    "print(\"Ищем похожие вопросы без использования классификатора...\")\n",
    "%time inds_11 = find_similar_questions_inds(query_1, bert_model, bert_embeds, cb_cls_model, bert_cls_nn, 'None')\n",
    "list(questions.iloc[inds_11, :]['question'].values)"
   ]
  },
  {
   "cell_type": "markdown",
   "metadata": {
    "id": "yUb2XtD_dAS0"
   },
   "source": [
    "Вариант с CatBoostClassifier"
   ]
  },
  {
   "cell_type": "code",
   "execution_count": 154,
   "metadata": {
    "colab": {
     "base_uri": "https://localhost:8080/"
    },
    "executionInfo": {
     "elapsed": 682,
     "status": "ok",
     "timestamp": 1716238663729,
     "user": {
      "displayName": "Kirill N.",
      "userId": "16481738826806641256"
     },
     "user_tz": -180
    },
    "id": "guONuRFWtCZG",
    "outputId": "3cbcbb29-ff81-4313-9b7a-e9fa104bf6e2"
   },
   "outputs": [
    {
     "name": "stdout",
     "output_type": "stream",
     "text": [
      "Ищем похожие вопросы с использованием CatBoostClassifier...\n",
      "CPU times: user 373 ms, sys: 124 ms, total: 497 ms\n",
      "Wall time: 402 ms\n"
     ]
    },
    {
     "data": {
      "text/plain": [
       "['I have tension headaches and have been under lot of stress. What do you recommend i do?',\n",
       " 'I need some advice, on how to manage anxiety and depression? They have been ruining my life. ',\n",
       " 'What are some measures to tackle anxiety?',\n",
       " 'Any tips on how to get my hair to stop falling out and start growing from stress? I had a large test I took at beginning of June stress from that',\n",
       " 'Do you think being stressed for a year or so can have effects on hair? I am 34 year old male and have gray hair. Do you have any tips?',\n",
       " 'I feel like depression and anxiety are ruining my life, need some advice?',\n",
       " 'I have been dealing with bad anxiety for the past few weeks and I do not want to take any medicine. Are there any remedies or simple things that I can try to feel better?',\n",
       " 'I have excessive hair loss due to stress. I got tested at the beginning of June. Any tips on how to deal with this hair loss and to grow back my hair?',\n",
       " 'How do I get over my family issues before leaving for college?',\n",
       " 'What are some ways to cope if I have not been getting enough rest for 3 days?']"
      ]
     },
     "execution_count": 154,
     "metadata": {},
     "output_type": "execute_result"
    }
   ],
   "source": [
    "print(\"Ищем похожие вопросы с использованием CatBoostClassifier...\")\n",
    "%time inds_12 = find_similar_questions_inds(query_1, bert_model, bert_embeds, cb_cls_model, bert_cls_nn, 'CatBoostClassifier')\n",
    "list(questions.iloc[inds_12, :]['question'].values)"
   ]
  },
  {
   "cell_type": "markdown",
   "metadata": {
    "id": "ajpThslDdAS1"
   },
   "source": [
    "Вариант с BERT-классификатором (лучше запускать на GPU)"
   ]
  },
  {
   "cell_type": "code",
   "execution_count": 113,
   "metadata": {
    "colab": {
     "base_uri": "https://localhost:8080/"
    },
    "executionInfo": {
     "elapsed": 129059,
     "status": "ok",
     "timestamp": 1716237647689,
     "user": {
      "displayName": "Kirill N.",
      "userId": "16481738826806641256"
     },
     "user_tz": -180
    },
    "id": "vEP6NtHXdAS1",
    "outputId": "ea3ea7fc-8a45-43e6-fe94-3ea654f96f0a"
   },
   "outputs": [
    {
     "name": "stdout",
     "output_type": "stream",
     "text": [
      "Ищем похожие вопросы с использованием Fine-tuned BERT...\n",
      "CPU times: user 2min 3s, sys: 251 ms, total: 2min 3s\n",
      "Wall time: 2min 8s\n"
     ]
    },
    {
     "data": {
      "text/plain": [
       "['I have tension headaches and have been under lot of stress. What do you recommend i do?',\n",
       " 'I need some advice, on how to manage anxiety and depression? They have been ruining my life. ',\n",
       " 'What are some measures to tackle anxiety?',\n",
       " 'Any tips on how to get my hair to stop falling out and start growing from stress? I had a large test I took at beginning of June stress from that',\n",
       " 'I have excessive hair loss due to stress. I got tested at the beginning of June. Any tips on how to deal with this hair loss and to grow back my hair?',\n",
       " 'How do I get over my family issues before leaving for college?',\n",
       " 'What are some ways to cope if I have not been getting enough rest for 3 days?',\n",
       " 'What to do about depression of seeing spirits and just being upset overall?',\n",
       " 'I see spirits and I get depressed about it. I also get upset easily without reason and this is affecting my daily routine and career. What can I do to find some relief?',\n",
       " 'How to live if you hate your life and your too afraid to die?']"
      ]
     },
     "execution_count": 113,
     "metadata": {},
     "output_type": "execute_result"
    }
   ],
   "source": [
    "print(\"Ищем похожие вопросы с использованием Fine-tuned BERT...\")\n",
    "%time inds_13 = find_similar_questions_inds(query_1, bert_model, bert_embeds, cb_cls_model, bert_cls_nn, 'Fine-tuned BERT')\n",
    "list(questions.iloc[inds_13, :]['question'].values)"
   ]
  },
  {
   "cell_type": "markdown",
   "metadata": {
    "id": "ULMPIV3btCZH"
   },
   "source": [
    "Вывод: видим, что в данной задаче благодаря качеству эмбедингов BERT у нас получается\n",
    "практически одинаковый набор вопросов, как при использовании классификаторов, так и без них."
   ]
  },
  {
   "cell_type": "code",
   "execution_count": null,
   "metadata": {
    "id": "5ywgDfc_dAS1"
   },
   "outputs": [],
   "source": []
  }
 ],
 "metadata": {
  "accelerator": "GPU",
  "colab": {
   "gpuType": "T4",
   "provenance": []
  },
  "kernelspec": {
   "display_name": "Python 3 (ipykernel)",
   "language": "python",
   "name": "python3"
  },
  "language_info": {
   "codemirror_mode": {
    "name": "ipython",
    "version": 3
   },
   "file_extension": ".py",
   "mimetype": "text/x-python",
   "name": "python",
   "nbconvert_exporter": "python",
   "pygments_lexer": "ipython3",
   "version": "3.11.7"
  },
  "widgets": {
   "application/vnd.jupyter.widget-state+json": {
    "015c2b5e7b2c47ebbe28178871042850": {
     "model_module": "@jupyter-widgets/controls",
     "model_module_version": "1.5.0",
     "model_name": "HTMLModel",
     "state": {
      "_dom_classes": [],
      "_model_module": "@jupyter-widgets/controls",
      "_model_module_version": "1.5.0",
      "_model_name": "HTMLModel",
      "_view_count": null,
      "_view_module": "@jupyter-widgets/controls",
      "_view_module_version": "1.5.0",
      "_view_name": "HTMLView",
      "description": "",
      "description_tooltip": null,
      "layout": "IPY_MODEL_0ba227aebc864b76812612084bafd9b4",
      "placeholder": "​",
      "style": "IPY_MODEL_3b42c421bcaa46898c2d85053798d300",
      "value": "tokenizer_config.json: 100%"
     }
    },
    "033a746c3cf6485d8ea9bfd4f18ccab5": {
     "model_module": "@jupyter-widgets/controls",
     "model_module_version": "1.5.0",
     "model_name": "FloatProgressModel",
     "state": {
      "_dom_classes": [],
      "_model_module": "@jupyter-widgets/controls",
      "_model_module_version": "1.5.0",
      "_model_name": "FloatProgressModel",
      "_view_count": null,
      "_view_module": "@jupyter-widgets/controls",
      "_view_module_version": "1.5.0",
      "_view_name": "ProgressView",
      "bar_style": "success",
      "description": "",
      "description_tooltip": null,
      "layout": "IPY_MODEL_05992a0598094887bde90539f3fb79af",
      "max": 112,
      "min": 0,
      "orientation": "horizontal",
      "style": "IPY_MODEL_744c855184624948aee6e6392cf52c31",
      "value": 112
     }
    },
    "0341562542f34ad6bf294eaa3a516026": {
     "model_module": "@jupyter-widgets/base",
     "model_module_version": "1.2.0",
     "model_name": "LayoutModel",
     "state": {
      "_model_module": "@jupyter-widgets/base",
      "_model_module_version": "1.2.0",
      "_model_name": "LayoutModel",
      "_view_count": null,
      "_view_module": "@jupyter-widgets/base",
      "_view_module_version": "1.2.0",
      "_view_name": "LayoutView",
      "align_content": null,
      "align_items": null,
      "align_self": null,
      "border": null,
      "bottom": null,
      "display": null,
      "flex": null,
      "flex_flow": null,
      "grid_area": null,
      "grid_auto_columns": null,
      "grid_auto_flow": null,
      "grid_auto_rows": null,
      "grid_column": null,
      "grid_gap": null,
      "grid_row": null,
      "grid_template_areas": null,
      "grid_template_columns": null,
      "grid_template_rows": null,
      "height": null,
      "justify_content": null,
      "justify_items": null,
      "left": null,
      "margin": null,
      "max_height": null,
      "max_width": null,
      "min_height": null,
      "min_width": null,
      "object_fit": null,
      "object_position": null,
      "order": null,
      "overflow": null,
      "overflow_x": null,
      "overflow_y": null,
      "padding": null,
      "right": null,
      "top": null,
      "visibility": null,
      "width": null
     }
    },
    "0527530693da4995860d4ba89ab855a1": {
     "model_module": "@jupyter-widgets/base",
     "model_module_version": "1.2.0",
     "model_name": "LayoutModel",
     "state": {
      "_model_module": "@jupyter-widgets/base",
      "_model_module_version": "1.2.0",
      "_model_name": "LayoutModel",
      "_view_count": null,
      "_view_module": "@jupyter-widgets/base",
      "_view_module_version": "1.2.0",
      "_view_name": "LayoutView",
      "align_content": null,
      "align_items": null,
      "align_self": null,
      "border": null,
      "bottom": null,
      "display": null,
      "flex": null,
      "flex_flow": null,
      "grid_area": null,
      "grid_auto_columns": null,
      "grid_auto_flow": null,
      "grid_auto_rows": null,
      "grid_column": null,
      "grid_gap": null,
      "grid_row": null,
      "grid_template_areas": null,
      "grid_template_columns": null,
      "grid_template_rows": null,
      "height": null,
      "justify_content": null,
      "justify_items": null,
      "left": null,
      "margin": null,
      "max_height": null,
      "max_width": null,
      "min_height": null,
      "min_width": null,
      "object_fit": null,
      "object_position": null,
      "order": null,
      "overflow": null,
      "overflow_x": null,
      "overflow_y": null,
      "padding": null,
      "right": null,
      "top": null,
      "visibility": null,
      "width": null
     }
    },
    "05992a0598094887bde90539f3fb79af": {
     "model_module": "@jupyter-widgets/base",
     "model_module_version": "1.2.0",
     "model_name": "LayoutModel",
     "state": {
      "_model_module": "@jupyter-widgets/base",
      "_model_module_version": "1.2.0",
      "_model_name": "LayoutModel",
      "_view_count": null,
      "_view_module": "@jupyter-widgets/base",
      "_view_module_version": "1.2.0",
      "_view_name": "LayoutView",
      "align_content": null,
      "align_items": null,
      "align_self": null,
      "border": null,
      "bottom": null,
      "display": null,
      "flex": null,
      "flex_flow": null,
      "grid_area": null,
      "grid_auto_columns": null,
      "grid_auto_flow": null,
      "grid_auto_rows": null,
      "grid_column": null,
      "grid_gap": null,
      "grid_row": null,
      "grid_template_areas": null,
      "grid_template_columns": null,
      "grid_template_rows": null,
      "height": null,
      "justify_content": null,
      "justify_items": null,
      "left": null,
      "margin": null,
      "max_height": null,
      "max_width": null,
      "min_height": null,
      "min_width": null,
      "object_fit": null,
      "object_position": null,
      "order": null,
      "overflow": null,
      "overflow_x": null,
      "overflow_y": null,
      "padding": null,
      "right": null,
      "top": null,
      "visibility": null,
      "width": null
     }
    },
    "09a9bae47b1b47888358fd160bd30b59": {
     "model_module": "@jupyter-widgets/controls",
     "model_module_version": "1.5.0",
     "model_name": "FloatProgressModel",
     "state": {
      "_dom_classes": [],
      "_model_module": "@jupyter-widgets/controls",
      "_model_module_version": "1.5.0",
      "_model_name": "FloatProgressModel",
      "_view_count": null,
      "_view_module": "@jupyter-widgets/controls",
      "_view_module_version": "1.5.0",
      "_view_name": "ProgressView",
      "bar_style": "success",
      "description": "",
      "description_tooltip": null,
      "layout": "IPY_MODEL_4e957381affe412db2ad6be680e72e94",
      "max": 116,
      "min": 0,
      "orientation": "horizontal",
      "style": "IPY_MODEL_b3cf0b4d946843018c08a213cb1072ee",
      "value": 116
     }
    },
    "09efff9970ad49a797806723e07d00bb": {
     "model_module": "@jupyter-widgets/base",
     "model_module_version": "1.2.0",
     "model_name": "LayoutModel",
     "state": {
      "_model_module": "@jupyter-widgets/base",
      "_model_module_version": "1.2.0",
      "_model_name": "LayoutModel",
      "_view_count": null,
      "_view_module": "@jupyter-widgets/base",
      "_view_module_version": "1.2.0",
      "_view_name": "LayoutView",
      "align_content": null,
      "align_items": null,
      "align_self": null,
      "border": null,
      "bottom": null,
      "display": null,
      "flex": null,
      "flex_flow": null,
      "grid_area": null,
      "grid_auto_columns": null,
      "grid_auto_flow": null,
      "grid_auto_rows": null,
      "grid_column": null,
      "grid_gap": null,
      "grid_row": null,
      "grid_template_areas": null,
      "grid_template_columns": null,
      "grid_template_rows": null,
      "height": null,
      "justify_content": null,
      "justify_items": null,
      "left": null,
      "margin": null,
      "max_height": null,
      "max_width": null,
      "min_height": null,
      "min_width": null,
      "object_fit": null,
      "object_position": null,
      "order": null,
      "overflow": null,
      "overflow_x": null,
      "overflow_y": null,
      "padding": null,
      "right": null,
      "top": null,
      "visibility": null,
      "width": null
     }
    },
    "0a5ee6625303472291fcbfe61781b37e": {
     "model_module": "@jupyter-widgets/controls",
     "model_module_version": "1.5.0",
     "model_name": "HBoxModel",
     "state": {
      "_dom_classes": [],
      "_model_module": "@jupyter-widgets/controls",
      "_model_module_version": "1.5.0",
      "_model_name": "HBoxModel",
      "_view_count": null,
      "_view_module": "@jupyter-widgets/controls",
      "_view_module_version": "1.5.0",
      "_view_name": "HBoxView",
      "box_style": "",
      "children": [
       "IPY_MODEL_cfc159580a6b4b3fb7a970ea095dbded",
       "IPY_MODEL_09a9bae47b1b47888358fd160bd30b59",
       "IPY_MODEL_e3949a0d7e9b4d4ab3016a154cb2bdbb"
      ],
      "layout": "IPY_MODEL_56d717ee982e49839ce775100978beb9"
     }
    },
    "0ba227aebc864b76812612084bafd9b4": {
     "model_module": "@jupyter-widgets/base",
     "model_module_version": "1.2.0",
     "model_name": "LayoutModel",
     "state": {
      "_model_module": "@jupyter-widgets/base",
      "_model_module_version": "1.2.0",
      "_model_name": "LayoutModel",
      "_view_count": null,
      "_view_module": "@jupyter-widgets/base",
      "_view_module_version": "1.2.0",
      "_view_name": "LayoutView",
      "align_content": null,
      "align_items": null,
      "align_self": null,
      "border": null,
      "bottom": null,
      "display": null,
      "flex": null,
      "flex_flow": null,
      "grid_area": null,
      "grid_auto_columns": null,
      "grid_auto_flow": null,
      "grid_auto_rows": null,
      "grid_column": null,
      "grid_gap": null,
      "grid_row": null,
      "grid_template_areas": null,
      "grid_template_columns": null,
      "grid_template_rows": null,
      "height": null,
      "justify_content": null,
      "justify_items": null,
      "left": null,
      "margin": null,
      "max_height": null,
      "max_width": null,
      "min_height": null,
      "min_width": null,
      "object_fit": null,
      "object_position": null,
      "order": null,
      "overflow": null,
      "overflow_x": null,
      "overflow_y": null,
      "padding": null,
      "right": null,
      "top": null,
      "visibility": null,
      "width": null
     }
    },
    "0cf53a0919824870beb61cacef422285": {
     "model_module": "@jupyter-widgets/base",
     "model_module_version": "1.2.0",
     "model_name": "LayoutModel",
     "state": {
      "_model_module": "@jupyter-widgets/base",
      "_model_module_version": "1.2.0",
      "_model_name": "LayoutModel",
      "_view_count": null,
      "_view_module": "@jupyter-widgets/base",
      "_view_module_version": "1.2.0",
      "_view_name": "LayoutView",
      "align_content": null,
      "align_items": null,
      "align_self": null,
      "border": null,
      "bottom": null,
      "display": null,
      "flex": null,
      "flex_flow": null,
      "grid_area": null,
      "grid_auto_columns": null,
      "grid_auto_flow": null,
      "grid_auto_rows": null,
      "grid_column": null,
      "grid_gap": null,
      "grid_row": null,
      "grid_template_areas": null,
      "grid_template_columns": null,
      "grid_template_rows": null,
      "height": null,
      "justify_content": null,
      "justify_items": null,
      "left": null,
      "margin": null,
      "max_height": null,
      "max_width": null,
      "min_height": null,
      "min_width": null,
      "object_fit": null,
      "object_position": null,
      "order": null,
      "overflow": null,
      "overflow_x": null,
      "overflow_y": null,
      "padding": null,
      "right": null,
      "top": null,
      "visibility": null,
      "width": null
     }
    },
    "0d8f379af1014c17838d4081e2300cee": {
     "model_module": "@jupyter-widgets/base",
     "model_module_version": "1.2.0",
     "model_name": "LayoutModel",
     "state": {
      "_model_module": "@jupyter-widgets/base",
      "_model_module_version": "1.2.0",
      "_model_name": "LayoutModel",
      "_view_count": null,
      "_view_module": "@jupyter-widgets/base",
      "_view_module_version": "1.2.0",
      "_view_name": "LayoutView",
      "align_content": null,
      "align_items": null,
      "align_self": null,
      "border": null,
      "bottom": null,
      "display": null,
      "flex": null,
      "flex_flow": null,
      "grid_area": null,
      "grid_auto_columns": null,
      "grid_auto_flow": null,
      "grid_auto_rows": null,
      "grid_column": null,
      "grid_gap": null,
      "grid_row": null,
      "grid_template_areas": null,
      "grid_template_columns": null,
      "grid_template_rows": null,
      "height": null,
      "justify_content": null,
      "justify_items": null,
      "left": null,
      "margin": null,
      "max_height": null,
      "max_width": null,
      "min_height": null,
      "min_width": null,
      "object_fit": null,
      "object_position": null,
      "order": null,
      "overflow": null,
      "overflow_x": null,
      "overflow_y": null,
      "padding": null,
      "right": null,
      "top": null,
      "visibility": null,
      "width": null
     }
    },
    "0ef9f00176324ec5b226d96848906816": {
     "model_module": "@jupyter-widgets/controls",
     "model_module_version": "1.5.0",
     "model_name": "DescriptionStyleModel",
     "state": {
      "_model_module": "@jupyter-widgets/controls",
      "_model_module_version": "1.5.0",
      "_model_name": "DescriptionStyleModel",
      "_view_count": null,
      "_view_module": "@jupyter-widgets/base",
      "_view_module_version": "1.2.0",
      "_view_name": "StyleView",
      "description_width": ""
     }
    },
    "107300bbbb534913b4c013adda973104": {
     "model_module": "@jupyter-widgets/controls",
     "model_module_version": "1.5.0",
     "model_name": "HTMLModel",
     "state": {
      "_dom_classes": [],
      "_model_module": "@jupyter-widgets/controls",
      "_model_module_version": "1.5.0",
      "_model_name": "HTMLModel",
      "_view_count": null,
      "_view_module": "@jupyter-widgets/controls",
      "_view_module_version": "1.5.0",
      "_view_name": "HTMLView",
      "description": "",
      "description_tooltip": null,
      "layout": "IPY_MODEL_a84c6b7542f2428ca378a6fdfee4306a",
      "placeholder": "​",
      "style": "IPY_MODEL_5367ff156727461aad78204814928bcb",
      "value": " 8.06k/8.06k [00:00&lt;00:00, 356kB/s]"
     }
    },
    "129f960c641c4d638d1961d5d201bb63": {
     "model_module": "@jupyter-widgets/base",
     "model_module_version": "1.2.0",
     "model_name": "LayoutModel",
     "state": {
      "_model_module": "@jupyter-widgets/base",
      "_model_module_version": "1.2.0",
      "_model_name": "LayoutModel",
      "_view_count": null,
      "_view_module": "@jupyter-widgets/base",
      "_view_module_version": "1.2.0",
      "_view_name": "LayoutView",
      "align_content": null,
      "align_items": null,
      "align_self": null,
      "border": null,
      "bottom": null,
      "display": null,
      "flex": null,
      "flex_flow": null,
      "grid_area": null,
      "grid_auto_columns": null,
      "grid_auto_flow": null,
      "grid_auto_rows": null,
      "grid_column": null,
      "grid_gap": null,
      "grid_row": null,
      "grid_template_areas": null,
      "grid_template_columns": null,
      "grid_template_rows": null,
      "height": null,
      "justify_content": null,
      "justify_items": null,
      "left": null,
      "margin": null,
      "max_height": null,
      "max_width": null,
      "min_height": null,
      "min_width": null,
      "object_fit": null,
      "object_position": null,
      "order": null,
      "overflow": null,
      "overflow_x": null,
      "overflow_y": null,
      "padding": null,
      "right": null,
      "top": null,
      "visibility": null,
      "width": null
     }
    },
    "1637ff010c7740149f22453d00736e0c": {
     "model_module": "@jupyter-widgets/controls",
     "model_module_version": "1.5.0",
     "model_name": "DescriptionStyleModel",
     "state": {
      "_model_module": "@jupyter-widgets/controls",
      "_model_module_version": "1.5.0",
      "_model_name": "DescriptionStyleModel",
      "_view_count": null,
      "_view_module": "@jupyter-widgets/base",
      "_view_module_version": "1.2.0",
      "_view_name": "StyleView",
      "description_width": ""
     }
    },
    "1acea064ee3145cc9fdac00531972ecb": {
     "model_module": "@jupyter-widgets/controls",
     "model_module_version": "1.5.0",
     "model_name": "DescriptionStyleModel",
     "state": {
      "_model_module": "@jupyter-widgets/controls",
      "_model_module_version": "1.5.0",
      "_model_name": "DescriptionStyleModel",
      "_view_count": null,
      "_view_module": "@jupyter-widgets/base",
      "_view_module_version": "1.2.0",
      "_view_name": "StyleView",
      "description_width": ""
     }
    },
    "1fb55dd1085e4b4db589bec19c9d3c2f": {
     "model_module": "@jupyter-widgets/controls",
     "model_module_version": "1.5.0",
     "model_name": "HBoxModel",
     "state": {
      "_dom_classes": [],
      "_model_module": "@jupyter-widgets/controls",
      "_model_module_version": "1.5.0",
      "_model_name": "HBoxModel",
      "_view_count": null,
      "_view_module": "@jupyter-widgets/controls",
      "_view_module_version": "1.5.0",
      "_view_name": "HBoxView",
      "box_style": "",
      "children": [
       "IPY_MODEL_dee00727ebb44b488aab92e96f475bf3",
       "IPY_MODEL_b0e1371dce7e422291e3d32c8d794fc1",
       "IPY_MODEL_7d406592dbf1402aa5d66c76edfef621"
      ],
      "layout": "IPY_MODEL_5e9ec42ff5374d118bfba6b1229a593f"
     }
    },
    "218c0fe805544082a55025db73201065": {
     "model_module": "@jupyter-widgets/controls",
     "model_module_version": "1.5.0",
     "model_name": "ProgressStyleModel",
     "state": {
      "_model_module": "@jupyter-widgets/controls",
      "_model_module_version": "1.5.0",
      "_model_name": "ProgressStyleModel",
      "_view_count": null,
      "_view_module": "@jupyter-widgets/base",
      "_view_module_version": "1.2.0",
      "_view_name": "StyleView",
      "bar_color": null,
      "description_width": ""
     }
    },
    "23e1eca0c37c4ccba0741bf632f0f81a": {
     "model_module": "@jupyter-widgets/base",
     "model_module_version": "1.2.0",
     "model_name": "LayoutModel",
     "state": {
      "_model_module": "@jupyter-widgets/base",
      "_model_module_version": "1.2.0",
      "_model_name": "LayoutModel",
      "_view_count": null,
      "_view_module": "@jupyter-widgets/base",
      "_view_module_version": "1.2.0",
      "_view_name": "LayoutView",
      "align_content": null,
      "align_items": null,
      "align_self": null,
      "border": null,
      "bottom": null,
      "display": null,
      "flex": null,
      "flex_flow": null,
      "grid_area": null,
      "grid_auto_columns": null,
      "grid_auto_flow": null,
      "grid_auto_rows": null,
      "grid_column": null,
      "grid_gap": null,
      "grid_row": null,
      "grid_template_areas": null,
      "grid_template_columns": null,
      "grid_template_rows": null,
      "height": null,
      "justify_content": null,
      "justify_items": null,
      "left": null,
      "margin": null,
      "max_height": null,
      "max_width": null,
      "min_height": null,
      "min_width": null,
      "object_fit": null,
      "object_position": null,
      "order": null,
      "overflow": null,
      "overflow_x": null,
      "overflow_y": null,
      "padding": null,
      "right": null,
      "top": null,
      "visibility": null,
      "width": null
     }
    },
    "244ae4a9f36042dab53896ece9910bf2": {
     "model_module": "@jupyter-widgets/controls",
     "model_module_version": "1.5.0",
     "model_name": "HBoxModel",
     "state": {
      "_dom_classes": [],
      "_model_module": "@jupyter-widgets/controls",
      "_model_module_version": "1.5.0",
      "_model_name": "HBoxModel",
      "_view_count": null,
      "_view_module": "@jupyter-widgets/controls",
      "_view_module_version": "1.5.0",
      "_view_name": "HBoxView",
      "box_style": "",
      "children": [
       "IPY_MODEL_ce465331456c45768dda76a55602caf7",
       "IPY_MODEL_9626c268510748e2b43c85a830076c0a",
       "IPY_MODEL_d2b69357836047438b566a944e7ae094"
      ],
      "layout": "IPY_MODEL_ffa29066496e41de9ef1f32fe668df10"
     }
    },
    "2458cb568de24b4ea9f89819fbc6f7af": {
     "model_module": "@jupyter-widgets/controls",
     "model_module_version": "1.5.0",
     "model_name": "HBoxModel",
     "state": {
      "_dom_classes": [],
      "_model_module": "@jupyter-widgets/controls",
      "_model_module_version": "1.5.0",
      "_model_name": "HBoxModel",
      "_view_count": null,
      "_view_module": "@jupyter-widgets/controls",
      "_view_module_version": "1.5.0",
      "_view_name": "HBoxView",
      "box_style": "",
      "children": [
       "IPY_MODEL_faea5163ee474f1683e4377cf63d1f8b",
       "IPY_MODEL_47c6045d4b564f028d38200733d19ed4",
       "IPY_MODEL_60928cd1b10b4ca895c4c452cfb687dd"
      ],
      "layout": "IPY_MODEL_9d6a757ea8a84db1bf1c556c664a27a8"
     }
    },
    "2547a4eb87484e84a6acb9546848f428": {
     "model_module": "@jupyter-widgets/base",
     "model_module_version": "1.2.0",
     "model_name": "LayoutModel",
     "state": {
      "_model_module": "@jupyter-widgets/base",
      "_model_module_version": "1.2.0",
      "_model_name": "LayoutModel",
      "_view_count": null,
      "_view_module": "@jupyter-widgets/base",
      "_view_module_version": "1.2.0",
      "_view_name": "LayoutView",
      "align_content": null,
      "align_items": null,
      "align_self": null,
      "border": null,
      "bottom": null,
      "display": null,
      "flex": null,
      "flex_flow": null,
      "grid_area": null,
      "grid_auto_columns": null,
      "grid_auto_flow": null,
      "grid_auto_rows": null,
      "grid_column": null,
      "grid_gap": null,
      "grid_row": null,
      "grid_template_areas": null,
      "grid_template_columns": null,
      "grid_template_rows": null,
      "height": null,
      "justify_content": null,
      "justify_items": null,
      "left": null,
      "margin": null,
      "max_height": null,
      "max_width": null,
      "min_height": null,
      "min_width": null,
      "object_fit": null,
      "object_position": null,
      "order": null,
      "overflow": null,
      "overflow_x": null,
      "overflow_y": null,
      "padding": null,
      "right": null,
      "top": null,
      "visibility": null,
      "width": null
     }
    },
    "262523798c9e4958bc3e84e78e548f12": {
     "model_module": "@jupyter-widgets/controls",
     "model_module_version": "1.5.0",
     "model_name": "DescriptionStyleModel",
     "state": {
      "_model_module": "@jupyter-widgets/controls",
      "_model_module_version": "1.5.0",
      "_model_name": "DescriptionStyleModel",
      "_view_count": null,
      "_view_module": "@jupyter-widgets/base",
      "_view_module_version": "1.2.0",
      "_view_name": "StyleView",
      "description_width": ""
     }
    },
    "26f13175de2a4752a45a3912ec3d8633": {
     "model_module": "@jupyter-widgets/controls",
     "model_module_version": "1.5.0",
     "model_name": "FloatProgressModel",
     "state": {
      "_dom_classes": [],
      "_model_module": "@jupyter-widgets/controls",
      "_model_module_version": "1.5.0",
      "_model_name": "FloatProgressModel",
      "_view_count": null,
      "_view_module": "@jupyter-widgets/controls",
      "_view_module_version": "1.5.0",
      "_view_name": "ProgressView",
      "bar_style": "success",
      "description": "",
      "description_tooltip": null,
      "layout": "IPY_MODEL_deb867f3ab8d4c9bbee59b24a82bada7",
      "max": 313704,
      "min": 0,
      "orientation": "horizontal",
      "style": "IPY_MODEL_e427e3d1f290427f8a20fea9ba2daa77",
      "value": 313704
     }
    },
    "2d19844be8d3408080627bd7a311d7cf": {
     "model_module": "@jupyter-widgets/base",
     "model_module_version": "1.2.0",
     "model_name": "LayoutModel",
     "state": {
      "_model_module": "@jupyter-widgets/base",
      "_model_module_version": "1.2.0",
      "_model_name": "LayoutModel",
      "_view_count": null,
      "_view_module": "@jupyter-widgets/base",
      "_view_module_version": "1.2.0",
      "_view_name": "LayoutView",
      "align_content": null,
      "align_items": null,
      "align_self": null,
      "border": null,
      "bottom": null,
      "display": null,
      "flex": null,
      "flex_flow": null,
      "grid_area": null,
      "grid_auto_columns": null,
      "grid_auto_flow": null,
      "grid_auto_rows": null,
      "grid_column": null,
      "grid_gap": null,
      "grid_row": null,
      "grid_template_areas": null,
      "grid_template_columns": null,
      "grid_template_rows": null,
      "height": null,
      "justify_content": null,
      "justify_items": null,
      "left": null,
      "margin": null,
      "max_height": null,
      "max_width": null,
      "min_height": null,
      "min_width": null,
      "object_fit": null,
      "object_position": null,
      "order": null,
      "overflow": null,
      "overflow_x": null,
      "overflow_y": null,
      "padding": null,
      "right": null,
      "top": null,
      "visibility": null,
      "width": null
     }
    },
    "2d81a8ee981d48f6a0c1463c9cf58af2": {
     "model_module": "@jupyter-widgets/controls",
     "model_module_version": "1.5.0",
     "model_name": "DescriptionStyleModel",
     "state": {
      "_model_module": "@jupyter-widgets/controls",
      "_model_module_version": "1.5.0",
      "_model_name": "DescriptionStyleModel",
      "_view_count": null,
      "_view_module": "@jupyter-widgets/base",
      "_view_module_version": "1.2.0",
      "_view_name": "StyleView",
      "description_width": ""
     }
    },
    "2de6c309a87e4e33a98a391d66bf4d5c": {
     "model_module": "@jupyter-widgets/controls",
     "model_module_version": "1.5.0",
     "model_name": "HTMLModel",
     "state": {
      "_dom_classes": [],
      "_model_module": "@jupyter-widgets/controls",
      "_model_module_version": "1.5.0",
      "_model_name": "HTMLModel",
      "_view_count": null,
      "_view_module": "@jupyter-widgets/controls",
      "_view_module_version": "1.5.0",
      "_view_name": "HTMLView",
      "description": "",
      "description_tooltip": null,
      "layout": "IPY_MODEL_a4cba043a7c24d2da0f656831d0b3c70",
      "placeholder": "​",
      "style": "IPY_MODEL_3a30bc76cc0147198ffbfa5080632237",
      "value": " 53.0/53.0 [00:00&lt;00:00, 1.67kB/s]"
     }
    },
    "36388d8245584af3a16b5917eb822809": {
     "model_module": "@jupyter-widgets/controls",
     "model_module_version": "1.5.0",
     "model_name": "FloatProgressModel",
     "state": {
      "_dom_classes": [],
      "_model_module": "@jupyter-widgets/controls",
      "_model_module_version": "1.5.0",
      "_model_name": "FloatProgressModel",
      "_view_count": null,
      "_view_module": "@jupyter-widgets/controls",
      "_view_module_version": "1.5.0",
      "_view_name": "ProgressView",
      "bar_style": "success",
      "description": "",
      "description_tooltip": null,
      "layout": "IPY_MODEL_0341562542f34ad6bf294eaa3a516026",
      "max": 349,
      "min": 0,
      "orientation": "horizontal",
      "style": "IPY_MODEL_e7d192b1821f45ddac63b32b1adedfb8",
      "value": 349
     }
    },
    "380a8d488c7a474ea4e4d2365f9ad76f": {
     "model_module": "@jupyter-widgets/base",
     "model_module_version": "1.2.0",
     "model_name": "LayoutModel",
     "state": {
      "_model_module": "@jupyter-widgets/base",
      "_model_module_version": "1.2.0",
      "_model_name": "LayoutModel",
      "_view_count": null,
      "_view_module": "@jupyter-widgets/base",
      "_view_module_version": "1.2.0",
      "_view_name": "LayoutView",
      "align_content": null,
      "align_items": null,
      "align_self": null,
      "border": null,
      "bottom": null,
      "display": null,
      "flex": null,
      "flex_flow": null,
      "grid_area": null,
      "grid_auto_columns": null,
      "grid_auto_flow": null,
      "grid_auto_rows": null,
      "grid_column": null,
      "grid_gap": null,
      "grid_row": null,
      "grid_template_areas": null,
      "grid_template_columns": null,
      "grid_template_rows": null,
      "height": null,
      "justify_content": null,
      "justify_items": null,
      "left": null,
      "margin": null,
      "max_height": null,
      "max_width": null,
      "min_height": null,
      "min_width": null,
      "object_fit": null,
      "object_position": null,
      "order": null,
      "overflow": null,
      "overflow_x": null,
      "overflow_y": null,
      "padding": null,
      "right": null,
      "top": null,
      "visibility": null,
      "width": null
     }
    },
    "393d0c8a9d084a1d86b01d6e7e084023": {
     "model_module": "@jupyter-widgets/controls",
     "model_module_version": "1.5.0",
     "model_name": "ProgressStyleModel",
     "state": {
      "_model_module": "@jupyter-widgets/controls",
      "_model_module_version": "1.5.0",
      "_model_name": "ProgressStyleModel",
      "_view_count": null,
      "_view_module": "@jupyter-widgets/base",
      "_view_module_version": "1.2.0",
      "_view_name": "StyleView",
      "bar_color": null,
      "description_width": ""
     }
    },
    "3a077cc649684dffacdbd83931338ab8": {
     "model_module": "@jupyter-widgets/controls",
     "model_module_version": "1.5.0",
     "model_name": "HBoxModel",
     "state": {
      "_dom_classes": [],
      "_model_module": "@jupyter-widgets/controls",
      "_model_module_version": "1.5.0",
      "_model_name": "HBoxModel",
      "_view_count": null,
      "_view_module": "@jupyter-widgets/controls",
      "_view_module_version": "1.5.0",
      "_view_name": "HBoxView",
      "box_style": "",
      "children": [
       "IPY_MODEL_df7c23c18a314382b73b12bd1e34e46b",
       "IPY_MODEL_033a746c3cf6485d8ea9bfd4f18ccab5",
       "IPY_MODEL_4ff31528d5a646dc867ca4ef808aad6a"
      ],
      "layout": "IPY_MODEL_57a7f99f1d19481eb08c649708ad9323"
     }
    },
    "3a30bc76cc0147198ffbfa5080632237": {
     "model_module": "@jupyter-widgets/controls",
     "model_module_version": "1.5.0",
     "model_name": "DescriptionStyleModel",
     "state": {
      "_model_module": "@jupyter-widgets/controls",
      "_model_module_version": "1.5.0",
      "_model_name": "DescriptionStyleModel",
      "_view_count": null,
      "_view_module": "@jupyter-widgets/base",
      "_view_module_version": "1.2.0",
      "_view_name": "StyleView",
      "description_width": ""
     }
    },
    "3b42c421bcaa46898c2d85053798d300": {
     "model_module": "@jupyter-widgets/controls",
     "model_module_version": "1.5.0",
     "model_name": "DescriptionStyleModel",
     "state": {
      "_model_module": "@jupyter-widgets/controls",
      "_model_module_version": "1.5.0",
      "_model_name": "DescriptionStyleModel",
      "_view_count": null,
      "_view_module": "@jupyter-widgets/base",
      "_view_module_version": "1.2.0",
      "_view_name": "StyleView",
      "description_width": ""
     }
    },
    "3c19be37c55f453283883bfc10ea4dec": {
     "model_module": "@jupyter-widgets/controls",
     "model_module_version": "1.5.0",
     "model_name": "DescriptionStyleModel",
     "state": {
      "_model_module": "@jupyter-widgets/controls",
      "_model_module_version": "1.5.0",
      "_model_name": "DescriptionStyleModel",
      "_view_count": null,
      "_view_module": "@jupyter-widgets/base",
      "_view_module_version": "1.2.0",
      "_view_name": "StyleView",
      "description_width": ""
     }
    },
    "3e5840ce389a4ae3a491f91657947c7e": {
     "model_module": "@jupyter-widgets/base",
     "model_module_version": "1.2.0",
     "model_name": "LayoutModel",
     "state": {
      "_model_module": "@jupyter-widgets/base",
      "_model_module_version": "1.2.0",
      "_model_name": "LayoutModel",
      "_view_count": null,
      "_view_module": "@jupyter-widgets/base",
      "_view_module_version": "1.2.0",
      "_view_name": "LayoutView",
      "align_content": null,
      "align_items": null,
      "align_self": null,
      "border": null,
      "bottom": null,
      "display": null,
      "flex": null,
      "flex_flow": null,
      "grid_area": null,
      "grid_auto_columns": null,
      "grid_auto_flow": null,
      "grid_auto_rows": null,
      "grid_column": null,
      "grid_gap": null,
      "grid_row": null,
      "grid_template_areas": null,
      "grid_template_columns": null,
      "grid_template_rows": null,
      "height": null,
      "justify_content": null,
      "justify_items": null,
      "left": null,
      "margin": null,
      "max_height": null,
      "max_width": null,
      "min_height": null,
      "min_width": null,
      "object_fit": null,
      "object_position": null,
      "order": null,
      "overflow": null,
      "overflow_x": null,
      "overflow_y": null,
      "padding": null,
      "right": null,
      "top": null,
      "visibility": null,
      "width": null
     }
    },
    "3e8e1e6d93d74a859065ae166d89bf83": {
     "model_module": "@jupyter-widgets/controls",
     "model_module_version": "1.5.0",
     "model_name": "DescriptionStyleModel",
     "state": {
      "_model_module": "@jupyter-widgets/controls",
      "_model_module_version": "1.5.0",
      "_model_name": "DescriptionStyleModel",
      "_view_count": null,
      "_view_module": "@jupyter-widgets/base",
      "_view_module_version": "1.2.0",
      "_view_name": "StyleView",
      "description_width": ""
     }
    },
    "3eb2bab7d8be43e6afe58bcff0d38cac": {
     "model_module": "@jupyter-widgets/controls",
     "model_module_version": "1.5.0",
     "model_name": "DescriptionStyleModel",
     "state": {
      "_model_module": "@jupyter-widgets/controls",
      "_model_module_version": "1.5.0",
      "_model_name": "DescriptionStyleModel",
      "_view_count": null,
      "_view_module": "@jupyter-widgets/base",
      "_view_module_version": "1.2.0",
      "_view_name": "StyleView",
      "description_width": ""
     }
    },
    "3f2c78c36aa944a58d4c9c054d7621f2": {
     "model_module": "@jupyter-widgets/base",
     "model_module_version": "1.2.0",
     "model_name": "LayoutModel",
     "state": {
      "_model_module": "@jupyter-widgets/base",
      "_model_module_version": "1.2.0",
      "_model_name": "LayoutModel",
      "_view_count": null,
      "_view_module": "@jupyter-widgets/base",
      "_view_module_version": "1.2.0",
      "_view_name": "LayoutView",
      "align_content": null,
      "align_items": null,
      "align_self": null,
      "border": null,
      "bottom": null,
      "display": null,
      "flex": null,
      "flex_flow": null,
      "grid_area": null,
      "grid_auto_columns": null,
      "grid_auto_flow": null,
      "grid_auto_rows": null,
      "grid_column": null,
      "grid_gap": null,
      "grid_row": null,
      "grid_template_areas": null,
      "grid_template_columns": null,
      "grid_template_rows": null,
      "height": null,
      "justify_content": null,
      "justify_items": null,
      "left": null,
      "margin": null,
      "max_height": null,
      "max_width": null,
      "min_height": null,
      "min_width": null,
      "object_fit": null,
      "object_position": null,
      "order": null,
      "overflow": null,
      "overflow_x": null,
      "overflow_y": null,
      "padding": null,
      "right": null,
      "top": null,
      "visibility": null,
      "width": null
     }
    },
    "46a331ebbd534fa0a37b00a0fc382d14": {
     "model_module": "@jupyter-widgets/controls",
     "model_module_version": "1.5.0",
     "model_name": "ProgressStyleModel",
     "state": {
      "_model_module": "@jupyter-widgets/controls",
      "_model_module_version": "1.5.0",
      "_model_name": "ProgressStyleModel",
      "_view_count": null,
      "_view_module": "@jupyter-widgets/base",
      "_view_module_version": "1.2.0",
      "_view_name": "StyleView",
      "bar_color": null,
      "description_width": ""
     }
    },
    "46f6cdf02a9c44b5a711fbcb415db489": {
     "model_module": "@jupyter-widgets/base",
     "model_module_version": "1.2.0",
     "model_name": "LayoutModel",
     "state": {
      "_model_module": "@jupyter-widgets/base",
      "_model_module_version": "1.2.0",
      "_model_name": "LayoutModel",
      "_view_count": null,
      "_view_module": "@jupyter-widgets/base",
      "_view_module_version": "1.2.0",
      "_view_name": "LayoutView",
      "align_content": null,
      "align_items": null,
      "align_self": null,
      "border": null,
      "bottom": null,
      "display": null,
      "flex": null,
      "flex_flow": null,
      "grid_area": null,
      "grid_auto_columns": null,
      "grid_auto_flow": null,
      "grid_auto_rows": null,
      "grid_column": null,
      "grid_gap": null,
      "grid_row": null,
      "grid_template_areas": null,
      "grid_template_columns": null,
      "grid_template_rows": null,
      "height": null,
      "justify_content": null,
      "justify_items": null,
      "left": null,
      "margin": null,
      "max_height": null,
      "max_width": null,
      "min_height": null,
      "min_width": null,
      "object_fit": null,
      "object_position": null,
      "order": null,
      "overflow": null,
      "overflow_x": null,
      "overflow_y": null,
      "padding": null,
      "right": null,
      "top": null,
      "visibility": null,
      "width": null
     }
    },
    "47c6045d4b564f028d38200733d19ed4": {
     "model_module": "@jupyter-widgets/controls",
     "model_module_version": "1.5.0",
     "model_name": "FloatProgressModel",
     "state": {
      "_dom_classes": [],
      "_model_module": "@jupyter-widgets/controls",
      "_model_module_version": "1.5.0",
      "_model_name": "FloatProgressModel",
      "_view_count": null,
      "_view_module": "@jupyter-widgets/controls",
      "_view_module_version": "1.5.0",
      "_view_name": "ProgressView",
      "bar_style": "success",
      "description": "",
      "description_tooltip": null,
      "layout": "IPY_MODEL_e3b597961e8d4eaca2dc211901e4471c",
      "max": 90868376,
      "min": 0,
      "orientation": "horizontal",
      "style": "IPY_MODEL_5f40a08ff8114ee0ac1e52b435b71391",
      "value": 90868376
     }
    },
    "4873a39a185340de9565b8c82feebbfa": {
     "model_module": "@jupyter-widgets/controls",
     "model_module_version": "1.5.0",
     "model_name": "HBoxModel",
     "state": {
      "_dom_classes": [],
      "_model_module": "@jupyter-widgets/controls",
      "_model_module_version": "1.5.0",
      "_model_name": "HBoxModel",
      "_view_count": null,
      "_view_module": "@jupyter-widgets/controls",
      "_view_module_version": "1.5.0",
      "_view_name": "HBoxView",
      "box_style": "",
      "children": [
       "IPY_MODEL_ad988cb48b9041da8b08fc56262e876a",
       "IPY_MODEL_26f13175de2a4752a45a3912ec3d8633",
       "IPY_MODEL_c06e90076de549489c542f304b612e7f"
      ],
      "layout": "IPY_MODEL_f6211a05710b4d92bf281910194b2d8f"
     }
    },
    "4d53aa35d3444dd0ba81e51d9751f80a": {
     "model_module": "@jupyter-widgets/base",
     "model_module_version": "1.2.0",
     "model_name": "LayoutModel",
     "state": {
      "_model_module": "@jupyter-widgets/base",
      "_model_module_version": "1.2.0",
      "_model_name": "LayoutModel",
      "_view_count": null,
      "_view_module": "@jupyter-widgets/base",
      "_view_module_version": "1.2.0",
      "_view_name": "LayoutView",
      "align_content": null,
      "align_items": null,
      "align_self": null,
      "border": null,
      "bottom": null,
      "display": null,
      "flex": null,
      "flex_flow": null,
      "grid_area": null,
      "grid_auto_columns": null,
      "grid_auto_flow": null,
      "grid_auto_rows": null,
      "grid_column": null,
      "grid_gap": null,
      "grid_row": null,
      "grid_template_areas": null,
      "grid_template_columns": null,
      "grid_template_rows": null,
      "height": null,
      "justify_content": null,
      "justify_items": null,
      "left": null,
      "margin": null,
      "max_height": null,
      "max_width": null,
      "min_height": null,
      "min_width": null,
      "object_fit": null,
      "object_position": null,
      "order": null,
      "overflow": null,
      "overflow_x": null,
      "overflow_y": null,
      "padding": null,
      "right": null,
      "top": null,
      "visibility": null,
      "width": null
     }
    },
    "4d9951660c3d46938a37b6e4ce335f82": {
     "model_module": "@jupyter-widgets/base",
     "model_module_version": "1.2.0",
     "model_name": "LayoutModel",
     "state": {
      "_model_module": "@jupyter-widgets/base",
      "_model_module_version": "1.2.0",
      "_model_name": "LayoutModel",
      "_view_count": null,
      "_view_module": "@jupyter-widgets/base",
      "_view_module_version": "1.2.0",
      "_view_name": "LayoutView",
      "align_content": null,
      "align_items": null,
      "align_self": null,
      "border": null,
      "bottom": null,
      "display": null,
      "flex": null,
      "flex_flow": null,
      "grid_area": null,
      "grid_auto_columns": null,
      "grid_auto_flow": null,
      "grid_auto_rows": null,
      "grid_column": null,
      "grid_gap": null,
      "grid_row": null,
      "grid_template_areas": null,
      "grid_template_columns": null,
      "grid_template_rows": null,
      "height": null,
      "justify_content": null,
      "justify_items": null,
      "left": null,
      "margin": null,
      "max_height": null,
      "max_width": null,
      "min_height": null,
      "min_width": null,
      "object_fit": null,
      "object_position": null,
      "order": null,
      "overflow": null,
      "overflow_x": null,
      "overflow_y": null,
      "padding": null,
      "right": null,
      "top": null,
      "visibility": null,
      "width": null
     }
    },
    "4dc99c7b6c8f42dd8504ef17e6e19d78": {
     "model_module": "@jupyter-widgets/controls",
     "model_module_version": "1.5.0",
     "model_name": "DescriptionStyleModel",
     "state": {
      "_model_module": "@jupyter-widgets/controls",
      "_model_module_version": "1.5.0",
      "_model_name": "DescriptionStyleModel",
      "_view_count": null,
      "_view_module": "@jupyter-widgets/base",
      "_view_module_version": "1.2.0",
      "_view_name": "StyleView",
      "description_width": ""
     }
    },
    "4dd1aabd8aa34405838326415d724fcf": {
     "model_module": "@jupyter-widgets/controls",
     "model_module_version": "1.5.0",
     "model_name": "ProgressStyleModel",
     "state": {
      "_model_module": "@jupyter-widgets/controls",
      "_model_module_version": "1.5.0",
      "_model_name": "ProgressStyleModel",
      "_view_count": null,
      "_view_module": "@jupyter-widgets/base",
      "_view_module_version": "1.2.0",
      "_view_name": "StyleView",
      "bar_color": null,
      "description_width": ""
     }
    },
    "4e957381affe412db2ad6be680e72e94": {
     "model_module": "@jupyter-widgets/base",
     "model_module_version": "1.2.0",
     "model_name": "LayoutModel",
     "state": {
      "_model_module": "@jupyter-widgets/base",
      "_model_module_version": "1.2.0",
      "_model_name": "LayoutModel",
      "_view_count": null,
      "_view_module": "@jupyter-widgets/base",
      "_view_module_version": "1.2.0",
      "_view_name": "LayoutView",
      "align_content": null,
      "align_items": null,
      "align_self": null,
      "border": null,
      "bottom": null,
      "display": null,
      "flex": null,
      "flex_flow": null,
      "grid_area": null,
      "grid_auto_columns": null,
      "grid_auto_flow": null,
      "grid_auto_rows": null,
      "grid_column": null,
      "grid_gap": null,
      "grid_row": null,
      "grid_template_areas": null,
      "grid_template_columns": null,
      "grid_template_rows": null,
      "height": null,
      "justify_content": null,
      "justify_items": null,
      "left": null,
      "margin": null,
      "max_height": null,
      "max_width": null,
      "min_height": null,
      "min_width": null,
      "object_fit": null,
      "object_position": null,
      "order": null,
      "overflow": null,
      "overflow_x": null,
      "overflow_y": null,
      "padding": null,
      "right": null,
      "top": null,
      "visibility": null,
      "width": null
     }
    },
    "4fd84ee2b3584d84984fbaa1d788db56": {
     "model_module": "@jupyter-widgets/base",
     "model_module_version": "1.2.0",
     "model_name": "LayoutModel",
     "state": {
      "_model_module": "@jupyter-widgets/base",
      "_model_module_version": "1.2.0",
      "_model_name": "LayoutModel",
      "_view_count": null,
      "_view_module": "@jupyter-widgets/base",
      "_view_module_version": "1.2.0",
      "_view_name": "LayoutView",
      "align_content": null,
      "align_items": null,
      "align_self": null,
      "border": null,
      "bottom": null,
      "display": null,
      "flex": null,
      "flex_flow": null,
      "grid_area": null,
      "grid_auto_columns": null,
      "grid_auto_flow": null,
      "grid_auto_rows": null,
      "grid_column": null,
      "grid_gap": null,
      "grid_row": null,
      "grid_template_areas": null,
      "grid_template_columns": null,
      "grid_template_rows": null,
      "height": null,
      "justify_content": null,
      "justify_items": null,
      "left": null,
      "margin": null,
      "max_height": null,
      "max_width": null,
      "min_height": null,
      "min_width": null,
      "object_fit": null,
      "object_position": null,
      "order": null,
      "overflow": null,
      "overflow_x": null,
      "overflow_y": null,
      "padding": null,
      "right": null,
      "top": null,
      "visibility": null,
      "width": null
     }
    },
    "4ff31528d5a646dc867ca4ef808aad6a": {
     "model_module": "@jupyter-widgets/controls",
     "model_module_version": "1.5.0",
     "model_name": "HTMLModel",
     "state": {
      "_dom_classes": [],
      "_model_module": "@jupyter-widgets/controls",
      "_model_module_version": "1.5.0",
      "_model_name": "HTMLModel",
      "_view_count": null,
      "_view_module": "@jupyter-widgets/controls",
      "_view_module_version": "1.5.0",
      "_view_name": "HTMLView",
      "description": "",
      "description_tooltip": null,
      "layout": "IPY_MODEL_befb4d423095491888ce83907ff66297",
      "placeholder": "​",
      "style": "IPY_MODEL_1637ff010c7740149f22453d00736e0c",
      "value": " 112/112 [00:00&lt;00:00, 7.02kB/s]"
     }
    },
    "504bc1a35d774457b16fdb2bd8996a33": {
     "model_module": "@jupyter-widgets/controls",
     "model_module_version": "1.5.0",
     "model_name": "ProgressStyleModel",
     "state": {
      "_model_module": "@jupyter-widgets/controls",
      "_model_module_version": "1.5.0",
      "_model_name": "ProgressStyleModel",
      "_view_count": null,
      "_view_module": "@jupyter-widgets/base",
      "_view_module_version": "1.2.0",
      "_view_name": "StyleView",
      "bar_color": null,
      "description_width": ""
     }
    },
    "5367ff156727461aad78204814928bcb": {
     "model_module": "@jupyter-widgets/controls",
     "model_module_version": "1.5.0",
     "model_name": "DescriptionStyleModel",
     "state": {
      "_model_module": "@jupyter-widgets/controls",
      "_model_module_version": "1.5.0",
      "_model_name": "DescriptionStyleModel",
      "_view_count": null,
      "_view_module": "@jupyter-widgets/base",
      "_view_module_version": "1.2.0",
      "_view_name": "StyleView",
      "description_width": ""
     }
    },
    "5606f68781c54a70b479919a190ff329": {
     "model_module": "@jupyter-widgets/controls",
     "model_module_version": "1.5.0",
     "model_name": "HTMLModel",
     "state": {
      "_dom_classes": [],
      "_model_module": "@jupyter-widgets/controls",
      "_model_module_version": "1.5.0",
      "_model_name": "HTMLModel",
      "_view_count": null,
      "_view_module": "@jupyter-widgets/controls",
      "_view_module_version": "1.5.0",
      "_view_name": "HTMLView",
      "description": "",
      "description_tooltip": null,
      "layout": "IPY_MODEL_f39a7646144246f2b8e9fbf48497f646",
      "placeholder": "​",
      "style": "IPY_MODEL_67b83b9b75b84b368197082f82ca8c52",
      "value": "vocab.txt: 100%"
     }
    },
    "560bb60fe3b843ceb3f24917ca04a627": {
     "model_module": "@jupyter-widgets/controls",
     "model_module_version": "1.5.0",
     "model_name": "ProgressStyleModel",
     "state": {
      "_model_module": "@jupyter-widgets/controls",
      "_model_module_version": "1.5.0",
      "_model_name": "ProgressStyleModel",
      "_view_count": null,
      "_view_module": "@jupyter-widgets/base",
      "_view_module_version": "1.2.0",
      "_view_name": "StyleView",
      "bar_color": null,
      "description_width": ""
     }
    },
    "56d717ee982e49839ce775100978beb9": {
     "model_module": "@jupyter-widgets/base",
     "model_module_version": "1.2.0",
     "model_name": "LayoutModel",
     "state": {
      "_model_module": "@jupyter-widgets/base",
      "_model_module_version": "1.2.0",
      "_model_name": "LayoutModel",
      "_view_count": null,
      "_view_module": "@jupyter-widgets/base",
      "_view_module_version": "1.2.0",
      "_view_name": "LayoutView",
      "align_content": null,
      "align_items": null,
      "align_self": null,
      "border": null,
      "bottom": null,
      "display": null,
      "flex": null,
      "flex_flow": null,
      "grid_area": null,
      "grid_auto_columns": null,
      "grid_auto_flow": null,
      "grid_auto_rows": null,
      "grid_column": null,
      "grid_gap": null,
      "grid_row": null,
      "grid_template_areas": null,
      "grid_template_columns": null,
      "grid_template_rows": null,
      "height": null,
      "justify_content": null,
      "justify_items": null,
      "left": null,
      "margin": null,
      "max_height": null,
      "max_width": null,
      "min_height": null,
      "min_width": null,
      "object_fit": null,
      "object_position": null,
      "order": null,
      "overflow": null,
      "overflow_x": null,
      "overflow_y": null,
      "padding": null,
      "right": null,
      "top": null,
      "visibility": null,
      "width": null
     }
    },
    "57a7f99f1d19481eb08c649708ad9323": {
     "model_module": "@jupyter-widgets/base",
     "model_module_version": "1.2.0",
     "model_name": "LayoutModel",
     "state": {
      "_model_module": "@jupyter-widgets/base",
      "_model_module_version": "1.2.0",
      "_model_name": "LayoutModel",
      "_view_count": null,
      "_view_module": "@jupyter-widgets/base",
      "_view_module_version": "1.2.0",
      "_view_name": "LayoutView",
      "align_content": null,
      "align_items": null,
      "align_self": null,
      "border": null,
      "bottom": null,
      "display": null,
      "flex": null,
      "flex_flow": null,
      "grid_area": null,
      "grid_auto_columns": null,
      "grid_auto_flow": null,
      "grid_auto_rows": null,
      "grid_column": null,
      "grid_gap": null,
      "grid_row": null,
      "grid_template_areas": null,
      "grid_template_columns": null,
      "grid_template_rows": null,
      "height": null,
      "justify_content": null,
      "justify_items": null,
      "left": null,
      "margin": null,
      "max_height": null,
      "max_width": null,
      "min_height": null,
      "min_width": null,
      "object_fit": null,
      "object_position": null,
      "order": null,
      "overflow": null,
      "overflow_x": null,
      "overflow_y": null,
      "padding": null,
      "right": null,
      "top": null,
      "visibility": null,
      "width": null
     }
    },
    "57dd0e6c75634daba15adffc4468ffd3": {
     "model_module": "@jupyter-widgets/controls",
     "model_module_version": "1.5.0",
     "model_name": "HTMLModel",
     "state": {
      "_dom_classes": [],
      "_model_module": "@jupyter-widgets/controls",
      "_model_module_version": "1.5.0",
      "_model_name": "HTMLModel",
      "_view_count": null,
      "_view_module": "@jupyter-widgets/controls",
      "_view_module_version": "1.5.0",
      "_view_name": "HTMLView",
      "description": "",
      "description_tooltip": null,
      "layout": "IPY_MODEL_4d53aa35d3444dd0ba81e51d9751f80a",
      "placeholder": "​",
      "style": "IPY_MODEL_262523798c9e4958bc3e84e78e548f12",
      "value": " 350/350 [00:00&lt;00:00, 21.2kB/s]"
     }
    },
    "58b9967bbcfc45f1b293874465cf7986": {
     "model_module": "@jupyter-widgets/controls",
     "model_module_version": "1.5.0",
     "model_name": "HBoxModel",
     "state": {
      "_dom_classes": [],
      "_model_module": "@jupyter-widgets/controls",
      "_model_module_version": "1.5.0",
      "_model_name": "HBoxModel",
      "_view_count": null,
      "_view_module": "@jupyter-widgets/controls",
      "_view_module_version": "1.5.0",
      "_view_name": "HBoxView",
      "box_style": "",
      "children": [
       "IPY_MODEL_9b426b54318e4990b3cc87613bb0e27d",
       "IPY_MODEL_36388d8245584af3a16b5917eb822809",
       "IPY_MODEL_be41af80704d4a44bab4aba92a79a46c"
      ],
      "layout": "IPY_MODEL_c2373ac36ad8429d95b8fcc38c7a0534"
     }
    },
    "58eefa74e03d427ab6e5edf71b4ca56e": {
     "model_module": "@jupyter-widgets/base",
     "model_module_version": "1.2.0",
     "model_name": "LayoutModel",
     "state": {
      "_model_module": "@jupyter-widgets/base",
      "_model_module_version": "1.2.0",
      "_model_name": "LayoutModel",
      "_view_count": null,
      "_view_module": "@jupyter-widgets/base",
      "_view_module_version": "1.2.0",
      "_view_name": "LayoutView",
      "align_content": null,
      "align_items": null,
      "align_self": null,
      "border": null,
      "bottom": null,
      "display": null,
      "flex": null,
      "flex_flow": null,
      "grid_area": null,
      "grid_auto_columns": null,
      "grid_auto_flow": null,
      "grid_auto_rows": null,
      "grid_column": null,
      "grid_gap": null,
      "grid_row": null,
      "grid_template_areas": null,
      "grid_template_columns": null,
      "grid_template_rows": null,
      "height": null,
      "justify_content": null,
      "justify_items": null,
      "left": null,
      "margin": null,
      "max_height": null,
      "max_width": null,
      "min_height": null,
      "min_width": null,
      "object_fit": null,
      "object_position": null,
      "order": null,
      "overflow": null,
      "overflow_x": null,
      "overflow_y": null,
      "padding": null,
      "right": null,
      "top": null,
      "visibility": null,
      "width": null
     }
    },
    "5cdaa91039c44ef4a108cba0bfde2c2c": {
     "model_module": "@jupyter-widgets/base",
     "model_module_version": "1.2.0",
     "model_name": "LayoutModel",
     "state": {
      "_model_module": "@jupyter-widgets/base",
      "_model_module_version": "1.2.0",
      "_model_name": "LayoutModel",
      "_view_count": null,
      "_view_module": "@jupyter-widgets/base",
      "_view_module_version": "1.2.0",
      "_view_name": "LayoutView",
      "align_content": null,
      "align_items": null,
      "align_self": null,
      "border": null,
      "bottom": null,
      "display": null,
      "flex": null,
      "flex_flow": null,
      "grid_area": null,
      "grid_auto_columns": null,
      "grid_auto_flow": null,
      "grid_auto_rows": null,
      "grid_column": null,
      "grid_gap": null,
      "grid_row": null,
      "grid_template_areas": null,
      "grid_template_columns": null,
      "grid_template_rows": null,
      "height": null,
      "justify_content": null,
      "justify_items": null,
      "left": null,
      "margin": null,
      "max_height": null,
      "max_width": null,
      "min_height": null,
      "min_width": null,
      "object_fit": null,
      "object_position": null,
      "order": null,
      "overflow": null,
      "overflow_x": null,
      "overflow_y": null,
      "padding": null,
      "right": null,
      "top": null,
      "visibility": null,
      "width": null
     }
    },
    "5e9ec42ff5374d118bfba6b1229a593f": {
     "model_module": "@jupyter-widgets/base",
     "model_module_version": "1.2.0",
     "model_name": "LayoutModel",
     "state": {
      "_model_module": "@jupyter-widgets/base",
      "_model_module_version": "1.2.0",
      "_model_name": "LayoutModel",
      "_view_count": null,
      "_view_module": "@jupyter-widgets/base",
      "_view_module_version": "1.2.0",
      "_view_name": "LayoutView",
      "align_content": null,
      "align_items": null,
      "align_self": null,
      "border": null,
      "bottom": null,
      "display": null,
      "flex": null,
      "flex_flow": null,
      "grid_area": null,
      "grid_auto_columns": null,
      "grid_auto_flow": null,
      "grid_auto_rows": null,
      "grid_column": null,
      "grid_gap": null,
      "grid_row": null,
      "grid_template_areas": null,
      "grid_template_columns": null,
      "grid_template_rows": null,
      "height": null,
      "justify_content": null,
      "justify_items": null,
      "left": null,
      "margin": null,
      "max_height": null,
      "max_width": null,
      "min_height": null,
      "min_width": null,
      "object_fit": null,
      "object_position": null,
      "order": null,
      "overflow": null,
      "overflow_x": null,
      "overflow_y": null,
      "padding": null,
      "right": null,
      "top": null,
      "visibility": null,
      "width": null
     }
    },
    "5ed06d44957142fda0038bc7b0303fc4": {
     "model_module": "@jupyter-widgets/controls",
     "model_module_version": "1.5.0",
     "model_name": "DescriptionStyleModel",
     "state": {
      "_model_module": "@jupyter-widgets/controls",
      "_model_module_version": "1.5.0",
      "_model_name": "DescriptionStyleModel",
      "_view_count": null,
      "_view_module": "@jupyter-widgets/base",
      "_view_module_version": "1.2.0",
      "_view_name": "StyleView",
      "description_width": ""
     }
    },
    "5f40a08ff8114ee0ac1e52b435b71391": {
     "model_module": "@jupyter-widgets/controls",
     "model_module_version": "1.5.0",
     "model_name": "ProgressStyleModel",
     "state": {
      "_model_module": "@jupyter-widgets/controls",
      "_model_module_version": "1.5.0",
      "_model_name": "ProgressStyleModel",
      "_view_count": null,
      "_view_module": "@jupyter-widgets/base",
      "_view_module_version": "1.2.0",
      "_view_name": "StyleView",
      "bar_color": null,
      "description_width": ""
     }
    },
    "5fb4aa17897e404090652842eb5cc2dd": {
     "model_module": "@jupyter-widgets/base",
     "model_module_version": "1.2.0",
     "model_name": "LayoutModel",
     "state": {
      "_model_module": "@jupyter-widgets/base",
      "_model_module_version": "1.2.0",
      "_model_name": "LayoutModel",
      "_view_count": null,
      "_view_module": "@jupyter-widgets/base",
      "_view_module_version": "1.2.0",
      "_view_name": "LayoutView",
      "align_content": null,
      "align_items": null,
      "align_self": null,
      "border": null,
      "bottom": null,
      "display": null,
      "flex": null,
      "flex_flow": null,
      "grid_area": null,
      "grid_auto_columns": null,
      "grid_auto_flow": null,
      "grid_auto_rows": null,
      "grid_column": null,
      "grid_gap": null,
      "grid_row": null,
      "grid_template_areas": null,
      "grid_template_columns": null,
      "grid_template_rows": null,
      "height": null,
      "justify_content": null,
      "justify_items": null,
      "left": null,
      "margin": null,
      "max_height": null,
      "max_width": null,
      "min_height": null,
      "min_width": null,
      "object_fit": null,
      "object_position": null,
      "order": null,
      "overflow": null,
      "overflow_x": null,
      "overflow_y": null,
      "padding": null,
      "right": null,
      "top": null,
      "visibility": null,
      "width": null
     }
    },
    "60928cd1b10b4ca895c4c452cfb687dd": {
     "model_module": "@jupyter-widgets/controls",
     "model_module_version": "1.5.0",
     "model_name": "HTMLModel",
     "state": {
      "_dom_classes": [],
      "_model_module": "@jupyter-widgets/controls",
      "_model_module_version": "1.5.0",
      "_model_name": "HTMLModel",
      "_view_count": null,
      "_view_module": "@jupyter-widgets/controls",
      "_view_module_version": "1.5.0",
      "_view_name": "HTMLView",
      "description": "",
      "description_tooltip": null,
      "layout": "IPY_MODEL_46f6cdf02a9c44b5a711fbcb415db489",
      "placeholder": "​",
      "style": "IPY_MODEL_5ed06d44957142fda0038bc7b0303fc4",
      "value": " 90.9M/90.9M [00:00&lt;00:00, 163MB/s]"
     }
    },
    "6296bcc4c85149098e87fb13d6e1d864": {
     "model_module": "@jupyter-widgets/controls",
     "model_module_version": "1.5.0",
     "model_name": "FloatProgressModel",
     "state": {
      "_dom_classes": [],
      "_model_module": "@jupyter-widgets/controls",
      "_model_module_version": "1.5.0",
      "_model_name": "FloatProgressModel",
      "_view_count": null,
      "_view_module": "@jupyter-widgets/controls",
      "_view_module_version": "1.5.0",
      "_view_name": "ProgressView",
      "bar_style": "success",
      "description": "",
      "description_tooltip": null,
      "layout": "IPY_MODEL_fccbdfad4f934ad49265e267b38e08b0",
      "max": 466247,
      "min": 0,
      "orientation": "horizontal",
      "style": "IPY_MODEL_f362bccda60843dc9bbbc692a84ca3cf",
      "value": 466247
     }
    },
    "66465b47a46044338a9b1952c2159150": {
     "model_module": "@jupyter-widgets/controls",
     "model_module_version": "1.5.0",
     "model_name": "HTMLModel",
     "state": {
      "_dom_classes": [],
      "_model_module": "@jupyter-widgets/controls",
      "_model_module_version": "1.5.0",
      "_model_name": "HTMLModel",
      "_view_count": null,
      "_view_module": "@jupyter-widgets/controls",
      "_view_module_version": "1.5.0",
      "_view_name": "HTMLView",
      "description": "",
      "description_tooltip": null,
      "layout": "IPY_MODEL_23e1eca0c37c4ccba0741bf632f0f81a",
      "placeholder": "​",
      "style": "IPY_MODEL_8af06f0cd79c4bb5ba89893ae170ca2b",
      "value": "README.md: 100%"
     }
    },
    "679220212a2041c3afcecce6153db797": {
     "model_module": "@jupyter-widgets/controls",
     "model_module_version": "1.5.0",
     "model_name": "HTMLModel",
     "state": {
      "_dom_classes": [],
      "_model_module": "@jupyter-widgets/controls",
      "_model_module_version": "1.5.0",
      "_model_name": "HTMLModel",
      "_view_count": null,
      "_view_module": "@jupyter-widgets/controls",
      "_view_module_version": "1.5.0",
      "_view_name": "HTMLView",
      "description": "",
      "description_tooltip": null,
      "layout": "IPY_MODEL_0d8f379af1014c17838d4081e2300cee",
      "placeholder": "​",
      "style": "IPY_MODEL_67cd9c6527d94244bbb1692f1be07bf9",
      "value": "tokenizer.json: 100%"
     }
    },
    "67b83b9b75b84b368197082f82ca8c52": {
     "model_module": "@jupyter-widgets/controls",
     "model_module_version": "1.5.0",
     "model_name": "DescriptionStyleModel",
     "state": {
      "_model_module": "@jupyter-widgets/controls",
      "_model_module_version": "1.5.0",
      "_model_name": "DescriptionStyleModel",
      "_view_count": null,
      "_view_module": "@jupyter-widgets/base",
      "_view_module_version": "1.2.0",
      "_view_name": "StyleView",
      "description_width": ""
     }
    },
    "67cd9c6527d94244bbb1692f1be07bf9": {
     "model_module": "@jupyter-widgets/controls",
     "model_module_version": "1.5.0",
     "model_name": "DescriptionStyleModel",
     "state": {
      "_model_module": "@jupyter-widgets/controls",
      "_model_module_version": "1.5.0",
      "_model_name": "DescriptionStyleModel",
      "_view_count": null,
      "_view_module": "@jupyter-widgets/base",
      "_view_module_version": "1.2.0",
      "_view_name": "StyleView",
      "description_width": ""
     }
    },
    "6d3591ec7f1847d6ad7f68f794f1c9e8": {
     "model_module": "@jupyter-widgets/base",
     "model_module_version": "1.2.0",
     "model_name": "LayoutModel",
     "state": {
      "_model_module": "@jupyter-widgets/base",
      "_model_module_version": "1.2.0",
      "_model_name": "LayoutModel",
      "_view_count": null,
      "_view_module": "@jupyter-widgets/base",
      "_view_module_version": "1.2.0",
      "_view_name": "LayoutView",
      "align_content": null,
      "align_items": null,
      "align_self": null,
      "border": null,
      "bottom": null,
      "display": null,
      "flex": null,
      "flex_flow": null,
      "grid_area": null,
      "grid_auto_columns": null,
      "grid_auto_flow": null,
      "grid_auto_rows": null,
      "grid_column": null,
      "grid_gap": null,
      "grid_row": null,
      "grid_template_areas": null,
      "grid_template_columns": null,
      "grid_template_rows": null,
      "height": null,
      "justify_content": null,
      "justify_items": null,
      "left": null,
      "margin": null,
      "max_height": null,
      "max_width": null,
      "min_height": null,
      "min_width": null,
      "object_fit": null,
      "object_position": null,
      "order": null,
      "overflow": null,
      "overflow_x": null,
      "overflow_y": null,
      "padding": null,
      "right": null,
      "top": null,
      "visibility": null,
      "width": null
     }
    },
    "6ef5215fe30c4112baf241dbc1438f0e": {
     "model_module": "@jupyter-widgets/base",
     "model_module_version": "1.2.0",
     "model_name": "LayoutModel",
     "state": {
      "_model_module": "@jupyter-widgets/base",
      "_model_module_version": "1.2.0",
      "_model_name": "LayoutModel",
      "_view_count": null,
      "_view_module": "@jupyter-widgets/base",
      "_view_module_version": "1.2.0",
      "_view_name": "LayoutView",
      "align_content": null,
      "align_items": null,
      "align_self": null,
      "border": null,
      "bottom": null,
      "display": null,
      "flex": null,
      "flex_flow": null,
      "grid_area": null,
      "grid_auto_columns": null,
      "grid_auto_flow": null,
      "grid_auto_rows": null,
      "grid_column": null,
      "grid_gap": null,
      "grid_row": null,
      "grid_template_areas": null,
      "grid_template_columns": null,
      "grid_template_rows": null,
      "height": null,
      "justify_content": null,
      "justify_items": null,
      "left": null,
      "margin": null,
      "max_height": null,
      "max_width": null,
      "min_height": null,
      "min_width": null,
      "object_fit": null,
      "object_position": null,
      "order": null,
      "overflow": null,
      "overflow_x": null,
      "overflow_y": null,
      "padding": null,
      "right": null,
      "top": null,
      "visibility": null,
      "width": null
     }
    },
    "6f2a05758b2b4db8bf812da833576dec": {
     "model_module": "@jupyter-widgets/controls",
     "model_module_version": "1.5.0",
     "model_name": "HBoxModel",
     "state": {
      "_dom_classes": [],
      "_model_module": "@jupyter-widgets/controls",
      "_model_module_version": "1.5.0",
      "_model_name": "HBoxModel",
      "_view_count": null,
      "_view_module": "@jupyter-widgets/controls",
      "_view_module_version": "1.5.0",
      "_view_name": "HBoxView",
      "box_style": "",
      "children": [
       "IPY_MODEL_5606f68781c54a70b479919a190ff329",
       "IPY_MODEL_aacb3f578f2346e6bbc4beee4866ae37",
       "IPY_MODEL_9907897f7acf472ba85d3398395b6cf5"
      ],
      "layout": "IPY_MODEL_0527530693da4995860d4ba89ab855a1"
     }
    },
    "6ff95a0eb5c0485792aa3dba5268bafa": {
     "model_module": "@jupyter-widgets/controls",
     "model_module_version": "1.5.0",
     "model_name": "HTMLModel",
     "state": {
      "_dom_classes": [],
      "_model_module": "@jupyter-widgets/controls",
      "_model_module_version": "1.5.0",
      "_model_name": "HTMLModel",
      "_view_count": null,
      "_view_module": "@jupyter-widgets/controls",
      "_view_module_version": "1.5.0",
      "_view_name": "HTMLView",
      "description": "",
      "description_tooltip": null,
      "layout": "IPY_MODEL_4d9951660c3d46938a37b6e4ce335f82",
      "placeholder": "​",
      "style": "IPY_MODEL_3eb2bab7d8be43e6afe58bcff0d38cac",
      "value": " 190/190 [00:00&lt;00:00, 9.12kB/s]"
     }
    },
    "728e1d1393504a669b5bddfdb3cd4745": {
     "model_module": "@jupyter-widgets/controls",
     "model_module_version": "1.5.0",
     "model_name": "FloatProgressModel",
     "state": {
      "_dom_classes": [],
      "_model_module": "@jupyter-widgets/controls",
      "_model_module_version": "1.5.0",
      "_model_name": "FloatProgressModel",
      "_view_count": null,
      "_view_module": "@jupyter-widgets/controls",
      "_view_module_version": "1.5.0",
      "_view_name": "ProgressView",
      "bar_style": "success",
      "description": "",
      "description_tooltip": null,
      "layout": "IPY_MODEL_3f2c78c36aa944a58d4c9c054d7621f2",
      "max": 10659,
      "min": 0,
      "orientation": "horizontal",
      "style": "IPY_MODEL_393d0c8a9d084a1d86b01d6e7e084023",
      "value": 10659
     }
    },
    "732a4a51917b43c5af1f88ac29424c47": {
     "model_module": "@jupyter-widgets/controls",
     "model_module_version": "1.5.0",
     "model_name": "FloatProgressModel",
     "state": {
      "_dom_classes": [],
      "_model_module": "@jupyter-widgets/controls",
      "_model_module_version": "1.5.0",
      "_model_name": "FloatProgressModel",
      "_view_count": null,
      "_view_module": "@jupyter-widgets/controls",
      "_view_module_version": "1.5.0",
      "_view_name": "ProgressView",
      "bar_style": "success",
      "description": "",
      "description_tooltip": null,
      "layout": "IPY_MODEL_dcfa491ba54548c0b38539ef2539b625",
      "max": 8065,
      "min": 0,
      "orientation": "horizontal",
      "style": "IPY_MODEL_504bc1a35d774457b16fdb2bd8996a33",
      "value": 8065
     }
    },
    "744c855184624948aee6e6392cf52c31": {
     "model_module": "@jupyter-widgets/controls",
     "model_module_version": "1.5.0",
     "model_name": "ProgressStyleModel",
     "state": {
      "_model_module": "@jupyter-widgets/controls",
      "_model_module_version": "1.5.0",
      "_model_name": "ProgressStyleModel",
      "_view_count": null,
      "_view_module": "@jupyter-widgets/base",
      "_view_module_version": "1.2.0",
      "_view_name": "StyleView",
      "bar_color": null,
      "description_width": ""
     }
    },
    "7b938fdf6ed54601925d64ddcc54fa5c": {
     "model_module": "@jupyter-widgets/controls",
     "model_module_version": "1.5.0",
     "model_name": "DescriptionStyleModel",
     "state": {
      "_model_module": "@jupyter-widgets/controls",
      "_model_module_version": "1.5.0",
      "_model_name": "DescriptionStyleModel",
      "_view_count": null,
      "_view_module": "@jupyter-widgets/base",
      "_view_module_version": "1.2.0",
      "_view_name": "StyleView",
      "description_width": ""
     }
    },
    "7d406592dbf1402aa5d66c76edfef621": {
     "model_module": "@jupyter-widgets/controls",
     "model_module_version": "1.5.0",
     "model_name": "HTMLModel",
     "state": {
      "_dom_classes": [],
      "_model_module": "@jupyter-widgets/controls",
      "_model_module_version": "1.5.0",
      "_model_name": "HTMLModel",
      "_view_count": null,
      "_view_module": "@jupyter-widgets/controls",
      "_view_module_version": "1.5.0",
      "_view_name": "HTMLView",
      "description": "",
      "description_tooltip": null,
      "layout": "IPY_MODEL_d4eb47673c344c2a977332c44c2c4c9c",
      "placeholder": "​",
      "style": "IPY_MODEL_2d81a8ee981d48f6a0c1463c9cf58af2",
      "value": " 3048/3048 [00:00&lt;00:00, 54199.44 examples/s]"
     }
    },
    "80f6fc95164544f587cb341a10aa75ec": {
     "model_module": "@jupyter-widgets/controls",
     "model_module_version": "1.5.0",
     "model_name": "FloatProgressModel",
     "state": {
      "_dom_classes": [],
      "_model_module": "@jupyter-widgets/controls",
      "_model_module_version": "1.5.0",
      "_model_name": "FloatProgressModel",
      "_view_count": null,
      "_view_module": "@jupyter-widgets/controls",
      "_view_module_version": "1.5.0",
      "_view_name": "ProgressView",
      "bar_style": "success",
      "description": "",
      "description_tooltip": null,
      "layout": "IPY_MODEL_4fd84ee2b3584d84984fbaa1d788db56",
      "max": 190,
      "min": 0,
      "orientation": "horizontal",
      "style": "IPY_MODEL_46a331ebbd534fa0a37b00a0fc382d14",
      "value": 190
     }
    },
    "8148b62b0cb444cabacf0758d8631430": {
     "model_module": "@jupyter-widgets/base",
     "model_module_version": "1.2.0",
     "model_name": "LayoutModel",
     "state": {
      "_model_module": "@jupyter-widgets/base",
      "_model_module_version": "1.2.0",
      "_model_name": "LayoutModel",
      "_view_count": null,
      "_view_module": "@jupyter-widgets/base",
      "_view_module_version": "1.2.0",
      "_view_name": "LayoutView",
      "align_content": null,
      "align_items": null,
      "align_self": null,
      "border": null,
      "bottom": null,
      "display": null,
      "flex": null,
      "flex_flow": null,
      "grid_area": null,
      "grid_auto_columns": null,
      "grid_auto_flow": null,
      "grid_auto_rows": null,
      "grid_column": null,
      "grid_gap": null,
      "grid_row": null,
      "grid_template_areas": null,
      "grid_template_columns": null,
      "grid_template_rows": null,
      "height": null,
      "justify_content": null,
      "justify_items": null,
      "left": null,
      "margin": null,
      "max_height": null,
      "max_width": null,
      "min_height": null,
      "min_width": null,
      "object_fit": null,
      "object_position": null,
      "order": null,
      "overflow": null,
      "overflow_x": null,
      "overflow_y": null,
      "padding": null,
      "right": null,
      "top": null,
      "visibility": null,
      "width": null
     }
    },
    "81debd35c0234c5fa8be2cda875a7028": {
     "model_module": "@jupyter-widgets/controls",
     "model_module_version": "1.5.0",
     "model_name": "FloatProgressModel",
     "state": {
      "_dom_classes": [],
      "_model_module": "@jupyter-widgets/controls",
      "_model_module_version": "1.5.0",
      "_model_name": "FloatProgressModel",
      "_view_count": null,
      "_view_module": "@jupyter-widgets/controls",
      "_view_module_version": "1.5.0",
      "_view_name": "ProgressView",
      "bar_style": "success",
      "description": "",
      "description_tooltip": null,
      "layout": "IPY_MODEL_58eefa74e03d427ab6e5edf71b4ca56e",
      "max": 350,
      "min": 0,
      "orientation": "horizontal",
      "style": "IPY_MODEL_f321630000e84225ba6a1b82af5de265",
      "value": 350
     }
    },
    "849a3daadb504ad0aa01a21c458a2922": {
     "model_module": "@jupyter-widgets/controls",
     "model_module_version": "1.5.0",
     "model_name": "HBoxModel",
     "state": {
      "_dom_classes": [],
      "_model_module": "@jupyter-widgets/controls",
      "_model_module_version": "1.5.0",
      "_model_name": "HBoxModel",
      "_view_count": null,
      "_view_module": "@jupyter-widgets/controls",
      "_view_module_version": "1.5.0",
      "_view_name": "HBoxView",
      "box_style": "",
      "children": [
       "IPY_MODEL_b8a745e2dc66408fa6668cc223d1de5d",
       "IPY_MODEL_80f6fc95164544f587cb341a10aa75ec",
       "IPY_MODEL_6ff95a0eb5c0485792aa3dba5268bafa"
      ],
      "layout": "IPY_MODEL_09efff9970ad49a797806723e07d00bb"
     }
    },
    "84d6d437e72343dd85d21f6a704bb596": {
     "model_module": "@jupyter-widgets/base",
     "model_module_version": "1.2.0",
     "model_name": "LayoutModel",
     "state": {
      "_model_module": "@jupyter-widgets/base",
      "_model_module_version": "1.2.0",
      "_model_name": "LayoutModel",
      "_view_count": null,
      "_view_module": "@jupyter-widgets/base",
      "_view_module_version": "1.2.0",
      "_view_name": "LayoutView",
      "align_content": null,
      "align_items": null,
      "align_self": null,
      "border": null,
      "bottom": null,
      "display": null,
      "flex": null,
      "flex_flow": null,
      "grid_area": null,
      "grid_auto_columns": null,
      "grid_auto_flow": null,
      "grid_auto_rows": null,
      "grid_column": null,
      "grid_gap": null,
      "grid_row": null,
      "grid_template_areas": null,
      "grid_template_columns": null,
      "grid_template_rows": null,
      "height": null,
      "justify_content": null,
      "justify_items": null,
      "left": null,
      "margin": null,
      "max_height": null,
      "max_width": null,
      "min_height": null,
      "min_width": null,
      "object_fit": null,
      "object_position": null,
      "order": null,
      "overflow": null,
      "overflow_x": null,
      "overflow_y": null,
      "padding": null,
      "right": null,
      "top": null,
      "visibility": null,
      "width": null
     }
    },
    "8a37bd78c2764068b9a99e91b432f079": {
     "model_module": "@jupyter-widgets/base",
     "model_module_version": "1.2.0",
     "model_name": "LayoutModel",
     "state": {
      "_model_module": "@jupyter-widgets/base",
      "_model_module_version": "1.2.0",
      "_model_name": "LayoutModel",
      "_view_count": null,
      "_view_module": "@jupyter-widgets/base",
      "_view_module_version": "1.2.0",
      "_view_name": "LayoutView",
      "align_content": null,
      "align_items": null,
      "align_self": null,
      "border": null,
      "bottom": null,
      "display": null,
      "flex": null,
      "flex_flow": null,
      "grid_area": null,
      "grid_auto_columns": null,
      "grid_auto_flow": null,
      "grid_auto_rows": null,
      "grid_column": null,
      "grid_gap": null,
      "grid_row": null,
      "grid_template_areas": null,
      "grid_template_columns": null,
      "grid_template_rows": null,
      "height": null,
      "justify_content": null,
      "justify_items": null,
      "left": null,
      "margin": null,
      "max_height": null,
      "max_width": null,
      "min_height": null,
      "min_width": null,
      "object_fit": null,
      "object_position": null,
      "order": null,
      "overflow": null,
      "overflow_x": null,
      "overflow_y": null,
      "padding": null,
      "right": null,
      "top": null,
      "visibility": null,
      "width": null
     }
    },
    "8af06f0cd79c4bb5ba89893ae170ca2b": {
     "model_module": "@jupyter-widgets/controls",
     "model_module_version": "1.5.0",
     "model_name": "DescriptionStyleModel",
     "state": {
      "_model_module": "@jupyter-widgets/controls",
      "_model_module_version": "1.5.0",
      "_model_name": "DescriptionStyleModel",
      "_view_count": null,
      "_view_module": "@jupyter-widgets/base",
      "_view_module_version": "1.2.0",
      "_view_name": "StyleView",
      "description_width": ""
     }
    },
    "8b32a6245450420e8de258dfcd07a86f": {
     "model_module": "@jupyter-widgets/controls",
     "model_module_version": "1.5.0",
     "model_name": "HBoxModel",
     "state": {
      "_dom_classes": [],
      "_model_module": "@jupyter-widgets/controls",
      "_model_module_version": "1.5.0",
      "_model_name": "HBoxModel",
      "_view_count": null,
      "_view_module": "@jupyter-widgets/controls",
      "_view_module_version": "1.5.0",
      "_view_name": "HBoxView",
      "box_style": "",
      "children": [
       "IPY_MODEL_015c2b5e7b2c47ebbe28178871042850",
       "IPY_MODEL_81debd35c0234c5fa8be2cda875a7028",
       "IPY_MODEL_57dd0e6c75634daba15adffc4468ffd3"
      ],
      "layout": "IPY_MODEL_bc0f4dcf98e8475bbbf73238d4e13943"
     }
    },
    "8b330719f47f42d3accef0632acd291e": {
     "model_module": "@jupyter-widgets/controls",
     "model_module_version": "1.5.0",
     "model_name": "HTMLModel",
     "state": {
      "_dom_classes": [],
      "_model_module": "@jupyter-widgets/controls",
      "_model_module_version": "1.5.0",
      "_model_name": "HTMLModel",
      "_view_count": null,
      "_view_module": "@jupyter-widgets/controls",
      "_view_module_version": "1.5.0",
      "_view_name": "HTMLView",
      "description": "",
      "description_tooltip": null,
      "layout": "IPY_MODEL_efb0554bdf184e8198c27486eee9c245",
      "placeholder": "​",
      "style": "IPY_MODEL_9e76ced2b5b94cb9baf3e9117142efce",
      "value": " 10.7k/10.7k [00:00&lt;00:00, 241kB/s]"
     }
    },
    "8bce8b70b7474bf0a870f5a6a50e4b75": {
     "model_module": "@jupyter-widgets/controls",
     "model_module_version": "1.5.0",
     "model_name": "DescriptionStyleModel",
     "state": {
      "_model_module": "@jupyter-widgets/controls",
      "_model_module_version": "1.5.0",
      "_model_name": "DescriptionStyleModel",
      "_view_count": null,
      "_view_module": "@jupyter-widgets/base",
      "_view_module_version": "1.2.0",
      "_view_name": "StyleView",
      "description_width": ""
     }
    },
    "9626c268510748e2b43c85a830076c0a": {
     "model_module": "@jupyter-widgets/controls",
     "model_module_version": "1.5.0",
     "model_name": "FloatProgressModel",
     "state": {
      "_dom_classes": [],
      "_model_module": "@jupyter-widgets/controls",
      "_model_module_version": "1.5.0",
      "_model_name": "FloatProgressModel",
      "_view_count": null,
      "_view_module": "@jupyter-widgets/controls",
      "_view_module_version": "1.5.0",
      "_view_name": "ProgressView",
      "bar_style": "success",
      "description": "",
      "description_tooltip": null,
      "layout": "IPY_MODEL_8a37bd78c2764068b9a99e91b432f079",
      "max": 612,
      "min": 0,
      "orientation": "horizontal",
      "style": "IPY_MODEL_4dd1aabd8aa34405838326415d724fcf",
      "value": 612
     }
    },
    "98882b85f1e6499c949b36950a59fdba": {
     "model_module": "@jupyter-widgets/controls",
     "model_module_version": "1.5.0",
     "model_name": "DescriptionStyleModel",
     "state": {
      "_model_module": "@jupyter-widgets/controls",
      "_model_module_version": "1.5.0",
      "_model_name": "DescriptionStyleModel",
      "_view_count": null,
      "_view_module": "@jupyter-widgets/base",
      "_view_module_version": "1.2.0",
      "_view_name": "StyleView",
      "description_width": ""
     }
    },
    "9907897f7acf472ba85d3398395b6cf5": {
     "model_module": "@jupyter-widgets/controls",
     "model_module_version": "1.5.0",
     "model_name": "HTMLModel",
     "state": {
      "_dom_classes": [],
      "_model_module": "@jupyter-widgets/controls",
      "_model_module_version": "1.5.0",
      "_model_name": "HTMLModel",
      "_view_count": null,
      "_view_module": "@jupyter-widgets/controls",
      "_view_module_version": "1.5.0",
      "_view_name": "HTMLView",
      "description": "",
      "description_tooltip": null,
      "layout": "IPY_MODEL_6d3591ec7f1847d6ad7f68f794f1c9e8",
      "placeholder": "​",
      "style": "IPY_MODEL_3c19be37c55f453283883bfc10ea4dec",
      "value": " 232k/232k [00:00&lt;00:00, 3.48MB/s]"
     }
    },
    "9a3f6eb4f05847b1a7b3fdd4b57dc0f7": {
     "model_module": "@jupyter-widgets/base",
     "model_module_version": "1.2.0",
     "model_name": "LayoutModel",
     "state": {
      "_model_module": "@jupyter-widgets/base",
      "_model_module_version": "1.2.0",
      "_model_name": "LayoutModel",
      "_view_count": null,
      "_view_module": "@jupyter-widgets/base",
      "_view_module_version": "1.2.0",
      "_view_name": "LayoutView",
      "align_content": null,
      "align_items": null,
      "align_self": null,
      "border": null,
      "bottom": null,
      "display": null,
      "flex": null,
      "flex_flow": null,
      "grid_area": null,
      "grid_auto_columns": null,
      "grid_auto_flow": null,
      "grid_auto_rows": null,
      "grid_column": null,
      "grid_gap": null,
      "grid_row": null,
      "grid_template_areas": null,
      "grid_template_columns": null,
      "grid_template_rows": null,
      "height": null,
      "justify_content": null,
      "justify_items": null,
      "left": null,
      "margin": null,
      "max_height": null,
      "max_width": null,
      "min_height": null,
      "min_width": null,
      "object_fit": null,
      "object_position": null,
      "order": null,
      "overflow": null,
      "overflow_x": null,
      "overflow_y": null,
      "padding": null,
      "right": null,
      "top": null,
      "visibility": null,
      "width": null
     }
    },
    "9b426b54318e4990b3cc87613bb0e27d": {
     "model_module": "@jupyter-widgets/controls",
     "model_module_version": "1.5.0",
     "model_name": "HTMLModel",
     "state": {
      "_dom_classes": [],
      "_model_module": "@jupyter-widgets/controls",
      "_model_module_version": "1.5.0",
      "_model_name": "HTMLModel",
      "_view_count": null,
      "_view_module": "@jupyter-widgets/controls",
      "_view_module_version": "1.5.0",
      "_view_name": "HTMLView",
      "description": "",
      "description_tooltip": null,
      "layout": "IPY_MODEL_5cdaa91039c44ef4a108cba0bfde2c2c",
      "placeholder": "​",
      "style": "IPY_MODEL_0ef9f00176324ec5b226d96848906816",
      "value": "modules.json: 100%"
     }
    },
    "9d4ece20a7024fbfb8014f204539fc8e": {
     "model_module": "@jupyter-widgets/base",
     "model_module_version": "1.2.0",
     "model_name": "LayoutModel",
     "state": {
      "_model_module": "@jupyter-widgets/base",
      "_model_module_version": "1.2.0",
      "_model_name": "LayoutModel",
      "_view_count": null,
      "_view_module": "@jupyter-widgets/base",
      "_view_module_version": "1.2.0",
      "_view_name": "LayoutView",
      "align_content": null,
      "align_items": null,
      "align_self": null,
      "border": null,
      "bottom": null,
      "display": null,
      "flex": null,
      "flex_flow": null,
      "grid_area": null,
      "grid_auto_columns": null,
      "grid_auto_flow": null,
      "grid_auto_rows": null,
      "grid_column": null,
      "grid_gap": null,
      "grid_row": null,
      "grid_template_areas": null,
      "grid_template_columns": null,
      "grid_template_rows": null,
      "height": null,
      "justify_content": null,
      "justify_items": null,
      "left": null,
      "margin": null,
      "max_height": null,
      "max_width": null,
      "min_height": null,
      "min_width": null,
      "object_fit": null,
      "object_position": null,
      "order": null,
      "overflow": null,
      "overflow_x": null,
      "overflow_y": null,
      "padding": null,
      "right": null,
      "top": null,
      "visibility": null,
      "width": null
     }
    },
    "9d6a757ea8a84db1bf1c556c664a27a8": {
     "model_module": "@jupyter-widgets/base",
     "model_module_version": "1.2.0",
     "model_name": "LayoutModel",
     "state": {
      "_model_module": "@jupyter-widgets/base",
      "_model_module_version": "1.2.0",
      "_model_name": "LayoutModel",
      "_view_count": null,
      "_view_module": "@jupyter-widgets/base",
      "_view_module_version": "1.2.0",
      "_view_name": "LayoutView",
      "align_content": null,
      "align_items": null,
      "align_self": null,
      "border": null,
      "bottom": null,
      "display": null,
      "flex": null,
      "flex_flow": null,
      "grid_area": null,
      "grid_auto_columns": null,
      "grid_auto_flow": null,
      "grid_auto_rows": null,
      "grid_column": null,
      "grid_gap": null,
      "grid_row": null,
      "grid_template_areas": null,
      "grid_template_columns": null,
      "grid_template_rows": null,
      "height": null,
      "justify_content": null,
      "justify_items": null,
      "left": null,
      "margin": null,
      "max_height": null,
      "max_width": null,
      "min_height": null,
      "min_width": null,
      "object_fit": null,
      "object_position": null,
      "order": null,
      "overflow": null,
      "overflow_x": null,
      "overflow_y": null,
      "padding": null,
      "right": null,
      "top": null,
      "visibility": null,
      "width": null
     }
    },
    "9ddc3ef1a72841bcaa81ca30c5386a44": {
     "model_module": "@jupyter-widgets/controls",
     "model_module_version": "1.5.0",
     "model_name": "HTMLModel",
     "state": {
      "_dom_classes": [],
      "_model_module": "@jupyter-widgets/controls",
      "_model_module_version": "1.5.0",
      "_model_name": "HTMLModel",
      "_view_count": null,
      "_view_module": "@jupyter-widgets/controls",
      "_view_module_version": "1.5.0",
      "_view_name": "HTMLView",
      "description": "",
      "description_tooltip": null,
      "layout": "IPY_MODEL_5fb4aa17897e404090652842eb5cc2dd",
      "placeholder": "​",
      "style": "IPY_MODEL_ef90dd9b199747e0a92ac5a1a4b5a9a2",
      "value": "Downloading readme: 100%"
     }
    },
    "9e76ced2b5b94cb9baf3e9117142efce": {
     "model_module": "@jupyter-widgets/controls",
     "model_module_version": "1.5.0",
     "model_name": "DescriptionStyleModel",
     "state": {
      "_model_module": "@jupyter-widgets/controls",
      "_model_module_version": "1.5.0",
      "_model_name": "DescriptionStyleModel",
      "_view_count": null,
      "_view_module": "@jupyter-widgets/base",
      "_view_module_version": "1.2.0",
      "_view_name": "StyleView",
      "description_width": ""
     }
    },
    "a1c8380fe04d4c7c89aabb9a03709cd3": {
     "model_module": "@jupyter-widgets/controls",
     "model_module_version": "1.5.0",
     "model_name": "FloatProgressModel",
     "state": {
      "_dom_classes": [],
      "_model_module": "@jupyter-widgets/controls",
      "_model_module_version": "1.5.0",
      "_model_name": "FloatProgressModel",
      "_view_count": null,
      "_view_module": "@jupyter-widgets/controls",
      "_view_module_version": "1.5.0",
      "_view_name": "ProgressView",
      "bar_style": "success",
      "description": "",
      "description_tooltip": null,
      "layout": "IPY_MODEL_8148b62b0cb444cabacf0758d8631430",
      "max": 53,
      "min": 0,
      "orientation": "horizontal",
      "style": "IPY_MODEL_560bb60fe3b843ceb3f24917ca04a627",
      "value": 53
     }
    },
    "a2fb4e46d1f841a094cc6b6587706245": {
     "model_module": "@jupyter-widgets/controls",
     "model_module_version": "1.5.0",
     "model_name": "HBoxModel",
     "state": {
      "_dom_classes": [],
      "_model_module": "@jupyter-widgets/controls",
      "_model_module_version": "1.5.0",
      "_model_name": "HBoxModel",
      "_view_count": null,
      "_view_module": "@jupyter-widgets/controls",
      "_view_module_version": "1.5.0",
      "_view_name": "HBoxView",
      "box_style": "",
      "children": [
       "IPY_MODEL_9ddc3ef1a72841bcaa81ca30c5386a44",
       "IPY_MODEL_732a4a51917b43c5af1f88ac29424c47",
       "IPY_MODEL_107300bbbb534913b4c013adda973104"
      ],
      "layout": "IPY_MODEL_d44c368dfa1141d480c21986572b110f"
     }
    },
    "a4cba043a7c24d2da0f656831d0b3c70": {
     "model_module": "@jupyter-widgets/base",
     "model_module_version": "1.2.0",
     "model_name": "LayoutModel",
     "state": {
      "_model_module": "@jupyter-widgets/base",
      "_model_module_version": "1.2.0",
      "_model_name": "LayoutModel",
      "_view_count": null,
      "_view_module": "@jupyter-widgets/base",
      "_view_module_version": "1.2.0",
      "_view_name": "LayoutView",
      "align_content": null,
      "align_items": null,
      "align_self": null,
      "border": null,
      "bottom": null,
      "display": null,
      "flex": null,
      "flex_flow": null,
      "grid_area": null,
      "grid_auto_columns": null,
      "grid_auto_flow": null,
      "grid_auto_rows": null,
      "grid_column": null,
      "grid_gap": null,
      "grid_row": null,
      "grid_template_areas": null,
      "grid_template_columns": null,
      "grid_template_rows": null,
      "height": null,
      "justify_content": null,
      "justify_items": null,
      "left": null,
      "margin": null,
      "max_height": null,
      "max_width": null,
      "min_height": null,
      "min_width": null,
      "object_fit": null,
      "object_position": null,
      "order": null,
      "overflow": null,
      "overflow_x": null,
      "overflow_y": null,
      "padding": null,
      "right": null,
      "top": null,
      "visibility": null,
      "width": null
     }
    },
    "a84c6b7542f2428ca378a6fdfee4306a": {
     "model_module": "@jupyter-widgets/base",
     "model_module_version": "1.2.0",
     "model_name": "LayoutModel",
     "state": {
      "_model_module": "@jupyter-widgets/base",
      "_model_module_version": "1.2.0",
      "_model_name": "LayoutModel",
      "_view_count": null,
      "_view_module": "@jupyter-widgets/base",
      "_view_module_version": "1.2.0",
      "_view_name": "LayoutView",
      "align_content": null,
      "align_items": null,
      "align_self": null,
      "border": null,
      "bottom": null,
      "display": null,
      "flex": null,
      "flex_flow": null,
      "grid_area": null,
      "grid_auto_columns": null,
      "grid_auto_flow": null,
      "grid_auto_rows": null,
      "grid_column": null,
      "grid_gap": null,
      "grid_row": null,
      "grid_template_areas": null,
      "grid_template_columns": null,
      "grid_template_rows": null,
      "height": null,
      "justify_content": null,
      "justify_items": null,
      "left": null,
      "margin": null,
      "max_height": null,
      "max_width": null,
      "min_height": null,
      "min_width": null,
      "object_fit": null,
      "object_position": null,
      "order": null,
      "overflow": null,
      "overflow_x": null,
      "overflow_y": null,
      "padding": null,
      "right": null,
      "top": null,
      "visibility": null,
      "width": null
     }
    },
    "aaa77cf0025c48dcbc60a1243fa67432": {
     "model_module": "@jupyter-widgets/controls",
     "model_module_version": "1.5.0",
     "model_name": "DescriptionStyleModel",
     "state": {
      "_model_module": "@jupyter-widgets/controls",
      "_model_module_version": "1.5.0",
      "_model_name": "DescriptionStyleModel",
      "_view_count": null,
      "_view_module": "@jupyter-widgets/base",
      "_view_module_version": "1.2.0",
      "_view_name": "StyleView",
      "description_width": ""
     }
    },
    "aacb3f578f2346e6bbc4beee4866ae37": {
     "model_module": "@jupyter-widgets/controls",
     "model_module_version": "1.5.0",
     "model_name": "FloatProgressModel",
     "state": {
      "_dom_classes": [],
      "_model_module": "@jupyter-widgets/controls",
      "_model_module_version": "1.5.0",
      "_model_name": "FloatProgressModel",
      "_view_count": null,
      "_view_module": "@jupyter-widgets/controls",
      "_view_module_version": "1.5.0",
      "_view_name": "ProgressView",
      "bar_style": "success",
      "description": "",
      "description_tooltip": null,
      "layout": "IPY_MODEL_2d19844be8d3408080627bd7a311d7cf",
      "max": 231508,
      "min": 0,
      "orientation": "horizontal",
      "style": "IPY_MODEL_be597144537749b7b6b5d06c0eb3afe0",
      "value": 231508
     }
    },
    "ad988cb48b9041da8b08fc56262e876a": {
     "model_module": "@jupyter-widgets/controls",
     "model_module_version": "1.5.0",
     "model_name": "HTMLModel",
     "state": {
      "_dom_classes": [],
      "_model_module": "@jupyter-widgets/controls",
      "_model_module_version": "1.5.0",
      "_model_name": "HTMLModel",
      "_view_count": null,
      "_view_module": "@jupyter-widgets/controls",
      "_view_module_version": "1.5.0",
      "_view_name": "HTMLView",
      "description": "",
      "description_tooltip": null,
      "layout": "IPY_MODEL_3e5840ce389a4ae3a491f91657947c7e",
      "placeholder": "​",
      "style": "IPY_MODEL_fc62460e63da4a06817c12d17ab0c1d4",
      "value": "Downloading data: 100%"
     }
    },
    "b0e1371dce7e422291e3d32c8d794fc1": {
     "model_module": "@jupyter-widgets/controls",
     "model_module_version": "1.5.0",
     "model_name": "FloatProgressModel",
     "state": {
      "_dom_classes": [],
      "_model_module": "@jupyter-widgets/controls",
      "_model_module_version": "1.5.0",
      "_model_name": "FloatProgressModel",
      "_view_count": null,
      "_view_module": "@jupyter-widgets/controls",
      "_view_module_version": "1.5.0",
      "_view_name": "ProgressView",
      "bar_style": "success",
      "description": "",
      "description_tooltip": null,
      "layout": "IPY_MODEL_380a8d488c7a474ea4e4d2365f9ad76f",
      "max": 3048,
      "min": 0,
      "orientation": "horizontal",
      "style": "IPY_MODEL_218c0fe805544082a55025db73201065",
      "value": 3048
     }
    },
    "b17eddc7e7ee4840bd9ce7e8ca9370e7": {
     "model_module": "@jupyter-widgets/controls",
     "model_module_version": "1.5.0",
     "model_name": "HTMLModel",
     "state": {
      "_dom_classes": [],
      "_model_module": "@jupyter-widgets/controls",
      "_model_module_version": "1.5.0",
      "_model_name": "HTMLModel",
      "_view_count": null,
      "_view_module": "@jupyter-widgets/controls",
      "_view_module_version": "1.5.0",
      "_view_name": "HTMLView",
      "description": "",
      "description_tooltip": null,
      "layout": "IPY_MODEL_d1cb3443378f483ba9fd1503c980a3cc",
      "placeholder": "​",
      "style": "IPY_MODEL_3e8e1e6d93d74a859065ae166d89bf83",
      "value": "sentence_bert_config.json: 100%"
     }
    },
    "b237f99d8c4a4c3dacf7146bf4ed7547": {
     "model_module": "@jupyter-widgets/controls",
     "model_module_version": "1.5.0",
     "model_name": "DescriptionStyleModel",
     "state": {
      "_model_module": "@jupyter-widgets/controls",
      "_model_module_version": "1.5.0",
      "_model_name": "DescriptionStyleModel",
      "_view_count": null,
      "_view_module": "@jupyter-widgets/base",
      "_view_module_version": "1.2.0",
      "_view_name": "StyleView",
      "description_width": ""
     }
    },
    "b3cf0b4d946843018c08a213cb1072ee": {
     "model_module": "@jupyter-widgets/controls",
     "model_module_version": "1.5.0",
     "model_name": "ProgressStyleModel",
     "state": {
      "_model_module": "@jupyter-widgets/controls",
      "_model_module_version": "1.5.0",
      "_model_name": "ProgressStyleModel",
      "_view_count": null,
      "_view_module": "@jupyter-widgets/base",
      "_view_module_version": "1.2.0",
      "_view_name": "StyleView",
      "bar_color": null,
      "description_width": ""
     }
    },
    "b68aa1a0678f4819b460fd73ebcc1523": {
     "model_module": "@jupyter-widgets/base",
     "model_module_version": "1.2.0",
     "model_name": "LayoutModel",
     "state": {
      "_model_module": "@jupyter-widgets/base",
      "_model_module_version": "1.2.0",
      "_model_name": "LayoutModel",
      "_view_count": null,
      "_view_module": "@jupyter-widgets/base",
      "_view_module_version": "1.2.0",
      "_view_name": "LayoutView",
      "align_content": null,
      "align_items": null,
      "align_self": null,
      "border": null,
      "bottom": null,
      "display": null,
      "flex": null,
      "flex_flow": null,
      "grid_area": null,
      "grid_auto_columns": null,
      "grid_auto_flow": null,
      "grid_auto_rows": null,
      "grid_column": null,
      "grid_gap": null,
      "grid_row": null,
      "grid_template_areas": null,
      "grid_template_columns": null,
      "grid_template_rows": null,
      "height": null,
      "justify_content": null,
      "justify_items": null,
      "left": null,
      "margin": null,
      "max_height": null,
      "max_width": null,
      "min_height": null,
      "min_width": null,
      "object_fit": null,
      "object_position": null,
      "order": null,
      "overflow": null,
      "overflow_x": null,
      "overflow_y": null,
      "padding": null,
      "right": null,
      "top": null,
      "visibility": null,
      "width": null
     }
    },
    "b8a745e2dc66408fa6668cc223d1de5d": {
     "model_module": "@jupyter-widgets/controls",
     "model_module_version": "1.5.0",
     "model_name": "HTMLModel",
     "state": {
      "_dom_classes": [],
      "_model_module": "@jupyter-widgets/controls",
      "_model_module_version": "1.5.0",
      "_model_name": "HTMLModel",
      "_view_count": null,
      "_view_module": "@jupyter-widgets/controls",
      "_view_module_version": "1.5.0",
      "_view_name": "HTMLView",
      "description": "",
      "description_tooltip": null,
      "layout": "IPY_MODEL_c368308a406b4253b3b947932bd3af5f",
      "placeholder": "​",
      "style": "IPY_MODEL_f3201d60d3e74fa4bba46af3dd8116cf",
      "value": "1_Pooling/config.json: 100%"
     }
    },
    "bc0f4dcf98e8475bbbf73238d4e13943": {
     "model_module": "@jupyter-widgets/base",
     "model_module_version": "1.2.0",
     "model_name": "LayoutModel",
     "state": {
      "_model_module": "@jupyter-widgets/base",
      "_model_module_version": "1.2.0",
      "_model_name": "LayoutModel",
      "_view_count": null,
      "_view_module": "@jupyter-widgets/base",
      "_view_module_version": "1.2.0",
      "_view_name": "LayoutView",
      "align_content": null,
      "align_items": null,
      "align_self": null,
      "border": null,
      "bottom": null,
      "display": null,
      "flex": null,
      "flex_flow": null,
      "grid_area": null,
      "grid_auto_columns": null,
      "grid_auto_flow": null,
      "grid_auto_rows": null,
      "grid_column": null,
      "grid_gap": null,
      "grid_row": null,
      "grid_template_areas": null,
      "grid_template_columns": null,
      "grid_template_rows": null,
      "height": null,
      "justify_content": null,
      "justify_items": null,
      "left": null,
      "margin": null,
      "max_height": null,
      "max_width": null,
      "min_height": null,
      "min_width": null,
      "object_fit": null,
      "object_position": null,
      "order": null,
      "overflow": null,
      "overflow_x": null,
      "overflow_y": null,
      "padding": null,
      "right": null,
      "top": null,
      "visibility": null,
      "width": null
     }
    },
    "bc3325381d5e4fc2a7bcee41441d22af": {
     "model_module": "@jupyter-widgets/controls",
     "model_module_version": "1.5.0",
     "model_name": "HBoxModel",
     "state": {
      "_dom_classes": [],
      "_model_module": "@jupyter-widgets/controls",
      "_model_module_version": "1.5.0",
      "_model_name": "HBoxModel",
      "_view_count": null,
      "_view_module": "@jupyter-widgets/controls",
      "_view_module_version": "1.5.0",
      "_view_name": "HBoxView",
      "box_style": "",
      "children": [
       "IPY_MODEL_679220212a2041c3afcecce6153db797",
       "IPY_MODEL_6296bcc4c85149098e87fb13d6e1d864",
       "IPY_MODEL_ce0ff4f4751b462599ead0a94bbfb245"
      ],
      "layout": "IPY_MODEL_c643820b9fd843e48b7abdc820805f25"
     }
    },
    "be41af80704d4a44bab4aba92a79a46c": {
     "model_module": "@jupyter-widgets/controls",
     "model_module_version": "1.5.0",
     "model_name": "HTMLModel",
     "state": {
      "_dom_classes": [],
      "_model_module": "@jupyter-widgets/controls",
      "_model_module_version": "1.5.0",
      "_model_name": "HTMLModel",
      "_view_count": null,
      "_view_module": "@jupyter-widgets/controls",
      "_view_module_version": "1.5.0",
      "_view_name": "HTMLView",
      "description": "",
      "description_tooltip": null,
      "layout": "IPY_MODEL_9d4ece20a7024fbfb8014f204539fc8e",
      "placeholder": "​",
      "style": "IPY_MODEL_8bce8b70b7474bf0a870f5a6a50e4b75",
      "value": " 349/349 [00:00&lt;00:00, 12.7kB/s]"
     }
    },
    "be597144537749b7b6b5d06c0eb3afe0": {
     "model_module": "@jupyter-widgets/controls",
     "model_module_version": "1.5.0",
     "model_name": "ProgressStyleModel",
     "state": {
      "_model_module": "@jupyter-widgets/controls",
      "_model_module_version": "1.5.0",
      "_model_name": "ProgressStyleModel",
      "_view_count": null,
      "_view_module": "@jupyter-widgets/base",
      "_view_module_version": "1.2.0",
      "_view_name": "StyleView",
      "bar_color": null,
      "description_width": ""
     }
    },
    "befb4d423095491888ce83907ff66297": {
     "model_module": "@jupyter-widgets/base",
     "model_module_version": "1.2.0",
     "model_name": "LayoutModel",
     "state": {
      "_model_module": "@jupyter-widgets/base",
      "_model_module_version": "1.2.0",
      "_model_name": "LayoutModel",
      "_view_count": null,
      "_view_module": "@jupyter-widgets/base",
      "_view_module_version": "1.2.0",
      "_view_name": "LayoutView",
      "align_content": null,
      "align_items": null,
      "align_self": null,
      "border": null,
      "bottom": null,
      "display": null,
      "flex": null,
      "flex_flow": null,
      "grid_area": null,
      "grid_auto_columns": null,
      "grid_auto_flow": null,
      "grid_auto_rows": null,
      "grid_column": null,
      "grid_gap": null,
      "grid_row": null,
      "grid_template_areas": null,
      "grid_template_columns": null,
      "grid_template_rows": null,
      "height": null,
      "justify_content": null,
      "justify_items": null,
      "left": null,
      "margin": null,
      "max_height": null,
      "max_width": null,
      "min_height": null,
      "min_width": null,
      "object_fit": null,
      "object_position": null,
      "order": null,
      "overflow": null,
      "overflow_x": null,
      "overflow_y": null,
      "padding": null,
      "right": null,
      "top": null,
      "visibility": null,
      "width": null
     }
    },
    "c06e90076de549489c542f304b612e7f": {
     "model_module": "@jupyter-widgets/controls",
     "model_module_version": "1.5.0",
     "model_name": "HTMLModel",
     "state": {
      "_dom_classes": [],
      "_model_module": "@jupyter-widgets/controls",
      "_model_module_version": "1.5.0",
      "_model_name": "HTMLModel",
      "_view_count": null,
      "_view_module": "@jupyter-widgets/controls",
      "_view_module_version": "1.5.0",
      "_view_name": "HTMLView",
      "description": "",
      "description_tooltip": null,
      "layout": "IPY_MODEL_cfb1bc85e87345ed8a41295771f9038d",
      "placeholder": "​",
      "style": "IPY_MODEL_1acea064ee3145cc9fdac00531972ecb",
      "value": " 314k/314k [00:00&lt;00:00, 344kB/s]"
     }
    },
    "c0d6c566564a468e88fb5d87364e96c9": {
     "model_module": "@jupyter-widgets/controls",
     "model_module_version": "1.5.0",
     "model_name": "DescriptionStyleModel",
     "state": {
      "_model_module": "@jupyter-widgets/controls",
      "_model_module_version": "1.5.0",
      "_model_name": "DescriptionStyleModel",
      "_view_count": null,
      "_view_module": "@jupyter-widgets/base",
      "_view_module_version": "1.2.0",
      "_view_name": "StyleView",
      "description_width": ""
     }
    },
    "c2373ac36ad8429d95b8fcc38c7a0534": {
     "model_module": "@jupyter-widgets/base",
     "model_module_version": "1.2.0",
     "model_name": "LayoutModel",
     "state": {
      "_model_module": "@jupyter-widgets/base",
      "_model_module_version": "1.2.0",
      "_model_name": "LayoutModel",
      "_view_count": null,
      "_view_module": "@jupyter-widgets/base",
      "_view_module_version": "1.2.0",
      "_view_name": "LayoutView",
      "align_content": null,
      "align_items": null,
      "align_self": null,
      "border": null,
      "bottom": null,
      "display": null,
      "flex": null,
      "flex_flow": null,
      "grid_area": null,
      "grid_auto_columns": null,
      "grid_auto_flow": null,
      "grid_auto_rows": null,
      "grid_column": null,
      "grid_gap": null,
      "grid_row": null,
      "grid_template_areas": null,
      "grid_template_columns": null,
      "grid_template_rows": null,
      "height": null,
      "justify_content": null,
      "justify_items": null,
      "left": null,
      "margin": null,
      "max_height": null,
      "max_width": null,
      "min_height": null,
      "min_width": null,
      "object_fit": null,
      "object_position": null,
      "order": null,
      "overflow": null,
      "overflow_x": null,
      "overflow_y": null,
      "padding": null,
      "right": null,
      "top": null,
      "visibility": null,
      "width": null
     }
    },
    "c368308a406b4253b3b947932bd3af5f": {
     "model_module": "@jupyter-widgets/base",
     "model_module_version": "1.2.0",
     "model_name": "LayoutModel",
     "state": {
      "_model_module": "@jupyter-widgets/base",
      "_model_module_version": "1.2.0",
      "_model_name": "LayoutModel",
      "_view_count": null,
      "_view_module": "@jupyter-widgets/base",
      "_view_module_version": "1.2.0",
      "_view_name": "LayoutView",
      "align_content": null,
      "align_items": null,
      "align_self": null,
      "border": null,
      "bottom": null,
      "display": null,
      "flex": null,
      "flex_flow": null,
      "grid_area": null,
      "grid_auto_columns": null,
      "grid_auto_flow": null,
      "grid_auto_rows": null,
      "grid_column": null,
      "grid_gap": null,
      "grid_row": null,
      "grid_template_areas": null,
      "grid_template_columns": null,
      "grid_template_rows": null,
      "height": null,
      "justify_content": null,
      "justify_items": null,
      "left": null,
      "margin": null,
      "max_height": null,
      "max_width": null,
      "min_height": null,
      "min_width": null,
      "object_fit": null,
      "object_position": null,
      "order": null,
      "overflow": null,
      "overflow_x": null,
      "overflow_y": null,
      "padding": null,
      "right": null,
      "top": null,
      "visibility": null,
      "width": null
     }
    },
    "c643820b9fd843e48b7abdc820805f25": {
     "model_module": "@jupyter-widgets/base",
     "model_module_version": "1.2.0",
     "model_name": "LayoutModel",
     "state": {
      "_model_module": "@jupyter-widgets/base",
      "_model_module_version": "1.2.0",
      "_model_name": "LayoutModel",
      "_view_count": null,
      "_view_module": "@jupyter-widgets/base",
      "_view_module_version": "1.2.0",
      "_view_name": "LayoutView",
      "align_content": null,
      "align_items": null,
      "align_self": null,
      "border": null,
      "bottom": null,
      "display": null,
      "flex": null,
      "flex_flow": null,
      "grid_area": null,
      "grid_auto_columns": null,
      "grid_auto_flow": null,
      "grid_auto_rows": null,
      "grid_column": null,
      "grid_gap": null,
      "grid_row": null,
      "grid_template_areas": null,
      "grid_template_columns": null,
      "grid_template_rows": null,
      "height": null,
      "justify_content": null,
      "justify_items": null,
      "left": null,
      "margin": null,
      "max_height": null,
      "max_width": null,
      "min_height": null,
      "min_width": null,
      "object_fit": null,
      "object_position": null,
      "order": null,
      "overflow": null,
      "overflow_x": null,
      "overflow_y": null,
      "padding": null,
      "right": null,
      "top": null,
      "visibility": null,
      "width": null
     }
    },
    "caa87d913f6442858b23b372734a097d": {
     "model_module": "@jupyter-widgets/controls",
     "model_module_version": "1.5.0",
     "model_name": "HBoxModel",
     "state": {
      "_dom_classes": [],
      "_model_module": "@jupyter-widgets/controls",
      "_model_module_version": "1.5.0",
      "_model_name": "HBoxModel",
      "_view_count": null,
      "_view_module": "@jupyter-widgets/controls",
      "_view_module_version": "1.5.0",
      "_view_name": "HBoxView",
      "box_style": "",
      "children": [
       "IPY_MODEL_66465b47a46044338a9b1952c2159150",
       "IPY_MODEL_728e1d1393504a669b5bddfdb3cd4745",
       "IPY_MODEL_8b330719f47f42d3accef0632acd291e"
      ],
      "layout": "IPY_MODEL_84d6d437e72343dd85d21f6a704bb596"
     }
    },
    "ce0ff4f4751b462599ead0a94bbfb245": {
     "model_module": "@jupyter-widgets/controls",
     "model_module_version": "1.5.0",
     "model_name": "HTMLModel",
     "state": {
      "_dom_classes": [],
      "_model_module": "@jupyter-widgets/controls",
      "_model_module_version": "1.5.0",
      "_model_name": "HTMLModel",
      "_view_count": null,
      "_view_module": "@jupyter-widgets/controls",
      "_view_module_version": "1.5.0",
      "_view_name": "HTMLView",
      "description": "",
      "description_tooltip": null,
      "layout": "IPY_MODEL_b68aa1a0678f4819b460fd73ebcc1523",
      "placeholder": "​",
      "style": "IPY_MODEL_4dc99c7b6c8f42dd8504ef17e6e19d78",
      "value": " 466k/466k [00:00&lt;00:00, 2.37MB/s]"
     }
    },
    "ce465331456c45768dda76a55602caf7": {
     "model_module": "@jupyter-widgets/controls",
     "model_module_version": "1.5.0",
     "model_name": "HTMLModel",
     "state": {
      "_dom_classes": [],
      "_model_module": "@jupyter-widgets/controls",
      "_model_module_version": "1.5.0",
      "_model_name": "HTMLModel",
      "_view_count": null,
      "_view_module": "@jupyter-widgets/controls",
      "_view_module_version": "1.5.0",
      "_view_name": "HTMLView",
      "description": "",
      "description_tooltip": null,
      "layout": "IPY_MODEL_6ef5215fe30c4112baf241dbc1438f0e",
      "placeholder": "​",
      "style": "IPY_MODEL_d329fd5e2c5947189115f7be7ac6ecdb",
      "value": "config.json: 100%"
     }
    },
    "cf9036c8f11345898480f647feca7276": {
     "model_module": "@jupyter-widgets/base",
     "model_module_version": "1.2.0",
     "model_name": "LayoutModel",
     "state": {
      "_model_module": "@jupyter-widgets/base",
      "_model_module_version": "1.2.0",
      "_model_name": "LayoutModel",
      "_view_count": null,
      "_view_module": "@jupyter-widgets/base",
      "_view_module_version": "1.2.0",
      "_view_name": "LayoutView",
      "align_content": null,
      "align_items": null,
      "align_self": null,
      "border": null,
      "bottom": null,
      "display": null,
      "flex": null,
      "flex_flow": null,
      "grid_area": null,
      "grid_auto_columns": null,
      "grid_auto_flow": null,
      "grid_auto_rows": null,
      "grid_column": null,
      "grid_gap": null,
      "grid_row": null,
      "grid_template_areas": null,
      "grid_template_columns": null,
      "grid_template_rows": null,
      "height": null,
      "justify_content": null,
      "justify_items": null,
      "left": null,
      "margin": null,
      "max_height": null,
      "max_width": null,
      "min_height": null,
      "min_width": null,
      "object_fit": null,
      "object_position": null,
      "order": null,
      "overflow": null,
      "overflow_x": null,
      "overflow_y": null,
      "padding": null,
      "right": null,
      "top": null,
      "visibility": null,
      "width": null
     }
    },
    "cfb1bc85e87345ed8a41295771f9038d": {
     "model_module": "@jupyter-widgets/base",
     "model_module_version": "1.2.0",
     "model_name": "LayoutModel",
     "state": {
      "_model_module": "@jupyter-widgets/base",
      "_model_module_version": "1.2.0",
      "_model_name": "LayoutModel",
      "_view_count": null,
      "_view_module": "@jupyter-widgets/base",
      "_view_module_version": "1.2.0",
      "_view_name": "LayoutView",
      "align_content": null,
      "align_items": null,
      "align_self": null,
      "border": null,
      "bottom": null,
      "display": null,
      "flex": null,
      "flex_flow": null,
      "grid_area": null,
      "grid_auto_columns": null,
      "grid_auto_flow": null,
      "grid_auto_rows": null,
      "grid_column": null,
      "grid_gap": null,
      "grid_row": null,
      "grid_template_areas": null,
      "grid_template_columns": null,
      "grid_template_rows": null,
      "height": null,
      "justify_content": null,
      "justify_items": null,
      "left": null,
      "margin": null,
      "max_height": null,
      "max_width": null,
      "min_height": null,
      "min_width": null,
      "object_fit": null,
      "object_position": null,
      "order": null,
      "overflow": null,
      "overflow_x": null,
      "overflow_y": null,
      "padding": null,
      "right": null,
      "top": null,
      "visibility": null,
      "width": null
     }
    },
    "cfc159580a6b4b3fb7a970ea095dbded": {
     "model_module": "@jupyter-widgets/controls",
     "model_module_version": "1.5.0",
     "model_name": "HTMLModel",
     "state": {
      "_dom_classes": [],
      "_model_module": "@jupyter-widgets/controls",
      "_model_module_version": "1.5.0",
      "_model_name": "HTMLModel",
      "_view_count": null,
      "_view_module": "@jupyter-widgets/controls",
      "_view_module_version": "1.5.0",
      "_view_name": "HTMLView",
      "description": "",
      "description_tooltip": null,
      "layout": "IPY_MODEL_129f960c641c4d638d1961d5d201bb63",
      "placeholder": "​",
      "style": "IPY_MODEL_b237f99d8c4a4c3dacf7146bf4ed7547",
      "value": "config_sentence_transformers.json: 100%"
     }
    },
    "d1cb3443378f483ba9fd1503c980a3cc": {
     "model_module": "@jupyter-widgets/base",
     "model_module_version": "1.2.0",
     "model_name": "LayoutModel",
     "state": {
      "_model_module": "@jupyter-widgets/base",
      "_model_module_version": "1.2.0",
      "_model_name": "LayoutModel",
      "_view_count": null,
      "_view_module": "@jupyter-widgets/base",
      "_view_module_version": "1.2.0",
      "_view_name": "LayoutView",
      "align_content": null,
      "align_items": null,
      "align_self": null,
      "border": null,
      "bottom": null,
      "display": null,
      "flex": null,
      "flex_flow": null,
      "grid_area": null,
      "grid_auto_columns": null,
      "grid_auto_flow": null,
      "grid_auto_rows": null,
      "grid_column": null,
      "grid_gap": null,
      "grid_row": null,
      "grid_template_areas": null,
      "grid_template_columns": null,
      "grid_template_rows": null,
      "height": null,
      "justify_content": null,
      "justify_items": null,
      "left": null,
      "margin": null,
      "max_height": null,
      "max_width": null,
      "min_height": null,
      "min_width": null,
      "object_fit": null,
      "object_position": null,
      "order": null,
      "overflow": null,
      "overflow_x": null,
      "overflow_y": null,
      "padding": null,
      "right": null,
      "top": null,
      "visibility": null,
      "width": null
     }
    },
    "d2b69357836047438b566a944e7ae094": {
     "model_module": "@jupyter-widgets/controls",
     "model_module_version": "1.5.0",
     "model_name": "HTMLModel",
     "state": {
      "_dom_classes": [],
      "_model_module": "@jupyter-widgets/controls",
      "_model_module_version": "1.5.0",
      "_model_name": "HTMLModel",
      "_view_count": null,
      "_view_module": "@jupyter-widgets/controls",
      "_view_module_version": "1.5.0",
      "_view_name": "HTMLView",
      "description": "",
      "description_tooltip": null,
      "layout": "IPY_MODEL_cf9036c8f11345898480f647feca7276",
      "placeholder": "​",
      "style": "IPY_MODEL_c0d6c566564a468e88fb5d87364e96c9",
      "value": " 612/612 [00:00&lt;00:00, 28.8kB/s]"
     }
    },
    "d329fd5e2c5947189115f7be7ac6ecdb": {
     "model_module": "@jupyter-widgets/controls",
     "model_module_version": "1.5.0",
     "model_name": "DescriptionStyleModel",
     "state": {
      "_model_module": "@jupyter-widgets/controls",
      "_model_module_version": "1.5.0",
      "_model_name": "DescriptionStyleModel",
      "_view_count": null,
      "_view_module": "@jupyter-widgets/base",
      "_view_module_version": "1.2.0",
      "_view_name": "StyleView",
      "description_width": ""
     }
    },
    "d44c368dfa1141d480c21986572b110f": {
     "model_module": "@jupyter-widgets/base",
     "model_module_version": "1.2.0",
     "model_name": "LayoutModel",
     "state": {
      "_model_module": "@jupyter-widgets/base",
      "_model_module_version": "1.2.0",
      "_model_name": "LayoutModel",
      "_view_count": null,
      "_view_module": "@jupyter-widgets/base",
      "_view_module_version": "1.2.0",
      "_view_name": "LayoutView",
      "align_content": null,
      "align_items": null,
      "align_self": null,
      "border": null,
      "bottom": null,
      "display": null,
      "flex": null,
      "flex_flow": null,
      "grid_area": null,
      "grid_auto_columns": null,
      "grid_auto_flow": null,
      "grid_auto_rows": null,
      "grid_column": null,
      "grid_gap": null,
      "grid_row": null,
      "grid_template_areas": null,
      "grid_template_columns": null,
      "grid_template_rows": null,
      "height": null,
      "justify_content": null,
      "justify_items": null,
      "left": null,
      "margin": null,
      "max_height": null,
      "max_width": null,
      "min_height": null,
      "min_width": null,
      "object_fit": null,
      "object_position": null,
      "order": null,
      "overflow": null,
      "overflow_x": null,
      "overflow_y": null,
      "padding": null,
      "right": null,
      "top": null,
      "visibility": null,
      "width": null
     }
    },
    "d4eb47673c344c2a977332c44c2c4c9c": {
     "model_module": "@jupyter-widgets/base",
     "model_module_version": "1.2.0",
     "model_name": "LayoutModel",
     "state": {
      "_model_module": "@jupyter-widgets/base",
      "_model_module_version": "1.2.0",
      "_model_name": "LayoutModel",
      "_view_count": null,
      "_view_module": "@jupyter-widgets/base",
      "_view_module_version": "1.2.0",
      "_view_name": "LayoutView",
      "align_content": null,
      "align_items": null,
      "align_self": null,
      "border": null,
      "bottom": null,
      "display": null,
      "flex": null,
      "flex_flow": null,
      "grid_area": null,
      "grid_auto_columns": null,
      "grid_auto_flow": null,
      "grid_auto_rows": null,
      "grid_column": null,
      "grid_gap": null,
      "grid_row": null,
      "grid_template_areas": null,
      "grid_template_columns": null,
      "grid_template_rows": null,
      "height": null,
      "justify_content": null,
      "justify_items": null,
      "left": null,
      "margin": null,
      "max_height": null,
      "max_width": null,
      "min_height": null,
      "min_width": null,
      "object_fit": null,
      "object_position": null,
      "order": null,
      "overflow": null,
      "overflow_x": null,
      "overflow_y": null,
      "padding": null,
      "right": null,
      "top": null,
      "visibility": null,
      "width": null
     }
    },
    "dcfa491ba54548c0b38539ef2539b625": {
     "model_module": "@jupyter-widgets/base",
     "model_module_version": "1.2.0",
     "model_name": "LayoutModel",
     "state": {
      "_model_module": "@jupyter-widgets/base",
      "_model_module_version": "1.2.0",
      "_model_name": "LayoutModel",
      "_view_count": null,
      "_view_module": "@jupyter-widgets/base",
      "_view_module_version": "1.2.0",
      "_view_name": "LayoutView",
      "align_content": null,
      "align_items": null,
      "align_self": null,
      "border": null,
      "bottom": null,
      "display": null,
      "flex": null,
      "flex_flow": null,
      "grid_area": null,
      "grid_auto_columns": null,
      "grid_auto_flow": null,
      "grid_auto_rows": null,
      "grid_column": null,
      "grid_gap": null,
      "grid_row": null,
      "grid_template_areas": null,
      "grid_template_columns": null,
      "grid_template_rows": null,
      "height": null,
      "justify_content": null,
      "justify_items": null,
      "left": null,
      "margin": null,
      "max_height": null,
      "max_width": null,
      "min_height": null,
      "min_width": null,
      "object_fit": null,
      "object_position": null,
      "order": null,
      "overflow": null,
      "overflow_x": null,
      "overflow_y": null,
      "padding": null,
      "right": null,
      "top": null,
      "visibility": null,
      "width": null
     }
    },
    "deb867f3ab8d4c9bbee59b24a82bada7": {
     "model_module": "@jupyter-widgets/base",
     "model_module_version": "1.2.0",
     "model_name": "LayoutModel",
     "state": {
      "_model_module": "@jupyter-widgets/base",
      "_model_module_version": "1.2.0",
      "_model_name": "LayoutModel",
      "_view_count": null,
      "_view_module": "@jupyter-widgets/base",
      "_view_module_version": "1.2.0",
      "_view_name": "LayoutView",
      "align_content": null,
      "align_items": null,
      "align_self": null,
      "border": null,
      "bottom": null,
      "display": null,
      "flex": null,
      "flex_flow": null,
      "grid_area": null,
      "grid_auto_columns": null,
      "grid_auto_flow": null,
      "grid_auto_rows": null,
      "grid_column": null,
      "grid_gap": null,
      "grid_row": null,
      "grid_template_areas": null,
      "grid_template_columns": null,
      "grid_template_rows": null,
      "height": null,
      "justify_content": null,
      "justify_items": null,
      "left": null,
      "margin": null,
      "max_height": null,
      "max_width": null,
      "min_height": null,
      "min_width": null,
      "object_fit": null,
      "object_position": null,
      "order": null,
      "overflow": null,
      "overflow_x": null,
      "overflow_y": null,
      "padding": null,
      "right": null,
      "top": null,
      "visibility": null,
      "width": null
     }
    },
    "dee00727ebb44b488aab92e96f475bf3": {
     "model_module": "@jupyter-widgets/controls",
     "model_module_version": "1.5.0",
     "model_name": "HTMLModel",
     "state": {
      "_dom_classes": [],
      "_model_module": "@jupyter-widgets/controls",
      "_model_module_version": "1.5.0",
      "_model_name": "HTMLModel",
      "_view_count": null,
      "_view_module": "@jupyter-widgets/controls",
      "_view_module_version": "1.5.0",
      "_view_name": "HTMLView",
      "description": "",
      "description_tooltip": null,
      "layout": "IPY_MODEL_f39c9ca2e4af487fb24b53300e2cad3c",
      "placeholder": "​",
      "style": "IPY_MODEL_98882b85f1e6499c949b36950a59fdba",
      "value": "Generating train split: 100%"
     }
    },
    "df7c23c18a314382b73b12bd1e34e46b": {
     "model_module": "@jupyter-widgets/controls",
     "model_module_version": "1.5.0",
     "model_name": "HTMLModel",
     "state": {
      "_dom_classes": [],
      "_model_module": "@jupyter-widgets/controls",
      "_model_module_version": "1.5.0",
      "_model_name": "HTMLModel",
      "_view_count": null,
      "_view_module": "@jupyter-widgets/controls",
      "_view_module_version": "1.5.0",
      "_view_name": "HTMLView",
      "description": "",
      "description_tooltip": null,
      "layout": "IPY_MODEL_9a3f6eb4f05847b1a7b3fdd4b57dc0f7",
      "placeholder": "​",
      "style": "IPY_MODEL_e5dc02ab6163417eaa9cfb52c5cb3f15",
      "value": "special_tokens_map.json: 100%"
     }
    },
    "e3949a0d7e9b4d4ab3016a154cb2bdbb": {
     "model_module": "@jupyter-widgets/controls",
     "model_module_version": "1.5.0",
     "model_name": "HTMLModel",
     "state": {
      "_dom_classes": [],
      "_model_module": "@jupyter-widgets/controls",
      "_model_module_version": "1.5.0",
      "_model_name": "HTMLModel",
      "_view_count": null,
      "_view_module": "@jupyter-widgets/controls",
      "_view_module_version": "1.5.0",
      "_view_name": "HTMLView",
      "description": "",
      "description_tooltip": null,
      "layout": "IPY_MODEL_2547a4eb87484e84a6acb9546848f428",
      "placeholder": "​",
      "style": "IPY_MODEL_aaa77cf0025c48dcbc60a1243fa67432",
      "value": " 116/116 [00:00&lt;00:00, 1.94kB/s]"
     }
    },
    "e3b597961e8d4eaca2dc211901e4471c": {
     "model_module": "@jupyter-widgets/base",
     "model_module_version": "1.2.0",
     "model_name": "LayoutModel",
     "state": {
      "_model_module": "@jupyter-widgets/base",
      "_model_module_version": "1.2.0",
      "_model_name": "LayoutModel",
      "_view_count": null,
      "_view_module": "@jupyter-widgets/base",
      "_view_module_version": "1.2.0",
      "_view_name": "LayoutView",
      "align_content": null,
      "align_items": null,
      "align_self": null,
      "border": null,
      "bottom": null,
      "display": null,
      "flex": null,
      "flex_flow": null,
      "grid_area": null,
      "grid_auto_columns": null,
      "grid_auto_flow": null,
      "grid_auto_rows": null,
      "grid_column": null,
      "grid_gap": null,
      "grid_row": null,
      "grid_template_areas": null,
      "grid_template_columns": null,
      "grid_template_rows": null,
      "height": null,
      "justify_content": null,
      "justify_items": null,
      "left": null,
      "margin": null,
      "max_height": null,
      "max_width": null,
      "min_height": null,
      "min_width": null,
      "object_fit": null,
      "object_position": null,
      "order": null,
      "overflow": null,
      "overflow_x": null,
      "overflow_y": null,
      "padding": null,
      "right": null,
      "top": null,
      "visibility": null,
      "width": null
     }
    },
    "e427e3d1f290427f8a20fea9ba2daa77": {
     "model_module": "@jupyter-widgets/controls",
     "model_module_version": "1.5.0",
     "model_name": "ProgressStyleModel",
     "state": {
      "_model_module": "@jupyter-widgets/controls",
      "_model_module_version": "1.5.0",
      "_model_name": "ProgressStyleModel",
      "_view_count": null,
      "_view_module": "@jupyter-widgets/base",
      "_view_module_version": "1.2.0",
      "_view_name": "StyleView",
      "bar_color": null,
      "description_width": ""
     }
    },
    "e5dc02ab6163417eaa9cfb52c5cb3f15": {
     "model_module": "@jupyter-widgets/controls",
     "model_module_version": "1.5.0",
     "model_name": "DescriptionStyleModel",
     "state": {
      "_model_module": "@jupyter-widgets/controls",
      "_model_module_version": "1.5.0",
      "_model_name": "DescriptionStyleModel",
      "_view_count": null,
      "_view_module": "@jupyter-widgets/base",
      "_view_module_version": "1.2.0",
      "_view_name": "StyleView",
      "description_width": ""
     }
    },
    "e7d192b1821f45ddac63b32b1adedfb8": {
     "model_module": "@jupyter-widgets/controls",
     "model_module_version": "1.5.0",
     "model_name": "ProgressStyleModel",
     "state": {
      "_model_module": "@jupyter-widgets/controls",
      "_model_module_version": "1.5.0",
      "_model_name": "ProgressStyleModel",
      "_view_count": null,
      "_view_module": "@jupyter-widgets/base",
      "_view_module_version": "1.2.0",
      "_view_name": "StyleView",
      "bar_color": null,
      "description_width": ""
     }
    },
    "e8e045b00869451db05a6ad4819b5225": {
     "model_module": "@jupyter-widgets/controls",
     "model_module_version": "1.5.0",
     "model_name": "HBoxModel",
     "state": {
      "_dom_classes": [],
      "_model_module": "@jupyter-widgets/controls",
      "_model_module_version": "1.5.0",
      "_model_name": "HBoxModel",
      "_view_count": null,
      "_view_module": "@jupyter-widgets/controls",
      "_view_module_version": "1.5.0",
      "_view_name": "HBoxView",
      "box_style": "",
      "children": [
       "IPY_MODEL_b17eddc7e7ee4840bd9ce7e8ca9370e7",
       "IPY_MODEL_a1c8380fe04d4c7c89aabb9a03709cd3",
       "IPY_MODEL_2de6c309a87e4e33a98a391d66bf4d5c"
      ],
      "layout": "IPY_MODEL_0cf53a0919824870beb61cacef422285"
     }
    },
    "ef90dd9b199747e0a92ac5a1a4b5a9a2": {
     "model_module": "@jupyter-widgets/controls",
     "model_module_version": "1.5.0",
     "model_name": "DescriptionStyleModel",
     "state": {
      "_model_module": "@jupyter-widgets/controls",
      "_model_module_version": "1.5.0",
      "_model_name": "DescriptionStyleModel",
      "_view_count": null,
      "_view_module": "@jupyter-widgets/base",
      "_view_module_version": "1.2.0",
      "_view_name": "StyleView",
      "description_width": ""
     }
    },
    "efb0554bdf184e8198c27486eee9c245": {
     "model_module": "@jupyter-widgets/base",
     "model_module_version": "1.2.0",
     "model_name": "LayoutModel",
     "state": {
      "_model_module": "@jupyter-widgets/base",
      "_model_module_version": "1.2.0",
      "_model_name": "LayoutModel",
      "_view_count": null,
      "_view_module": "@jupyter-widgets/base",
      "_view_module_version": "1.2.0",
      "_view_name": "LayoutView",
      "align_content": null,
      "align_items": null,
      "align_self": null,
      "border": null,
      "bottom": null,
      "display": null,
      "flex": null,
      "flex_flow": null,
      "grid_area": null,
      "grid_auto_columns": null,
      "grid_auto_flow": null,
      "grid_auto_rows": null,
      "grid_column": null,
      "grid_gap": null,
      "grid_row": null,
      "grid_template_areas": null,
      "grid_template_columns": null,
      "grid_template_rows": null,
      "height": null,
      "justify_content": null,
      "justify_items": null,
      "left": null,
      "margin": null,
      "max_height": null,
      "max_width": null,
      "min_height": null,
      "min_width": null,
      "object_fit": null,
      "object_position": null,
      "order": null,
      "overflow": null,
      "overflow_x": null,
      "overflow_y": null,
      "padding": null,
      "right": null,
      "top": null,
      "visibility": null,
      "width": null
     }
    },
    "f3201d60d3e74fa4bba46af3dd8116cf": {
     "model_module": "@jupyter-widgets/controls",
     "model_module_version": "1.5.0",
     "model_name": "DescriptionStyleModel",
     "state": {
      "_model_module": "@jupyter-widgets/controls",
      "_model_module_version": "1.5.0",
      "_model_name": "DescriptionStyleModel",
      "_view_count": null,
      "_view_module": "@jupyter-widgets/base",
      "_view_module_version": "1.2.0",
      "_view_name": "StyleView",
      "description_width": ""
     }
    },
    "f321630000e84225ba6a1b82af5de265": {
     "model_module": "@jupyter-widgets/controls",
     "model_module_version": "1.5.0",
     "model_name": "ProgressStyleModel",
     "state": {
      "_model_module": "@jupyter-widgets/controls",
      "_model_module_version": "1.5.0",
      "_model_name": "ProgressStyleModel",
      "_view_count": null,
      "_view_module": "@jupyter-widgets/base",
      "_view_module_version": "1.2.0",
      "_view_name": "StyleView",
      "bar_color": null,
      "description_width": ""
     }
    },
    "f362bccda60843dc9bbbc692a84ca3cf": {
     "model_module": "@jupyter-widgets/controls",
     "model_module_version": "1.5.0",
     "model_name": "ProgressStyleModel",
     "state": {
      "_model_module": "@jupyter-widgets/controls",
      "_model_module_version": "1.5.0",
      "_model_name": "ProgressStyleModel",
      "_view_count": null,
      "_view_module": "@jupyter-widgets/base",
      "_view_module_version": "1.2.0",
      "_view_name": "StyleView",
      "bar_color": null,
      "description_width": ""
     }
    },
    "f39a7646144246f2b8e9fbf48497f646": {
     "model_module": "@jupyter-widgets/base",
     "model_module_version": "1.2.0",
     "model_name": "LayoutModel",
     "state": {
      "_model_module": "@jupyter-widgets/base",
      "_model_module_version": "1.2.0",
      "_model_name": "LayoutModel",
      "_view_count": null,
      "_view_module": "@jupyter-widgets/base",
      "_view_module_version": "1.2.0",
      "_view_name": "LayoutView",
      "align_content": null,
      "align_items": null,
      "align_self": null,
      "border": null,
      "bottom": null,
      "display": null,
      "flex": null,
      "flex_flow": null,
      "grid_area": null,
      "grid_auto_columns": null,
      "grid_auto_flow": null,
      "grid_auto_rows": null,
      "grid_column": null,
      "grid_gap": null,
      "grid_row": null,
      "grid_template_areas": null,
      "grid_template_columns": null,
      "grid_template_rows": null,
      "height": null,
      "justify_content": null,
      "justify_items": null,
      "left": null,
      "margin": null,
      "max_height": null,
      "max_width": null,
      "min_height": null,
      "min_width": null,
      "object_fit": null,
      "object_position": null,
      "order": null,
      "overflow": null,
      "overflow_x": null,
      "overflow_y": null,
      "padding": null,
      "right": null,
      "top": null,
      "visibility": null,
      "width": null
     }
    },
    "f39c9ca2e4af487fb24b53300e2cad3c": {
     "model_module": "@jupyter-widgets/base",
     "model_module_version": "1.2.0",
     "model_name": "LayoutModel",
     "state": {
      "_model_module": "@jupyter-widgets/base",
      "_model_module_version": "1.2.0",
      "_model_name": "LayoutModel",
      "_view_count": null,
      "_view_module": "@jupyter-widgets/base",
      "_view_module_version": "1.2.0",
      "_view_name": "LayoutView",
      "align_content": null,
      "align_items": null,
      "align_self": null,
      "border": null,
      "bottom": null,
      "display": null,
      "flex": null,
      "flex_flow": null,
      "grid_area": null,
      "grid_auto_columns": null,
      "grid_auto_flow": null,
      "grid_auto_rows": null,
      "grid_column": null,
      "grid_gap": null,
      "grid_row": null,
      "grid_template_areas": null,
      "grid_template_columns": null,
      "grid_template_rows": null,
      "height": null,
      "justify_content": null,
      "justify_items": null,
      "left": null,
      "margin": null,
      "max_height": null,
      "max_width": null,
      "min_height": null,
      "min_width": null,
      "object_fit": null,
      "object_position": null,
      "order": null,
      "overflow": null,
      "overflow_x": null,
      "overflow_y": null,
      "padding": null,
      "right": null,
      "top": null,
      "visibility": null,
      "width": null
     }
    },
    "f6211a05710b4d92bf281910194b2d8f": {
     "model_module": "@jupyter-widgets/base",
     "model_module_version": "1.2.0",
     "model_name": "LayoutModel",
     "state": {
      "_model_module": "@jupyter-widgets/base",
      "_model_module_version": "1.2.0",
      "_model_name": "LayoutModel",
      "_view_count": null,
      "_view_module": "@jupyter-widgets/base",
      "_view_module_version": "1.2.0",
      "_view_name": "LayoutView",
      "align_content": null,
      "align_items": null,
      "align_self": null,
      "border": null,
      "bottom": null,
      "display": null,
      "flex": null,
      "flex_flow": null,
      "grid_area": null,
      "grid_auto_columns": null,
      "grid_auto_flow": null,
      "grid_auto_rows": null,
      "grid_column": null,
      "grid_gap": null,
      "grid_row": null,
      "grid_template_areas": null,
      "grid_template_columns": null,
      "grid_template_rows": null,
      "height": null,
      "justify_content": null,
      "justify_items": null,
      "left": null,
      "margin": null,
      "max_height": null,
      "max_width": null,
      "min_height": null,
      "min_width": null,
      "object_fit": null,
      "object_position": null,
      "order": null,
      "overflow": null,
      "overflow_x": null,
      "overflow_y": null,
      "padding": null,
      "right": null,
      "top": null,
      "visibility": null,
      "width": null
     }
    },
    "faea5163ee474f1683e4377cf63d1f8b": {
     "model_module": "@jupyter-widgets/controls",
     "model_module_version": "1.5.0",
     "model_name": "HTMLModel",
     "state": {
      "_dom_classes": [],
      "_model_module": "@jupyter-widgets/controls",
      "_model_module_version": "1.5.0",
      "_model_name": "HTMLModel",
      "_view_count": null,
      "_view_module": "@jupyter-widgets/controls",
      "_view_module_version": "1.5.0",
      "_view_name": "HTMLView",
      "description": "",
      "description_tooltip": null,
      "layout": "IPY_MODEL_ffc6249a06a345d390693289117067bb",
      "placeholder": "​",
      "style": "IPY_MODEL_7b938fdf6ed54601925d64ddcc54fa5c",
      "value": "model.safetensors: 100%"
     }
    },
    "fc62460e63da4a06817c12d17ab0c1d4": {
     "model_module": "@jupyter-widgets/controls",
     "model_module_version": "1.5.0",
     "model_name": "DescriptionStyleModel",
     "state": {
      "_model_module": "@jupyter-widgets/controls",
      "_model_module_version": "1.5.0",
      "_model_name": "DescriptionStyleModel",
      "_view_count": null,
      "_view_module": "@jupyter-widgets/base",
      "_view_module_version": "1.2.0",
      "_view_name": "StyleView",
      "description_width": ""
     }
    },
    "fccbdfad4f934ad49265e267b38e08b0": {
     "model_module": "@jupyter-widgets/base",
     "model_module_version": "1.2.0",
     "model_name": "LayoutModel",
     "state": {
      "_model_module": "@jupyter-widgets/base",
      "_model_module_version": "1.2.0",
      "_model_name": "LayoutModel",
      "_view_count": null,
      "_view_module": "@jupyter-widgets/base",
      "_view_module_version": "1.2.0",
      "_view_name": "LayoutView",
      "align_content": null,
      "align_items": null,
      "align_self": null,
      "border": null,
      "bottom": null,
      "display": null,
      "flex": null,
      "flex_flow": null,
      "grid_area": null,
      "grid_auto_columns": null,
      "grid_auto_flow": null,
      "grid_auto_rows": null,
      "grid_column": null,
      "grid_gap": null,
      "grid_row": null,
      "grid_template_areas": null,
      "grid_template_columns": null,
      "grid_template_rows": null,
      "height": null,
      "justify_content": null,
      "justify_items": null,
      "left": null,
      "margin": null,
      "max_height": null,
      "max_width": null,
      "min_height": null,
      "min_width": null,
      "object_fit": null,
      "object_position": null,
      "order": null,
      "overflow": null,
      "overflow_x": null,
      "overflow_y": null,
      "padding": null,
      "right": null,
      "top": null,
      "visibility": null,
      "width": null
     }
    },
    "ffa29066496e41de9ef1f32fe668df10": {
     "model_module": "@jupyter-widgets/base",
     "model_module_version": "1.2.0",
     "model_name": "LayoutModel",
     "state": {
      "_model_module": "@jupyter-widgets/base",
      "_model_module_version": "1.2.0",
      "_model_name": "LayoutModel",
      "_view_count": null,
      "_view_module": "@jupyter-widgets/base",
      "_view_module_version": "1.2.0",
      "_view_name": "LayoutView",
      "align_content": null,
      "align_items": null,
      "align_self": null,
      "border": null,
      "bottom": null,
      "display": null,
      "flex": null,
      "flex_flow": null,
      "grid_area": null,
      "grid_auto_columns": null,
      "grid_auto_flow": null,
      "grid_auto_rows": null,
      "grid_column": null,
      "grid_gap": null,
      "grid_row": null,
      "grid_template_areas": null,
      "grid_template_columns": null,
      "grid_template_rows": null,
      "height": null,
      "justify_content": null,
      "justify_items": null,
      "left": null,
      "margin": null,
      "max_height": null,
      "max_width": null,
      "min_height": null,
      "min_width": null,
      "object_fit": null,
      "object_position": null,
      "order": null,
      "overflow": null,
      "overflow_x": null,
      "overflow_y": null,
      "padding": null,
      "right": null,
      "top": null,
      "visibility": null,
      "width": null
     }
    },
    "ffc6249a06a345d390693289117067bb": {
     "model_module": "@jupyter-widgets/base",
     "model_module_version": "1.2.0",
     "model_name": "LayoutModel",
     "state": {
      "_model_module": "@jupyter-widgets/base",
      "_model_module_version": "1.2.0",
      "_model_name": "LayoutModel",
      "_view_count": null,
      "_view_module": "@jupyter-widgets/base",
      "_view_module_version": "1.2.0",
      "_view_name": "LayoutView",
      "align_content": null,
      "align_items": null,
      "align_self": null,
      "border": null,
      "bottom": null,
      "display": null,
      "flex": null,
      "flex_flow": null,
      "grid_area": null,
      "grid_auto_columns": null,
      "grid_auto_flow": null,
      "grid_auto_rows": null,
      "grid_column": null,
      "grid_gap": null,
      "grid_row": null,
      "grid_template_areas": null,
      "grid_template_columns": null,
      "grid_template_rows": null,
      "height": null,
      "justify_content": null,
      "justify_items": null,
      "left": null,
      "margin": null,
      "max_height": null,
      "max_width": null,
      "min_height": null,
      "min_width": null,
      "object_fit": null,
      "object_position": null,
      "order": null,
      "overflow": null,
      "overflow_x": null,
      "overflow_y": null,
      "padding": null,
      "right": null,
      "top": null,
      "visibility": null,
      "width": null
     }
    }
   }
  }
 },
 "nbformat": 4,
 "nbformat_minor": 4
}
